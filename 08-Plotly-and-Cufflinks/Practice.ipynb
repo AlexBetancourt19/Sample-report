{
 "cells": [
  {
   "cell_type": "code",
   "execution_count": 1,
   "metadata": {},
   "outputs": [],
   "source": [
    "import pandas as pd\n",
    "import numpy as np\n",
    "%matplotlib inline"
   ]
  },
  {
   "cell_type": "code",
   "execution_count": 2,
   "metadata": {},
   "outputs": [],
   "source": [
    "from plotly import __version__"
   ]
  },
  {
   "cell_type": "code",
   "execution_count": 3,
   "metadata": {},
   "outputs": [
    {
     "name": "stdout",
     "output_type": "stream",
     "text": [
      "4.14.1\n"
     ]
    }
   ],
   "source": [
    "print(__version__)"
   ]
  },
  {
   "cell_type": "code",
   "execution_count": 4,
   "metadata": {},
   "outputs": [],
   "source": [
    "import cufflinks as cf"
   ]
  },
  {
   "cell_type": "code",
   "execution_count": 5,
   "metadata": {},
   "outputs": [],
   "source": [
    "from plotly.offline import download_plotlyjs,init_notebook_mode,plot,iplot"
   ]
  },
  {
   "cell_type": "code",
   "execution_count": 6,
   "metadata": {},
   "outputs": [
    {
     "data": {
      "text/html": [
       "        <script type=\"text/javascript\">\n",
       "        window.PlotlyConfig = {MathJaxConfig: 'local'};\n",
       "        if (window.MathJax) {MathJax.Hub.Config({SVG: {font: \"STIX-Web\"}});}\n",
       "        if (typeof require !== 'undefined') {\n",
       "        require.undef(\"plotly\");\n",
       "        requirejs.config({\n",
       "            paths: {\n",
       "                'plotly': ['https://cdn.plot.ly/plotly-latest.min']\n",
       "            }\n",
       "        });\n",
       "        require(['plotly'], function(Plotly) {\n",
       "            window._Plotly = Plotly;\n",
       "        });\n",
       "        }\n",
       "        </script>\n",
       "        "
      ]
     },
     "metadata": {},
     "output_type": "display_data"
    }
   ],
   "source": [
    "init_notebook_mode(connected=True)"
   ]
  },
  {
   "cell_type": "code",
   "execution_count": 7,
   "metadata": {},
   "outputs": [
    {
     "data": {
      "text/html": [
       "        <script type=\"text/javascript\">\n",
       "        window.PlotlyConfig = {MathJaxConfig: 'local'};\n",
       "        if (window.MathJax) {MathJax.Hub.Config({SVG: {font: \"STIX-Web\"}});}\n",
       "        if (typeof require !== 'undefined') {\n",
       "        require.undef(\"plotly\");\n",
       "        requirejs.config({\n",
       "            paths: {\n",
       "                'plotly': ['https://cdn.plot.ly/plotly-latest.min']\n",
       "            }\n",
       "        });\n",
       "        require(['plotly'], function(Plotly) {\n",
       "            window._Plotly = Plotly;\n",
       "        });\n",
       "        }\n",
       "        </script>\n",
       "        "
      ]
     },
     "metadata": {},
     "output_type": "display_data"
    }
   ],
   "source": [
    "cf.go_offline()"
   ]
  },
  {
   "cell_type": "code",
   "execution_count": 8,
   "metadata": {},
   "outputs": [],
   "source": [
    "#Data\n",
    "df = pd.DataFrame(np.random.randn(100,4),columns='A B C D'.split())"
   ]
  },
  {
   "cell_type": "code",
   "execution_count": 9,
   "metadata": {},
   "outputs": [
    {
     "data": {
      "text/html": [
       "<div>\n",
       "<style scoped>\n",
       "    .dataframe tbody tr th:only-of-type {\n",
       "        vertical-align: middle;\n",
       "    }\n",
       "\n",
       "    .dataframe tbody tr th {\n",
       "        vertical-align: top;\n",
       "    }\n",
       "\n",
       "    .dataframe thead th {\n",
       "        text-align: right;\n",
       "    }\n",
       "</style>\n",
       "<table border=\"1\" class=\"dataframe\">\n",
       "  <thead>\n",
       "    <tr style=\"text-align: right;\">\n",
       "      <th></th>\n",
       "      <th>A</th>\n",
       "      <th>B</th>\n",
       "      <th>C</th>\n",
       "      <th>D</th>\n",
       "    </tr>\n",
       "  </thead>\n",
       "  <tbody>\n",
       "    <tr>\n",
       "      <th>0</th>\n",
       "      <td>1.274329</td>\n",
       "      <td>-0.395315</td>\n",
       "      <td>-0.360445</td>\n",
       "      <td>0.947956</td>\n",
       "    </tr>\n",
       "    <tr>\n",
       "      <th>1</th>\n",
       "      <td>0.012603</td>\n",
       "      <td>-0.886725</td>\n",
       "      <td>-1.368237</td>\n",
       "      <td>2.298573</td>\n",
       "    </tr>\n",
       "    <tr>\n",
       "      <th>2</th>\n",
       "      <td>0.026124</td>\n",
       "      <td>1.595973</td>\n",
       "      <td>-0.928292</td>\n",
       "      <td>1.898507</td>\n",
       "    </tr>\n",
       "    <tr>\n",
       "      <th>3</th>\n",
       "      <td>0.057402</td>\n",
       "      <td>-0.891577</td>\n",
       "      <td>-0.458480</td>\n",
       "      <td>-0.219353</td>\n",
       "    </tr>\n",
       "    <tr>\n",
       "      <th>4</th>\n",
       "      <td>0.721180</td>\n",
       "      <td>0.052385</td>\n",
       "      <td>0.071582</td>\n",
       "      <td>-0.827149</td>\n",
       "    </tr>\n",
       "  </tbody>\n",
       "</table>\n",
       "</div>"
      ],
      "text/plain": [
       "          A         B         C         D\n",
       "0  1.274329 -0.395315 -0.360445  0.947956\n",
       "1  0.012603 -0.886725 -1.368237  2.298573\n",
       "2  0.026124  1.595973 -0.928292  1.898507\n",
       "3  0.057402 -0.891577 -0.458480 -0.219353\n",
       "4  0.721180  0.052385  0.071582 -0.827149"
      ]
     },
     "execution_count": 9,
     "metadata": {},
     "output_type": "execute_result"
    }
   ],
   "source": [
    "df.head()"
   ]
  },
  {
   "cell_type": "code",
   "execution_count": 10,
   "metadata": {},
   "outputs": [],
   "source": [
    "df2 = pd.DataFrame({'Category':['A','B','C'],'Values':[32,43,50]})"
   ]
  },
  {
   "cell_type": "code",
   "execution_count": 11,
   "metadata": {},
   "outputs": [
    {
     "data": {
      "text/html": [
       "<div>\n",
       "<style scoped>\n",
       "    .dataframe tbody tr th:only-of-type {\n",
       "        vertical-align: middle;\n",
       "    }\n",
       "\n",
       "    .dataframe tbody tr th {\n",
       "        vertical-align: top;\n",
       "    }\n",
       "\n",
       "    .dataframe thead th {\n",
       "        text-align: right;\n",
       "    }\n",
       "</style>\n",
       "<table border=\"1\" class=\"dataframe\">\n",
       "  <thead>\n",
       "    <tr style=\"text-align: right;\">\n",
       "      <th></th>\n",
       "      <th>Category</th>\n",
       "      <th>Values</th>\n",
       "    </tr>\n",
       "  </thead>\n",
       "  <tbody>\n",
       "    <tr>\n",
       "      <th>0</th>\n",
       "      <td>A</td>\n",
       "      <td>32</td>\n",
       "    </tr>\n",
       "    <tr>\n",
       "      <th>1</th>\n",
       "      <td>B</td>\n",
       "      <td>43</td>\n",
       "    </tr>\n",
       "    <tr>\n",
       "      <th>2</th>\n",
       "      <td>C</td>\n",
       "      <td>50</td>\n",
       "    </tr>\n",
       "  </tbody>\n",
       "</table>\n",
       "</div>"
      ],
      "text/plain": [
       "  Category  Values\n",
       "0        A      32\n",
       "1        B      43\n",
       "2        C      50"
      ]
     },
     "execution_count": 11,
     "metadata": {},
     "output_type": "execute_result"
    }
   ],
   "source": [
    "df2"
   ]
  },
  {
   "cell_type": "code",
   "execution_count": 12,
   "metadata": {},
   "outputs": [
    {
     "data": {
      "text/plain": [
       "<AxesSubplot:>"
      ]
     },
     "execution_count": 12,
     "metadata": {},
     "output_type": "execute_result"
    },
    {
     "data": {
      "image/png": "[encoded data removed]",
      "text/plain": [
       "<Figure size 432x288 with 1 Axes>"
      ]
     },
     "metadata": {
      "needs_background": "light"
     },
     "output_type": "display_data"
    }
   ],
   "source": [
    "df.plot()"
   ]
  },
  {
   "cell_type": "code",
   "execution_count": 13,
   "metadata": {},
   "outputs": [
    {
     "data": {
      "application/vnd.plotly.v1+json": {
       "config": {
        "linkText": "Export to plot.ly",
        "plotlyServerURL": "https://plot.ly",
        "showLink": true
       },
       "data": [
        {
         "line": {
          "color": "rgba(255, 153, 51, 1.0)",
          "dash": "solid",
          "shape": "linear",
          "width": 1.3
         },
         "mode": "lines",
         "name": "A",
         "text": "",
         "type": "scatter",
         "x": [
          0,
          1,
          2,
          3,
          4,
          5,
          6,
          7,
          8,
          9,
          10,
          11,
          12,
          13,
          14,
          15,
          16,
          17,
          18,
          19,
          20,
          21,
          22,
          23,
          24,
          25,
          26,
          27,
          28,
          29,
          30,
          31,
          32,
          33,
          34,
          35,
          36,
          37,
          38,
          39,
          40,
          41,
          42,
          43,
          44,
          45,
          46,
          47,
          48,
          49,
          50,
          51,
          52,
          53,
          54,
          55,
          56,
          57,
          58,
          59,
          60,
          61,
          62,
          63,
          64,
          65,
          66,
          67,
          68,
          69,
          70,
          71,
          72,
          73,
          74,
          75,
          76,
          77,
          78,
          79,
          80,
          81,
          82,
          83,
          84,
          85,
          86,
          87,
          88,
          89,
          90,
          91,
          92,
          93,
          94,
          95,
          96,
          97,
          98,
          99
         ],
         "y": [
          1.2743291159598842,
          0.012603295984593112,
          0.026124428121605058,
          0.05740195638716594,
          0.7211797728758698,
          -1.2272404700848971,
          -0.0602220042618601,
          -1.2251272187523363,
          0.7285313635047205,
          0.3696043043956092,
          -0.005031906455792278,
          -0.217988503656931,
          -0.2958721265356392,
          -0.7119151897145148,
          -1.560092182531834,
          -0.97948301063551,
          -1.4295960531654444,
          -1.1734281071025316,
          -0.14794118852659902,
          0.22858356596300675,
          -0.4106705073939129,
          0.9201695687694685,
          -0.5243273775682088,
          1.26090079768481,
          -0.17793819394265636,
          1.1901683935840963,
          -1.3231680679116269,
          0.625060436042206,
          0.7057352901420538,
          -0.9000976494452639,
          0.5977224299581562,
          1.291099983403894,
          -0.15140884822287337,
          -0.07567580316289536,
          -1.2274736019729966,
          -1.1605033095785415,
          -0.003460674940168402,
          -1.0229364542489692,
          0.7205474038629697,
          0.49495986005977277,
          0.41076790058176404,
          0.1844472021660236,
          0.1167576805269786,
          1.112034995203464,
          1.0859515215555395,
          -1.695322974218527,
          0.7842598671527137,
          0.758377284213845,
          -1.091849542132929,
          -1.3153986457811035,
          -0.6243415523889722,
          1.1646852896543975,
          -0.7988149852707761,
          -0.7507366086782864,
          -0.9180420106279558,
          -0.2729434694854129,
          -1.2811526328740261,
          -0.9755996574451098,
          -0.4688125940352931,
          -0.26391419787528425,
          -2.4167264147169534,
          -1.066100926271971,
          0.17041655454385568,
          -2.078311632109863,
          0.560552210773985,
          0.706882083984312,
          0.7723109540792544,
          -1.4249266221939358,
          1.4039689127307864,
          1.778762557715026,
          0.27437173358694167,
          0.11733848968444871,
          -2.6150010633949354,
          -0.8592599110213128,
          1.8093740945878218,
          -0.1292779500768447,
          -1.0439103137271737,
          1.2829276692789005,
          1.013159098488871,
          0.20803697944170838,
          -0.6138663700796907,
          0.1652084642695246,
          -1.8548152158867799,
          1.8437969796864635,
          0.5030983867380925,
          0.07190031940443338,
          2.1088970284366866,
          -1.0445203253805864,
          1.0811956010542667,
          1.4799493546243363,
          2.050370676589714,
          -0.09903881715990685,
          2.070541603456114,
          0.7662237165749922,
          -0.3576102464551363,
          0.49517071473458907,
          1.6194456007075326,
          0.18249899731952396,
          -0.5386291904369472,
          -1.4350220617716536
         ]
        },
        {
         "line": {
          "color": "rgba(55, 128, 191, 1.0)",
          "dash": "solid",
          "shape": "linear",
          "width": 1.3
         },
         "mode": "lines",
         "name": "B",
         "text": "",
         "type": "scatter",
         "x": [
          0,
          1,
          2,
          3,
          4,
          5,
          6,
          7,
          8,
          9,
          10,
          11,
          12,
          13,
          14,
          15,
          16,
          17,
          18,
          19,
          20,
          21,
          22,
          23,
          24,
          25,
          26,
          27,
          28,
          29,
          30,
          31,
          32,
          33,
          34,
          35,
          36,
          37,
          38,
          39,
          40,
          41,
          42,
          43,
          44,
          45,
          46,
          47,
          48,
          49,
          50,
          51,
          52,
          53,
          54,
          55,
          56,
          57,
          58,
          59,
          60,
          61,
          62,
          63,
          64,
          65,
          66,
          67,
          68,
          69,
          70,
          71,
          72,
          73,
          74,
          75,
          76,
          77,
          78,
          79,
          80,
          81,
          82,
          83,
          84,
          85,
          86,
          87,
          88,
          89,
          90,
          91,
          92,
          93,
          94,
          95,
          96,
          97,
          98,
          99
         ],
         "y": [
          -0.39531474003646183,
          -0.8867252341912623,
          1.5959727139592397,
          -0.8915771314389602,
          0.052385164048535215,
          -2.15514457439745,
          -1.8144544174035113,
          0.08262005734589607,
          -0.36215198720850966,
          -1.228011983928278,
          -1.1410569805616517,
          -1.8002508826157904,
          0.11744455836016172,
          -0.3718960945496368,
          2.1095460426240846,
          0.07887321650891946,
          1.1682426861997464,
          -1.0385909818862178,
          1.2904598411544959,
          -0.22589344504336356,
          -1.4165857426047672,
          -0.5845932169728495,
          1.005124981817119,
          0.8647853134104359,
          1.5345743538298893,
          -0.6197658515889924,
          0.4357103295542794,
          -0.643051371066005,
          -1.3096943661431093,
          0.8752592855623904,
          1.5987924708863182,
          -1.851139766837587,
          -1.4938816462310027,
          1.511566102263444,
          -0.6002087041576118,
          -0.0750572625889012,
          -0.17628415605563305,
          -2.1805287231472037,
          -0.030848334334775927,
          -0.3304526075523714,
          0.0178820557060164,
          0.6908592869951391,
          0.5481008805639314,
          0.832811189808415,
          0.019159938639792595,
          1.180810231871073,
          2.730747151610139,
          0.47962211842500235,
          -1.115686833838263,
          -0.30239009589317517,
          1.1713524884410316,
          -0.764656756383517,
          -0.6734519706171885,
          1.1738819770023874,
          0.025005237496141357,
          0.9104392998046482,
          -0.3280391121163882,
          -0.3486935451998248,
          -0.46793500068688076,
          -0.3757619711666674,
          -0.3369861822352449,
          0.722504307134837,
          -0.9929175231489182,
          -0.07617301189038786,
          0.23089195302073037,
          -0.680100584163858,
          -0.8527155998532249,
          -0.7499693642787079,
          1.4485578094733376,
          -1.1288994330475783,
          -0.7837078716233372,
          0.7410973973324356,
          0.3968117932668227,
          0.9157511083687346,
          0.3097620256451611,
          0.6713401468685719,
          -0.5640468063713121,
          -0.43173512125063357,
          -1.0714794639032783,
          1.323383682867993,
          -0.9351732722358566,
          -0.37504844765015305,
          0.8660583605656553,
          1.2887658734490224,
          0.41503915951653897,
          -0.08132023809148904,
          -0.0011254533419979285,
          -1.8579339281616882,
          0.9527033182663938,
          -0.28974539692538254,
          1.5966620018083522,
          0.5548831948574292,
          0.2937735161744529,
          0.21423897173344594,
          0.6196979234332269,
          -0.8881001296958283,
          0.030131395706024945,
          0.6222707263472929,
          0.5785613303233125,
          -1.6404562494386814
         ]
        },
        {
         "line": {
          "color": "rgba(50, 171, 96, 1.0)",
          "dash": "solid",
          "shape": "linear",
          "width": 1.3
         },
         "mode": "lines",
         "name": "C",
         "text": "",
         "type": "scatter",
         "x": [
          0,
          1,
          2,
          3,
          4,
          5,
          6,
          7,
          8,
          9,
          10,
          11,
          12,
          13,
          14,
          15,
          16,
          17,
          18,
          19,
          20,
          21,
          22,
          23,
          24,
          25,
          26,
          27,
          28,
          29,
          30,
          31,
          32,
          33,
          34,
          35,
          36,
          37,
          38,
          39,
          40,
          41,
          42,
          43,
          44,
          45,
          46,
          47,
          48,
          49,
          50,
          51,
          52,
          53,
          54,
          55,
          56,
          57,
          58,
          59,
          60,
          61,
          62,
          63,
          64,
          65,
          66,
          67,
          68,
          69,
          70,
          71,
          72,
          73,
          74,
          75,
          76,
          77,
          78,
          79,
          80,
          81,
          82,
          83,
          84,
          85,
          86,
          87,
          88,
          89,
          90,
          91,
          92,
          93,
          94,
          95,
          96,
          97,
          98,
          99
         ],
         "y": [
          -0.36044540409848363,
          -1.3682369672062968,
          -0.9282922263722264,
          -0.45848038763538146,
          0.0715824631021516,
          0.5900264561161117,
          0.07497764580659219,
          -0.5104856754102799,
          -0.27605300650321773,
          -1.6248357381844074,
          -0.4816519562328335,
          -2.0506962498414247,
          1.7773616210375107,
          -0.6754462688728486,
          1.2262109264869192,
          0.6139539660003608,
          -0.6297992478728509,
          1.0006258792077805,
          -0.4762091942722724,
          -0.6632822162736236,
          1.576702485326573,
          -1.9549915684839305,
          -1.4251516158139754,
          -1.4500577195588817,
          -1.3366967700302275,
          0.3672192065324242,
          -1.3121692836149137,
          -0.031829016292886314,
          0.2533927221775022,
          -2.0182118834208556,
          -1.5750663801727445,
          0.29926418838762575,
          -0.4136173969379489,
          -1.2479526328438808,
          -1.2418866384269047,
          0.509094507374238,
          0.2002732933288788,
          -1.8580735849645333,
          -0.49768800132795543,
          0.637430016285652,
          -0.6780429278430543,
          0.6264243310761589,
          1.570872229475947,
          1.2087947749533279,
          -1.3681598699656303,
          -0.0017205720417560822,
          -0.1460318659234728,
          -0.871420273233697,
          0.1590697243425055,
          -0.7660352974730662,
          0.4303054256541309,
          -1.668213270695618,
          0.2780540161991583,
          0.087592359979765,
          0.9900116230613754,
          0.5900147241402782,
          -1.063717264197242,
          1.24257322092785,
          1.9907270812536322,
          1.5719147972788592,
          -1.7760798072451935,
          -1.34650757489623,
          0.23136066036130282,
          -0.1969755900432889,
          1.0042123847203066,
          1.6185298642020232,
          0.2398560243673993,
          0.06268088811831533,
          0.3114545888544146,
          -0.783836905301807,
          0.10098810777923627,
          -1.9899063256836396,
          0.5840657452315934,
          -0.10374052032512127,
          0.22629753494658214,
          0.06497485687391426,
          -2.4964257370098544,
          1.2537849394323473,
          -1.257805445847786,
          1.6159113795403206,
          -0.6274468686664045,
          0.7340668053520483,
          -2.2003426173120344,
          0.6428051084627697,
          1.0607436340152985,
          1.163904700448005,
          -0.5303144488710698,
          -0.6714829399675204,
          -1.0819877865976362,
          0.5127818276572855,
          -0.568724685074043,
          0.18151018833865676,
          0.7554640306951577,
          -0.8876737604103103,
          0.24004109451488095,
          1.2740091462548346,
          0.0388471201407009,
          -0.9479408989968882,
          -0.8295146712779031,
          2.1082464489943575
         ]
        },
        {
         "line": {
          "color": "rgba(128, 0, 128, 1.0)",
          "dash": "solid",
          "shape": "linear",
          "width": 1.3
         },
         "mode": "lines",
         "name": "D",
         "text": "",
         "type": "scatter",
         "x": [
          0,
          1,
          2,
          3,
          4,
          5,
          6,
          7,
          8,
          9,
          10,
          11,
          12,
          13,
          14,
          15,
          16,
          17,
          18,
          19,
          20,
          21,
          22,
          23,
          24,
          25,
          26,
          27,
          28,
          29,
          30,
          31,
          32,
          33,
          34,
          35,
          36,
          37,
          38,
          39,
          40,
          41,
          42,
          43,
          44,
          45,
          46,
          47,
          48,
          49,
          50,
          51,
          52,
          53,
          54,
          55,
          56,
          57,
          58,
          59,
          60,
          61,
          62,
          63,
          64,
          65,
          66,
          67,
          68,
          69,
          70,
          71,
          72,
          73,
          74,
          75,
          76,
          77,
          78,
          79,
          80,
          81,
          82,
          83,
          84,
          85,
          86,
          87,
          88,
          89,
          90,
          91,
          92,
          93,
          94,
          95,
          96,
          97,
          98,
          99
         ],
         "y": [
          0.9479557561629391,
          2.298572982397254,
          1.8985066080729003,
          -0.21935281592776976,
          -0.8271492658805314,
          0.19851325528747873,
          -0.23951629522638052,
          -0.16735546918674754,
          0.4494119281442416,
          0.567578487854076,
          1.2556079947823373,
          -0.14718548227741263,
          -0.5541744883947628,
          -0.8855564195134483,
          -0.9478886620028885,
          0.9403100154204105,
          -1.893947196276431,
          -0.19080510215504717,
          1.6011193911570996,
          0.01936732726143374,
          0.3103484586399088,
          -2.3059930411011034,
          -1.3571828627998581,
          -0.30940976185537206,
          0.22329871865112277,
          0.6402957481944804,
          0.5046736773612417,
          -0.5370501114861642,
          -1.5125077613563083,
          -0.5791691884242758,
          -0.583961455113161,
          -0.7188188557167092,
          0.9341868949384947,
          -0.9184195378879708,
          2.247344161021866,
          0.8304305784192072,
          -1.639352353330321,
          -2.6730603733681924,
          0.5200616162134988,
          -0.891207675494616,
          0.31946716517453333,
          0.8431580555357344,
          0.4140046681848647,
          0.7713341679931037,
          -0.4590174931962297,
          0.9946614452762788,
          0.13788238743987755,
          1.7026523220319518,
          0.6961905827135803,
          0.898633656869011,
          -0.6509593709786435,
          -1.0615504833800744,
          0.9476633532200767,
          -2.1266285060064916,
          0.519888566389938,
          -0.08807757407231966,
          -0.049720326940622825,
          0.3175910673950524,
          0.4202130273427286,
          -1.1060867504540906,
          -0.7404627136340549,
          0.5866812954376825,
          2.0208400359871757,
          -0.6830267886972587,
          0.7178423825856399,
          -0.000485937457921648,
          0.8632415719288269,
          2.3886129328619505,
          -1.3761040089721146,
          -0.5165545161329226,
          0.6051372890502771,
          -0.6169190139559843,
          0.6098492513385899,
          -1.5250632348744793,
          0.2662552967850766,
          0.9145194146445753,
          -1.2853118992581378,
          -0.20683864531351895,
          -1.1395881758021906,
          -1.2500643703450267,
          -0.7933646373792077,
          0.045862860855696276,
          0.18458495717507492,
          1.0506587701281214,
          -0.30899375225282716,
          0.18208784675591044,
          0.8283796364370927,
          -0.4096637543022577,
          0.7506527560390127,
          -1.6054311962160694,
          0.2122586436250985,
          -0.6859217969969345,
          0.3731980438617282,
          -0.3916034394544518,
          0.7677063716061,
          -0.550762943480122,
          0.15397408945106517,
          0.8466623131049918,
          -1.174723705302563,
          0.26016534979009037
         ]
        }
       ],
       "layout": {
        "legend": {
         "bgcolor": "#F5F6F9",
         "font": {
          "color": "#4D5663"
         }
        },
        "paper_bgcolor": "#F5F6F9",
        "plot_bgcolor": "#F5F6F9",
        "template": {
         "data": {
          "bar": [
           {
            "error_x": {
             "color": "#2a3f5f"
            },
            "error_y": {
             "color": "#2a3f5f"
            },
            "marker": {
             "line": {
              "color": "#E5ECF6",
              "width": 0.5
             }
            },
            "type": "bar"
           }
          ],
          "barpolar": [
           {
            "marker": {
             "line": {
              "color": "#E5ECF6",
              "width": 0.5
             }
            },
            "type": "barpolar"
           }
          ],
          "carpet": [
           {
            "aaxis": {
             "endlinecolor": "#2a3f5f",
             "gridcolor": "white",
             "linecolor": "white",
             "minorgridcolor": "white",
             "startlinecolor": "#2a3f5f"
            },
            "baxis": {
             "endlinecolor": "#2a3f5f",
             "gridcolor": "white",
             "linecolor": "white",
             "minorgridcolor": "white",
             "startlinecolor": "#2a3f5f"
            },
            "type": "carpet"
           }
          ],
          "choropleth": [
           {
            "colorbar": {
             "outlinewidth": 0,
             "ticks": ""
            },
            "type": "choropleth"
           }
          ],
          "contour": [
           {
            "colorbar": {
             "outlinewidth": 0,
             "ticks": ""
            },
            "colorscale": [
             [
              0,
              "#0d0887"
             ],
             [
              0.1111111111111111,
              "#46039f"
             ],
             [
              0.2222222222222222,
              "#7201a8"
             ],
             [
              0.3333333333333333,
              "#9c179e"
             ],
             [
              0.4444444444444444,
              "#bd3786"
             ],
             [
              0.5555555555555556,
              "#d8576b"
             ],
             [
              0.6666666666666666,
              "#ed7953"
             ],
             [
              0.7777777777777778,
              "#fb9f3a"
             ],
             [
              0.8888888888888888,
              "#fdca26"
             ],
             [
              1,
              "#f0f921"
             ]
            ],
            "type": "contour"
           }
          ],
          "contourcarpet": [
           {
            "colorbar": {
             "outlinewidth": 0,
             "ticks": ""
            },
            "type": "contourcarpet"
           }
          ],
          "heatmap": [
           {
            "colorbar": {
             "outlinewidth": 0,
             "ticks": ""
            },
            "colorscale": [
             [
              0,
              "#0d0887"
             ],
             [
              0.1111111111111111,
              "#46039f"
             ],
             [
              0.2222222222222222,
              "#7201a8"
             ],
             [
              0.3333333333333333,
              "#9c179e"
             ],
             [
              0.4444444444444444,
              "#bd3786"
             ],
             [
              0.5555555555555556,
              "#d8576b"
             ],
             [
              0.6666666666666666,
              "#ed7953"
             ],
             [
              0.7777777777777778,
              "#fb9f3a"
             ],
             [
              0.8888888888888888,
              "#fdca26"
             ],
             [
              1,
              "#f0f921"
             ]
            ],
            "type": "heatmap"
           }
          ],
          "heatmapgl": [
           {
            "colorbar": {
             "outlinewidth": 0,
             "ticks": ""
            },
            "colorscale": [
             [
              0,
              "#0d0887"
             ],
             [
              0.1111111111111111,
              "#46039f"
             ],
             [
              0.2222222222222222,
              "#7201a8"
             ],
             [
              0.3333333333333333,
              "#9c179e"
             ],
             [
              0.4444444444444444,
              "#bd3786"
             ],
             [
              0.5555555555555556,
              "#d8576b"
             ],
             [
              0.6666666666666666,
              "#ed7953"
             ],
             [
              0.7777777777777778,
              "#fb9f3a"
             ],
             [
              0.8888888888888888,
              "#fdca26"
             ],
             [
              1,
              "#f0f921"
             ]
            ],
            "type": "heatmapgl"
           }
          ],
          "histogram": [
           {
            "marker": {
             "colorbar": {
              "outlinewidth": 0,
              "ticks": ""
             }
            },
            "type": "histogram"
           }
          ],
          "histogram2d": [
           {
            "colorbar": {
             "outlinewidth": 0,
             "ticks": ""
            },
            "colorscale": [
             [
              0,
              "#0d0887"
             ],
             [
              0.1111111111111111,
              "#46039f"
             ],
             [
              0.2222222222222222,
              "#7201a8"
             ],
             [
              0.3333333333333333,
              "#9c179e"
             ],
             [
              0.4444444444444444,
              "#bd3786"
             ],
             [
              0.5555555555555556,
              "#d8576b"
             ],
             [
              0.6666666666666666,
              "#ed7953"
             ],
             [
              0.7777777777777778,
              "#fb9f3a"
             ],
             [
              0.8888888888888888,
              "#fdca26"
             ],
             [
              1,
              "#f0f921"
             ]
            ],
            "type": "histogram2d"
           }
          ],
          "histogram2dcontour": [
           {
            "colorbar": {
             "outlinewidth": 0,
             "ticks": ""
            },
            "colorscale": [
             [
              0,
              "#0d0887"
             ],
             [
              0.1111111111111111,
              "#46039f"
             ],
             [
              0.2222222222222222,
              "#7201a8"
             ],
             [
              0.3333333333333333,
              "#9c179e"
             ],
             [
              0.4444444444444444,
              "#bd3786"
             ],
             [
              0.5555555555555556,
              "#d8576b"
             ],
             [
              0.6666666666666666,
              "#ed7953"
             ],
             [
              0.7777777777777778,
              "#fb9f3a"
             ],
             [
              0.8888888888888888,
              "#fdca26"
             ],
             [
              1,
              "#f0f921"
             ]
            ],
            "type": "histogram2dcontour"
           }
          ],
          "mesh3d": [
           {
            "colorbar": {
             "outlinewidth": 0,
             "ticks": ""
            },
            "type": "mesh3d"
           }
          ],
          "parcoords": [
           {
            "line": {
             "colorbar": {
              "outlinewidth": 0,
              "ticks": ""
             }
            },
            "type": "parcoords"
           }
          ],
          "pie": [
           {
            "automargin": true,
            "type": "pie"
           }
          ],
          "scatter": [
           {
            "marker": {
             "colorbar": {
              "outlinewidth": 0,
              "ticks": ""
             }
            },
            "type": "scatter"
           }
          ],
          "scatter3d": [
           {
            "line": {
             "colorbar": {
              "outlinewidth": 0,
              "ticks": ""
             }
            },
            "marker": {
             "colorbar": {
              "outlinewidth": 0,
              "ticks": ""
             }
            },
            "type": "scatter3d"
           }
          ],
          "scattercarpet": [
           {
            "marker": {
             "colorbar": {
              "outlinewidth": 0,
              "ticks": ""
             }
            },
            "type": "scattercarpet"
           }
          ],
          "scattergeo": [
           {
            "marker": {
             "colorbar": {
              "outlinewidth": 0,
              "ticks": ""
             }
            },
            "type": "scattergeo"
           }
          ],
          "scattergl": [
           {
            "marker": {
             "colorbar": {
              "outlinewidth": 0,
              "ticks": ""
             }
            },
            "type": "scattergl"
           }
          ],
          "scattermapbox": [
           {
            "marker": {
             "colorbar": {
              "outlinewidth": 0,
              "ticks": ""
             }
            },
            "type": "scattermapbox"
           }
          ],
          "scatterpolar": [
           {
            "marker": {
             "colorbar": {
              "outlinewidth": 0,
              "ticks": ""
             }
            },
            "type": "scatterpolar"
           }
          ],
          "scatterpolargl": [
           {
            "marker": {
             "colorbar": {
              "outlinewidth": 0,
              "ticks": ""
             }
            },
            "type": "scatterpolargl"
           }
          ],
          "scatterternary": [
           {
            "marker": {
             "colorbar": {
              "outlinewidth": 0,
              "ticks": ""
             }
            },
            "type": "scatterternary"
           }
          ],
          "surface": [
           {
            "colorbar": {
             "outlinewidth": 0,
             "ticks": ""
            },
            "colorscale": [
             [
              0,
              "#0d0887"
             ],
             [
              0.1111111111111111,
              "#46039f"
             ],
             [
              0.2222222222222222,
              "#7201a8"
             ],
             [
              0.3333333333333333,
              "#9c179e"
             ],
             [
              0.4444444444444444,
              "#bd3786"
             ],
             [
              0.5555555555555556,
              "#d8576b"
             ],
             [
              0.6666666666666666,
              "#ed7953"
             ],
             [
              0.7777777777777778,
              "#fb9f3a"
             ],
             [
              0.8888888888888888,
              "#fdca26"
             ],
             [
              1,
              "#f0f921"
             ]
            ],
            "type": "surface"
           }
          ],
          "table": [
           {
            "cells": {
             "fill": {
              "color": "#EBF0F8"
             },
             "line": {
              "color": "white"
             }
            },
            "header": {
             "fill": {
              "color": "#C8D4E3"
             },
             "line": {
              "color": "white"
             }
            },
            "type": "table"
           }
          ]
         },
         "layout": {
          "annotationdefaults": {
           "arrowcolor": "#2a3f5f",
           "arrowhead": 0,
           "arrowwidth": 1
          },
          "autotypenumbers": "strict",
          "coloraxis": {
           "colorbar": {
            "outlinewidth": 0,
            "ticks": ""
           }
          },
          "colorscale": {
           "diverging": [
            [
             0,
             "#8e0152"
            ],
            [
             0.1,
             "#c51b7d"
            ],
            [
             0.2,
             "#de77ae"
            ],
            [
             0.3,
             "#f1b6da"
            ],
            [
             0.4,
             "#fde0ef"
            ],
            [
             0.5,
             "#f7f7f7"
            ],
            [
             0.6,
             "#e6f5d0"
            ],
            [
             0.7,
             "#b8e186"
            ],
            [
             0.8,
             "#7fbc41"
            ],
            [
             0.9,
             "#4d9221"
            ],
            [
             1,
             "#276419"
            ]
           ],
           "sequential": [
            [
             0,
             "#0d0887"
            ],
            [
             0.1111111111111111,
             "#46039f"
            ],
            [
             0.2222222222222222,
             "#7201a8"
            ],
            [
             0.3333333333333333,
             "#9c179e"
            ],
            [
             0.4444444444444444,
             "#bd3786"
            ],
            [
             0.5555555555555556,
             "#d8576b"
            ],
            [
             0.6666666666666666,
             "#ed7953"
            ],
            [
             0.7777777777777778,
             "#fb9f3a"
            ],
            [
             0.8888888888888888,
             "#fdca26"
            ],
            [
             1,
             "#f0f921"
            ]
           ],
           "sequentialminus": [
            [
             0,
             "#0d0887"
            ],
            [
             0.1111111111111111,
             "#46039f"
            ],
            [
             0.2222222222222222,
             "#7201a8"
            ],
            [
             0.3333333333333333,
             "#9c179e"
            ],
            [
             0.4444444444444444,
             "#bd3786"
            ],
            [
             0.5555555555555556,
             "#d8576b"
            ],
            [
             0.6666666666666666,
             "#ed7953"
            ],
            [
             0.7777777777777778,
             "#fb9f3a"
            ],
            [
             0.8888888888888888,
             "#fdca26"
            ],
            [
             1,
             "#f0f921"
            ]
           ]
          },
          "colorway": [
           "#636efa",
           "#EF553B",
           "#00cc96",
           "#ab63fa",
           "#FFA15A",
           "#19d3f3",
           "#FF6692",
           "#B6E880",
           "#FF97FF",
           "#FECB52"
          ],
          "font": {
           "color": "#2a3f5f"
          },
          "geo": {
           "bgcolor": "white",
           "lakecolor": "white",
           "landcolor": "#E5ECF6",
           "showlakes": true,
           "showland": true,
           "subunitcolor": "white"
          },
          "hoverlabel": {
           "align": "left"
          },
          "hovermode": "closest",
          "mapbox": {
           "style": "light"
          },
          "paper_bgcolor": "white",
          "plot_bgcolor": "#E5ECF6",
          "polar": {
           "angularaxis": {
            "gridcolor": "white",
            "linecolor": "white",
            "ticks": ""
           },
           "bgcolor": "#E5ECF6",
           "radialaxis": {
            "gridcolor": "white",
            "linecolor": "white",
            "ticks": ""
           }
          },
          "scene": {
           "xaxis": {
            "backgroundcolor": "#E5ECF6",
            "gridcolor": "white",
            "gridwidth": 2,
            "linecolor": "white",
            "showbackground": true,
            "ticks": "",
            "zerolinecolor": "white"
           },
           "yaxis": {
            "backgroundcolor": "#E5ECF6",
            "gridcolor": "white",
            "gridwidth": 2,
            "linecolor": "white",
            "showbackground": true,
            "ticks": "",
            "zerolinecolor": "white"
           },
           "zaxis": {
            "backgroundcolor": "#E5ECF6",
            "gridcolor": "white",
            "gridwidth": 2,
            "linecolor": "white",
            "showbackground": true,
            "ticks": "",
            "zerolinecolor": "white"
           }
          },
          "shapedefaults": {
           "line": {
            "color": "#2a3f5f"
           }
          },
          "ternary": {
           "aaxis": {
            "gridcolor": "white",
            "linecolor": "white",
            "ticks": ""
           },
           "baxis": {
            "gridcolor": "white",
            "linecolor": "white",
            "ticks": ""
           },
           "bgcolor": "#E5ECF6",
           "caxis": {
            "gridcolor": "white",
            "linecolor": "white",
            "ticks": ""
           }
          },
          "title": {
           "x": 0.05
          },
          "xaxis": {
           "automargin": true,
           "gridcolor": "white",
           "linecolor": "white",
           "ticks": "",
           "title": {
            "standoff": 15
           },
           "zerolinecolor": "white",
           "zerolinewidth": 2
          },
          "yaxis": {
           "automargin": true,
           "gridcolor": "white",
           "linecolor": "white",
           "ticks": "",
           "title": {
            "standoff": 15
           },
           "zerolinecolor": "white",
           "zerolinewidth": 2
          }
         }
        },
        "title": {
         "font": {
          "color": "#4D5663"
         }
        },
        "xaxis": {
         "gridcolor": "#E1E5ED",
         "showgrid": true,
         "tickfont": {
          "color": "#4D5663"
         },
         "title": {
          "font": {
           "color": "#4D5663"
          },
          "text": ""
         },
         "zerolinecolor": "#E1E5ED"
        },
        "yaxis": {
         "gridcolor": "#E1E5ED",
         "showgrid": true,
         "tickfont": {
          "color": "#4D5663"
         },
         "title": {
          "font": {
           "color": "#4D5663"
          },
          "text": ""
         },
         "zerolinecolor": "#E1E5ED"
        }
       }
      },
      "text/html": [
       "<div>                            <div id=\"66ab3ad4-c59b-4eaa-816d-4d53f306d4d7\" class=\"plotly-graph-div\" style=\"height:525px; width:100%;\"></div>            <script type=\"text/javascript\">                require([\"plotly\"], function(Plotly) {                    window.PLOTLYENV=window.PLOTLYENV || {};\n",
       "                    window.PLOTLYENV.BASE_URL='https://plot.ly';                                    if (document.getElementById(\"66ab3ad4-c59b-4eaa-816d-4d53f306d4d7\")) {                    Plotly.newPlot(                        \"66ab3ad4-c59b-4eaa-816d-4d53f306d4d7\",                        [{\"line\": {\"color\": \"rgba(255, 153, 51, 1.0)\", \"dash\": \"solid\", \"shape\": \"linear\", \"width\": 1.3}, \"mode\": \"lines\", \"name\": \"A\", \"text\": \"\", \"type\": \"scatter\", \"x\": [0, 1, 2, 3, 4, 5, 6, 7, 8, 9, 10, 11, 12, 13, 14, 15, 16, 17, 18, 19, 20, 21, 22, 23, 24, 25, 26, 27, 28, 29, 30, 31, 32, 33, 34, 35, 36, 37, 38, 39, 40, 41, 42, 43, 44, 45, 46, 47, 48, 49, 50, 51, 52, 53, 54, 55, 56, 57, 58, 59, 60, 61, 62, 63, 64, 65, 66, 67, 68, 69, 70, 71, 72, 73, 74, 75, 76, 77, 78, 79, 80, 81, 82, 83, 84, 85, 86, 87, 88, 89, 90, 91, 92, 93, 94, 95, 96, 97, 98, 99], \"y\": [1.2743291159598842, 0.012603295984593112, 0.026124428121605058, 0.05740195638716594, 0.7211797728758698, -1.2272404700848971, -0.0602220042618601, -1.2251272187523363, 0.7285313635047205, 0.3696043043956092, -0.005031906455792278, -0.217988503656931, -0.2958721265356392, -0.7119151897145148, -1.560092182531834, -0.97948301063551, -1.4295960531654444, -1.1734281071025316, -0.14794118852659902, 0.22858356596300675, -0.4106705073939129, 0.9201695687694685, -0.5243273775682088, 1.26090079768481, -0.17793819394265636, 1.1901683935840963, -1.3231680679116269, 0.625060436042206, 0.7057352901420538, -0.9000976494452639, 0.5977224299581562, 1.291099983403894, -0.15140884822287337, -0.07567580316289536, -1.2274736019729966, -1.1605033095785415, -0.003460674940168402, -1.0229364542489692, 0.7205474038629697, 0.49495986005977277, 0.41076790058176404, 0.1844472021660236, 0.1167576805269786, 1.112034995203464, 1.0859515215555395, -1.695322974218527, 0.7842598671527137, 0.758377284213845, -1.091849542132929, -1.3153986457811035, -0.6243415523889722, 1.1646852896543975, -0.7988149852707761, -0.7507366086782864, -0.9180420106279558, -0.2729434694854129, -1.2811526328740261, -0.9755996574451098, -0.4688125940352931, -0.26391419787528425, -2.4167264147169534, -1.066100926271971, 0.17041655454385568, -2.078311632109863, 0.560552210773985, 0.706882083984312, 0.7723109540792544, -1.4249266221939358, 1.4039689127307864, 1.778762557715026, 0.27437173358694167, 0.11733848968444871, -2.6150010633949354, -0.8592599110213128, 1.8093740945878218, -0.1292779500768447, -1.0439103137271737, 1.2829276692789005, 1.013159098488871, 0.20803697944170838, -0.6138663700796907, 0.1652084642695246, -1.8548152158867799, 1.8437969796864635, 0.5030983867380925, 0.07190031940443338, 2.1088970284366866, -1.0445203253805864, 1.0811956010542667, 1.4799493546243363, 2.050370676589714, -0.09903881715990685, 2.070541603456114, 0.7662237165749922, -0.3576102464551363, 0.49517071473458907, 1.6194456007075326, 0.18249899731952396, -0.5386291904369472, -1.4350220617716536]}, {\"line\": {\"color\": \"rgba(55, 128, 191, 1.0)\", \"dash\": \"solid\", \"shape\": \"linear\", \"width\": 1.3}, \"mode\": \"lines\", \"name\": \"B\", \"text\": \"\", \"type\": \"scatter\", \"x\": [0, 1, 2, 3, 4, 5, 6, 7, 8, 9, 10, 11, 12, 13, 14, 15, 16, 17, 18, 19, 20, 21, 22, 23, 24, 25, 26, 27, 28, 29, 30, 31, 32, 33, 34, 35, 36, 37, 38, 39, 40, 41, 42, 43, 44, 45, 46, 47, 48, 49, 50, 51, 52, 53, 54, 55, 56, 57, 58, 59, 60, 61, 62, 63, 64, 65, 66, 67, 68, 69, 70, 71, 72, 73, 74, 75, 76, 77, 78, 79, 80, 81, 82, 83, 84, 85, 86, 87, 88, 89, 90, 91, 92, 93, 94, 95, 96, 97, 98, 99], \"y\": [-0.39531474003646183, -0.8867252341912623, 1.5959727139592397, -0.8915771314389602, 0.052385164048535215, -2.15514457439745, -1.8144544174035113, 0.08262005734589607, -0.36215198720850966, -1.228011983928278, -1.1410569805616517, -1.8002508826157904, 0.11744455836016172, -0.3718960945496368, 2.1095460426240846, 0.07887321650891946, 1.1682426861997464, -1.0385909818862178, 1.2904598411544959, -0.22589344504336356, -1.4165857426047672, -0.5845932169728495, 1.005124981817119, 0.8647853134104359, 1.5345743538298893, -0.6197658515889924, 0.4357103295542794, -0.643051371066005, -1.3096943661431093, 0.8752592855623904, 1.5987924708863182, -1.851139766837587, -1.4938816462310027, 1.511566102263444, -0.6002087041576118, -0.0750572625889012, -0.17628415605563305, -2.1805287231472037, -0.030848334334775927, -0.3304526075523714, 0.0178820557060164, 0.6908592869951391, 0.5481008805639314, 0.832811189808415, 0.019159938639792595, 1.180810231871073, 2.730747151610139, 0.47962211842500235, -1.115686833838263, -0.30239009589317517, 1.1713524884410316, -0.764656756383517, -0.6734519706171885, 1.1738819770023874, 0.025005237496141357, 0.9104392998046482, -0.3280391121163882, -0.3486935451998248, -0.46793500068688076, -0.3757619711666674, -0.3369861822352449, 0.722504307134837, -0.9929175231489182, -0.07617301189038786, 0.23089195302073037, -0.680100584163858, -0.8527155998532249, -0.7499693642787079, 1.4485578094733376, -1.1288994330475783, -0.7837078716233372, 0.7410973973324356, 0.3968117932668227, 0.9157511083687346, 0.3097620256451611, 0.6713401468685719, -0.5640468063713121, -0.43173512125063357, -1.0714794639032783, 1.323383682867993, -0.9351732722358566, -0.37504844765015305, 0.8660583605656553, 1.2887658734490224, 0.41503915951653897, -0.08132023809148904, -0.0011254533419979285, -1.8579339281616882, 0.9527033182663938, -0.28974539692538254, 1.5966620018083522, 0.5548831948574292, 0.2937735161744529, 0.21423897173344594, 0.6196979234332269, -0.8881001296958283, 0.030131395706024945, 0.6222707263472929, 0.5785613303233125, -1.6404562494386814]}, {\"line\": {\"color\": \"rgba(50, 171, 96, 1.0)\", \"dash\": \"solid\", \"shape\": \"linear\", \"width\": 1.3}, \"mode\": \"lines\", \"name\": \"C\", \"text\": \"\", \"type\": \"scatter\", \"x\": [0, 1, 2, 3, 4, 5, 6, 7, 8, 9, 10, 11, 12, 13, 14, 15, 16, 17, 18, 19, 20, 21, 22, 23, 24, 25, 26, 27, 28, 29, 30, 31, 32, 33, 34, 35, 36, 37, 38, 39, 40, 41, 42, 43, 44, 45, 46, 47, 48, 49, 50, 51, 52, 53, 54, 55, 56, 57, 58, 59, 60, 61, 62, 63, 64, 65, 66, 67, 68, 69, 70, 71, 72, 73, 74, 75, 76, 77, 78, 79, 80, 81, 82, 83, 84, 85, 86, 87, 88, 89, 90, 91, 92, 93, 94, 95, 96, 97, 98, 99], \"y\": [-0.36044540409848363, -1.3682369672062968, -0.9282922263722264, -0.45848038763538146, 0.0715824631021516, 0.5900264561161117, 0.07497764580659219, -0.5104856754102799, -0.27605300650321773, -1.6248357381844074, -0.4816519562328335, -2.0506962498414247, 1.7773616210375107, -0.6754462688728486, 1.2262109264869192, 0.6139539660003608, -0.6297992478728509, 1.0006258792077805, -0.4762091942722724, -0.6632822162736236, 1.576702485326573, -1.9549915684839305, -1.4251516158139754, -1.4500577195588817, -1.3366967700302275, 0.3672192065324242, -1.3121692836149137, -0.031829016292886314, 0.2533927221775022, -2.0182118834208556, -1.5750663801727445, 0.29926418838762575, -0.4136173969379489, -1.2479526328438808, -1.2418866384269047, 0.509094507374238, 0.2002732933288788, -1.8580735849645333, -0.49768800132795543, 0.637430016285652, -0.6780429278430543, 0.6264243310761589, 1.570872229475947, 1.2087947749533279, -1.3681598699656303, -0.0017205720417560822, -0.1460318659234728, -0.871420273233697, 0.1590697243425055, -0.7660352974730662, 0.4303054256541309, -1.668213270695618, 0.2780540161991583, 0.087592359979765, 0.9900116230613754, 0.5900147241402782, -1.063717264197242, 1.24257322092785, 1.9907270812536322, 1.5719147972788592, -1.7760798072451935, -1.34650757489623, 0.23136066036130282, -0.1969755900432889, 1.0042123847203066, 1.6185298642020232, 0.2398560243673993, 0.06268088811831533, 0.3114545888544146, -0.783836905301807, 0.10098810777923627, -1.9899063256836396, 0.5840657452315934, -0.10374052032512127, 0.22629753494658214, 0.06497485687391426, -2.4964257370098544, 1.2537849394323473, -1.257805445847786, 1.6159113795403206, -0.6274468686664045, 0.7340668053520483, -2.2003426173120344, 0.6428051084627697, 1.0607436340152985, 1.163904700448005, -0.5303144488710698, -0.6714829399675204, -1.0819877865976362, 0.5127818276572855, -0.568724685074043, 0.18151018833865676, 0.7554640306951577, -0.8876737604103103, 0.24004109451488095, 1.2740091462548346, 0.0388471201407009, -0.9479408989968882, -0.8295146712779031, 2.1082464489943575]}, {\"line\": {\"color\": \"rgba(128, 0, 128, 1.0)\", \"dash\": \"solid\", \"shape\": \"linear\", \"width\": 1.3}, \"mode\": \"lines\", \"name\": \"D\", \"text\": \"\", \"type\": \"scatter\", \"x\": [0, 1, 2, 3, 4, 5, 6, 7, 8, 9, 10, 11, 12, 13, 14, 15, 16, 17, 18, 19, 20, 21, 22, 23, 24, 25, 26, 27, 28, 29, 30, 31, 32, 33, 34, 35, 36, 37, 38, 39, 40, 41, 42, 43, 44, 45, 46, 47, 48, 49, 50, 51, 52, 53, 54, 55, 56, 57, 58, 59, 60, 61, 62, 63, 64, 65, 66, 67, 68, 69, 70, 71, 72, 73, 74, 75, 76, 77, 78, 79, 80, 81, 82, 83, 84, 85, 86, 87, 88, 89, 90, 91, 92, 93, 94, 95, 96, 97, 98, 99], \"y\": [0.9479557561629391, 2.298572982397254, 1.8985066080729003, -0.21935281592776976, -0.8271492658805314, 0.19851325528747873, -0.23951629522638052, -0.16735546918674754, 0.4494119281442416, 0.567578487854076, 1.2556079947823373, -0.14718548227741263, -0.5541744883947628, -0.8855564195134483, -0.9478886620028885, 0.9403100154204105, -1.893947196276431, -0.19080510215504717, 1.6011193911570996, 0.01936732726143374, 0.3103484586399088, -2.3059930411011034, -1.3571828627998581, -0.30940976185537206, 0.22329871865112277, 0.6402957481944804, 0.5046736773612417, -0.5370501114861642, -1.5125077613563083, -0.5791691884242758, -0.583961455113161, -0.7188188557167092, 0.9341868949384947, -0.9184195378879708, 2.247344161021866, 0.8304305784192072, -1.639352353330321, -2.6730603733681924, 0.5200616162134988, -0.891207675494616, 0.31946716517453333, 0.8431580555357344, 0.4140046681848647, 0.7713341679931037, -0.4590174931962297, 0.9946614452762788, 0.13788238743987755, 1.7026523220319518, 0.6961905827135803, 0.898633656869011, -0.6509593709786435, -1.0615504833800744, 0.9476633532200767, -2.1266285060064916, 0.519888566389938, -0.08807757407231966, -0.049720326940622825, 0.3175910673950524, 0.4202130273427286, -1.1060867504540906, -0.7404627136340549, 0.5866812954376825, 2.0208400359871757, -0.6830267886972587, 0.7178423825856399, -0.000485937457921648, 0.8632415719288269, 2.3886129328619505, -1.3761040089721146, -0.5165545161329226, 0.6051372890502771, -0.6169190139559843, 0.6098492513385899, -1.5250632348744793, 0.2662552967850766, 0.9145194146445753, -1.2853118992581378, -0.20683864531351895, -1.1395881758021906, -1.2500643703450267, -0.7933646373792077, 0.045862860855696276, 0.18458495717507492, 1.0506587701281214, -0.30899375225282716, 0.18208784675591044, 0.8283796364370927, -0.4096637543022577, 0.7506527560390127, -1.6054311962160694, 0.2122586436250985, -0.6859217969969345, 0.3731980438617282, -0.3916034394544518, 0.7677063716061, -0.550762943480122, 0.15397408945106517, 0.8466623131049918, -1.174723705302563, 0.26016534979009037]}],                        {\"legend\": {\"bgcolor\": \"#F5F6F9\", \"font\": {\"color\": \"#4D5663\"}}, \"paper_bgcolor\": \"#F5F6F9\", \"plot_bgcolor\": \"#F5F6F9\", \"template\": {\"data\": {\"bar\": [{\"error_x\": {\"color\": \"#2a3f5f\"}, \"error_y\": {\"color\": \"#2a3f5f\"}, \"marker\": {\"line\": {\"color\": \"#E5ECF6\", \"width\": 0.5}}, \"type\": \"bar\"}], \"barpolar\": [{\"marker\": {\"line\": {\"color\": \"#E5ECF6\", \"width\": 0.5}}, \"type\": \"barpolar\"}], \"carpet\": [{\"aaxis\": {\"endlinecolor\": \"#2a3f5f\", \"gridcolor\": \"white\", \"linecolor\": \"white\", \"minorgridcolor\": \"white\", \"startlinecolor\": \"#2a3f5f\"}, \"baxis\": {\"endlinecolor\": \"#2a3f5f\", \"gridcolor\": \"white\", \"linecolor\": \"white\", \"minorgridcolor\": \"white\", \"startlinecolor\": \"#2a3f5f\"}, \"type\": \"carpet\"}], \"choropleth\": [{\"colorbar\": {\"outlinewidth\": 0, \"ticks\": \"\"}, \"type\": \"choropleth\"}], \"contour\": [{\"colorbar\": {\"outlinewidth\": 0, \"ticks\": \"\"}, \"colorscale\": [[0.0, \"#0d0887\"], [0.1111111111111111, \"#46039f\"], [0.2222222222222222, \"#7201a8\"], [0.3333333333333333, \"#9c179e\"], [0.4444444444444444, \"#bd3786\"], [0.5555555555555556, \"#d8576b\"], [0.6666666666666666, \"#ed7953\"], [0.7777777777777778, \"#fb9f3a\"], [0.8888888888888888, \"#fdca26\"], [1.0, \"#f0f921\"]], \"type\": \"contour\"}], \"contourcarpet\": [{\"colorbar\": {\"outlinewidth\": 0, \"ticks\": \"\"}, \"type\": \"contourcarpet\"}], \"heatmap\": [{\"colorbar\": {\"outlinewidth\": 0, \"ticks\": \"\"}, \"colorscale\": [[0.0, \"#0d0887\"], [0.1111111111111111, \"#46039f\"], [0.2222222222222222, \"#7201a8\"], [0.3333333333333333, \"#9c179e\"], [0.4444444444444444, \"#bd3786\"], [0.5555555555555556, \"#d8576b\"], [0.6666666666666666, \"#ed7953\"], [0.7777777777777778, \"#fb9f3a\"], [0.8888888888888888, \"#fdca26\"], [1.0, \"#f0f921\"]], \"type\": \"heatmap\"}], \"heatmapgl\": [{\"colorbar\": {\"outlinewidth\": 0, \"ticks\": \"\"}, \"colorscale\": [[0.0, \"#0d0887\"], [0.1111111111111111, \"#46039f\"], [0.2222222222222222, \"#7201a8\"], [0.3333333333333333, \"#9c179e\"], [0.4444444444444444, \"#bd3786\"], [0.5555555555555556, \"#d8576b\"], [0.6666666666666666, \"#ed7953\"], [0.7777777777777778, \"#fb9f3a\"], [0.8888888888888888, \"#fdca26\"], [1.0, \"#f0f921\"]], \"type\": \"heatmapgl\"}], \"histogram\": [{\"marker\": {\"colorbar\": {\"outlinewidth\": 0, \"ticks\": \"\"}}, \"type\": \"histogram\"}], \"histogram2d\": [{\"colorbar\": {\"outlinewidth\": 0, \"ticks\": \"\"}, \"colorscale\": [[0.0, \"#0d0887\"], [0.1111111111111111, \"#46039f\"], [0.2222222222222222, \"#7201a8\"], [0.3333333333333333, \"#9c179e\"], [0.4444444444444444, \"#bd3786\"], [0.5555555555555556, \"#d8576b\"], [0.6666666666666666, \"#ed7953\"], [0.7777777777777778, \"#fb9f3a\"], [0.8888888888888888, \"#fdca26\"], [1.0, \"#f0f921\"]], \"type\": \"histogram2d\"}], \"histogram2dcontour\": [{\"colorbar\": {\"outlinewidth\": 0, \"ticks\": \"\"}, \"colorscale\": [[0.0, \"#0d0887\"], [0.1111111111111111, \"#46039f\"], [0.2222222222222222, \"#7201a8\"], [0.3333333333333333, \"#9c179e\"], [0.4444444444444444, \"#bd3786\"], [0.5555555555555556, \"#d8576b\"], [0.6666666666666666, \"#ed7953\"], [0.7777777777777778, \"#fb9f3a\"], [0.8888888888888888, \"#fdca26\"], [1.0, \"#f0f921\"]], \"type\": \"histogram2dcontour\"}], \"mesh3d\": [{\"colorbar\": {\"outlinewidth\": 0, \"ticks\": \"\"}, \"type\": \"mesh3d\"}], \"parcoords\": [{\"line\": {\"colorbar\": {\"outlinewidth\": 0, \"ticks\": \"\"}}, \"type\": \"parcoords\"}], \"pie\": [{\"automargin\": true, \"type\": \"pie\"}], \"scatter\": [{\"marker\": {\"colorbar\": {\"outlinewidth\": 0, \"ticks\": \"\"}}, \"type\": \"scatter\"}], \"scatter3d\": [{\"line\": {\"colorbar\": {\"outlinewidth\": 0, \"ticks\": \"\"}}, \"marker\": {\"colorbar\": {\"outlinewidth\": 0, \"ticks\": \"\"}}, \"type\": \"scatter3d\"}], \"scattercarpet\": [{\"marker\": {\"colorbar\": {\"outlinewidth\": 0, \"ticks\": \"\"}}, \"type\": \"scattercarpet\"}], \"scattergeo\": [{\"marker\": {\"colorbar\": {\"outlinewidth\": 0, \"ticks\": \"\"}}, \"type\": \"scattergeo\"}], \"scattergl\": [{\"marker\": {\"colorbar\": {\"outlinewidth\": 0, \"ticks\": \"\"}}, \"type\": \"scattergl\"}], \"scattermapbox\": [{\"marker\": {\"colorbar\": {\"outlinewidth\": 0, \"ticks\": \"\"}}, \"type\": \"scattermapbox\"}], \"scatterpolar\": [{\"marker\": {\"colorbar\": {\"outlinewidth\": 0, \"ticks\": \"\"}}, \"type\": \"scatterpolar\"}], \"scatterpolargl\": [{\"marker\": {\"colorbar\": {\"outlinewidth\": 0, \"ticks\": \"\"}}, \"type\": \"scatterpolargl\"}], \"scatterternary\": [{\"marker\": {\"colorbar\": {\"outlinewidth\": 0, \"ticks\": \"\"}}, \"type\": \"scatterternary\"}], \"surface\": [{\"colorbar\": {\"outlinewidth\": 0, \"ticks\": \"\"}, \"colorscale\": [[0.0, \"#0d0887\"], [0.1111111111111111, \"#46039f\"], [0.2222222222222222, \"#7201a8\"], [0.3333333333333333, \"#9c179e\"], [0.4444444444444444, \"#bd3786\"], [0.5555555555555556, \"#d8576b\"], [0.6666666666666666, \"#ed7953\"], [0.7777777777777778, \"#fb9f3a\"], [0.8888888888888888, \"#fdca26\"], [1.0, \"#f0f921\"]], \"type\": \"surface\"}], \"table\": [{\"cells\": {\"fill\": {\"color\": \"#EBF0F8\"}, \"line\": {\"color\": \"white\"}}, \"header\": {\"fill\": {\"color\": \"#C8D4E3\"}, \"line\": {\"color\": \"white\"}}, \"type\": \"table\"}]}, \"layout\": {\"annotationdefaults\": {\"arrowcolor\": \"#2a3f5f\", \"arrowhead\": 0, \"arrowwidth\": 1}, \"autotypenumbers\": \"strict\", \"coloraxis\": {\"colorbar\": {\"outlinewidth\": 0, \"ticks\": \"\"}}, \"colorscale\": {\"diverging\": [[0, \"#8e0152\"], [0.1, \"#c51b7d\"], [0.2, \"#de77ae\"], [0.3, \"#f1b6da\"], [0.4, \"#fde0ef\"], [0.5, \"#f7f7f7\"], [0.6, \"#e6f5d0\"], [0.7, \"#b8e186\"], [0.8, \"#7fbc41\"], [0.9, \"#4d9221\"], [1, \"#276419\"]], \"sequential\": [[0.0, \"#0d0887\"], [0.1111111111111111, \"#46039f\"], [0.2222222222222222, \"#7201a8\"], [0.3333333333333333, \"#9c179e\"], [0.4444444444444444, \"#bd3786\"], [0.5555555555555556, \"#d8576b\"], [0.6666666666666666, \"#ed7953\"], [0.7777777777777778, \"#fb9f3a\"], [0.8888888888888888, \"#fdca26\"], [1.0, \"#f0f921\"]], \"sequentialminus\": [[0.0, \"#0d0887\"], [0.1111111111111111, \"#46039f\"], [0.2222222222222222, \"#7201a8\"], [0.3333333333333333, \"#9c179e\"], [0.4444444444444444, \"#bd3786\"], [0.5555555555555556, \"#d8576b\"], [0.6666666666666666, \"#ed7953\"], [0.7777777777777778, \"#fb9f3a\"], [0.8888888888888888, \"#fdca26\"], [1.0, \"#f0f921\"]]}, \"colorway\": [\"#636efa\", \"#EF553B\", \"#00cc96\", \"#ab63fa\", \"#FFA15A\", \"#19d3f3\", \"#FF6692\", \"#B6E880\", \"#FF97FF\", \"#FECB52\"], \"font\": {\"color\": \"#2a3f5f\"}, \"geo\": {\"bgcolor\": \"white\", \"lakecolor\": \"white\", \"landcolor\": \"#E5ECF6\", \"showlakes\": true, \"showland\": true, \"subunitcolor\": \"white\"}, \"hoverlabel\": {\"align\": \"left\"}, \"hovermode\": \"closest\", \"mapbox\": {\"style\": \"light\"}, \"paper_bgcolor\": \"white\", \"plot_bgcolor\": \"#E5ECF6\", \"polar\": {\"angularaxis\": {\"gridcolor\": \"white\", \"linecolor\": \"white\", \"ticks\": \"\"}, \"bgcolor\": \"#E5ECF6\", \"radialaxis\": {\"gridcolor\": \"white\", \"linecolor\": \"white\", \"ticks\": \"\"}}, \"scene\": {\"xaxis\": {\"backgroundcolor\": \"#E5ECF6\", \"gridcolor\": \"white\", \"gridwidth\": 2, \"linecolor\": \"white\", \"showbackground\": true, \"ticks\": \"\", \"zerolinecolor\": \"white\"}, \"yaxis\": {\"backgroundcolor\": \"#E5ECF6\", \"gridcolor\": \"white\", \"gridwidth\": 2, \"linecolor\": \"white\", \"showbackground\": true, \"ticks\": \"\", \"zerolinecolor\": \"white\"}, \"zaxis\": {\"backgroundcolor\": \"#E5ECF6\", \"gridcolor\": \"white\", \"gridwidth\": 2, \"linecolor\": \"white\", \"showbackground\": true, \"ticks\": \"\", \"zerolinecolor\": \"white\"}}, \"shapedefaults\": {\"line\": {\"color\": \"#2a3f5f\"}}, \"ternary\": {\"aaxis\": {\"gridcolor\": \"white\", \"linecolor\": \"white\", \"ticks\": \"\"}, \"baxis\": {\"gridcolor\": \"white\", \"linecolor\": \"white\", \"ticks\": \"\"}, \"bgcolor\": \"#E5ECF6\", \"caxis\": {\"gridcolor\": \"white\", \"linecolor\": \"white\", \"ticks\": \"\"}}, \"title\": {\"x\": 0.05}, \"xaxis\": {\"automargin\": true, \"gridcolor\": \"white\", \"linecolor\": \"white\", \"ticks\": \"\", \"title\": {\"standoff\": 15}, \"zerolinecolor\": \"white\", \"zerolinewidth\": 2}, \"yaxis\": {\"automargin\": true, \"gridcolor\": \"white\", \"linecolor\": \"white\", \"ticks\": \"\", \"title\": {\"standoff\": 15}, \"zerolinecolor\": \"white\", \"zerolinewidth\": 2}}}, \"title\": {\"font\": {\"color\": \"#4D5663\"}}, \"xaxis\": {\"gridcolor\": \"#E1E5ED\", \"showgrid\": true, \"tickfont\": {\"color\": \"#4D5663\"}, \"title\": {\"font\": {\"color\": \"#4D5663\"}, \"text\": \"\"}, \"zerolinecolor\": \"#E1E5ED\"}, \"yaxis\": {\"gridcolor\": \"#E1E5ED\", \"showgrid\": true, \"tickfont\": {\"color\": \"#4D5663\"}, \"title\": {\"font\": {\"color\": \"#4D5663\"}, \"text\": \"\"}, \"zerolinecolor\": \"#E1E5ED\"}},                        {\"showLink\": true, \"linkText\": \"Export to plot.ly\", \"plotlyServerURL\": \"https://plot.ly\", \"responsive\": true}                    ).then(function(){\n",
       "                            \n",
       "var gd = document.getElementById('66ab3ad4-c59b-4eaa-816d-4d53f306d4d7');\n",
       "var x = new MutationObserver(function (mutations, observer) {{\n",
       "        var display = window.getComputedStyle(gd).display;\n",
       "        if (!display || display === 'none') {{\n",
       "            console.log([gd, 'removed!']);\n",
       "            Plotly.purge(gd);\n",
       "            observer.disconnect();\n",
       "        }}\n",
       "}});\n",
       "\n",
       "// Listen for the removal of the full notebook cells\n",
       "var notebookContainer = gd.closest('#notebook-container');\n",
       "if (notebookContainer) {{\n",
       "    x.observe(notebookContainer, {childList: true});\n",
       "}}\n",
       "\n",
       "// Listen for the clearing of the current output cell\n",
       "var outputEl = gd.closest('.output');\n",
       "if (outputEl) {{\n",
       "    x.observe(outputEl, {childList: true});\n",
       "}}\n",
       "\n",
       "                        })                };                });            </script>        </div>"
      ]
     },
     "metadata": {},
     "output_type": "display_data"
    }
   ],
   "source": [
    "df.iplot()"
   ]
  },
  {
   "cell_type": "code",
   "execution_count": 14,
   "metadata": {},
   "outputs": [
    {
     "data": {
      "application/vnd.plotly.v1+json": {
       "config": {
        "linkText": "Export to plot.ly",
        "plotlyServerURL": "https://plot.ly",
        "showLink": true
       },
       "data": [
        {
         "line": {
          "color": "rgba(255, 153, 51, 1.0)",
          "dash": "solid",
          "shape": "linear",
          "width": 1.3
         },
         "marker": {
          "size": 12,
          "symbol": "circle"
         },
         "mode": "markers",
         "name": "B",
         "text": "",
         "type": "scatter",
         "x": [
          1.2743291159598842,
          0.012603295984593112,
          0.026124428121605058,
          0.05740195638716594,
          0.7211797728758698,
          -1.2272404700848971,
          -0.0602220042618601,
          -1.2251272187523363,
          0.7285313635047205,
          0.3696043043956092,
          -0.005031906455792278,
          -0.217988503656931,
          -0.2958721265356392,
          -0.7119151897145148,
          -1.560092182531834,
          -0.97948301063551,
          -1.4295960531654444,
          -1.1734281071025316,
          -0.14794118852659902,
          0.22858356596300675,
          -0.4106705073939129,
          0.9201695687694685,
          -0.5243273775682088,
          1.26090079768481,
          -0.17793819394265636,
          1.1901683935840963,
          -1.3231680679116269,
          0.625060436042206,
          0.7057352901420538,
          -0.9000976494452639,
          0.5977224299581562,
          1.291099983403894,
          -0.15140884822287337,
          -0.07567580316289536,
          -1.2274736019729966,
          -1.1605033095785415,
          -0.003460674940168402,
          -1.0229364542489692,
          0.7205474038629697,
          0.49495986005977277,
          0.41076790058176404,
          0.1844472021660236,
          0.1167576805269786,
          1.112034995203464,
          1.0859515215555395,
          -1.695322974218527,
          0.7842598671527137,
          0.758377284213845,
          -1.091849542132929,
          -1.3153986457811035,
          -0.6243415523889722,
          1.1646852896543975,
          -0.7988149852707761,
          -0.7507366086782864,
          -0.9180420106279558,
          -0.2729434694854129,
          -1.2811526328740261,
          -0.9755996574451098,
          -0.4688125940352931,
          -0.26391419787528425,
          -2.4167264147169534,
          -1.066100926271971,
          0.17041655454385568,
          -2.078311632109863,
          0.560552210773985,
          0.706882083984312,
          0.7723109540792544,
          -1.4249266221939358,
          1.4039689127307864,
          1.778762557715026,
          0.27437173358694167,
          0.11733848968444871,
          -2.6150010633949354,
          -0.8592599110213128,
          1.8093740945878218,
          -0.1292779500768447,
          -1.0439103137271737,
          1.2829276692789005,
          1.013159098488871,
          0.20803697944170838,
          -0.6138663700796907,
          0.1652084642695246,
          -1.8548152158867799,
          1.8437969796864635,
          0.5030983867380925,
          0.07190031940443338,
          2.1088970284366866,
          -1.0445203253805864,
          1.0811956010542667,
          1.4799493546243363,
          2.050370676589714,
          -0.09903881715990685,
          2.070541603456114,
          0.7662237165749922,
          -0.3576102464551363,
          0.49517071473458907,
          1.6194456007075326,
          0.18249899731952396,
          -0.5386291904369472,
          -1.4350220617716536
         ],
         "y": [
          -0.39531474003646183,
          -0.8867252341912623,
          1.5959727139592397,
          -0.8915771314389602,
          0.052385164048535215,
          -2.15514457439745,
          -1.8144544174035113,
          0.08262005734589607,
          -0.36215198720850966,
          -1.228011983928278,
          -1.1410569805616517,
          -1.8002508826157904,
          0.11744455836016172,
          -0.3718960945496368,
          2.1095460426240846,
          0.07887321650891946,
          1.1682426861997464,
          -1.0385909818862178,
          1.2904598411544959,
          -0.22589344504336356,
          -1.4165857426047672,
          -0.5845932169728495,
          1.005124981817119,
          0.8647853134104359,
          1.5345743538298893,
          -0.6197658515889924,
          0.4357103295542794,
          -0.643051371066005,
          -1.3096943661431093,
          0.8752592855623904,
          1.5987924708863182,
          -1.851139766837587,
          -1.4938816462310027,
          1.511566102263444,
          -0.6002087041576118,
          -0.0750572625889012,
          -0.17628415605563305,
          -2.1805287231472037,
          -0.030848334334775927,
          -0.3304526075523714,
          0.0178820557060164,
          0.6908592869951391,
          0.5481008805639314,
          0.832811189808415,
          0.019159938639792595,
          1.180810231871073,
          2.730747151610139,
          0.47962211842500235,
          -1.115686833838263,
          -0.30239009589317517,
          1.1713524884410316,
          -0.764656756383517,
          -0.6734519706171885,
          1.1738819770023874,
          0.025005237496141357,
          0.9104392998046482,
          -0.3280391121163882,
          -0.3486935451998248,
          -0.46793500068688076,
          -0.3757619711666674,
          -0.3369861822352449,
          0.722504307134837,
          -0.9929175231489182,
          -0.07617301189038786,
          0.23089195302073037,
          -0.680100584163858,
          -0.8527155998532249,
          -0.7499693642787079,
          1.4485578094733376,
          -1.1288994330475783,
          -0.7837078716233372,
          0.7410973973324356,
          0.3968117932668227,
          0.9157511083687346,
          0.3097620256451611,
          0.6713401468685719,
          -0.5640468063713121,
          -0.43173512125063357,
          -1.0714794639032783,
          1.323383682867993,
          -0.9351732722358566,
          -0.37504844765015305,
          0.8660583605656553,
          1.2887658734490224,
          0.41503915951653897,
          -0.08132023809148904,
          -0.0011254533419979285,
          -1.8579339281616882,
          0.9527033182663938,
          -0.28974539692538254,
          1.5966620018083522,
          0.5548831948574292,
          0.2937735161744529,
          0.21423897173344594,
          0.6196979234332269,
          -0.8881001296958283,
          0.030131395706024945,
          0.6222707263472929,
          0.5785613303233125,
          -1.6404562494386814
         ]
        }
       ],
       "layout": {
        "legend": {
         "bgcolor": "#F5F6F9",
         "font": {
          "color": "#4D5663"
         }
        },
        "paper_bgcolor": "#F5F6F9",
        "plot_bgcolor": "#F5F6F9",
        "template": {
         "data": {
          "bar": [
           {
            "error_x": {
             "color": "#2a3f5f"
            },
            "error_y": {
             "color": "#2a3f5f"
            },
            "marker": {
             "line": {
              "color": "#E5ECF6",
              "width": 0.5
             }
            },
            "type": "bar"
           }
          ],
          "barpolar": [
           {
            "marker": {
             "line": {
              "color": "#E5ECF6",
              "width": 0.5
             }
            },
            "type": "barpolar"
           }
          ],
          "carpet": [
           {
            "aaxis": {
             "endlinecolor": "#2a3f5f",
             "gridcolor": "white",
             "linecolor": "white",
             "minorgridcolor": "white",
             "startlinecolor": "#2a3f5f"
            },
            "baxis": {
             "endlinecolor": "#2a3f5f",
             "gridcolor": "white",
             "linecolor": "white",
             "minorgridcolor": "white",
             "startlinecolor": "#2a3f5f"
            },
            "type": "carpet"
           }
          ],
          "choropleth": [
           {
            "colorbar": {
             "outlinewidth": 0,
             "ticks": ""
            },
            "type": "choropleth"
           }
          ],
          "contour": [
           {
            "colorbar": {
             "outlinewidth": 0,
             "ticks": ""
            },
            "colorscale": [
             [
              0,
              "#0d0887"
             ],
             [
              0.1111111111111111,
              "#46039f"
             ],
             [
              0.2222222222222222,
              "#7201a8"
             ],
             [
              0.3333333333333333,
              "#9c179e"
             ],
             [
              0.4444444444444444,
              "#bd3786"
             ],
             [
              0.5555555555555556,
              "#d8576b"
             ],
             [
              0.6666666666666666,
              "#ed7953"
             ],
             [
              0.7777777777777778,
              "#fb9f3a"
             ],
             [
              0.8888888888888888,
              "#fdca26"
             ],
             [
              1,
              "#f0f921"
             ]
            ],
            "type": "contour"
           }
          ],
          "contourcarpet": [
           {
            "colorbar": {
             "outlinewidth": 0,
             "ticks": ""
            },
            "type": "contourcarpet"
           }
          ],
          "heatmap": [
           {
            "colorbar": {
             "outlinewidth": 0,
             "ticks": ""
            },
            "colorscale": [
             [
              0,
              "#0d0887"
             ],
             [
              0.1111111111111111,
              "#46039f"
             ],
             [
              0.2222222222222222,
              "#7201a8"
             ],
             [
              0.3333333333333333,
              "#9c179e"
             ],
             [
              0.4444444444444444,
              "#bd3786"
             ],
             [
              0.5555555555555556,
              "#d8576b"
             ],
             [
              0.6666666666666666,
              "#ed7953"
             ],
             [
              0.7777777777777778,
              "#fb9f3a"
             ],
             [
              0.8888888888888888,
              "#fdca26"
             ],
             [
              1,
              "#f0f921"
             ]
            ],
            "type": "heatmap"
           }
          ],
          "heatmapgl": [
           {
            "colorbar": {
             "outlinewidth": 0,
             "ticks": ""
            },
            "colorscale": [
             [
              0,
              "#0d0887"
             ],
             [
              0.1111111111111111,
              "#46039f"
             ],
             [
              0.2222222222222222,
              "#7201a8"
             ],
             [
              0.3333333333333333,
              "#9c179e"
             ],
             [
              0.4444444444444444,
              "#bd3786"
             ],
             [
              0.5555555555555556,
              "#d8576b"
             ],
             [
              0.6666666666666666,
              "#ed7953"
             ],
             [
              0.7777777777777778,
              "#fb9f3a"
             ],
             [
              0.8888888888888888,
              "#fdca26"
             ],
             [
              1,
              "#f0f921"
             ]
            ],
            "type": "heatmapgl"
           }
          ],
          "histogram": [
           {
            "marker": {
             "colorbar": {
              "outlinewidth": 0,
              "ticks": ""
             }
            },
            "type": "histogram"
           }
          ],
          "histogram2d": [
           {
            "colorbar": {
             "outlinewidth": 0,
             "ticks": ""
            },
            "colorscale": [
             [
              0,
              "#0d0887"
             ],
             [
              0.1111111111111111,
              "#46039f"
             ],
             [
              0.2222222222222222,
              "#7201a8"
             ],
             [
              0.3333333333333333,
              "#9c179e"
             ],
             [
              0.4444444444444444,
              "#bd3786"
             ],
             [
              0.5555555555555556,
              "#d8576b"
             ],
             [
              0.6666666666666666,
              "#ed7953"
             ],
             [
              0.7777777777777778,
              "#fb9f3a"
             ],
             [
              0.8888888888888888,
              "#fdca26"
             ],
             [
              1,
              "#f0f921"
             ]
            ],
            "type": "histogram2d"
           }
          ],
          "histogram2dcontour": [
           {
            "colorbar": {
             "outlinewidth": 0,
             "ticks": ""
            },
            "colorscale": [
             [
              0,
              "#0d0887"
             ],
             [
              0.1111111111111111,
              "#46039f"
             ],
             [
              0.2222222222222222,
              "#7201a8"
             ],
             [
              0.3333333333333333,
              "#9c179e"
             ],
             [
              0.4444444444444444,
              "#bd3786"
             ],
             [
              0.5555555555555556,
              "#d8576b"
             ],
             [
              0.6666666666666666,
              "#ed7953"
             ],
             [
              0.7777777777777778,
              "#fb9f3a"
             ],
             [
              0.8888888888888888,
              "#fdca26"
             ],
             [
              1,
              "#f0f921"
             ]
            ],
            "type": "histogram2dcontour"
           }
          ],
          "mesh3d": [
           {
            "colorbar": {
             "outlinewidth": 0,
             "ticks": ""
            },
            "type": "mesh3d"
           }
          ],
          "parcoords": [
           {
            "line": {
             "colorbar": {
              "outlinewidth": 0,
              "ticks": ""
             }
            },
            "type": "parcoords"
           }
          ],
          "pie": [
           {
            "automargin": true,
            "type": "pie"
           }
          ],
          "scatter": [
           {
            "marker": {
             "colorbar": {
              "outlinewidth": 0,
              "ticks": ""
             }
            },
            "type": "scatter"
           }
          ],
          "scatter3d": [
           {
            "line": {
             "colorbar": {
              "outlinewidth": 0,
              "ticks": ""
             }
            },
            "marker": {
             "colorbar": {
              "outlinewidth": 0,
              "ticks": ""
             }
            },
            "type": "scatter3d"
           }
          ],
          "scattercarpet": [
           {
            "marker": {
             "colorbar": {
              "outlinewidth": 0,
              "ticks": ""
             }
            },
            "type": "scattercarpet"
           }
          ],
          "scattergeo": [
           {
            "marker": {
             "colorbar": {
              "outlinewidth": 0,
              "ticks": ""
             }
            },
            "type": "scattergeo"
           }
          ],
          "scattergl": [
           {
            "marker": {
             "colorbar": {
              "outlinewidth": 0,
              "ticks": ""
             }
            },
            "type": "scattergl"
           }
          ],
          "scattermapbox": [
           {
            "marker": {
             "colorbar": {
              "outlinewidth": 0,
              "ticks": ""
             }
            },
            "type": "scattermapbox"
           }
          ],
          "scatterpolar": [
           {
            "marker": {
             "colorbar": {
              "outlinewidth": 0,
              "ticks": ""
             }
            },
            "type": "scatterpolar"
           }
          ],
          "scatterpolargl": [
           {
            "marker": {
             "colorbar": {
              "outlinewidth": 0,
              "ticks": ""
             }
            },
            "type": "scatterpolargl"
           }
          ],
          "scatterternary": [
           {
            "marker": {
             "colorbar": {
              "outlinewidth": 0,
              "ticks": ""
             }
            },
            "type": "scatterternary"
           }
          ],
          "surface": [
           {
            "colorbar": {
             "outlinewidth": 0,
             "ticks": ""
            },
            "colorscale": [
             [
              0,
              "#0d0887"
             ],
             [
              0.1111111111111111,
              "#46039f"
             ],
             [
              0.2222222222222222,
              "#7201a8"
             ],
             [
              0.3333333333333333,
              "#9c179e"
             ],
             [
              0.4444444444444444,
              "#bd3786"
             ],
             [
              0.5555555555555556,
              "#d8576b"
             ],
             [
              0.6666666666666666,
              "#ed7953"
             ],
             [
              0.7777777777777778,
              "#fb9f3a"
             ],
             [
              0.8888888888888888,
              "#fdca26"
             ],
             [
              1,
              "#f0f921"
             ]
            ],
            "type": "surface"
           }
          ],
          "table": [
           {
            "cells": {
             "fill": {
              "color": "#EBF0F8"
             },
             "line": {
              "color": "white"
             }
            },
            "header": {
             "fill": {
              "color": "#C8D4E3"
             },
             "line": {
              "color": "white"
             }
            },
            "type": "table"
           }
          ]
         },
         "layout": {
          "annotationdefaults": {
           "arrowcolor": "#2a3f5f",
           "arrowhead": 0,
           "arrowwidth": 1
          },
          "autotypenumbers": "strict",
          "coloraxis": {
           "colorbar": {
            "outlinewidth": 0,
            "ticks": ""
           }
          },
          "colorscale": {
           "diverging": [
            [
             0,
             "#8e0152"
            ],
            [
             0.1,
             "#c51b7d"
            ],
            [
             0.2,
             "#de77ae"
            ],
            [
             0.3,
             "#f1b6da"
            ],
            [
             0.4,
             "#fde0ef"
            ],
            [
             0.5,
             "#f7f7f7"
            ],
            [
             0.6,
             "#e6f5d0"
            ],
            [
             0.7,
             "#b8e186"
            ],
            [
             0.8,
             "#7fbc41"
            ],
            [
             0.9,
             "#4d9221"
            ],
            [
             1,
             "#276419"
            ]
           ],
           "sequential": [
            [
             0,
             "#0d0887"
            ],
            [
             0.1111111111111111,
             "#46039f"
            ],
            [
             0.2222222222222222,
             "#7201a8"
            ],
            [
             0.3333333333333333,
             "#9c179e"
            ],
            [
             0.4444444444444444,
             "#bd3786"
            ],
            [
             0.5555555555555556,
             "#d8576b"
            ],
            [
             0.6666666666666666,
             "#ed7953"
            ],
            [
             0.7777777777777778,
             "#fb9f3a"
            ],
            [
             0.8888888888888888,
             "#fdca26"
            ],
            [
             1,
             "#f0f921"
            ]
           ],
           "sequentialminus": [
            [
             0,
             "#0d0887"
            ],
            [
             0.1111111111111111,
             "#46039f"
            ],
            [
             0.2222222222222222,
             "#7201a8"
            ],
            [
             0.3333333333333333,
             "#9c179e"
            ],
            [
             0.4444444444444444,
             "#bd3786"
            ],
            [
             0.5555555555555556,
             "#d8576b"
            ],
            [
             0.6666666666666666,
             "#ed7953"
            ],
            [
             0.7777777777777778,
             "#fb9f3a"
            ],
            [
             0.8888888888888888,
             "#fdca26"
            ],
            [
             1,
             "#f0f921"
            ]
           ]
          },
          "colorway": [
           "#636efa",
           "#EF553B",
           "#00cc96",
           "#ab63fa",
           "#FFA15A",
           "#19d3f3",
           "#FF6692",
           "#B6E880",
           "#FF97FF",
           "#FECB52"
          ],
          "font": {
           "color": "#2a3f5f"
          },
          "geo": {
           "bgcolor": "white",
           "lakecolor": "white",
           "landcolor": "#E5ECF6",
           "showlakes": true,
           "showland": true,
           "subunitcolor": "white"
          },
          "hoverlabel": {
           "align": "left"
          },
          "hovermode": "closest",
          "mapbox": {
           "style": "light"
          },
          "paper_bgcolor": "white",
          "plot_bgcolor": "#E5ECF6",
          "polar": {
           "angularaxis": {
            "gridcolor": "white",
            "linecolor": "white",
            "ticks": ""
           },
           "bgcolor": "#E5ECF6",
           "radialaxis": {
            "gridcolor": "white",
            "linecolor": "white",
            "ticks": ""
           }
          },
          "scene": {
           "xaxis": {
            "backgroundcolor": "#E5ECF6",
            "gridcolor": "white",
            "gridwidth": 2,
            "linecolor": "white",
            "showbackground": true,
            "ticks": "",
            "zerolinecolor": "white"
           },
           "yaxis": {
            "backgroundcolor": "#E5ECF6",
            "gridcolor": "white",
            "gridwidth": 2,
            "linecolor": "white",
            "showbackground": true,
            "ticks": "",
            "zerolinecolor": "white"
           },
           "zaxis": {
            "backgroundcolor": "#E5ECF6",
            "gridcolor": "white",
            "gridwidth": 2,
            "linecolor": "white",
            "showbackground": true,
            "ticks": "",
            "zerolinecolor": "white"
           }
          },
          "shapedefaults": {
           "line": {
            "color": "#2a3f5f"
           }
          },
          "ternary": {
           "aaxis": {
            "gridcolor": "white",
            "linecolor": "white",
            "ticks": ""
           },
           "baxis": {
            "gridcolor": "white",
            "linecolor": "white",
            "ticks": ""
           },
           "bgcolor": "#E5ECF6",
           "caxis": {
            "gridcolor": "white",
            "linecolor": "white",
            "ticks": ""
           }
          },
          "title": {
           "x": 0.05
          },
          "xaxis": {
           "automargin": true,
           "gridcolor": "white",
           "linecolor": "white",
           "ticks": "",
           "title": {
            "standoff": 15
           },
           "zerolinecolor": "white",
           "zerolinewidth": 2
          },
          "yaxis": {
           "automargin": true,
           "gridcolor": "white",
           "linecolor": "white",
           "ticks": "",
           "title": {
            "standoff": 15
           },
           "zerolinecolor": "white",
           "zerolinewidth": 2
          }
         }
        },
        "title": {
         "font": {
          "color": "#4D5663"
         }
        },
        "xaxis": {
         "gridcolor": "#E1E5ED",
         "showgrid": true,
         "tickfont": {
          "color": "#4D5663"
         },
         "title": {
          "font": {
           "color": "#4D5663"
          },
          "text": ""
         },
         "zerolinecolor": "#E1E5ED"
        },
        "yaxis": {
         "gridcolor": "#E1E5ED",
         "showgrid": true,
         "tickfont": {
          "color": "#4D5663"
         },
         "title": {
          "font": {
           "color": "#4D5663"
          },
          "text": ""
         },
         "zerolinecolor": "#E1E5ED"
        }
       }
      },
      "text/html": [
       "<div>                            <div id=\"0d8cb9a7-2edd-4bf0-aadf-b881d697171c\" class=\"plotly-graph-div\" style=\"height:525px; width:100%;\"></div>            <script type=\"text/javascript\">                require([\"plotly\"], function(Plotly) {                    window.PLOTLYENV=window.PLOTLYENV || {};\n",
       "                    window.PLOTLYENV.BASE_URL='https://plot.ly';                                    if (document.getElementById(\"0d8cb9a7-2edd-4bf0-aadf-b881d697171c\")) {                    Plotly.newPlot(                        \"0d8cb9a7-2edd-4bf0-aadf-b881d697171c\",                        [{\"line\": {\"color\": \"rgba(255, 153, 51, 1.0)\", \"dash\": \"solid\", \"shape\": \"linear\", \"width\": 1.3}, \"marker\": {\"size\": 12, \"symbol\": \"circle\"}, \"mode\": \"markers\", \"name\": \"B\", \"text\": \"\", \"type\": \"scatter\", \"x\": [1.2743291159598842, 0.012603295984593112, 0.026124428121605058, 0.05740195638716594, 0.7211797728758698, -1.2272404700848971, -0.0602220042618601, -1.2251272187523363, 0.7285313635047205, 0.3696043043956092, -0.005031906455792278, -0.217988503656931, -0.2958721265356392, -0.7119151897145148, -1.560092182531834, -0.97948301063551, -1.4295960531654444, -1.1734281071025316, -0.14794118852659902, 0.22858356596300675, -0.4106705073939129, 0.9201695687694685, -0.5243273775682088, 1.26090079768481, -0.17793819394265636, 1.1901683935840963, -1.3231680679116269, 0.625060436042206, 0.7057352901420538, -0.9000976494452639, 0.5977224299581562, 1.291099983403894, -0.15140884822287337, -0.07567580316289536, -1.2274736019729966, -1.1605033095785415, -0.003460674940168402, -1.0229364542489692, 0.7205474038629697, 0.49495986005977277, 0.41076790058176404, 0.1844472021660236, 0.1167576805269786, 1.112034995203464, 1.0859515215555395, -1.695322974218527, 0.7842598671527137, 0.758377284213845, -1.091849542132929, -1.3153986457811035, -0.6243415523889722, 1.1646852896543975, -0.7988149852707761, -0.7507366086782864, -0.9180420106279558, -0.2729434694854129, -1.2811526328740261, -0.9755996574451098, -0.4688125940352931, -0.26391419787528425, -2.4167264147169534, -1.066100926271971, 0.17041655454385568, -2.078311632109863, 0.560552210773985, 0.706882083984312, 0.7723109540792544, -1.4249266221939358, 1.4039689127307864, 1.778762557715026, 0.27437173358694167, 0.11733848968444871, -2.6150010633949354, -0.8592599110213128, 1.8093740945878218, -0.1292779500768447, -1.0439103137271737, 1.2829276692789005, 1.013159098488871, 0.20803697944170838, -0.6138663700796907, 0.1652084642695246, -1.8548152158867799, 1.8437969796864635, 0.5030983867380925, 0.07190031940443338, 2.1088970284366866, -1.0445203253805864, 1.0811956010542667, 1.4799493546243363, 2.050370676589714, -0.09903881715990685, 2.070541603456114, 0.7662237165749922, -0.3576102464551363, 0.49517071473458907, 1.6194456007075326, 0.18249899731952396, -0.5386291904369472, -1.4350220617716536], \"y\": [-0.39531474003646183, -0.8867252341912623, 1.5959727139592397, -0.8915771314389602, 0.052385164048535215, -2.15514457439745, -1.8144544174035113, 0.08262005734589607, -0.36215198720850966, -1.228011983928278, -1.1410569805616517, -1.8002508826157904, 0.11744455836016172, -0.3718960945496368, 2.1095460426240846, 0.07887321650891946, 1.1682426861997464, -1.0385909818862178, 1.2904598411544959, -0.22589344504336356, -1.4165857426047672, -0.5845932169728495, 1.005124981817119, 0.8647853134104359, 1.5345743538298893, -0.6197658515889924, 0.4357103295542794, -0.643051371066005, -1.3096943661431093, 0.8752592855623904, 1.5987924708863182, -1.851139766837587, -1.4938816462310027, 1.511566102263444, -0.6002087041576118, -0.0750572625889012, -0.17628415605563305, -2.1805287231472037, -0.030848334334775927, -0.3304526075523714, 0.0178820557060164, 0.6908592869951391, 0.5481008805639314, 0.832811189808415, 0.019159938639792595, 1.180810231871073, 2.730747151610139, 0.47962211842500235, -1.115686833838263, -0.30239009589317517, 1.1713524884410316, -0.764656756383517, -0.6734519706171885, 1.1738819770023874, 0.025005237496141357, 0.9104392998046482, -0.3280391121163882, -0.3486935451998248, -0.46793500068688076, -0.3757619711666674, -0.3369861822352449, 0.722504307134837, -0.9929175231489182, -0.07617301189038786, 0.23089195302073037, -0.680100584163858, -0.8527155998532249, -0.7499693642787079, 1.4485578094733376, -1.1288994330475783, -0.7837078716233372, 0.7410973973324356, 0.3968117932668227, 0.9157511083687346, 0.3097620256451611, 0.6713401468685719, -0.5640468063713121, -0.43173512125063357, -1.0714794639032783, 1.323383682867993, -0.9351732722358566, -0.37504844765015305, 0.8660583605656553, 1.2887658734490224, 0.41503915951653897, -0.08132023809148904, -0.0011254533419979285, -1.8579339281616882, 0.9527033182663938, -0.28974539692538254, 1.5966620018083522, 0.5548831948574292, 0.2937735161744529, 0.21423897173344594, 0.6196979234332269, -0.8881001296958283, 0.030131395706024945, 0.6222707263472929, 0.5785613303233125, -1.6404562494386814]}],                        {\"legend\": {\"bgcolor\": \"#F5F6F9\", \"font\": {\"color\": \"#4D5663\"}}, \"paper_bgcolor\": \"#F5F6F9\", \"plot_bgcolor\": \"#F5F6F9\", \"template\": {\"data\": {\"bar\": [{\"error_x\": {\"color\": \"#2a3f5f\"}, \"error_y\": {\"color\": \"#2a3f5f\"}, \"marker\": {\"line\": {\"color\": \"#E5ECF6\", \"width\": 0.5}}, \"type\": \"bar\"}], \"barpolar\": [{\"marker\": {\"line\": {\"color\": \"#E5ECF6\", \"width\": 0.5}}, \"type\": \"barpolar\"}], \"carpet\": [{\"aaxis\": {\"endlinecolor\": \"#2a3f5f\", \"gridcolor\": \"white\", \"linecolor\": \"white\", \"minorgridcolor\": \"white\", \"startlinecolor\": \"#2a3f5f\"}, \"baxis\": {\"endlinecolor\": \"#2a3f5f\", \"gridcolor\": \"white\", \"linecolor\": \"white\", \"minorgridcolor\": \"white\", \"startlinecolor\": \"#2a3f5f\"}, \"type\": \"carpet\"}], \"choropleth\": [{\"colorbar\": {\"outlinewidth\": 0, \"ticks\": \"\"}, \"type\": \"choropleth\"}], \"contour\": [{\"colorbar\": {\"outlinewidth\": 0, \"ticks\": \"\"}, \"colorscale\": [[0.0, \"#0d0887\"], [0.1111111111111111, \"#46039f\"], [0.2222222222222222, \"#7201a8\"], [0.3333333333333333, \"#9c179e\"], [0.4444444444444444, \"#bd3786\"], [0.5555555555555556, \"#d8576b\"], [0.6666666666666666, \"#ed7953\"], [0.7777777777777778, \"#fb9f3a\"], [0.8888888888888888, \"#fdca26\"], [1.0, \"#f0f921\"]], \"type\": \"contour\"}], \"contourcarpet\": [{\"colorbar\": {\"outlinewidth\": 0, \"ticks\": \"\"}, \"type\": \"contourcarpet\"}], \"heatmap\": [{\"colorbar\": {\"outlinewidth\": 0, \"ticks\": \"\"}, \"colorscale\": [[0.0, \"#0d0887\"], [0.1111111111111111, \"#46039f\"], [0.2222222222222222, \"#7201a8\"], [0.3333333333333333, \"#9c179e\"], [0.4444444444444444, \"#bd3786\"], [0.5555555555555556, \"#d8576b\"], [0.6666666666666666, \"#ed7953\"], [0.7777777777777778, \"#fb9f3a\"], [0.8888888888888888, \"#fdca26\"], [1.0, \"#f0f921\"]], \"type\": \"heatmap\"}], \"heatmapgl\": [{\"colorbar\": {\"outlinewidth\": 0, \"ticks\": \"\"}, \"colorscale\": [[0.0, \"#0d0887\"], [0.1111111111111111, \"#46039f\"], [0.2222222222222222, \"#7201a8\"], [0.3333333333333333, \"#9c179e\"], [0.4444444444444444, \"#bd3786\"], [0.5555555555555556, \"#d8576b\"], [0.6666666666666666, \"#ed7953\"], [0.7777777777777778, \"#fb9f3a\"], [0.8888888888888888, \"#fdca26\"], [1.0, \"#f0f921\"]], \"type\": \"heatmapgl\"}], \"histogram\": [{\"marker\": {\"colorbar\": {\"outlinewidth\": 0, \"ticks\": \"\"}}, \"type\": \"histogram\"}], \"histogram2d\": [{\"colorbar\": {\"outlinewidth\": 0, \"ticks\": \"\"}, \"colorscale\": [[0.0, \"#0d0887\"], [0.1111111111111111, \"#46039f\"], [0.2222222222222222, \"#7201a8\"], [0.3333333333333333, \"#9c179e\"], [0.4444444444444444, \"#bd3786\"], [0.5555555555555556, \"#d8576b\"], [0.6666666666666666, \"#ed7953\"], [0.7777777777777778, \"#fb9f3a\"], [0.8888888888888888, \"#fdca26\"], [1.0, \"#f0f921\"]], \"type\": \"histogram2d\"}], \"histogram2dcontour\": [{\"colorbar\": {\"outlinewidth\": 0, \"ticks\": \"\"}, \"colorscale\": [[0.0, \"#0d0887\"], [0.1111111111111111, \"#46039f\"], [0.2222222222222222, \"#7201a8\"], [0.3333333333333333, \"#9c179e\"], [0.4444444444444444, \"#bd3786\"], [0.5555555555555556, \"#d8576b\"], [0.6666666666666666, \"#ed7953\"], [0.7777777777777778, \"#fb9f3a\"], [0.8888888888888888, \"#fdca26\"], [1.0, \"#f0f921\"]], \"type\": \"histogram2dcontour\"}], \"mesh3d\": [{\"colorbar\": {\"outlinewidth\": 0, \"ticks\": \"\"}, \"type\": \"mesh3d\"}], \"parcoords\": [{\"line\": {\"colorbar\": {\"outlinewidth\": 0, \"ticks\": \"\"}}, \"type\": \"parcoords\"}], \"pie\": [{\"automargin\": true, \"type\": \"pie\"}], \"scatter\": [{\"marker\": {\"colorbar\": {\"outlinewidth\": 0, \"ticks\": \"\"}}, \"type\": \"scatter\"}], \"scatter3d\": [{\"line\": {\"colorbar\": {\"outlinewidth\": 0, \"ticks\": \"\"}}, \"marker\": {\"colorbar\": {\"outlinewidth\": 0, \"ticks\": \"\"}}, \"type\": \"scatter3d\"}], \"scattercarpet\": [{\"marker\": {\"colorbar\": {\"outlinewidth\": 0, \"ticks\": \"\"}}, \"type\": \"scattercarpet\"}], \"scattergeo\": [{\"marker\": {\"colorbar\": {\"outlinewidth\": 0, \"ticks\": \"\"}}, \"type\": \"scattergeo\"}], \"scattergl\": [{\"marker\": {\"colorbar\": {\"outlinewidth\": 0, \"ticks\": \"\"}}, \"type\": \"scattergl\"}], \"scattermapbox\": [{\"marker\": {\"colorbar\": {\"outlinewidth\": 0, \"ticks\": \"\"}}, \"type\": \"scattermapbox\"}], \"scatterpolar\": [{\"marker\": {\"colorbar\": {\"outlinewidth\": 0, \"ticks\": \"\"}}, \"type\": \"scatterpolar\"}], \"scatterpolargl\": [{\"marker\": {\"colorbar\": {\"outlinewidth\": 0, \"ticks\": \"\"}}, \"type\": \"scatterpolargl\"}], \"scatterternary\": [{\"marker\": {\"colorbar\": {\"outlinewidth\": 0, \"ticks\": \"\"}}, \"type\": \"scatterternary\"}], \"surface\": [{\"colorbar\": {\"outlinewidth\": 0, \"ticks\": \"\"}, \"colorscale\": [[0.0, \"#0d0887\"], [0.1111111111111111, \"#46039f\"], [0.2222222222222222, \"#7201a8\"], [0.3333333333333333, \"#9c179e\"], [0.4444444444444444, \"#bd3786\"], [0.5555555555555556, \"#d8576b\"], [0.6666666666666666, \"#ed7953\"], [0.7777777777777778, \"#fb9f3a\"], [0.8888888888888888, \"#fdca26\"], [1.0, \"#f0f921\"]], \"type\": \"surface\"}], \"table\": [{\"cells\": {\"fill\": {\"color\": \"#EBF0F8\"}, \"line\": {\"color\": \"white\"}}, \"header\": {\"fill\": {\"color\": \"#C8D4E3\"}, \"line\": {\"color\": \"white\"}}, \"type\": \"table\"}]}, \"layout\": {\"annotationdefaults\": {\"arrowcolor\": \"#2a3f5f\", \"arrowhead\": 0, \"arrowwidth\": 1}, \"autotypenumbers\": \"strict\", \"coloraxis\": {\"colorbar\": {\"outlinewidth\": 0, \"ticks\": \"\"}}, \"colorscale\": {\"diverging\": [[0, \"#8e0152\"], [0.1, \"#c51b7d\"], [0.2, \"#de77ae\"], [0.3, \"#f1b6da\"], [0.4, \"#fde0ef\"], [0.5, \"#f7f7f7\"], [0.6, \"#e6f5d0\"], [0.7, \"#b8e186\"], [0.8, \"#7fbc41\"], [0.9, \"#4d9221\"], [1, \"#276419\"]], \"sequential\": [[0.0, \"#0d0887\"], [0.1111111111111111, \"#46039f\"], [0.2222222222222222, \"#7201a8\"], [0.3333333333333333, \"#9c179e\"], [0.4444444444444444, \"#bd3786\"], [0.5555555555555556, \"#d8576b\"], [0.6666666666666666, \"#ed7953\"], [0.7777777777777778, \"#fb9f3a\"], [0.8888888888888888, \"#fdca26\"], [1.0, \"#f0f921\"]], \"sequentialminus\": [[0.0, \"#0d0887\"], [0.1111111111111111, \"#46039f\"], [0.2222222222222222, \"#7201a8\"], [0.3333333333333333, \"#9c179e\"], [0.4444444444444444, \"#bd3786\"], [0.5555555555555556, \"#d8576b\"], [0.6666666666666666, \"#ed7953\"], [0.7777777777777778, \"#fb9f3a\"], [0.8888888888888888, \"#fdca26\"], [1.0, \"#f0f921\"]]}, \"colorway\": [\"#636efa\", \"#EF553B\", \"#00cc96\", \"#ab63fa\", \"#FFA15A\", \"#19d3f3\", \"#FF6692\", \"#B6E880\", \"#FF97FF\", \"#FECB52\"], \"font\": {\"color\": \"#2a3f5f\"}, \"geo\": {\"bgcolor\": \"white\", \"lakecolor\": \"white\", \"landcolor\": \"#E5ECF6\", \"showlakes\": true, \"showland\": true, \"subunitcolor\": \"white\"}, \"hoverlabel\": {\"align\": \"left\"}, \"hovermode\": \"closest\", \"mapbox\": {\"style\": \"light\"}, \"paper_bgcolor\": \"white\", \"plot_bgcolor\": \"#E5ECF6\", \"polar\": {\"angularaxis\": {\"gridcolor\": \"white\", \"linecolor\": \"white\", \"ticks\": \"\"}, \"bgcolor\": \"#E5ECF6\", \"radialaxis\": {\"gridcolor\": \"white\", \"linecolor\": \"white\", \"ticks\": \"\"}}, \"scene\": {\"xaxis\": {\"backgroundcolor\": \"#E5ECF6\", \"gridcolor\": \"white\", \"gridwidth\": 2, \"linecolor\": \"white\", \"showbackground\": true, \"ticks\": \"\", \"zerolinecolor\": \"white\"}, \"yaxis\": {\"backgroundcolor\": \"#E5ECF6\", \"gridcolor\": \"white\", \"gridwidth\": 2, \"linecolor\": \"white\", \"showbackground\": true, \"ticks\": \"\", \"zerolinecolor\": \"white\"}, \"zaxis\": {\"backgroundcolor\": \"#E5ECF6\", \"gridcolor\": \"white\", \"gridwidth\": 2, \"linecolor\": \"white\", \"showbackground\": true, \"ticks\": \"\", \"zerolinecolor\": \"white\"}}, \"shapedefaults\": {\"line\": {\"color\": \"#2a3f5f\"}}, \"ternary\": {\"aaxis\": {\"gridcolor\": \"white\", \"linecolor\": \"white\", \"ticks\": \"\"}, \"baxis\": {\"gridcolor\": \"white\", \"linecolor\": \"white\", \"ticks\": \"\"}, \"bgcolor\": \"#E5ECF6\", \"caxis\": {\"gridcolor\": \"white\", \"linecolor\": \"white\", \"ticks\": \"\"}}, \"title\": {\"x\": 0.05}, \"xaxis\": {\"automargin\": true, \"gridcolor\": \"white\", \"linecolor\": \"white\", \"ticks\": \"\", \"title\": {\"standoff\": 15}, \"zerolinecolor\": \"white\", \"zerolinewidth\": 2}, \"yaxis\": {\"automargin\": true, \"gridcolor\": \"white\", \"linecolor\": \"white\", \"ticks\": \"\", \"title\": {\"standoff\": 15}, \"zerolinecolor\": \"white\", \"zerolinewidth\": 2}}}, \"title\": {\"font\": {\"color\": \"#4D5663\"}}, \"xaxis\": {\"gridcolor\": \"#E1E5ED\", \"showgrid\": true, \"tickfont\": {\"color\": \"#4D5663\"}, \"title\": {\"font\": {\"color\": \"#4D5663\"}, \"text\": \"\"}, \"zerolinecolor\": \"#E1E5ED\"}, \"yaxis\": {\"gridcolor\": \"#E1E5ED\", \"showgrid\": true, \"tickfont\": {\"color\": \"#4D5663\"}, \"title\": {\"font\": {\"color\": \"#4D5663\"}, \"text\": \"\"}, \"zerolinecolor\": \"#E1E5ED\"}},                        {\"showLink\": true, \"linkText\": \"Export to plot.ly\", \"plotlyServerURL\": \"https://plot.ly\", \"responsive\": true}                    ).then(function(){\n",
       "                            \n",
       "var gd = document.getElementById('0d8cb9a7-2edd-4bf0-aadf-b881d697171c');\n",
       "var x = new MutationObserver(function (mutations, observer) {{\n",
       "        var display = window.getComputedStyle(gd).display;\n",
       "        if (!display || display === 'none') {{\n",
       "            console.log([gd, 'removed!']);\n",
       "            Plotly.purge(gd);\n",
       "            observer.disconnect();\n",
       "        }}\n",
       "}});\n",
       "\n",
       "// Listen for the removal of the full notebook cells\n",
       "var notebookContainer = gd.closest('#notebook-container');\n",
       "if (notebookContainer) {{\n",
       "    x.observe(notebookContainer, {childList: true});\n",
       "}}\n",
       "\n",
       "// Listen for the clearing of the current output cell\n",
       "var outputEl = gd.closest('.output');\n",
       "if (outputEl) {{\n",
       "    x.observe(outputEl, {childList: true});\n",
       "}}\n",
       "\n",
       "                        })                };                });            </script>        </div>"
      ]
     },
     "metadata": {},
     "output_type": "display_data"
    }
   ],
   "source": [
    "df.iplot(kind='scatter',x='A',y='B',mode='markers')"
   ]
  },
  {
   "cell_type": "code",
   "execution_count": 15,
   "metadata": {},
   "outputs": [
    {
     "data": {
      "application/vnd.plotly.v1+json": {
       "config": {
        "linkText": "Export to plot.ly",
        "plotlyServerURL": "https://plot.ly",
        "showLink": true
       },
       "data": [
        {
         "marker": {
          "color": "rgba(255, 153, 51, 0.6)",
          "line": {
           "color": "rgba(255, 153, 51, 1.0)",
           "width": 1
          }
         },
         "name": "Values",
         "orientation": "v",
         "text": "",
         "type": "bar",
         "x": [
          "A",
          "B",
          "C"
         ],
         "y": [
          32,
          43,
          50
         ]
        }
       ],
       "layout": {
        "legend": {
         "bgcolor": "#F5F6F9",
         "font": {
          "color": "#4D5663"
         }
        },
        "paper_bgcolor": "#F5F6F9",
        "plot_bgcolor": "#F5F6F9",
        "template": {
         "data": {
          "bar": [
           {
            "error_x": {
             "color": "#2a3f5f"
            },
            "error_y": {
             "color": "#2a3f5f"
            },
            "marker": {
             "line": {
              "color": "#E5ECF6",
              "width": 0.5
             }
            },
            "type": "bar"
           }
          ],
          "barpolar": [
           {
            "marker": {
             "line": {
              "color": "#E5ECF6",
              "width": 0.5
             }
            },
            "type": "barpolar"
           }
          ],
          "carpet": [
           {
            "aaxis": {
             "endlinecolor": "#2a3f5f",
             "gridcolor": "white",
             "linecolor": "white",
             "minorgridcolor": "white",
             "startlinecolor": "#2a3f5f"
            },
            "baxis": {
             "endlinecolor": "#2a3f5f",
             "gridcolor": "white",
             "linecolor": "white",
             "minorgridcolor": "white",
             "startlinecolor": "#2a3f5f"
            },
            "type": "carpet"
           }
          ],
          "choropleth": [
           {
            "colorbar": {
             "outlinewidth": 0,
             "ticks": ""
            },
            "type": "choropleth"
           }
          ],
          "contour": [
           {
            "colorbar": {
             "outlinewidth": 0,
             "ticks": ""
            },
            "colorscale": [
             [
              0,
              "#0d0887"
             ],
             [
              0.1111111111111111,
              "#46039f"
             ],
             [
              0.2222222222222222,
              "#7201a8"
             ],
             [
              0.3333333333333333,
              "#9c179e"
             ],
             [
              0.4444444444444444,
              "#bd3786"
             ],
             [
              0.5555555555555556,
              "#d8576b"
             ],
             [
              0.6666666666666666,
              "#ed7953"
             ],
             [
              0.7777777777777778,
              "#fb9f3a"
             ],
             [
              0.8888888888888888,
              "#fdca26"
             ],
             [
              1,
              "#f0f921"
             ]
            ],
            "type": "contour"
           }
          ],
          "contourcarpet": [
           {
            "colorbar": {
             "outlinewidth": 0,
             "ticks": ""
            },
            "type": "contourcarpet"
           }
          ],
          "heatmap": [
           {
            "colorbar": {
             "outlinewidth": 0,
             "ticks": ""
            },
            "colorscale": [
             [
              0,
              "#0d0887"
             ],
             [
              0.1111111111111111,
              "#46039f"
             ],
             [
              0.2222222222222222,
              "#7201a8"
             ],
             [
              0.3333333333333333,
              "#9c179e"
             ],
             [
              0.4444444444444444,
              "#bd3786"
             ],
             [
              0.5555555555555556,
              "#d8576b"
             ],
             [
              0.6666666666666666,
              "#ed7953"
             ],
             [
              0.7777777777777778,
              "#fb9f3a"
             ],
             [
              0.8888888888888888,
              "#fdca26"
             ],
             [
              1,
              "#f0f921"
             ]
            ],
            "type": "heatmap"
           }
          ],
          "heatmapgl": [
           {
            "colorbar": {
             "outlinewidth": 0,
             "ticks": ""
            },
            "colorscale": [
             [
              0,
              "#0d0887"
             ],
             [
              0.1111111111111111,
              "#46039f"
             ],
             [
              0.2222222222222222,
              "#7201a8"
             ],
             [
              0.3333333333333333,
              "#9c179e"
             ],
             [
              0.4444444444444444,
              "#bd3786"
             ],
             [
              0.5555555555555556,
              "#d8576b"
             ],
             [
              0.6666666666666666,
              "#ed7953"
             ],
             [
              0.7777777777777778,
              "#fb9f3a"
             ],
             [
              0.8888888888888888,
              "#fdca26"
             ],
             [
              1,
              "#f0f921"
             ]
            ],
            "type": "heatmapgl"
           }
          ],
          "histogram": [
           {
            "marker": {
             "colorbar": {
              "outlinewidth": 0,
              "ticks": ""
             }
            },
            "type": "histogram"
           }
          ],
          "histogram2d": [
           {
            "colorbar": {
             "outlinewidth": 0,
             "ticks": ""
            },
            "colorscale": [
             [
              0,
              "#0d0887"
             ],
             [
              0.1111111111111111,
              "#46039f"
             ],
             [
              0.2222222222222222,
              "#7201a8"
             ],
             [
              0.3333333333333333,
              "#9c179e"
             ],
             [
              0.4444444444444444,
              "#bd3786"
             ],
             [
              0.5555555555555556,
              "#d8576b"
             ],
             [
              0.6666666666666666,
              "#ed7953"
             ],
             [
              0.7777777777777778,
              "#fb9f3a"
             ],
             [
              0.8888888888888888,
              "#fdca26"
             ],
             [
              1,
              "#f0f921"
             ]
            ],
            "type": "histogram2d"
           }
          ],
          "histogram2dcontour": [
           {
            "colorbar": {
             "outlinewidth": 0,
             "ticks": ""
            },
            "colorscale": [
             [
              0,
              "#0d0887"
             ],
             [
              0.1111111111111111,
              "#46039f"
             ],
             [
              0.2222222222222222,
              "#7201a8"
             ],
             [
              0.3333333333333333,
              "#9c179e"
             ],
             [
              0.4444444444444444,
              "#bd3786"
             ],
             [
              0.5555555555555556,
              "#d8576b"
             ],
             [
              0.6666666666666666,
              "#ed7953"
             ],
             [
              0.7777777777777778,
              "#fb9f3a"
             ],
             [
              0.8888888888888888,
              "#fdca26"
             ],
             [
              1,
              "#f0f921"
             ]
            ],
            "type": "histogram2dcontour"
           }
          ],
          "mesh3d": [
           {
            "colorbar": {
             "outlinewidth": 0,
             "ticks": ""
            },
            "type": "mesh3d"
           }
          ],
          "parcoords": [
           {
            "line": {
             "colorbar": {
              "outlinewidth": 0,
              "ticks": ""
             }
            },
            "type": "parcoords"
           }
          ],
          "pie": [
           {
            "automargin": true,
            "type": "pie"
           }
          ],
          "scatter": [
           {
            "marker": {
             "colorbar": {
              "outlinewidth": 0,
              "ticks": ""
             }
            },
            "type": "scatter"
           }
          ],
          "scatter3d": [
           {
            "line": {
             "colorbar": {
              "outlinewidth": 0,
              "ticks": ""
             }
            },
            "marker": {
             "colorbar": {
              "outlinewidth": 0,
              "ticks": ""
             }
            },
            "type": "scatter3d"
           }
          ],
          "scattercarpet": [
           {
            "marker": {
             "colorbar": {
              "outlinewidth": 0,
              "ticks": ""
             }
            },
            "type": "scattercarpet"
           }
          ],
          "scattergeo": [
           {
            "marker": {
             "colorbar": {
              "outlinewidth": 0,
              "ticks": ""
             }
            },
            "type": "scattergeo"
           }
          ],
          "scattergl": [
           {
            "marker": {
             "colorbar": {
              "outlinewidth": 0,
              "ticks": ""
             }
            },
            "type": "scattergl"
           }
          ],
          "scattermapbox": [
           {
            "marker": {
             "colorbar": {
              "outlinewidth": 0,
              "ticks": ""
             }
            },
            "type": "scattermapbox"
           }
          ],
          "scatterpolar": [
           {
            "marker": {
             "colorbar": {
              "outlinewidth": 0,
              "ticks": ""
             }
            },
            "type": "scatterpolar"
           }
          ],
          "scatterpolargl": [
           {
            "marker": {
             "colorbar": {
              "outlinewidth": 0,
              "ticks": ""
             }
            },
            "type": "scatterpolargl"
           }
          ],
          "scatterternary": [
           {
            "marker": {
             "colorbar": {
              "outlinewidth": 0,
              "ticks": ""
             }
            },
            "type": "scatterternary"
           }
          ],
          "surface": [
           {
            "colorbar": {
             "outlinewidth": 0,
             "ticks": ""
            },
            "colorscale": [
             [
              0,
              "#0d0887"
             ],
             [
              0.1111111111111111,
              "#46039f"
             ],
             [
              0.2222222222222222,
              "#7201a8"
             ],
             [
              0.3333333333333333,
              "#9c179e"
             ],
             [
              0.4444444444444444,
              "#bd3786"
             ],
             [
              0.5555555555555556,
              "#d8576b"
             ],
             [
              0.6666666666666666,
              "#ed7953"
             ],
             [
              0.7777777777777778,
              "#fb9f3a"
             ],
             [
              0.8888888888888888,
              "#fdca26"
             ],
             [
              1,
              "#f0f921"
             ]
            ],
            "type": "surface"
           }
          ],
          "table": [
           {
            "cells": {
             "fill": {
              "color": "#EBF0F8"
             },
             "line": {
              "color": "white"
             }
            },
            "header": {
             "fill": {
              "color": "#C8D4E3"
             },
             "line": {
              "color": "white"
             }
            },
            "type": "table"
           }
          ]
         },
         "layout": {
          "annotationdefaults": {
           "arrowcolor": "#2a3f5f",
           "arrowhead": 0,
           "arrowwidth": 1
          },
          "autotypenumbers": "strict",
          "coloraxis": {
           "colorbar": {
            "outlinewidth": 0,
            "ticks": ""
           }
          },
          "colorscale": {
           "diverging": [
            [
             0,
             "#8e0152"
            ],
            [
             0.1,
             "#c51b7d"
            ],
            [
             0.2,
             "#de77ae"
            ],
            [
             0.3,
             "#f1b6da"
            ],
            [
             0.4,
             "#fde0ef"
            ],
            [
             0.5,
             "#f7f7f7"
            ],
            [
             0.6,
             "#e6f5d0"
            ],
            [
             0.7,
             "#b8e186"
            ],
            [
             0.8,
             "#7fbc41"
            ],
            [
             0.9,
             "#4d9221"
            ],
            [
             1,
             "#276419"
            ]
           ],
           "sequential": [
            [
             0,
             "#0d0887"
            ],
            [
             0.1111111111111111,
             "#46039f"
            ],
            [
             0.2222222222222222,
             "#7201a8"
            ],
            [
             0.3333333333333333,
             "#9c179e"
            ],
            [
             0.4444444444444444,
             "#bd3786"
            ],
            [
             0.5555555555555556,
             "#d8576b"
            ],
            [
             0.6666666666666666,
             "#ed7953"
            ],
            [
             0.7777777777777778,
             "#fb9f3a"
            ],
            [
             0.8888888888888888,
             "#fdca26"
            ],
            [
             1,
             "#f0f921"
            ]
           ],
           "sequentialminus": [
            [
             0,
             "#0d0887"
            ],
            [
             0.1111111111111111,
             "#46039f"
            ],
            [
             0.2222222222222222,
             "#7201a8"
            ],
            [
             0.3333333333333333,
             "#9c179e"
            ],
            [
             0.4444444444444444,
             "#bd3786"
            ],
            [
             0.5555555555555556,
             "#d8576b"
            ],
            [
             0.6666666666666666,
             "#ed7953"
            ],
            [
             0.7777777777777778,
             "#fb9f3a"
            ],
            [
             0.8888888888888888,
             "#fdca26"
            ],
            [
             1,
             "#f0f921"
            ]
           ]
          },
          "colorway": [
           "#636efa",
           "#EF553B",
           "#00cc96",
           "#ab63fa",
           "#FFA15A",
           "#19d3f3",
           "#FF6692",
           "#B6E880",
           "#FF97FF",
           "#FECB52"
          ],
          "font": {
           "color": "#2a3f5f"
          },
          "geo": {
           "bgcolor": "white",
           "lakecolor": "white",
           "landcolor": "#E5ECF6",
           "showlakes": true,
           "showland": true,
           "subunitcolor": "white"
          },
          "hoverlabel": {
           "align": "left"
          },
          "hovermode": "closest",
          "mapbox": {
           "style": "light"
          },
          "paper_bgcolor": "white",
          "plot_bgcolor": "#E5ECF6",
          "polar": {
           "angularaxis": {
            "gridcolor": "white",
            "linecolor": "white",
            "ticks": ""
           },
           "bgcolor": "#E5ECF6",
           "radialaxis": {
            "gridcolor": "white",
            "linecolor": "white",
            "ticks": ""
           }
          },
          "scene": {
           "xaxis": {
            "backgroundcolor": "#E5ECF6",
            "gridcolor": "white",
            "gridwidth": 2,
            "linecolor": "white",
            "showbackground": true,
            "ticks": "",
            "zerolinecolor": "white"
           },
           "yaxis": {
            "backgroundcolor": "#E5ECF6",
            "gridcolor": "white",
            "gridwidth": 2,
            "linecolor": "white",
            "showbackground": true,
            "ticks": "",
            "zerolinecolor": "white"
           },
           "zaxis": {
            "backgroundcolor": "#E5ECF6",
            "gridcolor": "white",
            "gridwidth": 2,
            "linecolor": "white",
            "showbackground": true,
            "ticks": "",
            "zerolinecolor": "white"
           }
          },
          "shapedefaults": {
           "line": {
            "color": "#2a3f5f"
           }
          },
          "ternary": {
           "aaxis": {
            "gridcolor": "white",
            "linecolor": "white",
            "ticks": ""
           },
           "baxis": {
            "gridcolor": "white",
            "linecolor": "white",
            "ticks": ""
           },
           "bgcolor": "#E5ECF6",
           "caxis": {
            "gridcolor": "white",
            "linecolor": "white",
            "ticks": ""
           }
          },
          "title": {
           "x": 0.05
          },
          "xaxis": {
           "automargin": true,
           "gridcolor": "white",
           "linecolor": "white",
           "ticks": "",
           "title": {
            "standoff": 15
           },
           "zerolinecolor": "white",
           "zerolinewidth": 2
          },
          "yaxis": {
           "automargin": true,
           "gridcolor": "white",
           "linecolor": "white",
           "ticks": "",
           "title": {
            "standoff": 15
           },
           "zerolinecolor": "white",
           "zerolinewidth": 2
          }
         }
        },
        "title": {
         "font": {
          "color": "#4D5663"
         }
        },
        "xaxis": {
         "gridcolor": "#E1E5ED",
         "showgrid": true,
         "tickfont": {
          "color": "#4D5663"
         },
         "title": {
          "font": {
           "color": "#4D5663"
          },
          "text": ""
         },
         "zerolinecolor": "#E1E5ED"
        },
        "yaxis": {
         "gridcolor": "#E1E5ED",
         "showgrid": true,
         "tickfont": {
          "color": "#4D5663"
         },
         "title": {
          "font": {
           "color": "#4D5663"
          },
          "text": ""
         },
         "zerolinecolor": "#E1E5ED"
        }
       }
      },
      "text/html": [
       "<div>                            <div id=\"e8cd0856-3fe3-4b6b-9981-6d69d8072c3c\" class=\"plotly-graph-div\" style=\"height:525px; width:100%;\"></div>            <script type=\"text/javascript\">                require([\"plotly\"], function(Plotly) {                    window.PLOTLYENV=window.PLOTLYENV || {};\n",
       "                    window.PLOTLYENV.BASE_URL='https://plot.ly';                                    if (document.getElementById(\"e8cd0856-3fe3-4b6b-9981-6d69d8072c3c\")) {                    Plotly.newPlot(                        \"e8cd0856-3fe3-4b6b-9981-6d69d8072c3c\",                        [{\"marker\": {\"color\": \"rgba(255, 153, 51, 0.6)\", \"line\": {\"color\": \"rgba(255, 153, 51, 1.0)\", \"width\": 1}}, \"name\": \"Values\", \"orientation\": \"v\", \"text\": \"\", \"type\": \"bar\", \"x\": [\"A\", \"B\", \"C\"], \"y\": [32, 43, 50]}],                        {\"legend\": {\"bgcolor\": \"#F5F6F9\", \"font\": {\"color\": \"#4D5663\"}}, \"paper_bgcolor\": \"#F5F6F9\", \"plot_bgcolor\": \"#F5F6F9\", \"template\": {\"data\": {\"bar\": [{\"error_x\": {\"color\": \"#2a3f5f\"}, \"error_y\": {\"color\": \"#2a3f5f\"}, \"marker\": {\"line\": {\"color\": \"#E5ECF6\", \"width\": 0.5}}, \"type\": \"bar\"}], \"barpolar\": [{\"marker\": {\"line\": {\"color\": \"#E5ECF6\", \"width\": 0.5}}, \"type\": \"barpolar\"}], \"carpet\": [{\"aaxis\": {\"endlinecolor\": \"#2a3f5f\", \"gridcolor\": \"white\", \"linecolor\": \"white\", \"minorgridcolor\": \"white\", \"startlinecolor\": \"#2a3f5f\"}, \"baxis\": {\"endlinecolor\": \"#2a3f5f\", \"gridcolor\": \"white\", \"linecolor\": \"white\", \"minorgridcolor\": \"white\", \"startlinecolor\": \"#2a3f5f\"}, \"type\": \"carpet\"}], \"choropleth\": [{\"colorbar\": {\"outlinewidth\": 0, \"ticks\": \"\"}, \"type\": \"choropleth\"}], \"contour\": [{\"colorbar\": {\"outlinewidth\": 0, \"ticks\": \"\"}, \"colorscale\": [[0.0, \"#0d0887\"], [0.1111111111111111, \"#46039f\"], [0.2222222222222222, \"#7201a8\"], [0.3333333333333333, \"#9c179e\"], [0.4444444444444444, \"#bd3786\"], [0.5555555555555556, \"#d8576b\"], [0.6666666666666666, \"#ed7953\"], [0.7777777777777778, \"#fb9f3a\"], [0.8888888888888888, \"#fdca26\"], [1.0, \"#f0f921\"]], \"type\": \"contour\"}], \"contourcarpet\": [{\"colorbar\": {\"outlinewidth\": 0, \"ticks\": \"\"}, \"type\": \"contourcarpet\"}], \"heatmap\": [{\"colorbar\": {\"outlinewidth\": 0, \"ticks\": \"\"}, \"colorscale\": [[0.0, \"#0d0887\"], [0.1111111111111111, \"#46039f\"], [0.2222222222222222, \"#7201a8\"], [0.3333333333333333, \"#9c179e\"], [0.4444444444444444, \"#bd3786\"], [0.5555555555555556, \"#d8576b\"], [0.6666666666666666, \"#ed7953\"], [0.7777777777777778, \"#fb9f3a\"], [0.8888888888888888, \"#fdca26\"], [1.0, \"#f0f921\"]], \"type\": \"heatmap\"}], \"heatmapgl\": [{\"colorbar\": {\"outlinewidth\": 0, \"ticks\": \"\"}, \"colorscale\": [[0.0, \"#0d0887\"], [0.1111111111111111, \"#46039f\"], [0.2222222222222222, \"#7201a8\"], [0.3333333333333333, \"#9c179e\"], [0.4444444444444444, \"#bd3786\"], [0.5555555555555556, \"#d8576b\"], [0.6666666666666666, \"#ed7953\"], [0.7777777777777778, \"#fb9f3a\"], [0.8888888888888888, \"#fdca26\"], [1.0, \"#f0f921\"]], \"type\": \"heatmapgl\"}], \"histogram\": [{\"marker\": {\"colorbar\": {\"outlinewidth\": 0, \"ticks\": \"\"}}, \"type\": \"histogram\"}], \"histogram2d\": [{\"colorbar\": {\"outlinewidth\": 0, \"ticks\": \"\"}, \"colorscale\": [[0.0, \"#0d0887\"], [0.1111111111111111, \"#46039f\"], [0.2222222222222222, \"#7201a8\"], [0.3333333333333333, \"#9c179e\"], [0.4444444444444444, \"#bd3786\"], [0.5555555555555556, \"#d8576b\"], [0.6666666666666666, \"#ed7953\"], [0.7777777777777778, \"#fb9f3a\"], [0.8888888888888888, \"#fdca26\"], [1.0, \"#f0f921\"]], \"type\": \"histogram2d\"}], \"histogram2dcontour\": [{\"colorbar\": {\"outlinewidth\": 0, \"ticks\": \"\"}, \"colorscale\": [[0.0, \"#0d0887\"], [0.1111111111111111, \"#46039f\"], [0.2222222222222222, \"#7201a8\"], [0.3333333333333333, \"#9c179e\"], [0.4444444444444444, \"#bd3786\"], [0.5555555555555556, \"#d8576b\"], [0.6666666666666666, \"#ed7953\"], [0.7777777777777778, \"#fb9f3a\"], [0.8888888888888888, \"#fdca26\"], [1.0, \"#f0f921\"]], \"type\": \"histogram2dcontour\"}], \"mesh3d\": [{\"colorbar\": {\"outlinewidth\": 0, \"ticks\": \"\"}, \"type\": \"mesh3d\"}], \"parcoords\": [{\"line\": {\"colorbar\": {\"outlinewidth\": 0, \"ticks\": \"\"}}, \"type\": \"parcoords\"}], \"pie\": [{\"automargin\": true, \"type\": \"pie\"}], \"scatter\": [{\"marker\": {\"colorbar\": {\"outlinewidth\": 0, \"ticks\": \"\"}}, \"type\": \"scatter\"}], \"scatter3d\": [{\"line\": {\"colorbar\": {\"outlinewidth\": 0, \"ticks\": \"\"}}, \"marker\": {\"colorbar\": {\"outlinewidth\": 0, \"ticks\": \"\"}}, \"type\": \"scatter3d\"}], \"scattercarpet\": [{\"marker\": {\"colorbar\": {\"outlinewidth\": 0, \"ticks\": \"\"}}, \"type\": \"scattercarpet\"}], \"scattergeo\": [{\"marker\": {\"colorbar\": {\"outlinewidth\": 0, \"ticks\": \"\"}}, \"type\": \"scattergeo\"}], \"scattergl\": [{\"marker\": {\"colorbar\": {\"outlinewidth\": 0, \"ticks\": \"\"}}, \"type\": \"scattergl\"}], \"scattermapbox\": [{\"marker\": {\"colorbar\": {\"outlinewidth\": 0, \"ticks\": \"\"}}, \"type\": \"scattermapbox\"}], \"scatterpolar\": [{\"marker\": {\"colorbar\": {\"outlinewidth\": 0, \"ticks\": \"\"}}, \"type\": \"scatterpolar\"}], \"scatterpolargl\": [{\"marker\": {\"colorbar\": {\"outlinewidth\": 0, \"ticks\": \"\"}}, \"type\": \"scatterpolargl\"}], \"scatterternary\": [{\"marker\": {\"colorbar\": {\"outlinewidth\": 0, \"ticks\": \"\"}}, \"type\": \"scatterternary\"}], \"surface\": [{\"colorbar\": {\"outlinewidth\": 0, \"ticks\": \"\"}, \"colorscale\": [[0.0, \"#0d0887\"], [0.1111111111111111, \"#46039f\"], [0.2222222222222222, \"#7201a8\"], [0.3333333333333333, \"#9c179e\"], [0.4444444444444444, \"#bd3786\"], [0.5555555555555556, \"#d8576b\"], [0.6666666666666666, \"#ed7953\"], [0.7777777777777778, \"#fb9f3a\"], [0.8888888888888888, \"#fdca26\"], [1.0, \"#f0f921\"]], \"type\": \"surface\"}], \"table\": [{\"cells\": {\"fill\": {\"color\": \"#EBF0F8\"}, \"line\": {\"color\": \"white\"}}, \"header\": {\"fill\": {\"color\": \"#C8D4E3\"}, \"line\": {\"color\": \"white\"}}, \"type\": \"table\"}]}, \"layout\": {\"annotationdefaults\": {\"arrowcolor\": \"#2a3f5f\", \"arrowhead\": 0, \"arrowwidth\": 1}, \"autotypenumbers\": \"strict\", \"coloraxis\": {\"colorbar\": {\"outlinewidth\": 0, \"ticks\": \"\"}}, \"colorscale\": {\"diverging\": [[0, \"#8e0152\"], [0.1, \"#c51b7d\"], [0.2, \"#de77ae\"], [0.3, \"#f1b6da\"], [0.4, \"#fde0ef\"], [0.5, \"#f7f7f7\"], [0.6, \"#e6f5d0\"], [0.7, \"#b8e186\"], [0.8, \"#7fbc41\"], [0.9, \"#4d9221\"], [1, \"#276419\"]], \"sequential\": [[0.0, \"#0d0887\"], [0.1111111111111111, \"#46039f\"], [0.2222222222222222, \"#7201a8\"], [0.3333333333333333, \"#9c179e\"], [0.4444444444444444, \"#bd3786\"], [0.5555555555555556, \"#d8576b\"], [0.6666666666666666, \"#ed7953\"], [0.7777777777777778, \"#fb9f3a\"], [0.8888888888888888, \"#fdca26\"], [1.0, \"#f0f921\"]], \"sequentialminus\": [[0.0, \"#0d0887\"], [0.1111111111111111, \"#46039f\"], [0.2222222222222222, \"#7201a8\"], [0.3333333333333333, \"#9c179e\"], [0.4444444444444444, \"#bd3786\"], [0.5555555555555556, \"#d8576b\"], [0.6666666666666666, \"#ed7953\"], [0.7777777777777778, \"#fb9f3a\"], [0.8888888888888888, \"#fdca26\"], [1.0, \"#f0f921\"]]}, \"colorway\": [\"#636efa\", \"#EF553B\", \"#00cc96\", \"#ab63fa\", \"#FFA15A\", \"#19d3f3\", \"#FF6692\", \"#B6E880\", \"#FF97FF\", \"#FECB52\"], \"font\": {\"color\": \"#2a3f5f\"}, \"geo\": {\"bgcolor\": \"white\", \"lakecolor\": \"white\", \"landcolor\": \"#E5ECF6\", \"showlakes\": true, \"showland\": true, \"subunitcolor\": \"white\"}, \"hoverlabel\": {\"align\": \"left\"}, \"hovermode\": \"closest\", \"mapbox\": {\"style\": \"light\"}, \"paper_bgcolor\": \"white\", \"plot_bgcolor\": \"#E5ECF6\", \"polar\": {\"angularaxis\": {\"gridcolor\": \"white\", \"linecolor\": \"white\", \"ticks\": \"\"}, \"bgcolor\": \"#E5ECF6\", \"radialaxis\": {\"gridcolor\": \"white\", \"linecolor\": \"white\", \"ticks\": \"\"}}, \"scene\": {\"xaxis\": {\"backgroundcolor\": \"#E5ECF6\", \"gridcolor\": \"white\", \"gridwidth\": 2, \"linecolor\": \"white\", \"showbackground\": true, \"ticks\": \"\", \"zerolinecolor\": \"white\"}, \"yaxis\": {\"backgroundcolor\": \"#E5ECF6\", \"gridcolor\": \"white\", \"gridwidth\": 2, \"linecolor\": \"white\", \"showbackground\": true, \"ticks\": \"\", \"zerolinecolor\": \"white\"}, \"zaxis\": {\"backgroundcolor\": \"#E5ECF6\", \"gridcolor\": \"white\", \"gridwidth\": 2, \"linecolor\": \"white\", \"showbackground\": true, \"ticks\": \"\", \"zerolinecolor\": \"white\"}}, \"shapedefaults\": {\"line\": {\"color\": \"#2a3f5f\"}}, \"ternary\": {\"aaxis\": {\"gridcolor\": \"white\", \"linecolor\": \"white\", \"ticks\": \"\"}, \"baxis\": {\"gridcolor\": \"white\", \"linecolor\": \"white\", \"ticks\": \"\"}, \"bgcolor\": \"#E5ECF6\", \"caxis\": {\"gridcolor\": \"white\", \"linecolor\": \"white\", \"ticks\": \"\"}}, \"title\": {\"x\": 0.05}, \"xaxis\": {\"automargin\": true, \"gridcolor\": \"white\", \"linecolor\": \"white\", \"ticks\": \"\", \"title\": {\"standoff\": 15}, \"zerolinecolor\": \"white\", \"zerolinewidth\": 2}, \"yaxis\": {\"automargin\": true, \"gridcolor\": \"white\", \"linecolor\": \"white\", \"ticks\": \"\", \"title\": {\"standoff\": 15}, \"zerolinecolor\": \"white\", \"zerolinewidth\": 2}}}, \"title\": {\"font\": {\"color\": \"#4D5663\"}}, \"xaxis\": {\"gridcolor\": \"#E1E5ED\", \"showgrid\": true, \"tickfont\": {\"color\": \"#4D5663\"}, \"title\": {\"font\": {\"color\": \"#4D5663\"}, \"text\": \"\"}, \"zerolinecolor\": \"#E1E5ED\"}, \"yaxis\": {\"gridcolor\": \"#E1E5ED\", \"showgrid\": true, \"tickfont\": {\"color\": \"#4D5663\"}, \"title\": {\"font\": {\"color\": \"#4D5663\"}, \"text\": \"\"}, \"zerolinecolor\": \"#E1E5ED\"}},                        {\"showLink\": true, \"linkText\": \"Export to plot.ly\", \"plotlyServerURL\": \"https://plot.ly\", \"responsive\": true}                    ).then(function(){\n",
       "                            \n",
       "var gd = document.getElementById('e8cd0856-3fe3-4b6b-9981-6d69d8072c3c');\n",
       "var x = new MutationObserver(function (mutations, observer) {{\n",
       "        var display = window.getComputedStyle(gd).display;\n",
       "        if (!display || display === 'none') {{\n",
       "            console.log([gd, 'removed!']);\n",
       "            Plotly.purge(gd);\n",
       "            observer.disconnect();\n",
       "        }}\n",
       "}});\n",
       "\n",
       "// Listen for the removal of the full notebook cells\n",
       "var notebookContainer = gd.closest('#notebook-container');\n",
       "if (notebookContainer) {{\n",
       "    x.observe(notebookContainer, {childList: true});\n",
       "}}\n",
       "\n",
       "// Listen for the clearing of the current output cell\n",
       "var outputEl = gd.closest('.output');\n",
       "if (outputEl) {{\n",
       "    x.observe(outputEl, {childList: true});\n",
       "}}\n",
       "\n",
       "                        })                };                });            </script>        </div>"
      ]
     },
     "metadata": {},
     "output_type": "display_data"
    }
   ],
   "source": [
    "df2.iplot(kind='bar',x='Category',y='Values')"
   ]
  },
  {
   "cell_type": "code",
   "execution_count": 16,
   "metadata": {},
   "outputs": [
    {
     "data": {
      "application/vnd.plotly.v1+json": {
       "config": {
        "linkText": "Export to plot.ly",
        "plotlyServerURL": "https://plot.ly",
        "showLink": true
       },
       "data": [
        {
         "marker": {
          "color": "rgba(255, 153, 51, 0.6)",
          "line": {
           "color": "rgba(255, 153, 51, 1.0)",
           "width": 1
          }
         },
         "name": "None",
         "orientation": "v",
         "text": "",
         "type": "bar",
         "x": [
          "A",
          "B",
          "C",
          "D"
         ],
         "y": [
          -2.667141891062591,
          -2.8424945957029246,
          -15.756348190750998,
          -0.901894034635486
         ]
        }
       ],
       "layout": {
        "legend": {
         "bgcolor": "#F5F6F9",
         "font": {
          "color": "#4D5663"
         }
        },
        "paper_bgcolor": "#F5F6F9",
        "plot_bgcolor": "#F5F6F9",
        "template": {
         "data": {
          "bar": [
           {
            "error_x": {
             "color": "#2a3f5f"
            },
            "error_y": {
             "color": "#2a3f5f"
            },
            "marker": {
             "line": {
              "color": "#E5ECF6",
              "width": 0.5
             }
            },
            "type": "bar"
           }
          ],
          "barpolar": [
           {
            "marker": {
             "line": {
              "color": "#E5ECF6",
              "width": 0.5
             }
            },
            "type": "barpolar"
           }
          ],
          "carpet": [
           {
            "aaxis": {
             "endlinecolor": "#2a3f5f",
             "gridcolor": "white",
             "linecolor": "white",
             "minorgridcolor": "white",
             "startlinecolor": "#2a3f5f"
            },
            "baxis": {
             "endlinecolor": "#2a3f5f",
             "gridcolor": "white",
             "linecolor": "white",
             "minorgridcolor": "white",
             "startlinecolor": "#2a3f5f"
            },
            "type": "carpet"
           }
          ],
          "choropleth": [
           {
            "colorbar": {
             "outlinewidth": 0,
             "ticks": ""
            },
            "type": "choropleth"
           }
          ],
          "contour": [
           {
            "colorbar": {
             "outlinewidth": 0,
             "ticks": ""
            },
            "colorscale": [
             [
              0,
              "#0d0887"
             ],
             [
              0.1111111111111111,
              "#46039f"
             ],
             [
              0.2222222222222222,
              "#7201a8"
             ],
             [
              0.3333333333333333,
              "#9c179e"
             ],
             [
              0.4444444444444444,
              "#bd3786"
             ],
             [
              0.5555555555555556,
              "#d8576b"
             ],
             [
              0.6666666666666666,
              "#ed7953"
             ],
             [
              0.7777777777777778,
              "#fb9f3a"
             ],
             [
              0.8888888888888888,
              "#fdca26"
             ],
             [
              1,
              "#f0f921"
             ]
            ],
            "type": "contour"
           }
          ],
          "contourcarpet": [
           {
            "colorbar": {
             "outlinewidth": 0,
             "ticks": ""
            },
            "type": "contourcarpet"
           }
          ],
          "heatmap": [
           {
            "colorbar": {
             "outlinewidth": 0,
             "ticks": ""
            },
            "colorscale": [
             [
              0,
              "#0d0887"
             ],
             [
              0.1111111111111111,
              "#46039f"
             ],
             [
              0.2222222222222222,
              "#7201a8"
             ],
             [
              0.3333333333333333,
              "#9c179e"
             ],
             [
              0.4444444444444444,
              "#bd3786"
             ],
             [
              0.5555555555555556,
              "#d8576b"
             ],
             [
              0.6666666666666666,
              "#ed7953"
             ],
             [
              0.7777777777777778,
              "#fb9f3a"
             ],
             [
              0.8888888888888888,
              "#fdca26"
             ],
             [
              1,
              "#f0f921"
             ]
            ],
            "type": "heatmap"
           }
          ],
          "heatmapgl": [
           {
            "colorbar": {
             "outlinewidth": 0,
             "ticks": ""
            },
            "colorscale": [
             [
              0,
              "#0d0887"
             ],
             [
              0.1111111111111111,
              "#46039f"
             ],
             [
              0.2222222222222222,
              "#7201a8"
             ],
             [
              0.3333333333333333,
              "#9c179e"
             ],
             [
              0.4444444444444444,
              "#bd3786"
             ],
             [
              0.5555555555555556,
              "#d8576b"
             ],
             [
              0.6666666666666666,
              "#ed7953"
             ],
             [
              0.7777777777777778,
              "#fb9f3a"
             ],
             [
              0.8888888888888888,
              "#fdca26"
             ],
             [
              1,
              "#f0f921"
             ]
            ],
            "type": "heatmapgl"
           }
          ],
          "histogram": [
           {
            "marker": {
             "colorbar": {
              "outlinewidth": 0,
              "ticks": ""
             }
            },
            "type": "histogram"
           }
          ],
          "histogram2d": [
           {
            "colorbar": {
             "outlinewidth": 0,
             "ticks": ""
            },
            "colorscale": [
             [
              0,
              "#0d0887"
             ],
             [
              0.1111111111111111,
              "#46039f"
             ],
             [
              0.2222222222222222,
              "#7201a8"
             ],
             [
              0.3333333333333333,
              "#9c179e"
             ],
             [
              0.4444444444444444,
              "#bd3786"
             ],
             [
              0.5555555555555556,
              "#d8576b"
             ],
             [
              0.6666666666666666,
              "#ed7953"
             ],
             [
              0.7777777777777778,
              "#fb9f3a"
             ],
             [
              0.8888888888888888,
              "#fdca26"
             ],
             [
              1,
              "#f0f921"
             ]
            ],
            "type": "histogram2d"
           }
          ],
          "histogram2dcontour": [
           {
            "colorbar": {
             "outlinewidth": 0,
             "ticks": ""
            },
            "colorscale": [
             [
              0,
              "#0d0887"
             ],
             [
              0.1111111111111111,
              "#46039f"
             ],
             [
              0.2222222222222222,
              "#7201a8"
             ],
             [
              0.3333333333333333,
              "#9c179e"
             ],
             [
              0.4444444444444444,
              "#bd3786"
             ],
             [
              0.5555555555555556,
              "#d8576b"
             ],
             [
              0.6666666666666666,
              "#ed7953"
             ],
             [
              0.7777777777777778,
              "#fb9f3a"
             ],
             [
              0.8888888888888888,
              "#fdca26"
             ],
             [
              1,
              "#f0f921"
             ]
            ],
            "type": "histogram2dcontour"
           }
          ],
          "mesh3d": [
           {
            "colorbar": {
             "outlinewidth": 0,
             "ticks": ""
            },
            "type": "mesh3d"
           }
          ],
          "parcoords": [
           {
            "line": {
             "colorbar": {
              "outlinewidth": 0,
              "ticks": ""
             }
            },
            "type": "parcoords"
           }
          ],
          "pie": [
           {
            "automargin": true,
            "type": "pie"
           }
          ],
          "scatter": [
           {
            "marker": {
             "colorbar": {
              "outlinewidth": 0,
              "ticks": ""
             }
            },
            "type": "scatter"
           }
          ],
          "scatter3d": [
           {
            "line": {
             "colorbar": {
              "outlinewidth": 0,
              "ticks": ""
             }
            },
            "marker": {
             "colorbar": {
              "outlinewidth": 0,
              "ticks": ""
             }
            },
            "type": "scatter3d"
           }
          ],
          "scattercarpet": [
           {
            "marker": {
             "colorbar": {
              "outlinewidth": 0,
              "ticks": ""
             }
            },
            "type": "scattercarpet"
           }
          ],
          "scattergeo": [
           {
            "marker": {
             "colorbar": {
              "outlinewidth": 0,
              "ticks": ""
             }
            },
            "type": "scattergeo"
           }
          ],
          "scattergl": [
           {
            "marker": {
             "colorbar": {
              "outlinewidth": 0,
              "ticks": ""
             }
            },
            "type": "scattergl"
           }
          ],
          "scattermapbox": [
           {
            "marker": {
             "colorbar": {
              "outlinewidth": 0,
              "ticks": ""
             }
            },
            "type": "scattermapbox"
           }
          ],
          "scatterpolar": [
           {
            "marker": {
             "colorbar": {
              "outlinewidth": 0,
              "ticks": ""
             }
            },
            "type": "scatterpolar"
           }
          ],
          "scatterpolargl": [
           {
            "marker": {
             "colorbar": {
              "outlinewidth": 0,
              "ticks": ""
             }
            },
            "type": "scatterpolargl"
           }
          ],
          "scatterternary": [
           {
            "marker": {
             "colorbar": {
              "outlinewidth": 0,
              "ticks": ""
             }
            },
            "type": "scatterternary"
           }
          ],
          "surface": [
           {
            "colorbar": {
             "outlinewidth": 0,
             "ticks": ""
            },
            "colorscale": [
             [
              0,
              "#0d0887"
             ],
             [
              0.1111111111111111,
              "#46039f"
             ],
             [
              0.2222222222222222,
              "#7201a8"
             ],
             [
              0.3333333333333333,
              "#9c179e"
             ],
             [
              0.4444444444444444,
              "#bd3786"
             ],
             [
              0.5555555555555556,
              "#d8576b"
             ],
             [
              0.6666666666666666,
              "#ed7953"
             ],
             [
              0.7777777777777778,
              "#fb9f3a"
             ],
             [
              0.8888888888888888,
              "#fdca26"
             ],
             [
              1,
              "#f0f921"
             ]
            ],
            "type": "surface"
           }
          ],
          "table": [
           {
            "cells": {
             "fill": {
              "color": "#EBF0F8"
             },
             "line": {
              "color": "white"
             }
            },
            "header": {
             "fill": {
              "color": "#C8D4E3"
             },
             "line": {
              "color": "white"
             }
            },
            "type": "table"
           }
          ]
         },
         "layout": {
          "annotationdefaults": {
           "arrowcolor": "#2a3f5f",
           "arrowhead": 0,
           "arrowwidth": 1
          },
          "autotypenumbers": "strict",
          "coloraxis": {
           "colorbar": {
            "outlinewidth": 0,
            "ticks": ""
           }
          },
          "colorscale": {
           "diverging": [
            [
             0,
             "#8e0152"
            ],
            [
             0.1,
             "#c51b7d"
            ],
            [
             0.2,
             "#de77ae"
            ],
            [
             0.3,
             "#f1b6da"
            ],
            [
             0.4,
             "#fde0ef"
            ],
            [
             0.5,
             "#f7f7f7"
            ],
            [
             0.6,
             "#e6f5d0"
            ],
            [
             0.7,
             "#b8e186"
            ],
            [
             0.8,
             "#7fbc41"
            ],
            [
             0.9,
             "#4d9221"
            ],
            [
             1,
             "#276419"
            ]
           ],
           "sequential": [
            [
             0,
             "#0d0887"
            ],
            [
             0.1111111111111111,
             "#46039f"
            ],
            [
             0.2222222222222222,
             "#7201a8"
            ],
            [
             0.3333333333333333,
             "#9c179e"
            ],
            [
             0.4444444444444444,
             "#bd3786"
            ],
            [
             0.5555555555555556,
             "#d8576b"
            ],
            [
             0.6666666666666666,
             "#ed7953"
            ],
            [
             0.7777777777777778,
             "#fb9f3a"
            ],
            [
             0.8888888888888888,
             "#fdca26"
            ],
            [
             1,
             "#f0f921"
            ]
           ],
           "sequentialminus": [
            [
             0,
             "#0d0887"
            ],
            [
             0.1111111111111111,
             "#46039f"
            ],
            [
             0.2222222222222222,
             "#7201a8"
            ],
            [
             0.3333333333333333,
             "#9c179e"
            ],
            [
             0.4444444444444444,
             "#bd3786"
            ],
            [
             0.5555555555555556,
             "#d8576b"
            ],
            [
             0.6666666666666666,
             "#ed7953"
            ],
            [
             0.7777777777777778,
             "#fb9f3a"
            ],
            [
             0.8888888888888888,
             "#fdca26"
            ],
            [
             1,
             "#f0f921"
            ]
           ]
          },
          "colorway": [
           "#636efa",
           "#EF553B",
           "#00cc96",
           "#ab63fa",
           "#FFA15A",
           "#19d3f3",
           "#FF6692",
           "#B6E880",
           "#FF97FF",
           "#FECB52"
          ],
          "font": {
           "color": "#2a3f5f"
          },
          "geo": {
           "bgcolor": "white",
           "lakecolor": "white",
           "landcolor": "#E5ECF6",
           "showlakes": true,
           "showland": true,
           "subunitcolor": "white"
          },
          "hoverlabel": {
           "align": "left"
          },
          "hovermode": "closest",
          "mapbox": {
           "style": "light"
          },
          "paper_bgcolor": "white",
          "plot_bgcolor": "#E5ECF6",
          "polar": {
           "angularaxis": {
            "gridcolor": "white",
            "linecolor": "white",
            "ticks": ""
           },
           "bgcolor": "#E5ECF6",
           "radialaxis": {
            "gridcolor": "white",
            "linecolor": "white",
            "ticks": ""
           }
          },
          "scene": {
           "xaxis": {
            "backgroundcolor": "#E5ECF6",
            "gridcolor": "white",
            "gridwidth": 2,
            "linecolor": "white",
            "showbackground": true,
            "ticks": "",
            "zerolinecolor": "white"
           },
           "yaxis": {
            "backgroundcolor": "#E5ECF6",
            "gridcolor": "white",
            "gridwidth": 2,
            "linecolor": "white",
            "showbackground": true,
            "ticks": "",
            "zerolinecolor": "white"
           },
           "zaxis": {
            "backgroundcolor": "#E5ECF6",
            "gridcolor": "white",
            "gridwidth": 2,
            "linecolor": "white",
            "showbackground": true,
            "ticks": "",
            "zerolinecolor": "white"
           }
          },
          "shapedefaults": {
           "line": {
            "color": "#2a3f5f"
           }
          },
          "ternary": {
           "aaxis": {
            "gridcolor": "white",
            "linecolor": "white",
            "ticks": ""
           },
           "baxis": {
            "gridcolor": "white",
            "linecolor": "white",
            "ticks": ""
           },
           "bgcolor": "#E5ECF6",
           "caxis": {
            "gridcolor": "white",
            "linecolor": "white",
            "ticks": ""
           }
          },
          "title": {
           "x": 0.05
          },
          "xaxis": {
           "automargin": true,
           "gridcolor": "white",
           "linecolor": "white",
           "ticks": "",
           "title": {
            "standoff": 15
           },
           "zerolinecolor": "white",
           "zerolinewidth": 2
          },
          "yaxis": {
           "automargin": true,
           "gridcolor": "white",
           "linecolor": "white",
           "ticks": "",
           "title": {
            "standoff": 15
           },
           "zerolinecolor": "white",
           "zerolinewidth": 2
          }
         }
        },
        "title": {
         "font": {
          "color": "#4D5663"
         }
        },
        "xaxis": {
         "gridcolor": "#E1E5ED",
         "showgrid": true,
         "tickfont": {
          "color": "#4D5663"
         },
         "title": {
          "font": {
           "color": "#4D5663"
          },
          "text": ""
         },
         "zerolinecolor": "#E1E5ED"
        },
        "yaxis": {
         "gridcolor": "#E1E5ED",
         "showgrid": true,
         "tickfont": {
          "color": "#4D5663"
         },
         "title": {
          "font": {
           "color": "#4D5663"
          },
          "text": ""
         },
         "zerolinecolor": "#E1E5ED"
        }
       }
      },
      "text/html": [
       "<div>                            <div id=\"2dd3762b-39b0-4066-8a77-7dbf165c84b0\" class=\"plotly-graph-div\" style=\"height:525px; width:100%;\"></div>            <script type=\"text/javascript\">                require([\"plotly\"], function(Plotly) {                    window.PLOTLYENV=window.PLOTLYENV || {};\n",
       "                    window.PLOTLYENV.BASE_URL='https://plot.ly';                                    if (document.getElementById(\"2dd3762b-39b0-4066-8a77-7dbf165c84b0\")) {                    Plotly.newPlot(                        \"2dd3762b-39b0-4066-8a77-7dbf165c84b0\",                        [{\"marker\": {\"color\": \"rgba(255, 153, 51, 0.6)\", \"line\": {\"color\": \"rgba(255, 153, 51, 1.0)\", \"width\": 1}}, \"name\": \"None\", \"orientation\": \"v\", \"text\": \"\", \"type\": \"bar\", \"x\": [\"A\", \"B\", \"C\", \"D\"], \"y\": [-2.667141891062591, -2.8424945957029246, -15.756348190750998, -0.901894034635486]}],                        {\"legend\": {\"bgcolor\": \"#F5F6F9\", \"font\": {\"color\": \"#4D5663\"}}, \"paper_bgcolor\": \"#F5F6F9\", \"plot_bgcolor\": \"#F5F6F9\", \"template\": {\"data\": {\"bar\": [{\"error_x\": {\"color\": \"#2a3f5f\"}, \"error_y\": {\"color\": \"#2a3f5f\"}, \"marker\": {\"line\": {\"color\": \"#E5ECF6\", \"width\": 0.5}}, \"type\": \"bar\"}], \"barpolar\": [{\"marker\": {\"line\": {\"color\": \"#E5ECF6\", \"width\": 0.5}}, \"type\": \"barpolar\"}], \"carpet\": [{\"aaxis\": {\"endlinecolor\": \"#2a3f5f\", \"gridcolor\": \"white\", \"linecolor\": \"white\", \"minorgridcolor\": \"white\", \"startlinecolor\": \"#2a3f5f\"}, \"baxis\": {\"endlinecolor\": \"#2a3f5f\", \"gridcolor\": \"white\", \"linecolor\": \"white\", \"minorgridcolor\": \"white\", \"startlinecolor\": \"#2a3f5f\"}, \"type\": \"carpet\"}], \"choropleth\": [{\"colorbar\": {\"outlinewidth\": 0, \"ticks\": \"\"}, \"type\": \"choropleth\"}], \"contour\": [{\"colorbar\": {\"outlinewidth\": 0, \"ticks\": \"\"}, \"colorscale\": [[0.0, \"#0d0887\"], [0.1111111111111111, \"#46039f\"], [0.2222222222222222, \"#7201a8\"], [0.3333333333333333, \"#9c179e\"], [0.4444444444444444, \"#bd3786\"], [0.5555555555555556, \"#d8576b\"], [0.6666666666666666, \"#ed7953\"], [0.7777777777777778, \"#fb9f3a\"], [0.8888888888888888, \"#fdca26\"], [1.0, \"#f0f921\"]], \"type\": \"contour\"}], \"contourcarpet\": [{\"colorbar\": {\"outlinewidth\": 0, \"ticks\": \"\"}, \"type\": \"contourcarpet\"}], \"heatmap\": [{\"colorbar\": {\"outlinewidth\": 0, \"ticks\": \"\"}, \"colorscale\": [[0.0, \"#0d0887\"], [0.1111111111111111, \"#46039f\"], [0.2222222222222222, \"#7201a8\"], [0.3333333333333333, \"#9c179e\"], [0.4444444444444444, \"#bd3786\"], [0.5555555555555556, \"#d8576b\"], [0.6666666666666666, \"#ed7953\"], [0.7777777777777778, \"#fb9f3a\"], [0.8888888888888888, \"#fdca26\"], [1.0, \"#f0f921\"]], \"type\": \"heatmap\"}], \"heatmapgl\": [{\"colorbar\": {\"outlinewidth\": 0, \"ticks\": \"\"}, \"colorscale\": [[0.0, \"#0d0887\"], [0.1111111111111111, \"#46039f\"], [0.2222222222222222, \"#7201a8\"], [0.3333333333333333, \"#9c179e\"], [0.4444444444444444, \"#bd3786\"], [0.5555555555555556, \"#d8576b\"], [0.6666666666666666, \"#ed7953\"], [0.7777777777777778, \"#fb9f3a\"], [0.8888888888888888, \"#fdca26\"], [1.0, \"#f0f921\"]], \"type\": \"heatmapgl\"}], \"histogram\": [{\"marker\": {\"colorbar\": {\"outlinewidth\": 0, \"ticks\": \"\"}}, \"type\": \"histogram\"}], \"histogram2d\": [{\"colorbar\": {\"outlinewidth\": 0, \"ticks\": \"\"}, \"colorscale\": [[0.0, \"#0d0887\"], [0.1111111111111111, \"#46039f\"], [0.2222222222222222, \"#7201a8\"], [0.3333333333333333, \"#9c179e\"], [0.4444444444444444, \"#bd3786\"], [0.5555555555555556, \"#d8576b\"], [0.6666666666666666, \"#ed7953\"], [0.7777777777777778, \"#fb9f3a\"], [0.8888888888888888, \"#fdca26\"], [1.0, \"#f0f921\"]], \"type\": \"histogram2d\"}], \"histogram2dcontour\": [{\"colorbar\": {\"outlinewidth\": 0, \"ticks\": \"\"}, \"colorscale\": [[0.0, \"#0d0887\"], [0.1111111111111111, \"#46039f\"], [0.2222222222222222, \"#7201a8\"], [0.3333333333333333, \"#9c179e\"], [0.4444444444444444, \"#bd3786\"], [0.5555555555555556, \"#d8576b\"], [0.6666666666666666, \"#ed7953\"], [0.7777777777777778, \"#fb9f3a\"], [0.8888888888888888, \"#fdca26\"], [1.0, \"#f0f921\"]], \"type\": \"histogram2dcontour\"}], \"mesh3d\": [{\"colorbar\": {\"outlinewidth\": 0, \"ticks\": \"\"}, \"type\": \"mesh3d\"}], \"parcoords\": [{\"line\": {\"colorbar\": {\"outlinewidth\": 0, \"ticks\": \"\"}}, \"type\": \"parcoords\"}], \"pie\": [{\"automargin\": true, \"type\": \"pie\"}], \"scatter\": [{\"marker\": {\"colorbar\": {\"outlinewidth\": 0, \"ticks\": \"\"}}, \"type\": \"scatter\"}], \"scatter3d\": [{\"line\": {\"colorbar\": {\"outlinewidth\": 0, \"ticks\": \"\"}}, \"marker\": {\"colorbar\": {\"outlinewidth\": 0, \"ticks\": \"\"}}, \"type\": \"scatter3d\"}], \"scattercarpet\": [{\"marker\": {\"colorbar\": {\"outlinewidth\": 0, \"ticks\": \"\"}}, \"type\": \"scattercarpet\"}], \"scattergeo\": [{\"marker\": {\"colorbar\": {\"outlinewidth\": 0, \"ticks\": \"\"}}, \"type\": \"scattergeo\"}], \"scattergl\": [{\"marker\": {\"colorbar\": {\"outlinewidth\": 0, \"ticks\": \"\"}}, \"type\": \"scattergl\"}], \"scattermapbox\": [{\"marker\": {\"colorbar\": {\"outlinewidth\": 0, \"ticks\": \"\"}}, \"type\": \"scattermapbox\"}], \"scatterpolar\": [{\"marker\": {\"colorbar\": {\"outlinewidth\": 0, \"ticks\": \"\"}}, \"type\": \"scatterpolar\"}], \"scatterpolargl\": [{\"marker\": {\"colorbar\": {\"outlinewidth\": 0, \"ticks\": \"\"}}, \"type\": \"scatterpolargl\"}], \"scatterternary\": [{\"marker\": {\"colorbar\": {\"outlinewidth\": 0, \"ticks\": \"\"}}, \"type\": \"scatterternary\"}], \"surface\": [{\"colorbar\": {\"outlinewidth\": 0, \"ticks\": \"\"}, \"colorscale\": [[0.0, \"#0d0887\"], [0.1111111111111111, \"#46039f\"], [0.2222222222222222, \"#7201a8\"], [0.3333333333333333, \"#9c179e\"], [0.4444444444444444, \"#bd3786\"], [0.5555555555555556, \"#d8576b\"], [0.6666666666666666, \"#ed7953\"], [0.7777777777777778, \"#fb9f3a\"], [0.8888888888888888, \"#fdca26\"], [1.0, \"#f0f921\"]], \"type\": \"surface\"}], \"table\": [{\"cells\": {\"fill\": {\"color\": \"#EBF0F8\"}, \"line\": {\"color\": \"white\"}}, \"header\": {\"fill\": {\"color\": \"#C8D4E3\"}, \"line\": {\"color\": \"white\"}}, \"type\": \"table\"}]}, \"layout\": {\"annotationdefaults\": {\"arrowcolor\": \"#2a3f5f\", \"arrowhead\": 0, \"arrowwidth\": 1}, \"autotypenumbers\": \"strict\", \"coloraxis\": {\"colorbar\": {\"outlinewidth\": 0, \"ticks\": \"\"}}, \"colorscale\": {\"diverging\": [[0, \"#8e0152\"], [0.1, \"#c51b7d\"], [0.2, \"#de77ae\"], [0.3, \"#f1b6da\"], [0.4, \"#fde0ef\"], [0.5, \"#f7f7f7\"], [0.6, \"#e6f5d0\"], [0.7, \"#b8e186\"], [0.8, \"#7fbc41\"], [0.9, \"#4d9221\"], [1, \"#276419\"]], \"sequential\": [[0.0, \"#0d0887\"], [0.1111111111111111, \"#46039f\"], [0.2222222222222222, \"#7201a8\"], [0.3333333333333333, \"#9c179e\"], [0.4444444444444444, \"#bd3786\"], [0.5555555555555556, \"#d8576b\"], [0.6666666666666666, \"#ed7953\"], [0.7777777777777778, \"#fb9f3a\"], [0.8888888888888888, \"#fdca26\"], [1.0, \"#f0f921\"]], \"sequentialminus\": [[0.0, \"#0d0887\"], [0.1111111111111111, \"#46039f\"], [0.2222222222222222, \"#7201a8\"], [0.3333333333333333, \"#9c179e\"], [0.4444444444444444, \"#bd3786\"], [0.5555555555555556, \"#d8576b\"], [0.6666666666666666, \"#ed7953\"], [0.7777777777777778, \"#fb9f3a\"], [0.8888888888888888, \"#fdca26\"], [1.0, \"#f0f921\"]]}, \"colorway\": [\"#636efa\", \"#EF553B\", \"#00cc96\", \"#ab63fa\", \"#FFA15A\", \"#19d3f3\", \"#FF6692\", \"#B6E880\", \"#FF97FF\", \"#FECB52\"], \"font\": {\"color\": \"#2a3f5f\"}, \"geo\": {\"bgcolor\": \"white\", \"lakecolor\": \"white\", \"landcolor\": \"#E5ECF6\", \"showlakes\": true, \"showland\": true, \"subunitcolor\": \"white\"}, \"hoverlabel\": {\"align\": \"left\"}, \"hovermode\": \"closest\", \"mapbox\": {\"style\": \"light\"}, \"paper_bgcolor\": \"white\", \"plot_bgcolor\": \"#E5ECF6\", \"polar\": {\"angularaxis\": {\"gridcolor\": \"white\", \"linecolor\": \"white\", \"ticks\": \"\"}, \"bgcolor\": \"#E5ECF6\", \"radialaxis\": {\"gridcolor\": \"white\", \"linecolor\": \"white\", \"ticks\": \"\"}}, \"scene\": {\"xaxis\": {\"backgroundcolor\": \"#E5ECF6\", \"gridcolor\": \"white\", \"gridwidth\": 2, \"linecolor\": \"white\", \"showbackground\": true, \"ticks\": \"\", \"zerolinecolor\": \"white\"}, \"yaxis\": {\"backgroundcolor\": \"#E5ECF6\", \"gridcolor\": \"white\", \"gridwidth\": 2, \"linecolor\": \"white\", \"showbackground\": true, \"ticks\": \"\", \"zerolinecolor\": \"white\"}, \"zaxis\": {\"backgroundcolor\": \"#E5ECF6\", \"gridcolor\": \"white\", \"gridwidth\": 2, \"linecolor\": \"white\", \"showbackground\": true, \"ticks\": \"\", \"zerolinecolor\": \"white\"}}, \"shapedefaults\": {\"line\": {\"color\": \"#2a3f5f\"}}, \"ternary\": {\"aaxis\": {\"gridcolor\": \"white\", \"linecolor\": \"white\", \"ticks\": \"\"}, \"baxis\": {\"gridcolor\": \"white\", \"linecolor\": \"white\", \"ticks\": \"\"}, \"bgcolor\": \"#E5ECF6\", \"caxis\": {\"gridcolor\": \"white\", \"linecolor\": \"white\", \"ticks\": \"\"}}, \"title\": {\"x\": 0.05}, \"xaxis\": {\"automargin\": true, \"gridcolor\": \"white\", \"linecolor\": \"white\", \"ticks\": \"\", \"title\": {\"standoff\": 15}, \"zerolinecolor\": \"white\", \"zerolinewidth\": 2}, \"yaxis\": {\"automargin\": true, \"gridcolor\": \"white\", \"linecolor\": \"white\", \"ticks\": \"\", \"title\": {\"standoff\": 15}, \"zerolinecolor\": \"white\", \"zerolinewidth\": 2}}}, \"title\": {\"font\": {\"color\": \"#4D5663\"}}, \"xaxis\": {\"gridcolor\": \"#E1E5ED\", \"showgrid\": true, \"tickfont\": {\"color\": \"#4D5663\"}, \"title\": {\"font\": {\"color\": \"#4D5663\"}, \"text\": \"\"}, \"zerolinecolor\": \"#E1E5ED\"}, \"yaxis\": {\"gridcolor\": \"#E1E5ED\", \"showgrid\": true, \"tickfont\": {\"color\": \"#4D5663\"}, \"title\": {\"font\": {\"color\": \"#4D5663\"}, \"text\": \"\"}, \"zerolinecolor\": \"#E1E5ED\"}},                        {\"showLink\": true, \"linkText\": \"Export to plot.ly\", \"plotlyServerURL\": \"https://plot.ly\", \"responsive\": true}                    ).then(function(){\n",
       "                            \n",
       "var gd = document.getElementById('2dd3762b-39b0-4066-8a77-7dbf165c84b0');\n",
       "var x = new MutationObserver(function (mutations, observer) {{\n",
       "        var display = window.getComputedStyle(gd).display;\n",
       "        if (!display || display === 'none') {{\n",
       "            console.log([gd, 'removed!']);\n",
       "            Plotly.purge(gd);\n",
       "            observer.disconnect();\n",
       "        }}\n",
       "}});\n",
       "\n",
       "// Listen for the removal of the full notebook cells\n",
       "var notebookContainer = gd.closest('#notebook-container');\n",
       "if (notebookContainer) {{\n",
       "    x.observe(notebookContainer, {childList: true});\n",
       "}}\n",
       "\n",
       "// Listen for the clearing of the current output cell\n",
       "var outputEl = gd.closest('.output');\n",
       "if (outputEl) {{\n",
       "    x.observe(outputEl, {childList: true});\n",
       "}}\n",
       "\n",
       "                        })                };                });            </script>        </div>"
      ]
     },
     "metadata": {},
     "output_type": "display_data"
    }
   ],
   "source": [
    "df.sum().iplot(kind='bar')"
   ]
  },
  {
   "cell_type": "code",
   "execution_count": 17,
   "metadata": {},
   "outputs": [
    {
     "data": {
      "application/vnd.plotly.v1+json": {
       "config": {
        "linkText": "Export to plot.ly",
        "plotlyServerURL": "https://plot.ly",
        "showLink": true
       },
       "data": [
        {
         "boxpoints": false,
         "line": {
          "width": 1.3
         },
         "marker": {
          "color": "rgba(255, 153, 51, 1.0)"
         },
         "name": "A",
         "orientation": "v",
         "type": "box",
         "y": [
          1.2743291159598842,
          0.012603295984593112,
          0.026124428121605058,
          0.05740195638716594,
          0.7211797728758698,
          -1.2272404700848971,
          -0.0602220042618601,
          -1.2251272187523363,
          0.7285313635047205,
          0.3696043043956092,
          -0.005031906455792278,
          -0.217988503656931,
          -0.2958721265356392,
          -0.7119151897145148,
          -1.560092182531834,
          -0.97948301063551,
          -1.4295960531654444,
          -1.1734281071025316,
          -0.14794118852659902,
          0.22858356596300675,
          -0.4106705073939129,
          0.9201695687694685,
          -0.5243273775682088,
          1.26090079768481,
          -0.17793819394265636,
          1.1901683935840963,
          -1.3231680679116269,
          0.625060436042206,
          0.7057352901420538,
          -0.9000976494452639,
          0.5977224299581562,
          1.291099983403894,
          -0.15140884822287337,
          -0.07567580316289536,
          -1.2274736019729966,
          -1.1605033095785415,
          -0.003460674940168402,
          -1.0229364542489692,
          0.7205474038629697,
          0.49495986005977277,
          0.41076790058176404,
          0.1844472021660236,
          0.1167576805269786,
          1.112034995203464,
          1.0859515215555395,
          -1.695322974218527,
          0.7842598671527137,
          0.758377284213845,
          -1.091849542132929,
          -1.3153986457811035,
          -0.6243415523889722,
          1.1646852896543975,
          -0.7988149852707761,
          -0.7507366086782864,
          -0.9180420106279558,
          -0.2729434694854129,
          -1.2811526328740261,
          -0.9755996574451098,
          -0.4688125940352931,
          -0.26391419787528425,
          -2.4167264147169534,
          -1.066100926271971,
          0.17041655454385568,
          -2.078311632109863,
          0.560552210773985,
          0.706882083984312,
          0.7723109540792544,
          -1.4249266221939358,
          1.4039689127307864,
          1.778762557715026,
          0.27437173358694167,
          0.11733848968444871,
          -2.6150010633949354,
          -0.8592599110213128,
          1.8093740945878218,
          -0.1292779500768447,
          -1.0439103137271737,
          1.2829276692789005,
          1.013159098488871,
          0.20803697944170838,
          -0.6138663700796907,
          0.1652084642695246,
          -1.8548152158867799,
          1.8437969796864635,
          0.5030983867380925,
          0.07190031940443338,
          2.1088970284366866,
          -1.0445203253805864,
          1.0811956010542667,
          1.4799493546243363,
          2.050370676589714,
          -0.09903881715990685,
          2.070541603456114,
          0.7662237165749922,
          -0.3576102464551363,
          0.49517071473458907,
          1.6194456007075326,
          0.18249899731952396,
          -0.5386291904369472,
          -1.4350220617716536
         ]
        },
        {
         "boxpoints": false,
         "line": {
          "width": 1.3
         },
         "marker": {
          "color": "rgba(55, 128, 191, 1.0)"
         },
         "name": "B",
         "orientation": "v",
         "type": "box",
         "y": [
          -0.39531474003646183,
          -0.8867252341912623,
          1.5959727139592397,
          -0.8915771314389602,
          0.052385164048535215,
          -2.15514457439745,
          -1.8144544174035113,
          0.08262005734589607,
          -0.36215198720850966,
          -1.228011983928278,
          -1.1410569805616517,
          -1.8002508826157904,
          0.11744455836016172,
          -0.3718960945496368,
          2.1095460426240846,
          0.07887321650891946,
          1.1682426861997464,
          -1.0385909818862178,
          1.2904598411544959,
          -0.22589344504336356,
          -1.4165857426047672,
          -0.5845932169728495,
          1.005124981817119,
          0.8647853134104359,
          1.5345743538298893,
          -0.6197658515889924,
          0.4357103295542794,
          -0.643051371066005,
          -1.3096943661431093,
          0.8752592855623904,
          1.5987924708863182,
          -1.851139766837587,
          -1.4938816462310027,
          1.511566102263444,
          -0.6002087041576118,
          -0.0750572625889012,
          -0.17628415605563305,
          -2.1805287231472037,
          -0.030848334334775927,
          -0.3304526075523714,
          0.0178820557060164,
          0.6908592869951391,
          0.5481008805639314,
          0.832811189808415,
          0.019159938639792595,
          1.180810231871073,
          2.730747151610139,
          0.47962211842500235,
          -1.115686833838263,
          -0.30239009589317517,
          1.1713524884410316,
          -0.764656756383517,
          -0.6734519706171885,
          1.1738819770023874,
          0.025005237496141357,
          0.9104392998046482,
          -0.3280391121163882,
          -0.3486935451998248,
          -0.46793500068688076,
          -0.3757619711666674,
          -0.3369861822352449,
          0.722504307134837,
          -0.9929175231489182,
          -0.07617301189038786,
          0.23089195302073037,
          -0.680100584163858,
          -0.8527155998532249,
          -0.7499693642787079,
          1.4485578094733376,
          -1.1288994330475783,
          -0.7837078716233372,
          0.7410973973324356,
          0.3968117932668227,
          0.9157511083687346,
          0.3097620256451611,
          0.6713401468685719,
          -0.5640468063713121,
          -0.43173512125063357,
          -1.0714794639032783,
          1.323383682867993,
          -0.9351732722358566,
          -0.37504844765015305,
          0.8660583605656553,
          1.2887658734490224,
          0.41503915951653897,
          -0.08132023809148904,
          -0.0011254533419979285,
          -1.8579339281616882,
          0.9527033182663938,
          -0.28974539692538254,
          1.5966620018083522,
          0.5548831948574292,
          0.2937735161744529,
          0.21423897173344594,
          0.6196979234332269,
          -0.8881001296958283,
          0.030131395706024945,
          0.6222707263472929,
          0.5785613303233125,
          -1.6404562494386814
         ]
        },
        {
         "boxpoints": false,
         "line": {
          "width": 1.3
         },
         "marker": {
          "color": "rgba(50, 171, 96, 1.0)"
         },
         "name": "C",
         "orientation": "v",
         "type": "box",
         "y": [
          -0.36044540409848363,
          -1.3682369672062968,
          -0.9282922263722264,
          -0.45848038763538146,
          0.0715824631021516,
          0.5900264561161117,
          0.07497764580659219,
          -0.5104856754102799,
          -0.27605300650321773,
          -1.6248357381844074,
          -0.4816519562328335,
          -2.0506962498414247,
          1.7773616210375107,
          -0.6754462688728486,
          1.2262109264869192,
          0.6139539660003608,
          -0.6297992478728509,
          1.0006258792077805,
          -0.4762091942722724,
          -0.6632822162736236,
          1.576702485326573,
          -1.9549915684839305,
          -1.4251516158139754,
          -1.4500577195588817,
          -1.3366967700302275,
          0.3672192065324242,
          -1.3121692836149137,
          -0.031829016292886314,
          0.2533927221775022,
          -2.0182118834208556,
          -1.5750663801727445,
          0.29926418838762575,
          -0.4136173969379489,
          -1.2479526328438808,
          -1.2418866384269047,
          0.509094507374238,
          0.2002732933288788,
          -1.8580735849645333,
          -0.49768800132795543,
          0.637430016285652,
          -0.6780429278430543,
          0.6264243310761589,
          1.570872229475947,
          1.2087947749533279,
          -1.3681598699656303,
          -0.0017205720417560822,
          -0.1460318659234728,
          -0.871420273233697,
          0.1590697243425055,
          -0.7660352974730662,
          0.4303054256541309,
          -1.668213270695618,
          0.2780540161991583,
          0.087592359979765,
          0.9900116230613754,
          0.5900147241402782,
          -1.063717264197242,
          1.24257322092785,
          1.9907270812536322,
          1.5719147972788592,
          -1.7760798072451935,
          -1.34650757489623,
          0.23136066036130282,
          -0.1969755900432889,
          1.0042123847203066,
          1.6185298642020232,
          0.2398560243673993,
          0.06268088811831533,
          0.3114545888544146,
          -0.783836905301807,
          0.10098810777923627,
          -1.9899063256836396,
          0.5840657452315934,
          -0.10374052032512127,
          0.22629753494658214,
          0.06497485687391426,
          -2.4964257370098544,
          1.2537849394323473,
          -1.257805445847786,
          1.6159113795403206,
          -0.6274468686664045,
          0.7340668053520483,
          -2.2003426173120344,
          0.6428051084627697,
          1.0607436340152985,
          1.163904700448005,
          -0.5303144488710698,
          -0.6714829399675204,
          -1.0819877865976362,
          0.5127818276572855,
          -0.568724685074043,
          0.18151018833865676,
          0.7554640306951577,
          -0.8876737604103103,
          0.24004109451488095,
          1.2740091462548346,
          0.0388471201407009,
          -0.9479408989968882,
          -0.8295146712779031,
          2.1082464489943575
         ]
        },
        {
         "boxpoints": false,
         "line": {
          "width": 1.3
         },
         "marker": {
          "color": "rgba(128, 0, 128, 1.0)"
         },
         "name": "D",
         "orientation": "v",
         "type": "box",
         "y": [
          0.9479557561629391,
          2.298572982397254,
          1.8985066080729003,
          -0.21935281592776976,
          -0.8271492658805314,
          0.19851325528747873,
          -0.23951629522638052,
          -0.16735546918674754,
          0.4494119281442416,
          0.567578487854076,
          1.2556079947823373,
          -0.14718548227741263,
          -0.5541744883947628,
          -0.8855564195134483,
          -0.9478886620028885,
          0.9403100154204105,
          -1.893947196276431,
          -0.19080510215504717,
          1.6011193911570996,
          0.01936732726143374,
          0.3103484586399088,
          -2.3059930411011034,
          -1.3571828627998581,
          -0.30940976185537206,
          0.22329871865112277,
          0.6402957481944804,
          0.5046736773612417,
          -0.5370501114861642,
          -1.5125077613563083,
          -0.5791691884242758,
          -0.583961455113161,
          -0.7188188557167092,
          0.9341868949384947,
          -0.9184195378879708,
          2.247344161021866,
          0.8304305784192072,
          -1.639352353330321,
          -2.6730603733681924,
          0.5200616162134988,
          -0.891207675494616,
          0.31946716517453333,
          0.8431580555357344,
          0.4140046681848647,
          0.7713341679931037,
          -0.4590174931962297,
          0.9946614452762788,
          0.13788238743987755,
          1.7026523220319518,
          0.6961905827135803,
          0.898633656869011,
          -0.6509593709786435,
          -1.0615504833800744,
          0.9476633532200767,
          -2.1266285060064916,
          0.519888566389938,
          -0.08807757407231966,
          -0.049720326940622825,
          0.3175910673950524,
          0.4202130273427286,
          -1.1060867504540906,
          -0.7404627136340549,
          0.5866812954376825,
          2.0208400359871757,
          -0.6830267886972587,
          0.7178423825856399,
          -0.000485937457921648,
          0.8632415719288269,
          2.3886129328619505,
          -1.3761040089721146,
          -0.5165545161329226,
          0.6051372890502771,
          -0.6169190139559843,
          0.6098492513385899,
          -1.5250632348744793,
          0.2662552967850766,
          0.9145194146445753,
          -1.2853118992581378,
          -0.20683864531351895,
          -1.1395881758021906,
          -1.2500643703450267,
          -0.7933646373792077,
          0.045862860855696276,
          0.18458495717507492,
          1.0506587701281214,
          -0.30899375225282716,
          0.18208784675591044,
          0.8283796364370927,
          -0.4096637543022577,
          0.7506527560390127,
          -1.6054311962160694,
          0.2122586436250985,
          -0.6859217969969345,
          0.3731980438617282,
          -0.3916034394544518,
          0.7677063716061,
          -0.550762943480122,
          0.15397408945106517,
          0.8466623131049918,
          -1.174723705302563,
          0.26016534979009037
         ]
        }
       ],
       "layout": {
        "legend": {
         "bgcolor": "#F5F6F9",
         "font": {
          "color": "#4D5663"
         }
        },
        "paper_bgcolor": "#F5F6F9",
        "plot_bgcolor": "#F5F6F9",
        "template": {
         "data": {
          "bar": [
           {
            "error_x": {
             "color": "#2a3f5f"
            },
            "error_y": {
             "color": "#2a3f5f"
            },
            "marker": {
             "line": {
              "color": "#E5ECF6",
              "width": 0.5
             }
            },
            "type": "bar"
           }
          ],
          "barpolar": [
           {
            "marker": {
             "line": {
              "color": "#E5ECF6",
              "width": 0.5
             }
            },
            "type": "barpolar"
           }
          ],
          "carpet": [
           {
            "aaxis": {
             "endlinecolor": "#2a3f5f",
             "gridcolor": "white",
             "linecolor": "white",
             "minorgridcolor": "white",
             "startlinecolor": "#2a3f5f"
            },
            "baxis": {
             "endlinecolor": "#2a3f5f",
             "gridcolor": "white",
             "linecolor": "white",
             "minorgridcolor": "white",
             "startlinecolor": "#2a3f5f"
            },
            "type": "carpet"
           }
          ],
          "choropleth": [
           {
            "colorbar": {
             "outlinewidth": 0,
             "ticks": ""
            },
            "type": "choropleth"
           }
          ],
          "contour": [
           {
            "colorbar": {
             "outlinewidth": 0,
             "ticks": ""
            },
            "colorscale": [
             [
              0,
              "#0d0887"
             ],
             [
              0.1111111111111111,
              "#46039f"
             ],
             [
              0.2222222222222222,
              "#7201a8"
             ],
             [
              0.3333333333333333,
              "#9c179e"
             ],
             [
              0.4444444444444444,
              "#bd3786"
             ],
             [
              0.5555555555555556,
              "#d8576b"
             ],
             [
              0.6666666666666666,
              "#ed7953"
             ],
             [
              0.7777777777777778,
              "#fb9f3a"
             ],
             [
              0.8888888888888888,
              "#fdca26"
             ],
             [
              1,
              "#f0f921"
             ]
            ],
            "type": "contour"
           }
          ],
          "contourcarpet": [
           {
            "colorbar": {
             "outlinewidth": 0,
             "ticks": ""
            },
            "type": "contourcarpet"
           }
          ],
          "heatmap": [
           {
            "colorbar": {
             "outlinewidth": 0,
             "ticks": ""
            },
            "colorscale": [
             [
              0,
              "#0d0887"
             ],
             [
              0.1111111111111111,
              "#46039f"
             ],
             [
              0.2222222222222222,
              "#7201a8"
             ],
             [
              0.3333333333333333,
              "#9c179e"
             ],
             [
              0.4444444444444444,
              "#bd3786"
             ],
             [
              0.5555555555555556,
              "#d8576b"
             ],
             [
              0.6666666666666666,
              "#ed7953"
             ],
             [
              0.7777777777777778,
              "#fb9f3a"
             ],
             [
              0.8888888888888888,
              "#fdca26"
             ],
             [
              1,
              "#f0f921"
             ]
            ],
            "type": "heatmap"
           }
          ],
          "heatmapgl": [
           {
            "colorbar": {
             "outlinewidth": 0,
             "ticks": ""
            },
            "colorscale": [
             [
              0,
              "#0d0887"
             ],
             [
              0.1111111111111111,
              "#46039f"
             ],
             [
              0.2222222222222222,
              "#7201a8"
             ],
             [
              0.3333333333333333,
              "#9c179e"
             ],
             [
              0.4444444444444444,
              "#bd3786"
             ],
             [
              0.5555555555555556,
              "#d8576b"
             ],
             [
              0.6666666666666666,
              "#ed7953"
             ],
             [
              0.7777777777777778,
              "#fb9f3a"
             ],
             [
              0.8888888888888888,
              "#fdca26"
             ],
             [
              1,
              "#f0f921"
             ]
            ],
            "type": "heatmapgl"
           }
          ],
          "histogram": [
           {
            "marker": {
             "colorbar": {
              "outlinewidth": 0,
              "ticks": ""
             }
            },
            "type": "histogram"
           }
          ],
          "histogram2d": [
           {
            "colorbar": {
             "outlinewidth": 0,
             "ticks": ""
            },
            "colorscale": [
             [
              0,
              "#0d0887"
             ],
             [
              0.1111111111111111,
              "#46039f"
             ],
             [
              0.2222222222222222,
              "#7201a8"
             ],
             [
              0.3333333333333333,
              "#9c179e"
             ],
             [
              0.4444444444444444,
              "#bd3786"
             ],
             [
              0.5555555555555556,
              "#d8576b"
             ],
             [
              0.6666666666666666,
              "#ed7953"
             ],
             [
              0.7777777777777778,
              "#fb9f3a"
             ],
             [
              0.8888888888888888,
              "#fdca26"
             ],
             [
              1,
              "#f0f921"
             ]
            ],
            "type": "histogram2d"
           }
          ],
          "histogram2dcontour": [
           {
            "colorbar": {
             "outlinewidth": 0,
             "ticks": ""
            },
            "colorscale": [
             [
              0,
              "#0d0887"
             ],
             [
              0.1111111111111111,
              "#46039f"
             ],
             [
              0.2222222222222222,
              "#7201a8"
             ],
             [
              0.3333333333333333,
              "#9c179e"
             ],
             [
              0.4444444444444444,
              "#bd3786"
             ],
             [
              0.5555555555555556,
              "#d8576b"
             ],
             [
              0.6666666666666666,
              "#ed7953"
             ],
             [
              0.7777777777777778,
              "#fb9f3a"
             ],
             [
              0.8888888888888888,
              "#fdca26"
             ],
             [
              1,
              "#f0f921"
             ]
            ],
            "type": "histogram2dcontour"
           }
          ],
          "mesh3d": [
           {
            "colorbar": {
             "outlinewidth": 0,
             "ticks": ""
            },
            "type": "mesh3d"
           }
          ],
          "parcoords": [
           {
            "line": {
             "colorbar": {
              "outlinewidth": 0,
              "ticks": ""
             }
            },
            "type": "parcoords"
           }
          ],
          "pie": [
           {
            "automargin": true,
            "type": "pie"
           }
          ],
          "scatter": [
           {
            "marker": {
             "colorbar": {
              "outlinewidth": 0,
              "ticks": ""
             }
            },
            "type": "scatter"
           }
          ],
          "scatter3d": [
           {
            "line": {
             "colorbar": {
              "outlinewidth": 0,
              "ticks": ""
             }
            },
            "marker": {
             "colorbar": {
              "outlinewidth": 0,
              "ticks": ""
             }
            },
            "type": "scatter3d"
           }
          ],
          "scattercarpet": [
           {
            "marker": {
             "colorbar": {
              "outlinewidth": 0,
              "ticks": ""
             }
            },
            "type": "scattercarpet"
           }
          ],
          "scattergeo": [
           {
            "marker": {
             "colorbar": {
              "outlinewidth": 0,
              "ticks": ""
             }
            },
            "type": "scattergeo"
           }
          ],
          "scattergl": [
           {
            "marker": {
             "colorbar": {
              "outlinewidth": 0,
              "ticks": ""
             }
            },
            "type": "scattergl"
           }
          ],
          "scattermapbox": [
           {
            "marker": {
             "colorbar": {
              "outlinewidth": 0,
              "ticks": ""
             }
            },
            "type": "scattermapbox"
           }
          ],
          "scatterpolar": [
           {
            "marker": {
             "colorbar": {
              "outlinewidth": 0,
              "ticks": ""
             }
            },
            "type": "scatterpolar"
           }
          ],
          "scatterpolargl": [
           {
            "marker": {
             "colorbar": {
              "outlinewidth": 0,
              "ticks": ""
             }
            },
            "type": "scatterpolargl"
           }
          ],
          "scatterternary": [
           {
            "marker": {
             "colorbar": {
              "outlinewidth": 0,
              "ticks": ""
             }
            },
            "type": "scatterternary"
           }
          ],
          "surface": [
           {
            "colorbar": {
             "outlinewidth": 0,
             "ticks": ""
            },
            "colorscale": [
             [
              0,
              "#0d0887"
             ],
             [
              0.1111111111111111,
              "#46039f"
             ],
             [
              0.2222222222222222,
              "#7201a8"
             ],
             [
              0.3333333333333333,
              "#9c179e"
             ],
             [
              0.4444444444444444,
              "#bd3786"
             ],
             [
              0.5555555555555556,
              "#d8576b"
             ],
             [
              0.6666666666666666,
              "#ed7953"
             ],
             [
              0.7777777777777778,
              "#fb9f3a"
             ],
             [
              0.8888888888888888,
              "#fdca26"
             ],
             [
              1,
              "#f0f921"
             ]
            ],
            "type": "surface"
           }
          ],
          "table": [
           {
            "cells": {
             "fill": {
              "color": "#EBF0F8"
             },
             "line": {
              "color": "white"
             }
            },
            "header": {
             "fill": {
              "color": "#C8D4E3"
             },
             "line": {
              "color": "white"
             }
            },
            "type": "table"
           }
          ]
         },
         "layout": {
          "annotationdefaults": {
           "arrowcolor": "#2a3f5f",
           "arrowhead": 0,
           "arrowwidth": 1
          },
          "autotypenumbers": "strict",
          "coloraxis": {
           "colorbar": {
            "outlinewidth": 0,
            "ticks": ""
           }
          },
          "colorscale": {
           "diverging": [
            [
             0,
             "#8e0152"
            ],
            [
             0.1,
             "#c51b7d"
            ],
            [
             0.2,
             "#de77ae"
            ],
            [
             0.3,
             "#f1b6da"
            ],
            [
             0.4,
             "#fde0ef"
            ],
            [
             0.5,
             "#f7f7f7"
            ],
            [
             0.6,
             "#e6f5d0"
            ],
            [
             0.7,
             "#b8e186"
            ],
            [
             0.8,
             "#7fbc41"
            ],
            [
             0.9,
             "#4d9221"
            ],
            [
             1,
             "#276419"
            ]
           ],
           "sequential": [
            [
             0,
             "#0d0887"
            ],
            [
             0.1111111111111111,
             "#46039f"
            ],
            [
             0.2222222222222222,
             "#7201a8"
            ],
            [
             0.3333333333333333,
             "#9c179e"
            ],
            [
             0.4444444444444444,
             "#bd3786"
            ],
            [
             0.5555555555555556,
             "#d8576b"
            ],
            [
             0.6666666666666666,
             "#ed7953"
            ],
            [
             0.7777777777777778,
             "#fb9f3a"
            ],
            [
             0.8888888888888888,
             "#fdca26"
            ],
            [
             1,
             "#f0f921"
            ]
           ],
           "sequentialminus": [
            [
             0,
             "#0d0887"
            ],
            [
             0.1111111111111111,
             "#46039f"
            ],
            [
             0.2222222222222222,
             "#7201a8"
            ],
            [
             0.3333333333333333,
             "#9c179e"
            ],
            [
             0.4444444444444444,
             "#bd3786"
            ],
            [
             0.5555555555555556,
             "#d8576b"
            ],
            [
             0.6666666666666666,
             "#ed7953"
            ],
            [
             0.7777777777777778,
             "#fb9f3a"
            ],
            [
             0.8888888888888888,
             "#fdca26"
            ],
            [
             1,
             "#f0f921"
            ]
           ]
          },
          "colorway": [
           "#636efa",
           "#EF553B",
           "#00cc96",
           "#ab63fa",
           "#FFA15A",
           "#19d3f3",
           "#FF6692",
           "#B6E880",
           "#FF97FF",
           "#FECB52"
          ],
          "font": {
           "color": "#2a3f5f"
          },
          "geo": {
           "bgcolor": "white",
           "lakecolor": "white",
           "landcolor": "#E5ECF6",
           "showlakes": true,
           "showland": true,
           "subunitcolor": "white"
          },
          "hoverlabel": {
           "align": "left"
          },
          "hovermode": "closest",
          "mapbox": {
           "style": "light"
          },
          "paper_bgcolor": "white",
          "plot_bgcolor": "#E5ECF6",
          "polar": {
           "angularaxis": {
            "gridcolor": "white",
            "linecolor": "white",
            "ticks": ""
           },
           "bgcolor": "#E5ECF6",
           "radialaxis": {
            "gridcolor": "white",
            "linecolor": "white",
            "ticks": ""
           }
          },
          "scene": {
           "xaxis": {
            "backgroundcolor": "#E5ECF6",
            "gridcolor": "white",
            "gridwidth": 2,
            "linecolor": "white",
            "showbackground": true,
            "ticks": "",
            "zerolinecolor": "white"
           },
           "yaxis": {
            "backgroundcolor": "#E5ECF6",
            "gridcolor": "white",
            "gridwidth": 2,
            "linecolor": "white",
            "showbackground": true,
            "ticks": "",
            "zerolinecolor": "white"
           },
           "zaxis": {
            "backgroundcolor": "#E5ECF6",
            "gridcolor": "white",
            "gridwidth": 2,
            "linecolor": "white",
            "showbackground": true,
            "ticks": "",
            "zerolinecolor": "white"
           }
          },
          "shapedefaults": {
           "line": {
            "color": "#2a3f5f"
           }
          },
          "ternary": {
           "aaxis": {
            "gridcolor": "white",
            "linecolor": "white",
            "ticks": ""
           },
           "baxis": {
            "gridcolor": "white",
            "linecolor": "white",
            "ticks": ""
           },
           "bgcolor": "#E5ECF6",
           "caxis": {
            "gridcolor": "white",
            "linecolor": "white",
            "ticks": ""
           }
          },
          "title": {
           "x": 0.05
          },
          "xaxis": {
           "automargin": true,
           "gridcolor": "white",
           "linecolor": "white",
           "ticks": "",
           "title": {
            "standoff": 15
           },
           "zerolinecolor": "white",
           "zerolinewidth": 2
          },
          "yaxis": {
           "automargin": true,
           "gridcolor": "white",
           "linecolor": "white",
           "ticks": "",
           "title": {
            "standoff": 15
           },
           "zerolinecolor": "white",
           "zerolinewidth": 2
          }
         }
        },
        "title": {
         "font": {
          "color": "#4D5663"
         }
        },
        "xaxis": {
         "gridcolor": "#E1E5ED",
         "showgrid": true,
         "tickfont": {
          "color": "#4D5663"
         },
         "title": {
          "font": {
           "color": "#4D5663"
          },
          "text": ""
         },
         "zerolinecolor": "#E1E5ED"
        },
        "yaxis": {
         "gridcolor": "#E1E5ED",
         "showgrid": true,
         "tickfont": {
          "color": "#4D5663"
         },
         "title": {
          "font": {
           "color": "#4D5663"
          },
          "text": ""
         },
         "zerolinecolor": "#E1E5ED"
        }
       }
      },
      "text/html": [
       "<div>                            <div id=\"ecef551d-da14-487c-88bf-c538fd55d6b0\" class=\"plotly-graph-div\" style=\"height:525px; width:100%;\"></div>            <script type=\"text/javascript\">                require([\"plotly\"], function(Plotly) {                    window.PLOTLYENV=window.PLOTLYENV || {};\n",
       "                    window.PLOTLYENV.BASE_URL='https://plot.ly';                                    if (document.getElementById(\"ecef551d-da14-487c-88bf-c538fd55d6b0\")) {                    Plotly.newPlot(                        \"ecef551d-da14-487c-88bf-c538fd55d6b0\",                        [{\"boxpoints\": false, \"line\": {\"width\": 1.3}, \"marker\": {\"color\": \"rgba(255, 153, 51, 1.0)\"}, \"name\": \"A\", \"orientation\": \"v\", \"type\": \"box\", \"y\": [1.2743291159598842, 0.012603295984593112, 0.026124428121605058, 0.05740195638716594, 0.7211797728758698, -1.2272404700848971, -0.0602220042618601, -1.2251272187523363, 0.7285313635047205, 0.3696043043956092, -0.005031906455792278, -0.217988503656931, -0.2958721265356392, -0.7119151897145148, -1.560092182531834, -0.97948301063551, -1.4295960531654444, -1.1734281071025316, -0.14794118852659902, 0.22858356596300675, -0.4106705073939129, 0.9201695687694685, -0.5243273775682088, 1.26090079768481, -0.17793819394265636, 1.1901683935840963, -1.3231680679116269, 0.625060436042206, 0.7057352901420538, -0.9000976494452639, 0.5977224299581562, 1.291099983403894, -0.15140884822287337, -0.07567580316289536, -1.2274736019729966, -1.1605033095785415, -0.003460674940168402, -1.0229364542489692, 0.7205474038629697, 0.49495986005977277, 0.41076790058176404, 0.1844472021660236, 0.1167576805269786, 1.112034995203464, 1.0859515215555395, -1.695322974218527, 0.7842598671527137, 0.758377284213845, -1.091849542132929, -1.3153986457811035, -0.6243415523889722, 1.1646852896543975, -0.7988149852707761, -0.7507366086782864, -0.9180420106279558, -0.2729434694854129, -1.2811526328740261, -0.9755996574451098, -0.4688125940352931, -0.26391419787528425, -2.4167264147169534, -1.066100926271971, 0.17041655454385568, -2.078311632109863, 0.560552210773985, 0.706882083984312, 0.7723109540792544, -1.4249266221939358, 1.4039689127307864, 1.778762557715026, 0.27437173358694167, 0.11733848968444871, -2.6150010633949354, -0.8592599110213128, 1.8093740945878218, -0.1292779500768447, -1.0439103137271737, 1.2829276692789005, 1.013159098488871, 0.20803697944170838, -0.6138663700796907, 0.1652084642695246, -1.8548152158867799, 1.8437969796864635, 0.5030983867380925, 0.07190031940443338, 2.1088970284366866, -1.0445203253805864, 1.0811956010542667, 1.4799493546243363, 2.050370676589714, -0.09903881715990685, 2.070541603456114, 0.7662237165749922, -0.3576102464551363, 0.49517071473458907, 1.6194456007075326, 0.18249899731952396, -0.5386291904369472, -1.4350220617716536]}, {\"boxpoints\": false, \"line\": {\"width\": 1.3}, \"marker\": {\"color\": \"rgba(55, 128, 191, 1.0)\"}, \"name\": \"B\", \"orientation\": \"v\", \"type\": \"box\", \"y\": [-0.39531474003646183, -0.8867252341912623, 1.5959727139592397, -0.8915771314389602, 0.052385164048535215, -2.15514457439745, -1.8144544174035113, 0.08262005734589607, -0.36215198720850966, -1.228011983928278, -1.1410569805616517, -1.8002508826157904, 0.11744455836016172, -0.3718960945496368, 2.1095460426240846, 0.07887321650891946, 1.1682426861997464, -1.0385909818862178, 1.2904598411544959, -0.22589344504336356, -1.4165857426047672, -0.5845932169728495, 1.005124981817119, 0.8647853134104359, 1.5345743538298893, -0.6197658515889924, 0.4357103295542794, -0.643051371066005, -1.3096943661431093, 0.8752592855623904, 1.5987924708863182, -1.851139766837587, -1.4938816462310027, 1.511566102263444, -0.6002087041576118, -0.0750572625889012, -0.17628415605563305, -2.1805287231472037, -0.030848334334775927, -0.3304526075523714, 0.0178820557060164, 0.6908592869951391, 0.5481008805639314, 0.832811189808415, 0.019159938639792595, 1.180810231871073, 2.730747151610139, 0.47962211842500235, -1.115686833838263, -0.30239009589317517, 1.1713524884410316, -0.764656756383517, -0.6734519706171885, 1.1738819770023874, 0.025005237496141357, 0.9104392998046482, -0.3280391121163882, -0.3486935451998248, -0.46793500068688076, -0.3757619711666674, -0.3369861822352449, 0.722504307134837, -0.9929175231489182, -0.07617301189038786, 0.23089195302073037, -0.680100584163858, -0.8527155998532249, -0.7499693642787079, 1.4485578094733376, -1.1288994330475783, -0.7837078716233372, 0.7410973973324356, 0.3968117932668227, 0.9157511083687346, 0.3097620256451611, 0.6713401468685719, -0.5640468063713121, -0.43173512125063357, -1.0714794639032783, 1.323383682867993, -0.9351732722358566, -0.37504844765015305, 0.8660583605656553, 1.2887658734490224, 0.41503915951653897, -0.08132023809148904, -0.0011254533419979285, -1.8579339281616882, 0.9527033182663938, -0.28974539692538254, 1.5966620018083522, 0.5548831948574292, 0.2937735161744529, 0.21423897173344594, 0.6196979234332269, -0.8881001296958283, 0.030131395706024945, 0.6222707263472929, 0.5785613303233125, -1.6404562494386814]}, {\"boxpoints\": false, \"line\": {\"width\": 1.3}, \"marker\": {\"color\": \"rgba(50, 171, 96, 1.0)\"}, \"name\": \"C\", \"orientation\": \"v\", \"type\": \"box\", \"y\": [-0.36044540409848363, -1.3682369672062968, -0.9282922263722264, -0.45848038763538146, 0.0715824631021516, 0.5900264561161117, 0.07497764580659219, -0.5104856754102799, -0.27605300650321773, -1.6248357381844074, -0.4816519562328335, -2.0506962498414247, 1.7773616210375107, -0.6754462688728486, 1.2262109264869192, 0.6139539660003608, -0.6297992478728509, 1.0006258792077805, -0.4762091942722724, -0.6632822162736236, 1.576702485326573, -1.9549915684839305, -1.4251516158139754, -1.4500577195588817, -1.3366967700302275, 0.3672192065324242, -1.3121692836149137, -0.031829016292886314, 0.2533927221775022, -2.0182118834208556, -1.5750663801727445, 0.29926418838762575, -0.4136173969379489, -1.2479526328438808, -1.2418866384269047, 0.509094507374238, 0.2002732933288788, -1.8580735849645333, -0.49768800132795543, 0.637430016285652, -0.6780429278430543, 0.6264243310761589, 1.570872229475947, 1.2087947749533279, -1.3681598699656303, -0.0017205720417560822, -0.1460318659234728, -0.871420273233697, 0.1590697243425055, -0.7660352974730662, 0.4303054256541309, -1.668213270695618, 0.2780540161991583, 0.087592359979765, 0.9900116230613754, 0.5900147241402782, -1.063717264197242, 1.24257322092785, 1.9907270812536322, 1.5719147972788592, -1.7760798072451935, -1.34650757489623, 0.23136066036130282, -0.1969755900432889, 1.0042123847203066, 1.6185298642020232, 0.2398560243673993, 0.06268088811831533, 0.3114545888544146, -0.783836905301807, 0.10098810777923627, -1.9899063256836396, 0.5840657452315934, -0.10374052032512127, 0.22629753494658214, 0.06497485687391426, -2.4964257370098544, 1.2537849394323473, -1.257805445847786, 1.6159113795403206, -0.6274468686664045, 0.7340668053520483, -2.2003426173120344, 0.6428051084627697, 1.0607436340152985, 1.163904700448005, -0.5303144488710698, -0.6714829399675204, -1.0819877865976362, 0.5127818276572855, -0.568724685074043, 0.18151018833865676, 0.7554640306951577, -0.8876737604103103, 0.24004109451488095, 1.2740091462548346, 0.0388471201407009, -0.9479408989968882, -0.8295146712779031, 2.1082464489943575]}, {\"boxpoints\": false, \"line\": {\"width\": 1.3}, \"marker\": {\"color\": \"rgba(128, 0, 128, 1.0)\"}, \"name\": \"D\", \"orientation\": \"v\", \"type\": \"box\", \"y\": [0.9479557561629391, 2.298572982397254, 1.8985066080729003, -0.21935281592776976, -0.8271492658805314, 0.19851325528747873, -0.23951629522638052, -0.16735546918674754, 0.4494119281442416, 0.567578487854076, 1.2556079947823373, -0.14718548227741263, -0.5541744883947628, -0.8855564195134483, -0.9478886620028885, 0.9403100154204105, -1.893947196276431, -0.19080510215504717, 1.6011193911570996, 0.01936732726143374, 0.3103484586399088, -2.3059930411011034, -1.3571828627998581, -0.30940976185537206, 0.22329871865112277, 0.6402957481944804, 0.5046736773612417, -0.5370501114861642, -1.5125077613563083, -0.5791691884242758, -0.583961455113161, -0.7188188557167092, 0.9341868949384947, -0.9184195378879708, 2.247344161021866, 0.8304305784192072, -1.639352353330321, -2.6730603733681924, 0.5200616162134988, -0.891207675494616, 0.31946716517453333, 0.8431580555357344, 0.4140046681848647, 0.7713341679931037, -0.4590174931962297, 0.9946614452762788, 0.13788238743987755, 1.7026523220319518, 0.6961905827135803, 0.898633656869011, -0.6509593709786435, -1.0615504833800744, 0.9476633532200767, -2.1266285060064916, 0.519888566389938, -0.08807757407231966, -0.049720326940622825, 0.3175910673950524, 0.4202130273427286, -1.1060867504540906, -0.7404627136340549, 0.5866812954376825, 2.0208400359871757, -0.6830267886972587, 0.7178423825856399, -0.000485937457921648, 0.8632415719288269, 2.3886129328619505, -1.3761040089721146, -0.5165545161329226, 0.6051372890502771, -0.6169190139559843, 0.6098492513385899, -1.5250632348744793, 0.2662552967850766, 0.9145194146445753, -1.2853118992581378, -0.20683864531351895, -1.1395881758021906, -1.2500643703450267, -0.7933646373792077, 0.045862860855696276, 0.18458495717507492, 1.0506587701281214, -0.30899375225282716, 0.18208784675591044, 0.8283796364370927, -0.4096637543022577, 0.7506527560390127, -1.6054311962160694, 0.2122586436250985, -0.6859217969969345, 0.3731980438617282, -0.3916034394544518, 0.7677063716061, -0.550762943480122, 0.15397408945106517, 0.8466623131049918, -1.174723705302563, 0.26016534979009037]}],                        {\"legend\": {\"bgcolor\": \"#F5F6F9\", \"font\": {\"color\": \"#4D5663\"}}, \"paper_bgcolor\": \"#F5F6F9\", \"plot_bgcolor\": \"#F5F6F9\", \"template\": {\"data\": {\"bar\": [{\"error_x\": {\"color\": \"#2a3f5f\"}, \"error_y\": {\"color\": \"#2a3f5f\"}, \"marker\": {\"line\": {\"color\": \"#E5ECF6\", \"width\": 0.5}}, \"type\": \"bar\"}], \"barpolar\": [{\"marker\": {\"line\": {\"color\": \"#E5ECF6\", \"width\": 0.5}}, \"type\": \"barpolar\"}], \"carpet\": [{\"aaxis\": {\"endlinecolor\": \"#2a3f5f\", \"gridcolor\": \"white\", \"linecolor\": \"white\", \"minorgridcolor\": \"white\", \"startlinecolor\": \"#2a3f5f\"}, \"baxis\": {\"endlinecolor\": \"#2a3f5f\", \"gridcolor\": \"white\", \"linecolor\": \"white\", \"minorgridcolor\": \"white\", \"startlinecolor\": \"#2a3f5f\"}, \"type\": \"carpet\"}], \"choropleth\": [{\"colorbar\": {\"outlinewidth\": 0, \"ticks\": \"\"}, \"type\": \"choropleth\"}], \"contour\": [{\"colorbar\": {\"outlinewidth\": 0, \"ticks\": \"\"}, \"colorscale\": [[0.0, \"#0d0887\"], [0.1111111111111111, \"#46039f\"], [0.2222222222222222, \"#7201a8\"], [0.3333333333333333, \"#9c179e\"], [0.4444444444444444, \"#bd3786\"], [0.5555555555555556, \"#d8576b\"], [0.6666666666666666, \"#ed7953\"], [0.7777777777777778, \"#fb9f3a\"], [0.8888888888888888, \"#fdca26\"], [1.0, \"#f0f921\"]], \"type\": \"contour\"}], \"contourcarpet\": [{\"colorbar\": {\"outlinewidth\": 0, \"ticks\": \"\"}, \"type\": \"contourcarpet\"}], \"heatmap\": [{\"colorbar\": {\"outlinewidth\": 0, \"ticks\": \"\"}, \"colorscale\": [[0.0, \"#0d0887\"], [0.1111111111111111, \"#46039f\"], [0.2222222222222222, \"#7201a8\"], [0.3333333333333333, \"#9c179e\"], [0.4444444444444444, \"#bd3786\"], [0.5555555555555556, \"#d8576b\"], [0.6666666666666666, \"#ed7953\"], [0.7777777777777778, \"#fb9f3a\"], [0.8888888888888888, \"#fdca26\"], [1.0, \"#f0f921\"]], \"type\": \"heatmap\"}], \"heatmapgl\": [{\"colorbar\": {\"outlinewidth\": 0, \"ticks\": \"\"}, \"colorscale\": [[0.0, \"#0d0887\"], [0.1111111111111111, \"#46039f\"], [0.2222222222222222, \"#7201a8\"], [0.3333333333333333, \"#9c179e\"], [0.4444444444444444, \"#bd3786\"], [0.5555555555555556, \"#d8576b\"], [0.6666666666666666, \"#ed7953\"], [0.7777777777777778, \"#fb9f3a\"], [0.8888888888888888, \"#fdca26\"], [1.0, \"#f0f921\"]], \"type\": \"heatmapgl\"}], \"histogram\": [{\"marker\": {\"colorbar\": {\"outlinewidth\": 0, \"ticks\": \"\"}}, \"type\": \"histogram\"}], \"histogram2d\": [{\"colorbar\": {\"outlinewidth\": 0, \"ticks\": \"\"}, \"colorscale\": [[0.0, \"#0d0887\"], [0.1111111111111111, \"#46039f\"], [0.2222222222222222, \"#7201a8\"], [0.3333333333333333, \"#9c179e\"], [0.4444444444444444, \"#bd3786\"], [0.5555555555555556, \"#d8576b\"], [0.6666666666666666, \"#ed7953\"], [0.7777777777777778, \"#fb9f3a\"], [0.8888888888888888, \"#fdca26\"], [1.0, \"#f0f921\"]], \"type\": \"histogram2d\"}], \"histogram2dcontour\": [{\"colorbar\": {\"outlinewidth\": 0, \"ticks\": \"\"}, \"colorscale\": [[0.0, \"#0d0887\"], [0.1111111111111111, \"#46039f\"], [0.2222222222222222, \"#7201a8\"], [0.3333333333333333, \"#9c179e\"], [0.4444444444444444, \"#bd3786\"], [0.5555555555555556, \"#d8576b\"], [0.6666666666666666, \"#ed7953\"], [0.7777777777777778, \"#fb9f3a\"], [0.8888888888888888, \"#fdca26\"], [1.0, \"#f0f921\"]], \"type\": \"histogram2dcontour\"}], \"mesh3d\": [{\"colorbar\": {\"outlinewidth\": 0, \"ticks\": \"\"}, \"type\": \"mesh3d\"}], \"parcoords\": [{\"line\": {\"colorbar\": {\"outlinewidth\": 0, \"ticks\": \"\"}}, \"type\": \"parcoords\"}], \"pie\": [{\"automargin\": true, \"type\": \"pie\"}], \"scatter\": [{\"marker\": {\"colorbar\": {\"outlinewidth\": 0, \"ticks\": \"\"}}, \"type\": \"scatter\"}], \"scatter3d\": [{\"line\": {\"colorbar\": {\"outlinewidth\": 0, \"ticks\": \"\"}}, \"marker\": {\"colorbar\": {\"outlinewidth\": 0, \"ticks\": \"\"}}, \"type\": \"scatter3d\"}], \"scattercarpet\": [{\"marker\": {\"colorbar\": {\"outlinewidth\": 0, \"ticks\": \"\"}}, \"type\": \"scattercarpet\"}], \"scattergeo\": [{\"marker\": {\"colorbar\": {\"outlinewidth\": 0, \"ticks\": \"\"}}, \"type\": \"scattergeo\"}], \"scattergl\": [{\"marker\": {\"colorbar\": {\"outlinewidth\": 0, \"ticks\": \"\"}}, \"type\": \"scattergl\"}], \"scattermapbox\": [{\"marker\": {\"colorbar\": {\"outlinewidth\": 0, \"ticks\": \"\"}}, \"type\": \"scattermapbox\"}], \"scatterpolar\": [{\"marker\": {\"colorbar\": {\"outlinewidth\": 0, \"ticks\": \"\"}}, \"type\": \"scatterpolar\"}], \"scatterpolargl\": [{\"marker\": {\"colorbar\": {\"outlinewidth\": 0, \"ticks\": \"\"}}, \"type\": \"scatterpolargl\"}], \"scatterternary\": [{\"marker\": {\"colorbar\": {\"outlinewidth\": 0, \"ticks\": \"\"}}, \"type\": \"scatterternary\"}], \"surface\": [{\"colorbar\": {\"outlinewidth\": 0, \"ticks\": \"\"}, \"colorscale\": [[0.0, \"#0d0887\"], [0.1111111111111111, \"#46039f\"], [0.2222222222222222, \"#7201a8\"], [0.3333333333333333, \"#9c179e\"], [0.4444444444444444, \"#bd3786\"], [0.5555555555555556, \"#d8576b\"], [0.6666666666666666, \"#ed7953\"], [0.7777777777777778, \"#fb9f3a\"], [0.8888888888888888, \"#fdca26\"], [1.0, \"#f0f921\"]], \"type\": \"surface\"}], \"table\": [{\"cells\": {\"fill\": {\"color\": \"#EBF0F8\"}, \"line\": {\"color\": \"white\"}}, \"header\": {\"fill\": {\"color\": \"#C8D4E3\"}, \"line\": {\"color\": \"white\"}}, \"type\": \"table\"}]}, \"layout\": {\"annotationdefaults\": {\"arrowcolor\": \"#2a3f5f\", \"arrowhead\": 0, \"arrowwidth\": 1}, \"autotypenumbers\": \"strict\", \"coloraxis\": {\"colorbar\": {\"outlinewidth\": 0, \"ticks\": \"\"}}, \"colorscale\": {\"diverging\": [[0, \"#8e0152\"], [0.1, \"#c51b7d\"], [0.2, \"#de77ae\"], [0.3, \"#f1b6da\"], [0.4, \"#fde0ef\"], [0.5, \"#f7f7f7\"], [0.6, \"#e6f5d0\"], [0.7, \"#b8e186\"], [0.8, \"#7fbc41\"], [0.9, \"#4d9221\"], [1, \"#276419\"]], \"sequential\": [[0.0, \"#0d0887\"], [0.1111111111111111, \"#46039f\"], [0.2222222222222222, \"#7201a8\"], [0.3333333333333333, \"#9c179e\"], [0.4444444444444444, \"#bd3786\"], [0.5555555555555556, \"#d8576b\"], [0.6666666666666666, \"#ed7953\"], [0.7777777777777778, \"#fb9f3a\"], [0.8888888888888888, \"#fdca26\"], [1.0, \"#f0f921\"]], \"sequentialminus\": [[0.0, \"#0d0887\"], [0.1111111111111111, \"#46039f\"], [0.2222222222222222, \"#7201a8\"], [0.3333333333333333, \"#9c179e\"], [0.4444444444444444, \"#bd3786\"], [0.5555555555555556, \"#d8576b\"], [0.6666666666666666, \"#ed7953\"], [0.7777777777777778, \"#fb9f3a\"], [0.8888888888888888, \"#fdca26\"], [1.0, \"#f0f921\"]]}, \"colorway\": [\"#636efa\", \"#EF553B\", \"#00cc96\", \"#ab63fa\", \"#FFA15A\", \"#19d3f3\", \"#FF6692\", \"#B6E880\", \"#FF97FF\", \"#FECB52\"], \"font\": {\"color\": \"#2a3f5f\"}, \"geo\": {\"bgcolor\": \"white\", \"lakecolor\": \"white\", \"landcolor\": \"#E5ECF6\", \"showlakes\": true, \"showland\": true, \"subunitcolor\": \"white\"}, \"hoverlabel\": {\"align\": \"left\"}, \"hovermode\": \"closest\", \"mapbox\": {\"style\": \"light\"}, \"paper_bgcolor\": \"white\", \"plot_bgcolor\": \"#E5ECF6\", \"polar\": {\"angularaxis\": {\"gridcolor\": \"white\", \"linecolor\": \"white\", \"ticks\": \"\"}, \"bgcolor\": \"#E5ECF6\", \"radialaxis\": {\"gridcolor\": \"white\", \"linecolor\": \"white\", \"ticks\": \"\"}}, \"scene\": {\"xaxis\": {\"backgroundcolor\": \"#E5ECF6\", \"gridcolor\": \"white\", \"gridwidth\": 2, \"linecolor\": \"white\", \"showbackground\": true, \"ticks\": \"\", \"zerolinecolor\": \"white\"}, \"yaxis\": {\"backgroundcolor\": \"#E5ECF6\", \"gridcolor\": \"white\", \"gridwidth\": 2, \"linecolor\": \"white\", \"showbackground\": true, \"ticks\": \"\", \"zerolinecolor\": \"white\"}, \"zaxis\": {\"backgroundcolor\": \"#E5ECF6\", \"gridcolor\": \"white\", \"gridwidth\": 2, \"linecolor\": \"white\", \"showbackground\": true, \"ticks\": \"\", \"zerolinecolor\": \"white\"}}, \"shapedefaults\": {\"line\": {\"color\": \"#2a3f5f\"}}, \"ternary\": {\"aaxis\": {\"gridcolor\": \"white\", \"linecolor\": \"white\", \"ticks\": \"\"}, \"baxis\": {\"gridcolor\": \"white\", \"linecolor\": \"white\", \"ticks\": \"\"}, \"bgcolor\": \"#E5ECF6\", \"caxis\": {\"gridcolor\": \"white\", \"linecolor\": \"white\", \"ticks\": \"\"}}, \"title\": {\"x\": 0.05}, \"xaxis\": {\"automargin\": true, \"gridcolor\": \"white\", \"linecolor\": \"white\", \"ticks\": \"\", \"title\": {\"standoff\": 15}, \"zerolinecolor\": \"white\", \"zerolinewidth\": 2}, \"yaxis\": {\"automargin\": true, \"gridcolor\": \"white\", \"linecolor\": \"white\", \"ticks\": \"\", \"title\": {\"standoff\": 15}, \"zerolinecolor\": \"white\", \"zerolinewidth\": 2}}}, \"title\": {\"font\": {\"color\": \"#4D5663\"}}, \"xaxis\": {\"gridcolor\": \"#E1E5ED\", \"showgrid\": true, \"tickfont\": {\"color\": \"#4D5663\"}, \"title\": {\"font\": {\"color\": \"#4D5663\"}, \"text\": \"\"}, \"zerolinecolor\": \"#E1E5ED\"}, \"yaxis\": {\"gridcolor\": \"#E1E5ED\", \"showgrid\": true, \"tickfont\": {\"color\": \"#4D5663\"}, \"title\": {\"font\": {\"color\": \"#4D5663\"}, \"text\": \"\"}, \"zerolinecolor\": \"#E1E5ED\"}},                        {\"showLink\": true, \"linkText\": \"Export to plot.ly\", \"plotlyServerURL\": \"https://plot.ly\", \"responsive\": true}                    ).then(function(){\n",
       "                            \n",
       "var gd = document.getElementById('ecef551d-da14-487c-88bf-c538fd55d6b0');\n",
       "var x = new MutationObserver(function (mutations, observer) {{\n",
       "        var display = window.getComputedStyle(gd).display;\n",
       "        if (!display || display === 'none') {{\n",
       "            console.log([gd, 'removed!']);\n",
       "            Plotly.purge(gd);\n",
       "            observer.disconnect();\n",
       "        }}\n",
       "}});\n",
       "\n",
       "// Listen for the removal of the full notebook cells\n",
       "var notebookContainer = gd.closest('#notebook-container');\n",
       "if (notebookContainer) {{\n",
       "    x.observe(notebookContainer, {childList: true});\n",
       "}}\n",
       "\n",
       "// Listen for the clearing of the current output cell\n",
       "var outputEl = gd.closest('.output');\n",
       "if (outputEl) {{\n",
       "    x.observe(outputEl, {childList: true});\n",
       "}}\n",
       "\n",
       "                        })                };                });            </script>        </div>"
      ]
     },
     "metadata": {},
     "output_type": "display_data"
    }
   ],
   "source": [
    "df.iplot(kind='box')"
   ]
  },
  {
   "cell_type": "code",
   "execution_count": 18,
   "metadata": {},
   "outputs": [],
   "source": [
    "df3 = pd.DataFrame({'x':[1,2,3,4,5],'y':[10,20,30,20,10],'z':[500,400,300,200,100]})"
   ]
  },
  {
   "cell_type": "code",
   "execution_count": 19,
   "metadata": {},
   "outputs": [
    {
     "data": {
      "text/html": [
       "<div>\n",
       "<style scoped>\n",
       "    .dataframe tbody tr th:only-of-type {\n",
       "        vertical-align: middle;\n",
       "    }\n",
       "\n",
       "    .dataframe tbody tr th {\n",
       "        vertical-align: top;\n",
       "    }\n",
       "\n",
       "    .dataframe thead th {\n",
       "        text-align: right;\n",
       "    }\n",
       "</style>\n",
       "<table border=\"1\" class=\"dataframe\">\n",
       "  <thead>\n",
       "    <tr style=\"text-align: right;\">\n",
       "      <th></th>\n",
       "      <th>x</th>\n",
       "      <th>y</th>\n",
       "      <th>z</th>\n",
       "    </tr>\n",
       "  </thead>\n",
       "  <tbody>\n",
       "    <tr>\n",
       "      <th>0</th>\n",
       "      <td>1</td>\n",
       "      <td>10</td>\n",
       "      <td>500</td>\n",
       "    </tr>\n",
       "    <tr>\n",
       "      <th>1</th>\n",
       "      <td>2</td>\n",
       "      <td>20</td>\n",
       "      <td>400</td>\n",
       "    </tr>\n",
       "    <tr>\n",
       "      <th>2</th>\n",
       "      <td>3</td>\n",
       "      <td>30</td>\n",
       "      <td>300</td>\n",
       "    </tr>\n",
       "    <tr>\n",
       "      <th>3</th>\n",
       "      <td>4</td>\n",
       "      <td>20</td>\n",
       "      <td>200</td>\n",
       "    </tr>\n",
       "    <tr>\n",
       "      <th>4</th>\n",
       "      <td>5</td>\n",
       "      <td>10</td>\n",
       "      <td>100</td>\n",
       "    </tr>\n",
       "  </tbody>\n",
       "</table>\n",
       "</div>"
      ],
      "text/plain": [
       "   x   y    z\n",
       "0  1  10  500\n",
       "1  2  20  400\n",
       "2  3  30  300\n",
       "3  4  20  200\n",
       "4  5  10  100"
      ]
     },
     "execution_count": 19,
     "metadata": {},
     "output_type": "execute_result"
    }
   ],
   "source": [
    "df3"
   ]
  },
  {
   "cell_type": "code",
   "execution_count": 21,
   "metadata": {},
   "outputs": [
    {
     "data": {
      "application/vnd.plotly.v1+json": {
       "config": {
        "linkText": "Export to plot.ly",
        "plotlyServerURL": "https://plot.ly",
        "showLink": true
       },
       "data": [
        {
         "colorscale": [
          [
           0,
           "rgb(255, 153, 51)"
          ],
          [
           0.1111111111111111,
           "rgb(55, 128, 191)"
          ],
          [
           0.2222222222222222,
           "rgb(50, 171, 96)"
          ],
          [
           0.3333333333333333,
           "rgb(128, 0, 128)"
          ],
          [
           0.4444444444444444,
           "rgb(219, 64, 82)"
          ],
          [
           0.5555555555555556,
           "rgb(0, 128, 128)"
          ],
          [
           0.6666666666666666,
           "rgb(255, 255, 51)"
          ],
          [
           0.7777777777777778,
           "rgb(128, 128, 0)"
          ],
          [
           0.8888888888888888,
           "rgb(251, 128, 114)"
          ],
          [
           1,
           "rgb(128, 177, 211)"
          ]
         ],
         "type": "surface",
         "x": [
          0,
          1,
          2,
          3,
          4
         ],
         "y": [
          "x",
          "y",
          "z"
         ],
         "z": [
          [
           1,
           2,
           3,
           4,
           5
          ],
          [
           10,
           20,
           30,
           20,
           10
          ],
          [
           500,
           400,
           300,
           200,
           100
          ]
         ]
        }
       ],
       "layout": {
        "legend": {
         "bgcolor": "#F5F6F9",
         "font": {
          "color": "#4D5663"
         }
        },
        "paper_bgcolor": "#F5F6F9",
        "plot_bgcolor": "#F5F6F9",
        "template": {
         "data": {
          "bar": [
           {
            "error_x": {
             "color": "#2a3f5f"
            },
            "error_y": {
             "color": "#2a3f5f"
            },
            "marker": {
             "line": {
              "color": "#E5ECF6",
              "width": 0.5
             }
            },
            "type": "bar"
           }
          ],
          "barpolar": [
           {
            "marker": {
             "line": {
              "color": "#E5ECF6",
              "width": 0.5
             }
            },
            "type": "barpolar"
           }
          ],
          "carpet": [
           {
            "aaxis": {
             "endlinecolor": "#2a3f5f",
             "gridcolor": "white",
             "linecolor": "white",
             "minorgridcolor": "white",
             "startlinecolor": "#2a3f5f"
            },
            "baxis": {
             "endlinecolor": "#2a3f5f",
             "gridcolor": "white",
             "linecolor": "white",
             "minorgridcolor": "white",
             "startlinecolor": "#2a3f5f"
            },
            "type": "carpet"
           }
          ],
          "choropleth": [
           {
            "colorbar": {
             "outlinewidth": 0,
             "ticks": ""
            },
            "type": "choropleth"
           }
          ],
          "contour": [
           {
            "colorbar": {
             "outlinewidth": 0,
             "ticks": ""
            },
            "colorscale": [
             [
              0,
              "#0d0887"
             ],
             [
              0.1111111111111111,
              "#46039f"
             ],
             [
              0.2222222222222222,
              "#7201a8"
             ],
             [
              0.3333333333333333,
              "#9c179e"
             ],
             [
              0.4444444444444444,
              "#bd3786"
             ],
             [
              0.5555555555555556,
              "#d8576b"
             ],
             [
              0.6666666666666666,
              "#ed7953"
             ],
             [
              0.7777777777777778,
              "#fb9f3a"
             ],
             [
              0.8888888888888888,
              "#fdca26"
             ],
             [
              1,
              "#f0f921"
             ]
            ],
            "type": "contour"
           }
          ],
          "contourcarpet": [
           {
            "colorbar": {
             "outlinewidth": 0,
             "ticks": ""
            },
            "type": "contourcarpet"
           }
          ],
          "heatmap": [
           {
            "colorbar": {
             "outlinewidth": 0,
             "ticks": ""
            },
            "colorscale": [
             [
              0,
              "#0d0887"
             ],
             [
              0.1111111111111111,
              "#46039f"
             ],
             [
              0.2222222222222222,
              "#7201a8"
             ],
             [
              0.3333333333333333,
              "#9c179e"
             ],
             [
              0.4444444444444444,
              "#bd3786"
             ],
             [
              0.5555555555555556,
              "#d8576b"
             ],
             [
              0.6666666666666666,
              "#ed7953"
             ],
             [
              0.7777777777777778,
              "#fb9f3a"
             ],
             [
              0.8888888888888888,
              "#fdca26"
             ],
             [
              1,
              "#f0f921"
             ]
            ],
            "type": "heatmap"
           }
          ],
          "heatmapgl": [
           {
            "colorbar": {
             "outlinewidth": 0,
             "ticks": ""
            },
            "colorscale": [
             [
              0,
              "#0d0887"
             ],
             [
              0.1111111111111111,
              "#46039f"
             ],
             [
              0.2222222222222222,
              "#7201a8"
             ],
             [
              0.3333333333333333,
              "#9c179e"
             ],
             [
              0.4444444444444444,
              "#bd3786"
             ],
             [
              0.5555555555555556,
              "#d8576b"
             ],
             [
              0.6666666666666666,
              "#ed7953"
             ],
             [
              0.7777777777777778,
              "#fb9f3a"
             ],
             [
              0.8888888888888888,
              "#fdca26"
             ],
             [
              1,
              "#f0f921"
             ]
            ],
            "type": "heatmapgl"
           }
          ],
          "histogram": [
           {
            "marker": {
             "colorbar": {
              "outlinewidth": 0,
              "ticks": ""
             }
            },
            "type": "histogram"
           }
          ],
          "histogram2d": [
           {
            "colorbar": {
             "outlinewidth": 0,
             "ticks": ""
            },
            "colorscale": [
             [
              0,
              "#0d0887"
             ],
             [
              0.1111111111111111,
              "#46039f"
             ],
             [
              0.2222222222222222,
              "#7201a8"
             ],
             [
              0.3333333333333333,
              "#9c179e"
             ],
             [
              0.4444444444444444,
              "#bd3786"
             ],
             [
              0.5555555555555556,
              "#d8576b"
             ],
             [
              0.6666666666666666,
              "#ed7953"
             ],
             [
              0.7777777777777778,
              "#fb9f3a"
             ],
             [
              0.8888888888888888,
              "#fdca26"
             ],
             [
              1,
              "#f0f921"
             ]
            ],
            "type": "histogram2d"
           }
          ],
          "histogram2dcontour": [
           {
            "colorbar": {
             "outlinewidth": 0,
             "ticks": ""
            },
            "colorscale": [
             [
              0,
              "#0d0887"
             ],
             [
              0.1111111111111111,
              "#46039f"
             ],
             [
              0.2222222222222222,
              "#7201a8"
             ],
             [
              0.3333333333333333,
              "#9c179e"
             ],
             [
              0.4444444444444444,
              "#bd3786"
             ],
             [
              0.5555555555555556,
              "#d8576b"
             ],
             [
              0.6666666666666666,
              "#ed7953"
             ],
             [
              0.7777777777777778,
              "#fb9f3a"
             ],
             [
              0.8888888888888888,
              "#fdca26"
             ],
             [
              1,
              "#f0f921"
             ]
            ],
            "type": "histogram2dcontour"
           }
          ],
          "mesh3d": [
           {
            "colorbar": {
             "outlinewidth": 0,
             "ticks": ""
            },
            "type": "mesh3d"
           }
          ],
          "parcoords": [
           {
            "line": {
             "colorbar": {
              "outlinewidth": 0,
              "ticks": ""
             }
            },
            "type": "parcoords"
           }
          ],
          "pie": [
           {
            "automargin": true,
            "type": "pie"
           }
          ],
          "scatter": [
           {
            "marker": {
             "colorbar": {
              "outlinewidth": 0,
              "ticks": ""
             }
            },
            "type": "scatter"
           }
          ],
          "scatter3d": [
           {
            "line": {
             "colorbar": {
              "outlinewidth": 0,
              "ticks": ""
             }
            },
            "marker": {
             "colorbar": {
              "outlinewidth": 0,
              "ticks": ""
             }
            },
            "type": "scatter3d"
           }
          ],
          "scattercarpet": [
           {
            "marker": {
             "colorbar": {
              "outlinewidth": 0,
              "ticks": ""
             }
            },
            "type": "scattercarpet"
           }
          ],
          "scattergeo": [
           {
            "marker": {
             "colorbar": {
              "outlinewidth": 0,
              "ticks": ""
             }
            },
            "type": "scattergeo"
           }
          ],
          "scattergl": [
           {
            "marker": {
             "colorbar": {
              "outlinewidth": 0,
              "ticks": ""
             }
            },
            "type": "scattergl"
           }
          ],
          "scattermapbox": [
           {
            "marker": {
             "colorbar": {
              "outlinewidth": 0,
              "ticks": ""
             }
            },
            "type": "scattermapbox"
           }
          ],
          "scatterpolar": [
           {
            "marker": {
             "colorbar": {
              "outlinewidth": 0,
              "ticks": ""
             }
            },
            "type": "scatterpolar"
           }
          ],
          "scatterpolargl": [
           {
            "marker": {
             "colorbar": {
              "outlinewidth": 0,
              "ticks": ""
             }
            },
            "type": "scatterpolargl"
           }
          ],
          "scatterternary": [
           {
            "marker": {
             "colorbar": {
              "outlinewidth": 0,
              "ticks": ""
             }
            },
            "type": "scatterternary"
           }
          ],
          "surface": [
           {
            "colorbar": {
             "outlinewidth": 0,
             "ticks": ""
            },
            "colorscale": [
             [
              0,
              "#0d0887"
             ],
             [
              0.1111111111111111,
              "#46039f"
             ],
             [
              0.2222222222222222,
              "#7201a8"
             ],
             [
              0.3333333333333333,
              "#9c179e"
             ],
             [
              0.4444444444444444,
              "#bd3786"
             ],
             [
              0.5555555555555556,
              "#d8576b"
             ],
             [
              0.6666666666666666,
              "#ed7953"
             ],
             [
              0.7777777777777778,
              "#fb9f3a"
             ],
             [
              0.8888888888888888,
              "#fdca26"
             ],
             [
              1,
              "#f0f921"
             ]
            ],
            "type": "surface"
           }
          ],
          "table": [
           {
            "cells": {
             "fill": {
              "color": "#EBF0F8"
             },
             "line": {
              "color": "white"
             }
            },
            "header": {
             "fill": {
              "color": "#C8D4E3"
             },
             "line": {
              "color": "white"
             }
            },
            "type": "table"
           }
          ]
         },
         "layout": {
          "annotationdefaults": {
           "arrowcolor": "#2a3f5f",
           "arrowhead": 0,
           "arrowwidth": 1
          },
          "autotypenumbers": "strict",
          "coloraxis": {
           "colorbar": {
            "outlinewidth": 0,
            "ticks": ""
           }
          },
          "colorscale": {
           "diverging": [
            [
             0,
             "#8e0152"
            ],
            [
             0.1,
             "#c51b7d"
            ],
            [
             0.2,
             "#de77ae"
            ],
            [
             0.3,
             "#f1b6da"
            ],
            [
             0.4,
             "#fde0ef"
            ],
            [
             0.5,
             "#f7f7f7"
            ],
            [
             0.6,
             "#e6f5d0"
            ],
            [
             0.7,
             "#b8e186"
            ],
            [
             0.8,
             "#7fbc41"
            ],
            [
             0.9,
             "#4d9221"
            ],
            [
             1,
             "#276419"
            ]
           ],
           "sequential": [
            [
             0,
             "#0d0887"
            ],
            [
             0.1111111111111111,
             "#46039f"
            ],
            [
             0.2222222222222222,
             "#7201a8"
            ],
            [
             0.3333333333333333,
             "#9c179e"
            ],
            [
             0.4444444444444444,
             "#bd3786"
            ],
            [
             0.5555555555555556,
             "#d8576b"
            ],
            [
             0.6666666666666666,
             "#ed7953"
            ],
            [
             0.7777777777777778,
             "#fb9f3a"
            ],
            [
             0.8888888888888888,
             "#fdca26"
            ],
            [
             1,
             "#f0f921"
            ]
           ],
           "sequentialminus": [
            [
             0,
             "#0d0887"
            ],
            [
             0.1111111111111111,
             "#46039f"
            ],
            [
             0.2222222222222222,
             "#7201a8"
            ],
            [
             0.3333333333333333,
             "#9c179e"
            ],
            [
             0.4444444444444444,
             "#bd3786"
            ],
            [
             0.5555555555555556,
             "#d8576b"
            ],
            [
             0.6666666666666666,
             "#ed7953"
            ],
            [
             0.7777777777777778,
             "#fb9f3a"
            ],
            [
             0.8888888888888888,
             "#fdca26"
            ],
            [
             1,
             "#f0f921"
            ]
           ]
          },
          "colorway": [
           "#636efa",
           "#EF553B",
           "#00cc96",
           "#ab63fa",
           "#FFA15A",
           "#19d3f3",
           "#FF6692",
           "#B6E880",
           "#FF97FF",
           "#FECB52"
          ],
          "font": {
           "color": "#2a3f5f"
          },
          "geo": {
           "bgcolor": "white",
           "lakecolor": "white",
           "landcolor": "#E5ECF6",
           "showlakes": true,
           "showland": true,
           "subunitcolor": "white"
          },
          "hoverlabel": {
           "align": "left"
          },
          "hovermode": "closest",
          "mapbox": {
           "style": "light"
          },
          "paper_bgcolor": "white",
          "plot_bgcolor": "#E5ECF6",
          "polar": {
           "angularaxis": {
            "gridcolor": "white",
            "linecolor": "white",
            "ticks": ""
           },
           "bgcolor": "#E5ECF6",
           "radialaxis": {
            "gridcolor": "white",
            "linecolor": "white",
            "ticks": ""
           }
          },
          "scene": {
           "xaxis": {
            "backgroundcolor": "#E5ECF6",
            "gridcolor": "white",
            "gridwidth": 2,
            "linecolor": "white",
            "showbackground": true,
            "ticks": "",
            "zerolinecolor": "white"
           },
           "yaxis": {
            "backgroundcolor": "#E5ECF6",
            "gridcolor": "white",
            "gridwidth": 2,
            "linecolor": "white",
            "showbackground": true,
            "ticks": "",
            "zerolinecolor": "white"
           },
           "zaxis": {
            "backgroundcolor": "#E5ECF6",
            "gridcolor": "white",
            "gridwidth": 2,
            "linecolor": "white",
            "showbackground": true,
            "ticks": "",
            "zerolinecolor": "white"
           }
          },
          "shapedefaults": {
           "line": {
            "color": "#2a3f5f"
           }
          },
          "ternary": {
           "aaxis": {
            "gridcolor": "white",
            "linecolor": "white",
            "ticks": ""
           },
           "baxis": {
            "gridcolor": "white",
            "linecolor": "white",
            "ticks": ""
           },
           "bgcolor": "#E5ECF6",
           "caxis": {
            "gridcolor": "white",
            "linecolor": "white",
            "ticks": ""
           }
          },
          "title": {
           "x": 0.05
          },
          "xaxis": {
           "automargin": true,
           "gridcolor": "white",
           "linecolor": "white",
           "ticks": "",
           "title": {
            "standoff": 15
           },
           "zerolinecolor": "white",
           "zerolinewidth": 2
          },
          "yaxis": {
           "automargin": true,
           "gridcolor": "white",
           "linecolor": "white",
           "ticks": "",
           "title": {
            "standoff": 15
           },
           "zerolinecolor": "white",
           "zerolinewidth": 2
          }
         }
        },
        "title": {
         "font": {
          "color": "#4D5663"
         }
        },
        "xaxis": {
         "gridcolor": "#E1E5ED",
         "showgrid": true,
         "tickfont": {
          "color": "#4D5663"
         },
         "title": {
          "font": {
           "color": "#4D5663"
          },
          "text": ""
         },
         "zerolinecolor": "#E1E5ED"
        },
        "yaxis": {
         "gridcolor": "#E1E5ED",
         "showgrid": true,
         "tickfont": {
          "color": "#4D5663"
         },
         "title": {
          "font": {
           "color": "#4D5663"
          },
          "text": ""
         },
         "zerolinecolor": "#E1E5ED"
        }
       }
      },
      "text/html": [
       "<div>                            <div id=\"4e21fdd9-9876-4b65-9ee5-fc2712b5437d\" class=\"plotly-graph-div\" style=\"height:525px; width:100%;\"></div>            <script type=\"text/javascript\">                require([\"plotly\"], function(Plotly) {                    window.PLOTLYENV=window.PLOTLYENV || {};\n",
       "                    window.PLOTLYENV.BASE_URL='https://plot.ly';                                    if (document.getElementById(\"4e21fdd9-9876-4b65-9ee5-fc2712b5437d\")) {                    Plotly.newPlot(                        \"4e21fdd9-9876-4b65-9ee5-fc2712b5437d\",                        [{\"colorscale\": [[0.0, \"rgb(255, 153, 51)\"], [0.1111111111111111, \"rgb(55, 128, 191)\"], [0.2222222222222222, \"rgb(50, 171, 96)\"], [0.3333333333333333, \"rgb(128, 0, 128)\"], [0.4444444444444444, \"rgb(219, 64, 82)\"], [0.5555555555555556, \"rgb(0, 128, 128)\"], [0.6666666666666666, \"rgb(255, 255, 51)\"], [0.7777777777777778, \"rgb(128, 128, 0)\"], [0.8888888888888888, \"rgb(251, 128, 114)\"], [1.0, \"rgb(128, 177, 211)\"]], \"type\": \"surface\", \"x\": [0, 1, 2, 3, 4], \"y\": [\"x\", \"y\", \"z\"], \"z\": [[1, 2, 3, 4, 5], [10, 20, 30, 20, 10], [500, 400, 300, 200, 100]]}],                        {\"legend\": {\"bgcolor\": \"#F5F6F9\", \"font\": {\"color\": \"#4D5663\"}}, \"paper_bgcolor\": \"#F5F6F9\", \"plot_bgcolor\": \"#F5F6F9\", \"template\": {\"data\": {\"bar\": [{\"error_x\": {\"color\": \"#2a3f5f\"}, \"error_y\": {\"color\": \"#2a3f5f\"}, \"marker\": {\"line\": {\"color\": \"#E5ECF6\", \"width\": 0.5}}, \"type\": \"bar\"}], \"barpolar\": [{\"marker\": {\"line\": {\"color\": \"#E5ECF6\", \"width\": 0.5}}, \"type\": \"barpolar\"}], \"carpet\": [{\"aaxis\": {\"endlinecolor\": \"#2a3f5f\", \"gridcolor\": \"white\", \"linecolor\": \"white\", \"minorgridcolor\": \"white\", \"startlinecolor\": \"#2a3f5f\"}, \"baxis\": {\"endlinecolor\": \"#2a3f5f\", \"gridcolor\": \"white\", \"linecolor\": \"white\", \"minorgridcolor\": \"white\", \"startlinecolor\": \"#2a3f5f\"}, \"type\": \"carpet\"}], \"choropleth\": [{\"colorbar\": {\"outlinewidth\": 0, \"ticks\": \"\"}, \"type\": \"choropleth\"}], \"contour\": [{\"colorbar\": {\"outlinewidth\": 0, \"ticks\": \"\"}, \"colorscale\": [[0.0, \"#0d0887\"], [0.1111111111111111, \"#46039f\"], [0.2222222222222222, \"#7201a8\"], [0.3333333333333333, \"#9c179e\"], [0.4444444444444444, \"#bd3786\"], [0.5555555555555556, \"#d8576b\"], [0.6666666666666666, \"#ed7953\"], [0.7777777777777778, \"#fb9f3a\"], [0.8888888888888888, \"#fdca26\"], [1.0, \"#f0f921\"]], \"type\": \"contour\"}], \"contourcarpet\": [{\"colorbar\": {\"outlinewidth\": 0, \"ticks\": \"\"}, \"type\": \"contourcarpet\"}], \"heatmap\": [{\"colorbar\": {\"outlinewidth\": 0, \"ticks\": \"\"}, \"colorscale\": [[0.0, \"#0d0887\"], [0.1111111111111111, \"#46039f\"], [0.2222222222222222, \"#7201a8\"], [0.3333333333333333, \"#9c179e\"], [0.4444444444444444, \"#bd3786\"], [0.5555555555555556, \"#d8576b\"], [0.6666666666666666, \"#ed7953\"], [0.7777777777777778, \"#fb9f3a\"], [0.8888888888888888, \"#fdca26\"], [1.0, \"#f0f921\"]], \"type\": \"heatmap\"}], \"heatmapgl\": [{\"colorbar\": {\"outlinewidth\": 0, \"ticks\": \"\"}, \"colorscale\": [[0.0, \"#0d0887\"], [0.1111111111111111, \"#46039f\"], [0.2222222222222222, \"#7201a8\"], [0.3333333333333333, \"#9c179e\"], [0.4444444444444444, \"#bd3786\"], [0.5555555555555556, \"#d8576b\"], [0.6666666666666666, \"#ed7953\"], [0.7777777777777778, \"#fb9f3a\"], [0.8888888888888888, \"#fdca26\"], [1.0, \"#f0f921\"]], \"type\": \"heatmapgl\"}], \"histogram\": [{\"marker\": {\"colorbar\": {\"outlinewidth\": 0, \"ticks\": \"\"}}, \"type\": \"histogram\"}], \"histogram2d\": [{\"colorbar\": {\"outlinewidth\": 0, \"ticks\": \"\"}, \"colorscale\": [[0.0, \"#0d0887\"], [0.1111111111111111, \"#46039f\"], [0.2222222222222222, \"#7201a8\"], [0.3333333333333333, \"#9c179e\"], [0.4444444444444444, \"#bd3786\"], [0.5555555555555556, \"#d8576b\"], [0.6666666666666666, \"#ed7953\"], [0.7777777777777778, \"#fb9f3a\"], [0.8888888888888888, \"#fdca26\"], [1.0, \"#f0f921\"]], \"type\": \"histogram2d\"}], \"histogram2dcontour\": [{\"colorbar\": {\"outlinewidth\": 0, \"ticks\": \"\"}, \"colorscale\": [[0.0, \"#0d0887\"], [0.1111111111111111, \"#46039f\"], [0.2222222222222222, \"#7201a8\"], [0.3333333333333333, \"#9c179e\"], [0.4444444444444444, \"#bd3786\"], [0.5555555555555556, \"#d8576b\"], [0.6666666666666666, \"#ed7953\"], [0.7777777777777778, \"#fb9f3a\"], [0.8888888888888888, \"#fdca26\"], [1.0, \"#f0f921\"]], \"type\": \"histogram2dcontour\"}], \"mesh3d\": [{\"colorbar\": {\"outlinewidth\": 0, \"ticks\": \"\"}, \"type\": \"mesh3d\"}], \"parcoords\": [{\"line\": {\"colorbar\": {\"outlinewidth\": 0, \"ticks\": \"\"}}, \"type\": \"parcoords\"}], \"pie\": [{\"automargin\": true, \"type\": \"pie\"}], \"scatter\": [{\"marker\": {\"colorbar\": {\"outlinewidth\": 0, \"ticks\": \"\"}}, \"type\": \"scatter\"}], \"scatter3d\": [{\"line\": {\"colorbar\": {\"outlinewidth\": 0, \"ticks\": \"\"}}, \"marker\": {\"colorbar\": {\"outlinewidth\": 0, \"ticks\": \"\"}}, \"type\": \"scatter3d\"}], \"scattercarpet\": [{\"marker\": {\"colorbar\": {\"outlinewidth\": 0, \"ticks\": \"\"}}, \"type\": \"scattercarpet\"}], \"scattergeo\": [{\"marker\": {\"colorbar\": {\"outlinewidth\": 0, \"ticks\": \"\"}}, \"type\": \"scattergeo\"}], \"scattergl\": [{\"marker\": {\"colorbar\": {\"outlinewidth\": 0, \"ticks\": \"\"}}, \"type\": \"scattergl\"}], \"scattermapbox\": [{\"marker\": {\"colorbar\": {\"outlinewidth\": 0, \"ticks\": \"\"}}, \"type\": \"scattermapbox\"}], \"scatterpolar\": [{\"marker\": {\"colorbar\": {\"outlinewidth\": 0, \"ticks\": \"\"}}, \"type\": \"scatterpolar\"}], \"scatterpolargl\": [{\"marker\": {\"colorbar\": {\"outlinewidth\": 0, \"ticks\": \"\"}}, \"type\": \"scatterpolargl\"}], \"scatterternary\": [{\"marker\": {\"colorbar\": {\"outlinewidth\": 0, \"ticks\": \"\"}}, \"type\": \"scatterternary\"}], \"surface\": [{\"colorbar\": {\"outlinewidth\": 0, \"ticks\": \"\"}, \"colorscale\": [[0.0, \"#0d0887\"], [0.1111111111111111, \"#46039f\"], [0.2222222222222222, \"#7201a8\"], [0.3333333333333333, \"#9c179e\"], [0.4444444444444444, \"#bd3786\"], [0.5555555555555556, \"#d8576b\"], [0.6666666666666666, \"#ed7953\"], [0.7777777777777778, \"#fb9f3a\"], [0.8888888888888888, \"#fdca26\"], [1.0, \"#f0f921\"]], \"type\": \"surface\"}], \"table\": [{\"cells\": {\"fill\": {\"color\": \"#EBF0F8\"}, \"line\": {\"color\": \"white\"}}, \"header\": {\"fill\": {\"color\": \"#C8D4E3\"}, \"line\": {\"color\": \"white\"}}, \"type\": \"table\"}]}, \"layout\": {\"annotationdefaults\": {\"arrowcolor\": \"#2a3f5f\", \"arrowhead\": 0, \"arrowwidth\": 1}, \"autotypenumbers\": \"strict\", \"coloraxis\": {\"colorbar\": {\"outlinewidth\": 0, \"ticks\": \"\"}}, \"colorscale\": {\"diverging\": [[0, \"#8e0152\"], [0.1, \"#c51b7d\"], [0.2, \"#de77ae\"], [0.3, \"#f1b6da\"], [0.4, \"#fde0ef\"], [0.5, \"#f7f7f7\"], [0.6, \"#e6f5d0\"], [0.7, \"#b8e186\"], [0.8, \"#7fbc41\"], [0.9, \"#4d9221\"], [1, \"#276419\"]], \"sequential\": [[0.0, \"#0d0887\"], [0.1111111111111111, \"#46039f\"], [0.2222222222222222, \"#7201a8\"], [0.3333333333333333, \"#9c179e\"], [0.4444444444444444, \"#bd3786\"], [0.5555555555555556, \"#d8576b\"], [0.6666666666666666, \"#ed7953\"], [0.7777777777777778, \"#fb9f3a\"], [0.8888888888888888, \"#fdca26\"], [1.0, \"#f0f921\"]], \"sequentialminus\": [[0.0, \"#0d0887\"], [0.1111111111111111, \"#46039f\"], [0.2222222222222222, \"#7201a8\"], [0.3333333333333333, \"#9c179e\"], [0.4444444444444444, \"#bd3786\"], [0.5555555555555556, \"#d8576b\"], [0.6666666666666666, \"#ed7953\"], [0.7777777777777778, \"#fb9f3a\"], [0.8888888888888888, \"#fdca26\"], [1.0, \"#f0f921\"]]}, \"colorway\": [\"#636efa\", \"#EF553B\", \"#00cc96\", \"#ab63fa\", \"#FFA15A\", \"#19d3f3\", \"#FF6692\", \"#B6E880\", \"#FF97FF\", \"#FECB52\"], \"font\": {\"color\": \"#2a3f5f\"}, \"geo\": {\"bgcolor\": \"white\", \"lakecolor\": \"white\", \"landcolor\": \"#E5ECF6\", \"showlakes\": true, \"showland\": true, \"subunitcolor\": \"white\"}, \"hoverlabel\": {\"align\": \"left\"}, \"hovermode\": \"closest\", \"mapbox\": {\"style\": \"light\"}, \"paper_bgcolor\": \"white\", \"plot_bgcolor\": \"#E5ECF6\", \"polar\": {\"angularaxis\": {\"gridcolor\": \"white\", \"linecolor\": \"white\", \"ticks\": \"\"}, \"bgcolor\": \"#E5ECF6\", \"radialaxis\": {\"gridcolor\": \"white\", \"linecolor\": \"white\", \"ticks\": \"\"}}, \"scene\": {\"xaxis\": {\"backgroundcolor\": \"#E5ECF6\", \"gridcolor\": \"white\", \"gridwidth\": 2, \"linecolor\": \"white\", \"showbackground\": true, \"ticks\": \"\", \"zerolinecolor\": \"white\"}, \"yaxis\": {\"backgroundcolor\": \"#E5ECF6\", \"gridcolor\": \"white\", \"gridwidth\": 2, \"linecolor\": \"white\", \"showbackground\": true, \"ticks\": \"\", \"zerolinecolor\": \"white\"}, \"zaxis\": {\"backgroundcolor\": \"#E5ECF6\", \"gridcolor\": \"white\", \"gridwidth\": 2, \"linecolor\": \"white\", \"showbackground\": true, \"ticks\": \"\", \"zerolinecolor\": \"white\"}}, \"shapedefaults\": {\"line\": {\"color\": \"#2a3f5f\"}}, \"ternary\": {\"aaxis\": {\"gridcolor\": \"white\", \"linecolor\": \"white\", \"ticks\": \"\"}, \"baxis\": {\"gridcolor\": \"white\", \"linecolor\": \"white\", \"ticks\": \"\"}, \"bgcolor\": \"#E5ECF6\", \"caxis\": {\"gridcolor\": \"white\", \"linecolor\": \"white\", \"ticks\": \"\"}}, \"title\": {\"x\": 0.05}, \"xaxis\": {\"automargin\": true, \"gridcolor\": \"white\", \"linecolor\": \"white\", \"ticks\": \"\", \"title\": {\"standoff\": 15}, \"zerolinecolor\": \"white\", \"zerolinewidth\": 2}, \"yaxis\": {\"automargin\": true, \"gridcolor\": \"white\", \"linecolor\": \"white\", \"ticks\": \"\", \"title\": {\"standoff\": 15}, \"zerolinecolor\": \"white\", \"zerolinewidth\": 2}}}, \"title\": {\"font\": {\"color\": \"#4D5663\"}}, \"xaxis\": {\"gridcolor\": \"#E1E5ED\", \"showgrid\": true, \"tickfont\": {\"color\": \"#4D5663\"}, \"title\": {\"font\": {\"color\": \"#4D5663\"}, \"text\": \"\"}, \"zerolinecolor\": \"#E1E5ED\"}, \"yaxis\": {\"gridcolor\": \"#E1E5ED\", \"showgrid\": true, \"tickfont\": {\"color\": \"#4D5663\"}, \"title\": {\"font\": {\"color\": \"#4D5663\"}, \"text\": \"\"}, \"zerolinecolor\": \"#E1E5ED\"}},                        {\"showLink\": true, \"linkText\": \"Export to plot.ly\", \"plotlyServerURL\": \"https://plot.ly\", \"responsive\": true}                    ).then(function(){\n",
       "                            \n",
       "var gd = document.getElementById('4e21fdd9-9876-4b65-9ee5-fc2712b5437d');\n",
       "var x = new MutationObserver(function (mutations, observer) {{\n",
       "        var display = window.getComputedStyle(gd).display;\n",
       "        if (!display || display === 'none') {{\n",
       "            console.log([gd, 'removed!']);\n",
       "            Plotly.purge(gd);\n",
       "            observer.disconnect();\n",
       "        }}\n",
       "}});\n",
       "\n",
       "// Listen for the removal of the full notebook cells\n",
       "var notebookContainer = gd.closest('#notebook-container');\n",
       "if (notebookContainer) {{\n",
       "    x.observe(notebookContainer, {childList: true});\n",
       "}}\n",
       "\n",
       "// Listen for the clearing of the current output cell\n",
       "var outputEl = gd.closest('.output');\n",
       "if (outputEl) {{\n",
       "    x.observe(outputEl, {childList: true});\n",
       "}}\n",
       "\n",
       "                        })                };                });            </script>        </div>"
      ]
     },
     "metadata": {},
     "output_type": "display_data"
    }
   ],
   "source": [
    "df3.iplot(kind='surface')"
   ]
  },
  {
   "cell_type": "code",
   "execution_count": 22,
   "metadata": {},
   "outputs": [],
   "source": [
    "df4 = pd.DataFrame({'x':[1,2,3,4,5],'y':[10,20,30,20,10],'z':[1,2,3,4,5]})"
   ]
  },
  {
   "cell_type": "code",
   "execution_count": 23,
   "metadata": {},
   "outputs": [
    {
     "data": {
      "application/vnd.plotly.v1+json": {
       "config": {
        "linkText": "Export to plot.ly",
        "plotlyServerURL": "https://plot.ly",
        "showLink": true
       },
       "data": [
        {
         "colorscale": [
          [
           0,
           "rgb(165,0,38)"
          ],
          [
           0.1,
           "rgb(215,48,39)"
          ],
          [
           0.2,
           "rgb(244,109,67)"
          ],
          [
           0.3,
           "rgb(253,174,97)"
          ],
          [
           0.4,
           "rgb(254,224,144)"
          ],
          [
           0.5,
           "rgb(255,255,191)"
          ],
          [
           0.6,
           "rgb(224,243,248)"
          ],
          [
           0.7,
           "rgb(171,217,233)"
          ],
          [
           0.8,
           "rgb(116,173,209)"
          ],
          [
           0.9,
           "rgb(69,117,180)"
          ],
          [
           1,
           "rgb(49,54,149)"
          ]
         ],
         "type": "surface",
         "x": [
          0,
          1,
          2,
          3,
          4
         ],
         "y": [
          "x",
          "y",
          "z"
         ],
         "z": [
          [
           1,
           2,
           3,
           4,
           5
          ],
          [
           10,
           20,
           30,
           20,
           10
          ],
          [
           1,
           2,
           3,
           4,
           5
          ]
         ]
        }
       ],
       "layout": {
        "legend": {
         "bgcolor": "#F5F6F9",
         "font": {
          "color": "#4D5663"
         }
        },
        "paper_bgcolor": "#F5F6F9",
        "plot_bgcolor": "#F5F6F9",
        "template": {
         "data": {
          "bar": [
           {
            "error_x": {
             "color": "#2a3f5f"
            },
            "error_y": {
             "color": "#2a3f5f"
            },
            "marker": {
             "line": {
              "color": "#E5ECF6",
              "width": 0.5
             }
            },
            "type": "bar"
           }
          ],
          "barpolar": [
           {
            "marker": {
             "line": {
              "color": "#E5ECF6",
              "width": 0.5
             }
            },
            "type": "barpolar"
           }
          ],
          "carpet": [
           {
            "aaxis": {
             "endlinecolor": "#2a3f5f",
             "gridcolor": "white",
             "linecolor": "white",
             "minorgridcolor": "white",
             "startlinecolor": "#2a3f5f"
            },
            "baxis": {
             "endlinecolor": "#2a3f5f",
             "gridcolor": "white",
             "linecolor": "white",
             "minorgridcolor": "white",
             "startlinecolor": "#2a3f5f"
            },
            "type": "carpet"
           }
          ],
          "choropleth": [
           {
            "colorbar": {
             "outlinewidth": 0,
             "ticks": ""
            },
            "type": "choropleth"
           }
          ],
          "contour": [
           {
            "colorbar": {
             "outlinewidth": 0,
             "ticks": ""
            },
            "colorscale": [
             [
              0,
              "#0d0887"
             ],
             [
              0.1111111111111111,
              "#46039f"
             ],
             [
              0.2222222222222222,
              "#7201a8"
             ],
             [
              0.3333333333333333,
              "#9c179e"
             ],
             [
              0.4444444444444444,
              "#bd3786"
             ],
             [
              0.5555555555555556,
              "#d8576b"
             ],
             [
              0.6666666666666666,
              "#ed7953"
             ],
             [
              0.7777777777777778,
              "#fb9f3a"
             ],
             [
              0.8888888888888888,
              "#fdca26"
             ],
             [
              1,
              "#f0f921"
             ]
            ],
            "type": "contour"
           }
          ],
          "contourcarpet": [
           {
            "colorbar": {
             "outlinewidth": 0,
             "ticks": ""
            },
            "type": "contourcarpet"
           }
          ],
          "heatmap": [
           {
            "colorbar": {
             "outlinewidth": 0,
             "ticks": ""
            },
            "colorscale": [
             [
              0,
              "#0d0887"
             ],
             [
              0.1111111111111111,
              "#46039f"
             ],
             [
              0.2222222222222222,
              "#7201a8"
             ],
             [
              0.3333333333333333,
              "#9c179e"
             ],
             [
              0.4444444444444444,
              "#bd3786"
             ],
             [
              0.5555555555555556,
              "#d8576b"
             ],
             [
              0.6666666666666666,
              "#ed7953"
             ],
             [
              0.7777777777777778,
              "#fb9f3a"
             ],
             [
              0.8888888888888888,
              "#fdca26"
             ],
             [
              1,
              "#f0f921"
             ]
            ],
            "type": "heatmap"
           }
          ],
          "heatmapgl": [
           {
            "colorbar": {
             "outlinewidth": 0,
             "ticks": ""
            },
            "colorscale": [
             [
              0,
              "#0d0887"
             ],
             [
              0.1111111111111111,
              "#46039f"
             ],
             [
              0.2222222222222222,
              "#7201a8"
             ],
             [
              0.3333333333333333,
              "#9c179e"
             ],
             [
              0.4444444444444444,
              "#bd3786"
             ],
             [
              0.5555555555555556,
              "#d8576b"
             ],
             [
              0.6666666666666666,
              "#ed7953"
             ],
             [
              0.7777777777777778,
              "#fb9f3a"
             ],
             [
              0.8888888888888888,
              "#fdca26"
             ],
             [
              1,
              "#f0f921"
             ]
            ],
            "type": "heatmapgl"
           }
          ],
          "histogram": [
           {
            "marker": {
             "colorbar": {
              "outlinewidth": 0,
              "ticks": ""
             }
            },
            "type": "histogram"
           }
          ],
          "histogram2d": [
           {
            "colorbar": {
             "outlinewidth": 0,
             "ticks": ""
            },
            "colorscale": [
             [
              0,
              "#0d0887"
             ],
             [
              0.1111111111111111,
              "#46039f"
             ],
             [
              0.2222222222222222,
              "#7201a8"
             ],
             [
              0.3333333333333333,
              "#9c179e"
             ],
             [
              0.4444444444444444,
              "#bd3786"
             ],
             [
              0.5555555555555556,
              "#d8576b"
             ],
             [
              0.6666666666666666,
              "#ed7953"
             ],
             [
              0.7777777777777778,
              "#fb9f3a"
             ],
             [
              0.8888888888888888,
              "#fdca26"
             ],
             [
              1,
              "#f0f921"
             ]
            ],
            "type": "histogram2d"
           }
          ],
          "histogram2dcontour": [
           {
            "colorbar": {
             "outlinewidth": 0,
             "ticks": ""
            },
            "colorscale": [
             [
              0,
              "#0d0887"
             ],
             [
              0.1111111111111111,
              "#46039f"
             ],
             [
              0.2222222222222222,
              "#7201a8"
             ],
             [
              0.3333333333333333,
              "#9c179e"
             ],
             [
              0.4444444444444444,
              "#bd3786"
             ],
             [
              0.5555555555555556,
              "#d8576b"
             ],
             [
              0.6666666666666666,
              "#ed7953"
             ],
             [
              0.7777777777777778,
              "#fb9f3a"
             ],
             [
              0.8888888888888888,
              "#fdca26"
             ],
             [
              1,
              "#f0f921"
             ]
            ],
            "type": "histogram2dcontour"
           }
          ],
          "mesh3d": [
           {
            "colorbar": {
             "outlinewidth": 0,
             "ticks": ""
            },
            "type": "mesh3d"
           }
          ],
          "parcoords": [
           {
            "line": {
             "colorbar": {
              "outlinewidth": 0,
              "ticks": ""
             }
            },
            "type": "parcoords"
           }
          ],
          "pie": [
           {
            "automargin": true,
            "type": "pie"
           }
          ],
          "scatter": [
           {
            "marker": {
             "colorbar": {
              "outlinewidth": 0,
              "ticks": ""
             }
            },
            "type": "scatter"
           }
          ],
          "scatter3d": [
           {
            "line": {
             "colorbar": {
              "outlinewidth": 0,
              "ticks": ""
             }
            },
            "marker": {
             "colorbar": {
              "outlinewidth": 0,
              "ticks": ""
             }
            },
            "type": "scatter3d"
           }
          ],
          "scattercarpet": [
           {
            "marker": {
             "colorbar": {
              "outlinewidth": 0,
              "ticks": ""
             }
            },
            "type": "scattercarpet"
           }
          ],
          "scattergeo": [
           {
            "marker": {
             "colorbar": {
              "outlinewidth": 0,
              "ticks": ""
             }
            },
            "type": "scattergeo"
           }
          ],
          "scattergl": [
           {
            "marker": {
             "colorbar": {
              "outlinewidth": 0,
              "ticks": ""
             }
            },
            "type": "scattergl"
           }
          ],
          "scattermapbox": [
           {
            "marker": {
             "colorbar": {
              "outlinewidth": 0,
              "ticks": ""
             }
            },
            "type": "scattermapbox"
           }
          ],
          "scatterpolar": [
           {
            "marker": {
             "colorbar": {
              "outlinewidth": 0,
              "ticks": ""
             }
            },
            "type": "scatterpolar"
           }
          ],
          "scatterpolargl": [
           {
            "marker": {
             "colorbar": {
              "outlinewidth": 0,
              "ticks": ""
             }
            },
            "type": "scatterpolargl"
           }
          ],
          "scatterternary": [
           {
            "marker": {
             "colorbar": {
              "outlinewidth": 0,
              "ticks": ""
             }
            },
            "type": "scatterternary"
           }
          ],
          "surface": [
           {
            "colorbar": {
             "outlinewidth": 0,
             "ticks": ""
            },
            "colorscale": [
             [
              0,
              "#0d0887"
             ],
             [
              0.1111111111111111,
              "#46039f"
             ],
             [
              0.2222222222222222,
              "#7201a8"
             ],
             [
              0.3333333333333333,
              "#9c179e"
             ],
             [
              0.4444444444444444,
              "#bd3786"
             ],
             [
              0.5555555555555556,
              "#d8576b"
             ],
             [
              0.6666666666666666,
              "#ed7953"
             ],
             [
              0.7777777777777778,
              "#fb9f3a"
             ],
             [
              0.8888888888888888,
              "#fdca26"
             ],
             [
              1,
              "#f0f921"
             ]
            ],
            "type": "surface"
           }
          ],
          "table": [
           {
            "cells": {
             "fill": {
              "color": "#EBF0F8"
             },
             "line": {
              "color": "white"
             }
            },
            "header": {
             "fill": {
              "color": "#C8D4E3"
             },
             "line": {
              "color": "white"
             }
            },
            "type": "table"
           }
          ]
         },
         "layout": {
          "annotationdefaults": {
           "arrowcolor": "#2a3f5f",
           "arrowhead": 0,
           "arrowwidth": 1
          },
          "autotypenumbers": "strict",
          "coloraxis": {
           "colorbar": {
            "outlinewidth": 0,
            "ticks": ""
           }
          },
          "colorscale": {
           "diverging": [
            [
             0,
             "#8e0152"
            ],
            [
             0.1,
             "#c51b7d"
            ],
            [
             0.2,
             "#de77ae"
            ],
            [
             0.3,
             "#f1b6da"
            ],
            [
             0.4,
             "#fde0ef"
            ],
            [
             0.5,
             "#f7f7f7"
            ],
            [
             0.6,
             "#e6f5d0"
            ],
            [
             0.7,
             "#b8e186"
            ],
            [
             0.8,
             "#7fbc41"
            ],
            [
             0.9,
             "#4d9221"
            ],
            [
             1,
             "#276419"
            ]
           ],
           "sequential": [
            [
             0,
             "#0d0887"
            ],
            [
             0.1111111111111111,
             "#46039f"
            ],
            [
             0.2222222222222222,
             "#7201a8"
            ],
            [
             0.3333333333333333,
             "#9c179e"
            ],
            [
             0.4444444444444444,
             "#bd3786"
            ],
            [
             0.5555555555555556,
             "#d8576b"
            ],
            [
             0.6666666666666666,
             "#ed7953"
            ],
            [
             0.7777777777777778,
             "#fb9f3a"
            ],
            [
             0.8888888888888888,
             "#fdca26"
            ],
            [
             1,
             "#f0f921"
            ]
           ],
           "sequentialminus": [
            [
             0,
             "#0d0887"
            ],
            [
             0.1111111111111111,
             "#46039f"
            ],
            [
             0.2222222222222222,
             "#7201a8"
            ],
            [
             0.3333333333333333,
             "#9c179e"
            ],
            [
             0.4444444444444444,
             "#bd3786"
            ],
            [
             0.5555555555555556,
             "#d8576b"
            ],
            [
             0.6666666666666666,
             "#ed7953"
            ],
            [
             0.7777777777777778,
             "#fb9f3a"
            ],
            [
             0.8888888888888888,
             "#fdca26"
            ],
            [
             1,
             "#f0f921"
            ]
           ]
          },
          "colorway": [
           "#636efa",
           "#EF553B",
           "#00cc96",
           "#ab63fa",
           "#FFA15A",
           "#19d3f3",
           "#FF6692",
           "#B6E880",
           "#FF97FF",
           "#FECB52"
          ],
          "font": {
           "color": "#2a3f5f"
          },
          "geo": {
           "bgcolor": "white",
           "lakecolor": "white",
           "landcolor": "#E5ECF6",
           "showlakes": true,
           "showland": true,
           "subunitcolor": "white"
          },
          "hoverlabel": {
           "align": "left"
          },
          "hovermode": "closest",
          "mapbox": {
           "style": "light"
          },
          "paper_bgcolor": "white",
          "plot_bgcolor": "#E5ECF6",
          "polar": {
           "angularaxis": {
            "gridcolor": "white",
            "linecolor": "white",
            "ticks": ""
           },
           "bgcolor": "#E5ECF6",
           "radialaxis": {
            "gridcolor": "white",
            "linecolor": "white",
            "ticks": ""
           }
          },
          "scene": {
           "xaxis": {
            "backgroundcolor": "#E5ECF6",
            "gridcolor": "white",
            "gridwidth": 2,
            "linecolor": "white",
            "showbackground": true,
            "ticks": "",
            "zerolinecolor": "white"
           },
           "yaxis": {
            "backgroundcolor": "#E5ECF6",
            "gridcolor": "white",
            "gridwidth": 2,
            "linecolor": "white",
            "showbackground": true,
            "ticks": "",
            "zerolinecolor": "white"
           },
           "zaxis": {
            "backgroundcolor": "#E5ECF6",
            "gridcolor": "white",
            "gridwidth": 2,
            "linecolor": "white",
            "showbackground": true,
            "ticks": "",
            "zerolinecolor": "white"
           }
          },
          "shapedefaults": {
           "line": {
            "color": "#2a3f5f"
           }
          },
          "ternary": {
           "aaxis": {
            "gridcolor": "white",
            "linecolor": "white",
            "ticks": ""
           },
           "baxis": {
            "gridcolor": "white",
            "linecolor": "white",
            "ticks": ""
           },
           "bgcolor": "#E5ECF6",
           "caxis": {
            "gridcolor": "white",
            "linecolor": "white",
            "ticks": ""
           }
          },
          "title": {
           "x": 0.05
          },
          "xaxis": {
           "automargin": true,
           "gridcolor": "white",
           "linecolor": "white",
           "ticks": "",
           "title": {
            "standoff": 15
           },
           "zerolinecolor": "white",
           "zerolinewidth": 2
          },
          "yaxis": {
           "automargin": true,
           "gridcolor": "white",
           "linecolor": "white",
           "ticks": "",
           "title": {
            "standoff": 15
           },
           "zerolinecolor": "white",
           "zerolinewidth": 2
          }
         }
        },
        "title": {
         "font": {
          "color": "#4D5663"
         }
        },
        "xaxis": {
         "gridcolor": "#E1E5ED",
         "showgrid": true,
         "tickfont": {
          "color": "#4D5663"
         },
         "title": {
          "font": {
           "color": "#4D5663"
          },
          "text": ""
         },
         "zerolinecolor": "#E1E5ED"
        },
        "yaxis": {
         "gridcolor": "#E1E5ED",
         "showgrid": true,
         "tickfont": {
          "color": "#4D5663"
         },
         "title": {
          "font": {
           "color": "#4D5663"
          },
          "text": ""
         },
         "zerolinecolor": "#E1E5ED"
        }
       }
      },
      "text/html": [
       "<div>                            <div id=\"15f40922-1824-414a-95e6-b3737c5cb737\" class=\"plotly-graph-div\" style=\"height:525px; width:100%;\"></div>            <script type=\"text/javascript\">                require([\"plotly\"], function(Plotly) {                    window.PLOTLYENV=window.PLOTLYENV || {};\n",
       "                    window.PLOTLYENV.BASE_URL='https://plot.ly';                                    if (document.getElementById(\"15f40922-1824-414a-95e6-b3737c5cb737\")) {                    Plotly.newPlot(                        \"15f40922-1824-414a-95e6-b3737c5cb737\",                        [{\"colorscale\": [[0.0, \"rgb(165,0,38)\"], [0.1, \"rgb(215,48,39)\"], [0.2, \"rgb(244,109,67)\"], [0.3, \"rgb(253,174,97)\"], [0.4, \"rgb(254,224,144)\"], [0.5, \"rgb(255,255,191)\"], [0.6, \"rgb(224,243,248)\"], [0.7, \"rgb(171,217,233)\"], [0.8, \"rgb(116,173,209)\"], [0.9, \"rgb(69,117,180)\"], [1.0, \"rgb(49,54,149)\"]], \"type\": \"surface\", \"x\": [0, 1, 2, 3, 4], \"y\": [\"x\", \"y\", \"z\"], \"z\": [[1, 2, 3, 4, 5], [10, 20, 30, 20, 10], [1, 2, 3, 4, 5]]}],                        {\"legend\": {\"bgcolor\": \"#F5F6F9\", \"font\": {\"color\": \"#4D5663\"}}, \"paper_bgcolor\": \"#F5F6F9\", \"plot_bgcolor\": \"#F5F6F9\", \"template\": {\"data\": {\"bar\": [{\"error_x\": {\"color\": \"#2a3f5f\"}, \"error_y\": {\"color\": \"#2a3f5f\"}, \"marker\": {\"line\": {\"color\": \"#E5ECF6\", \"width\": 0.5}}, \"type\": \"bar\"}], \"barpolar\": [{\"marker\": {\"line\": {\"color\": \"#E5ECF6\", \"width\": 0.5}}, \"type\": \"barpolar\"}], \"carpet\": [{\"aaxis\": {\"endlinecolor\": \"#2a3f5f\", \"gridcolor\": \"white\", \"linecolor\": \"white\", \"minorgridcolor\": \"white\", \"startlinecolor\": \"#2a3f5f\"}, \"baxis\": {\"endlinecolor\": \"#2a3f5f\", \"gridcolor\": \"white\", \"linecolor\": \"white\", \"minorgridcolor\": \"white\", \"startlinecolor\": \"#2a3f5f\"}, \"type\": \"carpet\"}], \"choropleth\": [{\"colorbar\": {\"outlinewidth\": 0, \"ticks\": \"\"}, \"type\": \"choropleth\"}], \"contour\": [{\"colorbar\": {\"outlinewidth\": 0, \"ticks\": \"\"}, \"colorscale\": [[0.0, \"#0d0887\"], [0.1111111111111111, \"#46039f\"], [0.2222222222222222, \"#7201a8\"], [0.3333333333333333, \"#9c179e\"], [0.4444444444444444, \"#bd3786\"], [0.5555555555555556, \"#d8576b\"], [0.6666666666666666, \"#ed7953\"], [0.7777777777777778, \"#fb9f3a\"], [0.8888888888888888, \"#fdca26\"], [1.0, \"#f0f921\"]], \"type\": \"contour\"}], \"contourcarpet\": [{\"colorbar\": {\"outlinewidth\": 0, \"ticks\": \"\"}, \"type\": \"contourcarpet\"}], \"heatmap\": [{\"colorbar\": {\"outlinewidth\": 0, \"ticks\": \"\"}, \"colorscale\": [[0.0, \"#0d0887\"], [0.1111111111111111, \"#46039f\"], [0.2222222222222222, \"#7201a8\"], [0.3333333333333333, \"#9c179e\"], [0.4444444444444444, \"#bd3786\"], [0.5555555555555556, \"#d8576b\"], [0.6666666666666666, \"#ed7953\"], [0.7777777777777778, \"#fb9f3a\"], [0.8888888888888888, \"#fdca26\"], [1.0, \"#f0f921\"]], \"type\": \"heatmap\"}], \"heatmapgl\": [{\"colorbar\": {\"outlinewidth\": 0, \"ticks\": \"\"}, \"colorscale\": [[0.0, \"#0d0887\"], [0.1111111111111111, \"#46039f\"], [0.2222222222222222, \"#7201a8\"], [0.3333333333333333, \"#9c179e\"], [0.4444444444444444, \"#bd3786\"], [0.5555555555555556, \"#d8576b\"], [0.6666666666666666, \"#ed7953\"], [0.7777777777777778, \"#fb9f3a\"], [0.8888888888888888, \"#fdca26\"], [1.0, \"#f0f921\"]], \"type\": \"heatmapgl\"}], \"histogram\": [{\"marker\": {\"colorbar\": {\"outlinewidth\": 0, \"ticks\": \"\"}}, \"type\": \"histogram\"}], \"histogram2d\": [{\"colorbar\": {\"outlinewidth\": 0, \"ticks\": \"\"}, \"colorscale\": [[0.0, \"#0d0887\"], [0.1111111111111111, \"#46039f\"], [0.2222222222222222, \"#7201a8\"], [0.3333333333333333, \"#9c179e\"], [0.4444444444444444, \"#bd3786\"], [0.5555555555555556, \"#d8576b\"], [0.6666666666666666, \"#ed7953\"], [0.7777777777777778, \"#fb9f3a\"], [0.8888888888888888, \"#fdca26\"], [1.0, \"#f0f921\"]], \"type\": \"histogram2d\"}], \"histogram2dcontour\": [{\"colorbar\": {\"outlinewidth\": 0, \"ticks\": \"\"}, \"colorscale\": [[0.0, \"#0d0887\"], [0.1111111111111111, \"#46039f\"], [0.2222222222222222, \"#7201a8\"], [0.3333333333333333, \"#9c179e\"], [0.4444444444444444, \"#bd3786\"], [0.5555555555555556, \"#d8576b\"], [0.6666666666666666, \"#ed7953\"], [0.7777777777777778, \"#fb9f3a\"], [0.8888888888888888, \"#fdca26\"], [1.0, \"#f0f921\"]], \"type\": \"histogram2dcontour\"}], \"mesh3d\": [{\"colorbar\": {\"outlinewidth\": 0, \"ticks\": \"\"}, \"type\": \"mesh3d\"}], \"parcoords\": [{\"line\": {\"colorbar\": {\"outlinewidth\": 0, \"ticks\": \"\"}}, \"type\": \"parcoords\"}], \"pie\": [{\"automargin\": true, \"type\": \"pie\"}], \"scatter\": [{\"marker\": {\"colorbar\": {\"outlinewidth\": 0, \"ticks\": \"\"}}, \"type\": \"scatter\"}], \"scatter3d\": [{\"line\": {\"colorbar\": {\"outlinewidth\": 0, \"ticks\": \"\"}}, \"marker\": {\"colorbar\": {\"outlinewidth\": 0, \"ticks\": \"\"}}, \"type\": \"scatter3d\"}], \"scattercarpet\": [{\"marker\": {\"colorbar\": {\"outlinewidth\": 0, \"ticks\": \"\"}}, \"type\": \"scattercarpet\"}], \"scattergeo\": [{\"marker\": {\"colorbar\": {\"outlinewidth\": 0, \"ticks\": \"\"}}, \"type\": \"scattergeo\"}], \"scattergl\": [{\"marker\": {\"colorbar\": {\"outlinewidth\": 0, \"ticks\": \"\"}}, \"type\": \"scattergl\"}], \"scattermapbox\": [{\"marker\": {\"colorbar\": {\"outlinewidth\": 0, \"ticks\": \"\"}}, \"type\": \"scattermapbox\"}], \"scatterpolar\": [{\"marker\": {\"colorbar\": {\"outlinewidth\": 0, \"ticks\": \"\"}}, \"type\": \"scatterpolar\"}], \"scatterpolargl\": [{\"marker\": {\"colorbar\": {\"outlinewidth\": 0, \"ticks\": \"\"}}, \"type\": \"scatterpolargl\"}], \"scatterternary\": [{\"marker\": {\"colorbar\": {\"outlinewidth\": 0, \"ticks\": \"\"}}, \"type\": \"scatterternary\"}], \"surface\": [{\"colorbar\": {\"outlinewidth\": 0, \"ticks\": \"\"}, \"colorscale\": [[0.0, \"#0d0887\"], [0.1111111111111111, \"#46039f\"], [0.2222222222222222, \"#7201a8\"], [0.3333333333333333, \"#9c179e\"], [0.4444444444444444, \"#bd3786\"], [0.5555555555555556, \"#d8576b\"], [0.6666666666666666, \"#ed7953\"], [0.7777777777777778, \"#fb9f3a\"], [0.8888888888888888, \"#fdca26\"], [1.0, \"#f0f921\"]], \"type\": \"surface\"}], \"table\": [{\"cells\": {\"fill\": {\"color\": \"#EBF0F8\"}, \"line\": {\"color\": \"white\"}}, \"header\": {\"fill\": {\"color\": \"#C8D4E3\"}, \"line\": {\"color\": \"white\"}}, \"type\": \"table\"}]}, \"layout\": {\"annotationdefaults\": {\"arrowcolor\": \"#2a3f5f\", \"arrowhead\": 0, \"arrowwidth\": 1}, \"autotypenumbers\": \"strict\", \"coloraxis\": {\"colorbar\": {\"outlinewidth\": 0, \"ticks\": \"\"}}, \"colorscale\": {\"diverging\": [[0, \"#8e0152\"], [0.1, \"#c51b7d\"], [0.2, \"#de77ae\"], [0.3, \"#f1b6da\"], [0.4, \"#fde0ef\"], [0.5, \"#f7f7f7\"], [0.6, \"#e6f5d0\"], [0.7, \"#b8e186\"], [0.8, \"#7fbc41\"], [0.9, \"#4d9221\"], [1, \"#276419\"]], \"sequential\": [[0.0, \"#0d0887\"], [0.1111111111111111, \"#46039f\"], [0.2222222222222222, \"#7201a8\"], [0.3333333333333333, \"#9c179e\"], [0.4444444444444444, \"#bd3786\"], [0.5555555555555556, \"#d8576b\"], [0.6666666666666666, \"#ed7953\"], [0.7777777777777778, \"#fb9f3a\"], [0.8888888888888888, \"#fdca26\"], [1.0, \"#f0f921\"]], \"sequentialminus\": [[0.0, \"#0d0887\"], [0.1111111111111111, \"#46039f\"], [0.2222222222222222, \"#7201a8\"], [0.3333333333333333, \"#9c179e\"], [0.4444444444444444, \"#bd3786\"], [0.5555555555555556, \"#d8576b\"], [0.6666666666666666, \"#ed7953\"], [0.7777777777777778, \"#fb9f3a\"], [0.8888888888888888, \"#fdca26\"], [1.0, \"#f0f921\"]]}, \"colorway\": [\"#636efa\", \"#EF553B\", \"#00cc96\", \"#ab63fa\", \"#FFA15A\", \"#19d3f3\", \"#FF6692\", \"#B6E880\", \"#FF97FF\", \"#FECB52\"], \"font\": {\"color\": \"#2a3f5f\"}, \"geo\": {\"bgcolor\": \"white\", \"lakecolor\": \"white\", \"landcolor\": \"#E5ECF6\", \"showlakes\": true, \"showland\": true, \"subunitcolor\": \"white\"}, \"hoverlabel\": {\"align\": \"left\"}, \"hovermode\": \"closest\", \"mapbox\": {\"style\": \"light\"}, \"paper_bgcolor\": \"white\", \"plot_bgcolor\": \"#E5ECF6\", \"polar\": {\"angularaxis\": {\"gridcolor\": \"white\", \"linecolor\": \"white\", \"ticks\": \"\"}, \"bgcolor\": \"#E5ECF6\", \"radialaxis\": {\"gridcolor\": \"white\", \"linecolor\": \"white\", \"ticks\": \"\"}}, \"scene\": {\"xaxis\": {\"backgroundcolor\": \"#E5ECF6\", \"gridcolor\": \"white\", \"gridwidth\": 2, \"linecolor\": \"white\", \"showbackground\": true, \"ticks\": \"\", \"zerolinecolor\": \"white\"}, \"yaxis\": {\"backgroundcolor\": \"#E5ECF6\", \"gridcolor\": \"white\", \"gridwidth\": 2, \"linecolor\": \"white\", \"showbackground\": true, \"ticks\": \"\", \"zerolinecolor\": \"white\"}, \"zaxis\": {\"backgroundcolor\": \"#E5ECF6\", \"gridcolor\": \"white\", \"gridwidth\": 2, \"linecolor\": \"white\", \"showbackground\": true, \"ticks\": \"\", \"zerolinecolor\": \"white\"}}, \"shapedefaults\": {\"line\": {\"color\": \"#2a3f5f\"}}, \"ternary\": {\"aaxis\": {\"gridcolor\": \"white\", \"linecolor\": \"white\", \"ticks\": \"\"}, \"baxis\": {\"gridcolor\": \"white\", \"linecolor\": \"white\", \"ticks\": \"\"}, \"bgcolor\": \"#E5ECF6\", \"caxis\": {\"gridcolor\": \"white\", \"linecolor\": \"white\", \"ticks\": \"\"}}, \"title\": {\"x\": 0.05}, \"xaxis\": {\"automargin\": true, \"gridcolor\": \"white\", \"linecolor\": \"white\", \"ticks\": \"\", \"title\": {\"standoff\": 15}, \"zerolinecolor\": \"white\", \"zerolinewidth\": 2}, \"yaxis\": {\"automargin\": true, \"gridcolor\": \"white\", \"linecolor\": \"white\", \"ticks\": \"\", \"title\": {\"standoff\": 15}, \"zerolinecolor\": \"white\", \"zerolinewidth\": 2}}}, \"title\": {\"font\": {\"color\": \"#4D5663\"}}, \"xaxis\": {\"gridcolor\": \"#E1E5ED\", \"showgrid\": true, \"tickfont\": {\"color\": \"#4D5663\"}, \"title\": {\"font\": {\"color\": \"#4D5663\"}, \"text\": \"\"}, \"zerolinecolor\": \"#E1E5ED\"}, \"yaxis\": {\"gridcolor\": \"#E1E5ED\", \"showgrid\": true, \"tickfont\": {\"color\": \"#4D5663\"}, \"title\": {\"font\": {\"color\": \"#4D5663\"}, \"text\": \"\"}, \"zerolinecolor\": \"#E1E5ED\"}},                        {\"showLink\": true, \"linkText\": \"Export to plot.ly\", \"plotlyServerURL\": \"https://plot.ly\", \"responsive\": true}                    ).then(function(){\n",
       "                            \n",
       "var gd = document.getElementById('15f40922-1824-414a-95e6-b3737c5cb737');\n",
       "var x = new MutationObserver(function (mutations, observer) {{\n",
       "        var display = window.getComputedStyle(gd).display;\n",
       "        if (!display || display === 'none') {{\n",
       "            console.log([gd, 'removed!']);\n",
       "            Plotly.purge(gd);\n",
       "            observer.disconnect();\n",
       "        }}\n",
       "}});\n",
       "\n",
       "// Listen for the removal of the full notebook cells\n",
       "var notebookContainer = gd.closest('#notebook-container');\n",
       "if (notebookContainer) {{\n",
       "    x.observe(notebookContainer, {childList: true});\n",
       "}}\n",
       "\n",
       "// Listen for the clearing of the current output cell\n",
       "var outputEl = gd.closest('.output');\n",
       "if (outputEl) {{\n",
       "    x.observe(outputEl, {childList: true});\n",
       "}}\n",
       "\n",
       "                        })                };                });            </script>        </div>"
      ]
     },
     "metadata": {},
     "output_type": "display_data"
    }
   ],
   "source": [
    "df4.iplot(kind='surface',colorscale='rdylbu')"
   ]
  },
  {
   "cell_type": "code",
   "execution_count": 24,
   "metadata": {},
   "outputs": [
    {
     "data": {
      "application/vnd.plotly.v1+json": {
       "config": {
        "linkText": "Export to plot.ly",
        "plotlyServerURL": "https://plot.ly",
        "showLink": true
       },
       "data": [
        {
         "histfunc": "count",
         "histnorm": "",
         "marker": {
          "color": "rgba(255, 153, 51, 1.0)",
          "line": {
           "color": "#4D5663",
           "width": 1.3
          }
         },
         "name": "A",
         "opacity": 0.8,
         "orientation": "v",
         "type": "histogram",
         "x": [
          1.2743291159598842,
          0.012603295984593112,
          0.026124428121605058,
          0.05740195638716594,
          0.7211797728758698,
          -1.2272404700848971,
          -0.0602220042618601,
          -1.2251272187523363,
          0.7285313635047205,
          0.3696043043956092,
          -0.005031906455792278,
          -0.217988503656931,
          -0.2958721265356392,
          -0.7119151897145148,
          -1.560092182531834,
          -0.97948301063551,
          -1.4295960531654444,
          -1.1734281071025316,
          -0.14794118852659902,
          0.22858356596300675,
          -0.4106705073939129,
          0.9201695687694685,
          -0.5243273775682088,
          1.26090079768481,
          -0.17793819394265636,
          1.1901683935840963,
          -1.3231680679116269,
          0.625060436042206,
          0.7057352901420538,
          -0.9000976494452639,
          0.5977224299581562,
          1.291099983403894,
          -0.15140884822287337,
          -0.07567580316289536,
          -1.2274736019729966,
          -1.1605033095785415,
          -0.003460674940168402,
          -1.0229364542489692,
          0.7205474038629697,
          0.49495986005977277,
          0.41076790058176404,
          0.1844472021660236,
          0.1167576805269786,
          1.112034995203464,
          1.0859515215555395,
          -1.695322974218527,
          0.7842598671527137,
          0.758377284213845,
          -1.091849542132929,
          -1.3153986457811035,
          -0.6243415523889722,
          1.1646852896543975,
          -0.7988149852707761,
          -0.7507366086782864,
          -0.9180420106279558,
          -0.2729434694854129,
          -1.2811526328740261,
          -0.9755996574451098,
          -0.4688125940352931,
          -0.26391419787528425,
          -2.4167264147169534,
          -1.066100926271971,
          0.17041655454385568,
          -2.078311632109863,
          0.560552210773985,
          0.706882083984312,
          0.7723109540792544,
          -1.4249266221939358,
          1.4039689127307864,
          1.778762557715026,
          0.27437173358694167,
          0.11733848968444871,
          -2.6150010633949354,
          -0.8592599110213128,
          1.8093740945878218,
          -0.1292779500768447,
          -1.0439103137271737,
          1.2829276692789005,
          1.013159098488871,
          0.20803697944170838,
          -0.6138663700796907,
          0.1652084642695246,
          -1.8548152158867799,
          1.8437969796864635,
          0.5030983867380925,
          0.07190031940443338,
          2.1088970284366866,
          -1.0445203253805864,
          1.0811956010542667,
          1.4799493546243363,
          2.050370676589714,
          -0.09903881715990685,
          2.070541603456114,
          0.7662237165749922,
          -0.3576102464551363,
          0.49517071473458907,
          1.6194456007075326,
          0.18249899731952396,
          -0.5386291904369472,
          -1.4350220617716536
         ]
        }
       ],
       "layout": {
        "barmode": "overlay",
        "legend": {
         "bgcolor": "#F5F6F9",
         "font": {
          "color": "#4D5663"
         }
        },
        "paper_bgcolor": "#F5F6F9",
        "plot_bgcolor": "#F5F6F9",
        "template": {
         "data": {
          "bar": [
           {
            "error_x": {
             "color": "#2a3f5f"
            },
            "error_y": {
             "color": "#2a3f5f"
            },
            "marker": {
             "line": {
              "color": "#E5ECF6",
              "width": 0.5
             }
            },
            "type": "bar"
           }
          ],
          "barpolar": [
           {
            "marker": {
             "line": {
              "color": "#E5ECF6",
              "width": 0.5
             }
            },
            "type": "barpolar"
           }
          ],
          "carpet": [
           {
            "aaxis": {
             "endlinecolor": "#2a3f5f",
             "gridcolor": "white",
             "linecolor": "white",
             "minorgridcolor": "white",
             "startlinecolor": "#2a3f5f"
            },
            "baxis": {
             "endlinecolor": "#2a3f5f",
             "gridcolor": "white",
             "linecolor": "white",
             "minorgridcolor": "white",
             "startlinecolor": "#2a3f5f"
            },
            "type": "carpet"
           }
          ],
          "choropleth": [
           {
            "colorbar": {
             "outlinewidth": 0,
             "ticks": ""
            },
            "type": "choropleth"
           }
          ],
          "contour": [
           {
            "colorbar": {
             "outlinewidth": 0,
             "ticks": ""
            },
            "colorscale": [
             [
              0,
              "#0d0887"
             ],
             [
              0.1111111111111111,
              "#46039f"
             ],
             [
              0.2222222222222222,
              "#7201a8"
             ],
             [
              0.3333333333333333,
              "#9c179e"
             ],
             [
              0.4444444444444444,
              "#bd3786"
             ],
             [
              0.5555555555555556,
              "#d8576b"
             ],
             [
              0.6666666666666666,
              "#ed7953"
             ],
             [
              0.7777777777777778,
              "#fb9f3a"
             ],
             [
              0.8888888888888888,
              "#fdca26"
             ],
             [
              1,
              "#f0f921"
             ]
            ],
            "type": "contour"
           }
          ],
          "contourcarpet": [
           {
            "colorbar": {
             "outlinewidth": 0,
             "ticks": ""
            },
            "type": "contourcarpet"
           }
          ],
          "heatmap": [
           {
            "colorbar": {
             "outlinewidth": 0,
             "ticks": ""
            },
            "colorscale": [
             [
              0,
              "#0d0887"
             ],
             [
              0.1111111111111111,
              "#46039f"
             ],
             [
              0.2222222222222222,
              "#7201a8"
             ],
             [
              0.3333333333333333,
              "#9c179e"
             ],
             [
              0.4444444444444444,
              "#bd3786"
             ],
             [
              0.5555555555555556,
              "#d8576b"
             ],
             [
              0.6666666666666666,
              "#ed7953"
             ],
             [
              0.7777777777777778,
              "#fb9f3a"
             ],
             [
              0.8888888888888888,
              "#fdca26"
             ],
             [
              1,
              "#f0f921"
             ]
            ],
            "type": "heatmap"
           }
          ],
          "heatmapgl": [
           {
            "colorbar": {
             "outlinewidth": 0,
             "ticks": ""
            },
            "colorscale": [
             [
              0,
              "#0d0887"
             ],
             [
              0.1111111111111111,
              "#46039f"
             ],
             [
              0.2222222222222222,
              "#7201a8"
             ],
             [
              0.3333333333333333,
              "#9c179e"
             ],
             [
              0.4444444444444444,
              "#bd3786"
             ],
             [
              0.5555555555555556,
              "#d8576b"
             ],
             [
              0.6666666666666666,
              "#ed7953"
             ],
             [
              0.7777777777777778,
              "#fb9f3a"
             ],
             [
              0.8888888888888888,
              "#fdca26"
             ],
             [
              1,
              "#f0f921"
             ]
            ],
            "type": "heatmapgl"
           }
          ],
          "histogram": [
           {
            "marker": {
             "colorbar": {
              "outlinewidth": 0,
              "ticks": ""
             }
            },
            "type": "histogram"
           }
          ],
          "histogram2d": [
           {
            "colorbar": {
             "outlinewidth": 0,
             "ticks": ""
            },
            "colorscale": [
             [
              0,
              "#0d0887"
             ],
             [
              0.1111111111111111,
              "#46039f"
             ],
             [
              0.2222222222222222,
              "#7201a8"
             ],
             [
              0.3333333333333333,
              "#9c179e"
             ],
             [
              0.4444444444444444,
              "#bd3786"
             ],
             [
              0.5555555555555556,
              "#d8576b"
             ],
             [
              0.6666666666666666,
              "#ed7953"
             ],
             [
              0.7777777777777778,
              "#fb9f3a"
             ],
             [
              0.8888888888888888,
              "#fdca26"
             ],
             [
              1,
              "#f0f921"
             ]
            ],
            "type": "histogram2d"
           }
          ],
          "histogram2dcontour": [
           {
            "colorbar": {
             "outlinewidth": 0,
             "ticks": ""
            },
            "colorscale": [
             [
              0,
              "#0d0887"
             ],
             [
              0.1111111111111111,
              "#46039f"
             ],
             [
              0.2222222222222222,
              "#7201a8"
             ],
             [
              0.3333333333333333,
              "#9c179e"
             ],
             [
              0.4444444444444444,
              "#bd3786"
             ],
             [
              0.5555555555555556,
              "#d8576b"
             ],
             [
              0.6666666666666666,
              "#ed7953"
             ],
             [
              0.7777777777777778,
              "#fb9f3a"
             ],
             [
              0.8888888888888888,
              "#fdca26"
             ],
             [
              1,
              "#f0f921"
             ]
            ],
            "type": "histogram2dcontour"
           }
          ],
          "mesh3d": [
           {
            "colorbar": {
             "outlinewidth": 0,
             "ticks": ""
            },
            "type": "mesh3d"
           }
          ],
          "parcoords": [
           {
            "line": {
             "colorbar": {
              "outlinewidth": 0,
              "ticks": ""
             }
            },
            "type": "parcoords"
           }
          ],
          "pie": [
           {
            "automargin": true,
            "type": "pie"
           }
          ],
          "scatter": [
           {
            "marker": {
             "colorbar": {
              "outlinewidth": 0,
              "ticks": ""
             }
            },
            "type": "scatter"
           }
          ],
          "scatter3d": [
           {
            "line": {
             "colorbar": {
              "outlinewidth": 0,
              "ticks": ""
             }
            },
            "marker": {
             "colorbar": {
              "outlinewidth": 0,
              "ticks": ""
             }
            },
            "type": "scatter3d"
           }
          ],
          "scattercarpet": [
           {
            "marker": {
             "colorbar": {
              "outlinewidth": 0,
              "ticks": ""
             }
            },
            "type": "scattercarpet"
           }
          ],
          "scattergeo": [
           {
            "marker": {
             "colorbar": {
              "outlinewidth": 0,
              "ticks": ""
             }
            },
            "type": "scattergeo"
           }
          ],
          "scattergl": [
           {
            "marker": {
             "colorbar": {
              "outlinewidth": 0,
              "ticks": ""
             }
            },
            "type": "scattergl"
           }
          ],
          "scattermapbox": [
           {
            "marker": {
             "colorbar": {
              "outlinewidth": 0,
              "ticks": ""
             }
            },
            "type": "scattermapbox"
           }
          ],
          "scatterpolar": [
           {
            "marker": {
             "colorbar": {
              "outlinewidth": 0,
              "ticks": ""
             }
            },
            "type": "scatterpolar"
           }
          ],
          "scatterpolargl": [
           {
            "marker": {
             "colorbar": {
              "outlinewidth": 0,
              "ticks": ""
             }
            },
            "type": "scatterpolargl"
           }
          ],
          "scatterternary": [
           {
            "marker": {
             "colorbar": {
              "outlinewidth": 0,
              "ticks": ""
             }
            },
            "type": "scatterternary"
           }
          ],
          "surface": [
           {
            "colorbar": {
             "outlinewidth": 0,
             "ticks": ""
            },
            "colorscale": [
             [
              0,
              "#0d0887"
             ],
             [
              0.1111111111111111,
              "#46039f"
             ],
             [
              0.2222222222222222,
              "#7201a8"
             ],
             [
              0.3333333333333333,
              "#9c179e"
             ],
             [
              0.4444444444444444,
              "#bd3786"
             ],
             [
              0.5555555555555556,
              "#d8576b"
             ],
             [
              0.6666666666666666,
              "#ed7953"
             ],
             [
              0.7777777777777778,
              "#fb9f3a"
             ],
             [
              0.8888888888888888,
              "#fdca26"
             ],
             [
              1,
              "#f0f921"
             ]
            ],
            "type": "surface"
           }
          ],
          "table": [
           {
            "cells": {
             "fill": {
              "color": "#EBF0F8"
             },
             "line": {
              "color": "white"
             }
            },
            "header": {
             "fill": {
              "color": "#C8D4E3"
             },
             "line": {
              "color": "white"
             }
            },
            "type": "table"
           }
          ]
         },
         "layout": {
          "annotationdefaults": {
           "arrowcolor": "#2a3f5f",
           "arrowhead": 0,
           "arrowwidth": 1
          },
          "autotypenumbers": "strict",
          "coloraxis": {
           "colorbar": {
            "outlinewidth": 0,
            "ticks": ""
           }
          },
          "colorscale": {
           "diverging": [
            [
             0,
             "#8e0152"
            ],
            [
             0.1,
             "#c51b7d"
            ],
            [
             0.2,
             "#de77ae"
            ],
            [
             0.3,
             "#f1b6da"
            ],
            [
             0.4,
             "#fde0ef"
            ],
            [
             0.5,
             "#f7f7f7"
            ],
            [
             0.6,
             "#e6f5d0"
            ],
            [
             0.7,
             "#b8e186"
            ],
            [
             0.8,
             "#7fbc41"
            ],
            [
             0.9,
             "#4d9221"
            ],
            [
             1,
             "#276419"
            ]
           ],
           "sequential": [
            [
             0,
             "#0d0887"
            ],
            [
             0.1111111111111111,
             "#46039f"
            ],
            [
             0.2222222222222222,
             "#7201a8"
            ],
            [
             0.3333333333333333,
             "#9c179e"
            ],
            [
             0.4444444444444444,
             "#bd3786"
            ],
            [
             0.5555555555555556,
             "#d8576b"
            ],
            [
             0.6666666666666666,
             "#ed7953"
            ],
            [
             0.7777777777777778,
             "#fb9f3a"
            ],
            [
             0.8888888888888888,
             "#fdca26"
            ],
            [
             1,
             "#f0f921"
            ]
           ],
           "sequentialminus": [
            [
             0,
             "#0d0887"
            ],
            [
             0.1111111111111111,
             "#46039f"
            ],
            [
             0.2222222222222222,
             "#7201a8"
            ],
            [
             0.3333333333333333,
             "#9c179e"
            ],
            [
             0.4444444444444444,
             "#bd3786"
            ],
            [
             0.5555555555555556,
             "#d8576b"
            ],
            [
             0.6666666666666666,
             "#ed7953"
            ],
            [
             0.7777777777777778,
             "#fb9f3a"
            ],
            [
             0.8888888888888888,
             "#fdca26"
            ],
            [
             1,
             "#f0f921"
            ]
           ]
          },
          "colorway": [
           "#636efa",
           "#EF553B",
           "#00cc96",
           "#ab63fa",
           "#FFA15A",
           "#19d3f3",
           "#FF6692",
           "#B6E880",
           "#FF97FF",
           "#FECB52"
          ],
          "font": {
           "color": "#2a3f5f"
          },
          "geo": {
           "bgcolor": "white",
           "lakecolor": "white",
           "landcolor": "#E5ECF6",
           "showlakes": true,
           "showland": true,
           "subunitcolor": "white"
          },
          "hoverlabel": {
           "align": "left"
          },
          "hovermode": "closest",
          "mapbox": {
           "style": "light"
          },
          "paper_bgcolor": "white",
          "plot_bgcolor": "#E5ECF6",
          "polar": {
           "angularaxis": {
            "gridcolor": "white",
            "linecolor": "white",
            "ticks": ""
           },
           "bgcolor": "#E5ECF6",
           "radialaxis": {
            "gridcolor": "white",
            "linecolor": "white",
            "ticks": ""
           }
          },
          "scene": {
           "xaxis": {
            "backgroundcolor": "#E5ECF6",
            "gridcolor": "white",
            "gridwidth": 2,
            "linecolor": "white",
            "showbackground": true,
            "ticks": "",
            "zerolinecolor": "white"
           },
           "yaxis": {
            "backgroundcolor": "#E5ECF6",
            "gridcolor": "white",
            "gridwidth": 2,
            "linecolor": "white",
            "showbackground": true,
            "ticks": "",
            "zerolinecolor": "white"
           },
           "zaxis": {
            "backgroundcolor": "#E5ECF6",
            "gridcolor": "white",
            "gridwidth": 2,
            "linecolor": "white",
            "showbackground": true,
            "ticks": "",
            "zerolinecolor": "white"
           }
          },
          "shapedefaults": {
           "line": {
            "color": "#2a3f5f"
           }
          },
          "ternary": {
           "aaxis": {
            "gridcolor": "white",
            "linecolor": "white",
            "ticks": ""
           },
           "baxis": {
            "gridcolor": "white",
            "linecolor": "white",
            "ticks": ""
           },
           "bgcolor": "#E5ECF6",
           "caxis": {
            "gridcolor": "white",
            "linecolor": "white",
            "ticks": ""
           }
          },
          "title": {
           "x": 0.05
          },
          "xaxis": {
           "automargin": true,
           "gridcolor": "white",
           "linecolor": "white",
           "ticks": "",
           "title": {
            "standoff": 15
           },
           "zerolinecolor": "white",
           "zerolinewidth": 2
          },
          "yaxis": {
           "automargin": true,
           "gridcolor": "white",
           "linecolor": "white",
           "ticks": "",
           "title": {
            "standoff": 15
           },
           "zerolinecolor": "white",
           "zerolinewidth": 2
          }
         }
        },
        "title": {
         "font": {
          "color": "#4D5663"
         }
        },
        "xaxis": {
         "gridcolor": "#E1E5ED",
         "showgrid": true,
         "tickfont": {
          "color": "#4D5663"
         },
         "title": {
          "font": {
           "color": "#4D5663"
          },
          "text": ""
         },
         "zerolinecolor": "#E1E5ED"
        },
        "yaxis": {
         "gridcolor": "#E1E5ED",
         "showgrid": true,
         "tickfont": {
          "color": "#4D5663"
         },
         "title": {
          "font": {
           "color": "#4D5663"
          },
          "text": ""
         },
         "zerolinecolor": "#E1E5ED"
        }
       }
      },
      "text/html": [
       "<div>                            <div id=\"9ce7d77f-7e82-45fe-8d92-74aac31c587a\" class=\"plotly-graph-div\" style=\"height:525px; width:100%;\"></div>            <script type=\"text/javascript\">                require([\"plotly\"], function(Plotly) {                    window.PLOTLYENV=window.PLOTLYENV || {};\n",
       "                    window.PLOTLYENV.BASE_URL='https://plot.ly';                                    if (document.getElementById(\"9ce7d77f-7e82-45fe-8d92-74aac31c587a\")) {                    Plotly.newPlot(                        \"9ce7d77f-7e82-45fe-8d92-74aac31c587a\",                        [{\"histfunc\": \"count\", \"histnorm\": \"\", \"marker\": {\"color\": \"rgba(255, 153, 51, 1.0)\", \"line\": {\"color\": \"#4D5663\", \"width\": 1.3}}, \"name\": \"A\", \"opacity\": 0.8, \"orientation\": \"v\", \"type\": \"histogram\", \"x\": [1.2743291159598842, 0.012603295984593112, 0.026124428121605058, 0.05740195638716594, 0.7211797728758698, -1.2272404700848971, -0.0602220042618601, -1.2251272187523363, 0.7285313635047205, 0.3696043043956092, -0.005031906455792278, -0.217988503656931, -0.2958721265356392, -0.7119151897145148, -1.560092182531834, -0.97948301063551, -1.4295960531654444, -1.1734281071025316, -0.14794118852659902, 0.22858356596300675, -0.4106705073939129, 0.9201695687694685, -0.5243273775682088, 1.26090079768481, -0.17793819394265636, 1.1901683935840963, -1.3231680679116269, 0.625060436042206, 0.7057352901420538, -0.9000976494452639, 0.5977224299581562, 1.291099983403894, -0.15140884822287337, -0.07567580316289536, -1.2274736019729966, -1.1605033095785415, -0.003460674940168402, -1.0229364542489692, 0.7205474038629697, 0.49495986005977277, 0.41076790058176404, 0.1844472021660236, 0.1167576805269786, 1.112034995203464, 1.0859515215555395, -1.695322974218527, 0.7842598671527137, 0.758377284213845, -1.091849542132929, -1.3153986457811035, -0.6243415523889722, 1.1646852896543975, -0.7988149852707761, -0.7507366086782864, -0.9180420106279558, -0.2729434694854129, -1.2811526328740261, -0.9755996574451098, -0.4688125940352931, -0.26391419787528425, -2.4167264147169534, -1.066100926271971, 0.17041655454385568, -2.078311632109863, 0.560552210773985, 0.706882083984312, 0.7723109540792544, -1.4249266221939358, 1.4039689127307864, 1.778762557715026, 0.27437173358694167, 0.11733848968444871, -2.6150010633949354, -0.8592599110213128, 1.8093740945878218, -0.1292779500768447, -1.0439103137271737, 1.2829276692789005, 1.013159098488871, 0.20803697944170838, -0.6138663700796907, 0.1652084642695246, -1.8548152158867799, 1.8437969796864635, 0.5030983867380925, 0.07190031940443338, 2.1088970284366866, -1.0445203253805864, 1.0811956010542667, 1.4799493546243363, 2.050370676589714, -0.09903881715990685, 2.070541603456114, 0.7662237165749922, -0.3576102464551363, 0.49517071473458907, 1.6194456007075326, 0.18249899731952396, -0.5386291904369472, -1.4350220617716536]}],                        {\"barmode\": \"overlay\", \"legend\": {\"bgcolor\": \"#F5F6F9\", \"font\": {\"color\": \"#4D5663\"}}, \"paper_bgcolor\": \"#F5F6F9\", \"plot_bgcolor\": \"#F5F6F9\", \"template\": {\"data\": {\"bar\": [{\"error_x\": {\"color\": \"#2a3f5f\"}, \"error_y\": {\"color\": \"#2a3f5f\"}, \"marker\": {\"line\": {\"color\": \"#E5ECF6\", \"width\": 0.5}}, \"type\": \"bar\"}], \"barpolar\": [{\"marker\": {\"line\": {\"color\": \"#E5ECF6\", \"width\": 0.5}}, \"type\": \"barpolar\"}], \"carpet\": [{\"aaxis\": {\"endlinecolor\": \"#2a3f5f\", \"gridcolor\": \"white\", \"linecolor\": \"white\", \"minorgridcolor\": \"white\", \"startlinecolor\": \"#2a3f5f\"}, \"baxis\": {\"endlinecolor\": \"#2a3f5f\", \"gridcolor\": \"white\", \"linecolor\": \"white\", \"minorgridcolor\": \"white\", \"startlinecolor\": \"#2a3f5f\"}, \"type\": \"carpet\"}], \"choropleth\": [{\"colorbar\": {\"outlinewidth\": 0, \"ticks\": \"\"}, \"type\": \"choropleth\"}], \"contour\": [{\"colorbar\": {\"outlinewidth\": 0, \"ticks\": \"\"}, \"colorscale\": [[0.0, \"#0d0887\"], [0.1111111111111111, \"#46039f\"], [0.2222222222222222, \"#7201a8\"], [0.3333333333333333, \"#9c179e\"], [0.4444444444444444, \"#bd3786\"], [0.5555555555555556, \"#d8576b\"], [0.6666666666666666, \"#ed7953\"], [0.7777777777777778, \"#fb9f3a\"], [0.8888888888888888, \"#fdca26\"], [1.0, \"#f0f921\"]], \"type\": \"contour\"}], \"contourcarpet\": [{\"colorbar\": {\"outlinewidth\": 0, \"ticks\": \"\"}, \"type\": \"contourcarpet\"}], \"heatmap\": [{\"colorbar\": {\"outlinewidth\": 0, \"ticks\": \"\"}, \"colorscale\": [[0.0, \"#0d0887\"], [0.1111111111111111, \"#46039f\"], [0.2222222222222222, \"#7201a8\"], [0.3333333333333333, \"#9c179e\"], [0.4444444444444444, \"#bd3786\"], [0.5555555555555556, \"#d8576b\"], [0.6666666666666666, \"#ed7953\"], [0.7777777777777778, \"#fb9f3a\"], [0.8888888888888888, \"#fdca26\"], [1.0, \"#f0f921\"]], \"type\": \"heatmap\"}], \"heatmapgl\": [{\"colorbar\": {\"outlinewidth\": 0, \"ticks\": \"\"}, \"colorscale\": [[0.0, \"#0d0887\"], [0.1111111111111111, \"#46039f\"], [0.2222222222222222, \"#7201a8\"], [0.3333333333333333, \"#9c179e\"], [0.4444444444444444, \"#bd3786\"], [0.5555555555555556, \"#d8576b\"], [0.6666666666666666, \"#ed7953\"], [0.7777777777777778, \"#fb9f3a\"], [0.8888888888888888, \"#fdca26\"], [1.0, \"#f0f921\"]], \"type\": \"heatmapgl\"}], \"histogram\": [{\"marker\": {\"colorbar\": {\"outlinewidth\": 0, \"ticks\": \"\"}}, \"type\": \"histogram\"}], \"histogram2d\": [{\"colorbar\": {\"outlinewidth\": 0, \"ticks\": \"\"}, \"colorscale\": [[0.0, \"#0d0887\"], [0.1111111111111111, \"#46039f\"], [0.2222222222222222, \"#7201a8\"], [0.3333333333333333, \"#9c179e\"], [0.4444444444444444, \"#bd3786\"], [0.5555555555555556, \"#d8576b\"], [0.6666666666666666, \"#ed7953\"], [0.7777777777777778, \"#fb9f3a\"], [0.8888888888888888, \"#fdca26\"], [1.0, \"#f0f921\"]], \"type\": \"histogram2d\"}], \"histogram2dcontour\": [{\"colorbar\": {\"outlinewidth\": 0, \"ticks\": \"\"}, \"colorscale\": [[0.0, \"#0d0887\"], [0.1111111111111111, \"#46039f\"], [0.2222222222222222, \"#7201a8\"], [0.3333333333333333, \"#9c179e\"], [0.4444444444444444, \"#bd3786\"], [0.5555555555555556, \"#d8576b\"], [0.6666666666666666, \"#ed7953\"], [0.7777777777777778, \"#fb9f3a\"], [0.8888888888888888, \"#fdca26\"], [1.0, \"#f0f921\"]], \"type\": \"histogram2dcontour\"}], \"mesh3d\": [{\"colorbar\": {\"outlinewidth\": 0, \"ticks\": \"\"}, \"type\": \"mesh3d\"}], \"parcoords\": [{\"line\": {\"colorbar\": {\"outlinewidth\": 0, \"ticks\": \"\"}}, \"type\": \"parcoords\"}], \"pie\": [{\"automargin\": true, \"type\": \"pie\"}], \"scatter\": [{\"marker\": {\"colorbar\": {\"outlinewidth\": 0, \"ticks\": \"\"}}, \"type\": \"scatter\"}], \"scatter3d\": [{\"line\": {\"colorbar\": {\"outlinewidth\": 0, \"ticks\": \"\"}}, \"marker\": {\"colorbar\": {\"outlinewidth\": 0, \"ticks\": \"\"}}, \"type\": \"scatter3d\"}], \"scattercarpet\": [{\"marker\": {\"colorbar\": {\"outlinewidth\": 0, \"ticks\": \"\"}}, \"type\": \"scattercarpet\"}], \"scattergeo\": [{\"marker\": {\"colorbar\": {\"outlinewidth\": 0, \"ticks\": \"\"}}, \"type\": \"scattergeo\"}], \"scattergl\": [{\"marker\": {\"colorbar\": {\"outlinewidth\": 0, \"ticks\": \"\"}}, \"type\": \"scattergl\"}], \"scattermapbox\": [{\"marker\": {\"colorbar\": {\"outlinewidth\": 0, \"ticks\": \"\"}}, \"type\": \"scattermapbox\"}], \"scatterpolar\": [{\"marker\": {\"colorbar\": {\"outlinewidth\": 0, \"ticks\": \"\"}}, \"type\": \"scatterpolar\"}], \"scatterpolargl\": [{\"marker\": {\"colorbar\": {\"outlinewidth\": 0, \"ticks\": \"\"}}, \"type\": \"scatterpolargl\"}], \"scatterternary\": [{\"marker\": {\"colorbar\": {\"outlinewidth\": 0, \"ticks\": \"\"}}, \"type\": \"scatterternary\"}], \"surface\": [{\"colorbar\": {\"outlinewidth\": 0, \"ticks\": \"\"}, \"colorscale\": [[0.0, \"#0d0887\"], [0.1111111111111111, \"#46039f\"], [0.2222222222222222, \"#7201a8\"], [0.3333333333333333, \"#9c179e\"], [0.4444444444444444, \"#bd3786\"], [0.5555555555555556, \"#d8576b\"], [0.6666666666666666, \"#ed7953\"], [0.7777777777777778, \"#fb9f3a\"], [0.8888888888888888, \"#fdca26\"], [1.0, \"#f0f921\"]], \"type\": \"surface\"}], \"table\": [{\"cells\": {\"fill\": {\"color\": \"#EBF0F8\"}, \"line\": {\"color\": \"white\"}}, \"header\": {\"fill\": {\"color\": \"#C8D4E3\"}, \"line\": {\"color\": \"white\"}}, \"type\": \"table\"}]}, \"layout\": {\"annotationdefaults\": {\"arrowcolor\": \"#2a3f5f\", \"arrowhead\": 0, \"arrowwidth\": 1}, \"autotypenumbers\": \"strict\", \"coloraxis\": {\"colorbar\": {\"outlinewidth\": 0, \"ticks\": \"\"}}, \"colorscale\": {\"diverging\": [[0, \"#8e0152\"], [0.1, \"#c51b7d\"], [0.2, \"#de77ae\"], [0.3, \"#f1b6da\"], [0.4, \"#fde0ef\"], [0.5, \"#f7f7f7\"], [0.6, \"#e6f5d0\"], [0.7, \"#b8e186\"], [0.8, \"#7fbc41\"], [0.9, \"#4d9221\"], [1, \"#276419\"]], \"sequential\": [[0.0, \"#0d0887\"], [0.1111111111111111, \"#46039f\"], [0.2222222222222222, \"#7201a8\"], [0.3333333333333333, \"#9c179e\"], [0.4444444444444444, \"#bd3786\"], [0.5555555555555556, \"#d8576b\"], [0.6666666666666666, \"#ed7953\"], [0.7777777777777778, \"#fb9f3a\"], [0.8888888888888888, \"#fdca26\"], [1.0, \"#f0f921\"]], \"sequentialminus\": [[0.0, \"#0d0887\"], [0.1111111111111111, \"#46039f\"], [0.2222222222222222, \"#7201a8\"], [0.3333333333333333, \"#9c179e\"], [0.4444444444444444, \"#bd3786\"], [0.5555555555555556, \"#d8576b\"], [0.6666666666666666, \"#ed7953\"], [0.7777777777777778, \"#fb9f3a\"], [0.8888888888888888, \"#fdca26\"], [1.0, \"#f0f921\"]]}, \"colorway\": [\"#636efa\", \"#EF553B\", \"#00cc96\", \"#ab63fa\", \"#FFA15A\", \"#19d3f3\", \"#FF6692\", \"#B6E880\", \"#FF97FF\", \"#FECB52\"], \"font\": {\"color\": \"#2a3f5f\"}, \"geo\": {\"bgcolor\": \"white\", \"lakecolor\": \"white\", \"landcolor\": \"#E5ECF6\", \"showlakes\": true, \"showland\": true, \"subunitcolor\": \"white\"}, \"hoverlabel\": {\"align\": \"left\"}, \"hovermode\": \"closest\", \"mapbox\": {\"style\": \"light\"}, \"paper_bgcolor\": \"white\", \"plot_bgcolor\": \"#E5ECF6\", \"polar\": {\"angularaxis\": {\"gridcolor\": \"white\", \"linecolor\": \"white\", \"ticks\": \"\"}, \"bgcolor\": \"#E5ECF6\", \"radialaxis\": {\"gridcolor\": \"white\", \"linecolor\": \"white\", \"ticks\": \"\"}}, \"scene\": {\"xaxis\": {\"backgroundcolor\": \"#E5ECF6\", \"gridcolor\": \"white\", \"gridwidth\": 2, \"linecolor\": \"white\", \"showbackground\": true, \"ticks\": \"\", \"zerolinecolor\": \"white\"}, \"yaxis\": {\"backgroundcolor\": \"#E5ECF6\", \"gridcolor\": \"white\", \"gridwidth\": 2, \"linecolor\": \"white\", \"showbackground\": true, \"ticks\": \"\", \"zerolinecolor\": \"white\"}, \"zaxis\": {\"backgroundcolor\": \"#E5ECF6\", \"gridcolor\": \"white\", \"gridwidth\": 2, \"linecolor\": \"white\", \"showbackground\": true, \"ticks\": \"\", \"zerolinecolor\": \"white\"}}, \"shapedefaults\": {\"line\": {\"color\": \"#2a3f5f\"}}, \"ternary\": {\"aaxis\": {\"gridcolor\": \"white\", \"linecolor\": \"white\", \"ticks\": \"\"}, \"baxis\": {\"gridcolor\": \"white\", \"linecolor\": \"white\", \"ticks\": \"\"}, \"bgcolor\": \"#E5ECF6\", \"caxis\": {\"gridcolor\": \"white\", \"linecolor\": \"white\", \"ticks\": \"\"}}, \"title\": {\"x\": 0.05}, \"xaxis\": {\"automargin\": true, \"gridcolor\": \"white\", \"linecolor\": \"white\", \"ticks\": \"\", \"title\": {\"standoff\": 15}, \"zerolinecolor\": \"white\", \"zerolinewidth\": 2}, \"yaxis\": {\"automargin\": true, \"gridcolor\": \"white\", \"linecolor\": \"white\", \"ticks\": \"\", \"title\": {\"standoff\": 15}, \"zerolinecolor\": \"white\", \"zerolinewidth\": 2}}}, \"title\": {\"font\": {\"color\": \"#4D5663\"}}, \"xaxis\": {\"gridcolor\": \"#E1E5ED\", \"showgrid\": true, \"tickfont\": {\"color\": \"#4D5663\"}, \"title\": {\"font\": {\"color\": \"#4D5663\"}, \"text\": \"\"}, \"zerolinecolor\": \"#E1E5ED\"}, \"yaxis\": {\"gridcolor\": \"#E1E5ED\", \"showgrid\": true, \"tickfont\": {\"color\": \"#4D5663\"}, \"title\": {\"font\": {\"color\": \"#4D5663\"}, \"text\": \"\"}, \"zerolinecolor\": \"#E1E5ED\"}},                        {\"showLink\": true, \"linkText\": \"Export to plot.ly\", \"plotlyServerURL\": \"https://plot.ly\", \"responsive\": true}                    ).then(function(){\n",
       "                            \n",
       "var gd = document.getElementById('9ce7d77f-7e82-45fe-8d92-74aac31c587a');\n",
       "var x = new MutationObserver(function (mutations, observer) {{\n",
       "        var display = window.getComputedStyle(gd).display;\n",
       "        if (!display || display === 'none') {{\n",
       "            console.log([gd, 'removed!']);\n",
       "            Plotly.purge(gd);\n",
       "            observer.disconnect();\n",
       "        }}\n",
       "}});\n",
       "\n",
       "// Listen for the removal of the full notebook cells\n",
       "var notebookContainer = gd.closest('#notebook-container');\n",
       "if (notebookContainer) {{\n",
       "    x.observe(notebookContainer, {childList: true});\n",
       "}}\n",
       "\n",
       "// Listen for the clearing of the current output cell\n",
       "var outputEl = gd.closest('.output');\n",
       "if (outputEl) {{\n",
       "    x.observe(outputEl, {childList: true});\n",
       "}}\n",
       "\n",
       "                        })                };                });            </script>        </div>"
      ]
     },
     "metadata": {},
     "output_type": "display_data"
    }
   ],
   "source": [
    "df['A'].iplot(kind='hist')"
   ]
  },
  {
   "cell_type": "code",
   "execution_count": 25,
   "metadata": {},
   "outputs": [
    {
     "name": "stderr",
     "output_type": "stream",
     "text": [
      "C:\\Users\\derek\\anaconda3\\lib\\site-packages\\cufflinks\\plotlytools.py:849: FutureWarning:\n",
      "\n",
      "The pandas.np module is deprecated and will be removed from pandas in a future version. Import numpy directly instead\n",
      "\n",
      "C:\\Users\\derek\\anaconda3\\lib\\site-packages\\cufflinks\\plotlytools.py:850: FutureWarning:\n",
      "\n",
      "The pandas.np module is deprecated and will be removed from pandas in a future version. Import numpy directly instead\n",
      "\n"
     ]
    },
    {
     "data": {
      "application/vnd.plotly.v1+json": {
       "config": {
        "linkText": "Export to plot.ly",
        "plotlyServerURL": "https://plot.ly",
        "showLink": true
       },
       "data": [
        {
         "line": {
          "color": "rgba(255, 153, 51, 1.0)",
          "dash": "solid",
          "shape": "linear",
          "width": 1.3
         },
         "mode": "lines",
         "name": "A",
         "text": "",
         "type": "scatter",
         "x": [
          0,
          1,
          2,
          3,
          4,
          5,
          6,
          7,
          8,
          9,
          10,
          11,
          12,
          13,
          14,
          15,
          16,
          17,
          18,
          19,
          20,
          21,
          22,
          23,
          24,
          25,
          26,
          27,
          28,
          29,
          30,
          31,
          32,
          33,
          34,
          35,
          36,
          37,
          38,
          39,
          40,
          41,
          42,
          43,
          44,
          45,
          46,
          47,
          48,
          49,
          50,
          51,
          52,
          53,
          54,
          55,
          56,
          57,
          58,
          59,
          60,
          61,
          62,
          63,
          64,
          65,
          66,
          67,
          68,
          69,
          70,
          71,
          72,
          73,
          74,
          75,
          76,
          77,
          78,
          79,
          80,
          81,
          82,
          83,
          84,
          85,
          86,
          87,
          88,
          89,
          90,
          91,
          92,
          93,
          94,
          95,
          96,
          97,
          98,
          99
         ],
         "y": [
          1.2743291159598842,
          0.012603295984593112,
          0.026124428121605058,
          0.05740195638716594,
          0.7211797728758698,
          -1.2272404700848971,
          -0.0602220042618601,
          -1.2251272187523363,
          0.7285313635047205,
          0.3696043043956092,
          -0.005031906455792278,
          -0.217988503656931,
          -0.2958721265356392,
          -0.7119151897145148,
          -1.560092182531834,
          -0.97948301063551,
          -1.4295960531654444,
          -1.1734281071025316,
          -0.14794118852659902,
          0.22858356596300675,
          -0.4106705073939129,
          0.9201695687694685,
          -0.5243273775682088,
          1.26090079768481,
          -0.17793819394265636,
          1.1901683935840963,
          -1.3231680679116269,
          0.625060436042206,
          0.7057352901420538,
          -0.9000976494452639,
          0.5977224299581562,
          1.291099983403894,
          -0.15140884822287337,
          -0.07567580316289536,
          -1.2274736019729966,
          -1.1605033095785415,
          -0.003460674940168402,
          -1.0229364542489692,
          0.7205474038629697,
          0.49495986005977277,
          0.41076790058176404,
          0.1844472021660236,
          0.1167576805269786,
          1.112034995203464,
          1.0859515215555395,
          -1.695322974218527,
          0.7842598671527137,
          0.758377284213845,
          -1.091849542132929,
          -1.3153986457811035,
          -0.6243415523889722,
          1.1646852896543975,
          -0.7988149852707761,
          -0.7507366086782864,
          -0.9180420106279558,
          -0.2729434694854129,
          -1.2811526328740261,
          -0.9755996574451098,
          -0.4688125940352931,
          -0.26391419787528425,
          -2.4167264147169534,
          -1.066100926271971,
          0.17041655454385568,
          -2.078311632109863,
          0.560552210773985,
          0.706882083984312,
          0.7723109540792544,
          -1.4249266221939358,
          1.4039689127307864,
          1.778762557715026,
          0.27437173358694167,
          0.11733848968444871,
          -2.6150010633949354,
          -0.8592599110213128,
          1.8093740945878218,
          -0.1292779500768447,
          -1.0439103137271737,
          1.2829276692789005,
          1.013159098488871,
          0.20803697944170838,
          -0.6138663700796907,
          0.1652084642695246,
          -1.8548152158867799,
          1.8437969796864635,
          0.5030983867380925,
          0.07190031940443338,
          2.1088970284366866,
          -1.0445203253805864,
          1.0811956010542667,
          1.4799493546243363,
          2.050370676589714,
          -0.09903881715990685,
          2.070541603456114,
          0.7662237165749922,
          -0.3576102464551363,
          0.49517071473458907,
          1.6194456007075326,
          0.18249899731952396,
          -0.5386291904369472,
          -1.4350220617716536
         ]
        },
        {
         "line": {
          "color": "rgba(55, 128, 191, 1.0)",
          "dash": "solid",
          "shape": "linear",
          "width": 1.3
         },
         "mode": "lines",
         "name": "B",
         "text": "",
         "type": "scatter",
         "x": [
          0,
          1,
          2,
          3,
          4,
          5,
          6,
          7,
          8,
          9,
          10,
          11,
          12,
          13,
          14,
          15,
          16,
          17,
          18,
          19,
          20,
          21,
          22,
          23,
          24,
          25,
          26,
          27,
          28,
          29,
          30,
          31,
          32,
          33,
          34,
          35,
          36,
          37,
          38,
          39,
          40,
          41,
          42,
          43,
          44,
          45,
          46,
          47,
          48,
          49,
          50,
          51,
          52,
          53,
          54,
          55,
          56,
          57,
          58,
          59,
          60,
          61,
          62,
          63,
          64,
          65,
          66,
          67,
          68,
          69,
          70,
          71,
          72,
          73,
          74,
          75,
          76,
          77,
          78,
          79,
          80,
          81,
          82,
          83,
          84,
          85,
          86,
          87,
          88,
          89,
          90,
          91,
          92,
          93,
          94,
          95,
          96,
          97,
          98,
          99
         ],
         "y": [
          -0.39531474003646183,
          -0.8867252341912623,
          1.5959727139592397,
          -0.8915771314389602,
          0.052385164048535215,
          -2.15514457439745,
          -1.8144544174035113,
          0.08262005734589607,
          -0.36215198720850966,
          -1.228011983928278,
          -1.1410569805616517,
          -1.8002508826157904,
          0.11744455836016172,
          -0.3718960945496368,
          2.1095460426240846,
          0.07887321650891946,
          1.1682426861997464,
          -1.0385909818862178,
          1.2904598411544959,
          -0.22589344504336356,
          -1.4165857426047672,
          -0.5845932169728495,
          1.005124981817119,
          0.8647853134104359,
          1.5345743538298893,
          -0.6197658515889924,
          0.4357103295542794,
          -0.643051371066005,
          -1.3096943661431093,
          0.8752592855623904,
          1.5987924708863182,
          -1.851139766837587,
          -1.4938816462310027,
          1.511566102263444,
          -0.6002087041576118,
          -0.0750572625889012,
          -0.17628415605563305,
          -2.1805287231472037,
          -0.030848334334775927,
          -0.3304526075523714,
          0.0178820557060164,
          0.6908592869951391,
          0.5481008805639314,
          0.832811189808415,
          0.019159938639792595,
          1.180810231871073,
          2.730747151610139,
          0.47962211842500235,
          -1.115686833838263,
          -0.30239009589317517,
          1.1713524884410316,
          -0.764656756383517,
          -0.6734519706171885,
          1.1738819770023874,
          0.025005237496141357,
          0.9104392998046482,
          -0.3280391121163882,
          -0.3486935451998248,
          -0.46793500068688076,
          -0.3757619711666674,
          -0.3369861822352449,
          0.722504307134837,
          -0.9929175231489182,
          -0.07617301189038786,
          0.23089195302073037,
          -0.680100584163858,
          -0.8527155998532249,
          -0.7499693642787079,
          1.4485578094733376,
          -1.1288994330475783,
          -0.7837078716233372,
          0.7410973973324356,
          0.3968117932668227,
          0.9157511083687346,
          0.3097620256451611,
          0.6713401468685719,
          -0.5640468063713121,
          -0.43173512125063357,
          -1.0714794639032783,
          1.323383682867993,
          -0.9351732722358566,
          -0.37504844765015305,
          0.8660583605656553,
          1.2887658734490224,
          0.41503915951653897,
          -0.08132023809148904,
          -0.0011254533419979285,
          -1.8579339281616882,
          0.9527033182663938,
          -0.28974539692538254,
          1.5966620018083522,
          0.5548831948574292,
          0.2937735161744529,
          0.21423897173344594,
          0.6196979234332269,
          -0.8881001296958283,
          0.030131395706024945,
          0.6222707263472929,
          0.5785613303233125,
          -1.6404562494386814
         ]
        },
        {
         "connectgaps": false,
         "fill": "tozeroy",
         "line": {
          "color": "green",
          "dash": "solid",
          "shape": "linear",
          "width": 0.5
         },
         "mode": "lines",
         "name": "Spread",
         "showlegend": false,
         "type": "scatter",
         "x": [
          0,
          1,
          2,
          3,
          4,
          5,
          6,
          7,
          8,
          9,
          10,
          11,
          12,
          13,
          14,
          15,
          16,
          17,
          18,
          19,
          20,
          21,
          22,
          23,
          24,
          25,
          26,
          27,
          28,
          29,
          30,
          31,
          32,
          33,
          34,
          35,
          36,
          37,
          38,
          39,
          40,
          41,
          42,
          43,
          44,
          45,
          46,
          47,
          48,
          49,
          50,
          51,
          52,
          53,
          54,
          55,
          56,
          57,
          58,
          59,
          60,
          61,
          62,
          63,
          64,
          65,
          66,
          67,
          68,
          69,
          70,
          71,
          72,
          73,
          74,
          75,
          76,
          77,
          78,
          79,
          80,
          81,
          82,
          83,
          84,
          85,
          86,
          87,
          88,
          89,
          90,
          91,
          92,
          93,
          94,
          95,
          96,
          97,
          98,
          99
         ],
         "xaxis": "x2",
         "y": [
          1.669643855996346,
          0.8993285301758553,
          "",
          0.9489790878261262,
          0.6687946088273345,
          0.9279041043125529,
          1.7542324131416511,
          "",
          1.09068335071323,
          1.5976162883238871,
          1.1360250741058595,
          1.5822623789588595,
          "",
          "",
          "",
          "",
          "",
          "",
          "",
          0.4544770110063703,
          1.0059152352108542,
          1.504762785742318,
          "",
          0.39611548427437404,
          "",
          1.8099342451730887,
          "",
          1.268111807108211,
          2.0154296562851632,
          "",
          "",
          3.1422397502414814,
          1.3424727980081292,
          "",
          "",
          "",
          0.17282348111546464,
          1.1575922688982345,
          0.7513957381977456,
          0.8254124676121442,
          0.3928858448757476,
          "",
          "",
          0.2792238053950491,
          1.066791582915747,
          "",
          "",
          0.27875516578884263,
          0.023837291705333996,
          "",
          "",
          1.9293420460379145,
          "",
          "",
          "",
          "",
          "",
          "",
          "",
          0.11184777329138312,
          "",
          "",
          1.1633340776927739,
          "",
          0.3296602577532546,
          1.3869826681481698,
          1.6250265539324793,
          "",
          "",
          2.9076619907626045,
          1.058079605210279,
          "",
          "",
          "",
          1.4996120689426609,
          "",
          "",
          1.714662790529534,
          2.0846385623921493,
          "",
          0.32130690215616586,
          0.5402569119196776,
          "",
          0.5550311062374411,
          0.08805922722155352,
          0.15322055749592242,
          2.1100224817786843,
          0.8134136027811019,
          0.12849228278787295,
          1.7696947515497188,
          0.4537086747813619,
          "",
          1.7767680872816611,
          0.5519847448415462,
          "",
          1.3832708444304174,
          1.5893142050015077,
          "",
          "",
          0.2054341876670278
         ],
         "yaxis": "y2"
        },
        {
         "connectgaps": false,
         "fill": "tozeroy",
         "line": {
          "color": "red",
          "dash": "solid",
          "shape": "linear",
          "width": 0.5
         },
         "mode": "lines",
         "name": "Spread",
         "showlegend": false,
         "type": "scatter",
         "x": [
          0,
          1,
          2,
          3,
          4,
          5,
          6,
          7,
          8,
          9,
          10,
          11,
          12,
          13,
          14,
          15,
          16,
          17,
          18,
          19,
          20,
          21,
          22,
          23,
          24,
          25,
          26,
          27,
          28,
          29,
          30,
          31,
          32,
          33,
          34,
          35,
          36,
          37,
          38,
          39,
          40,
          41,
          42,
          43,
          44,
          45,
          46,
          47,
          48,
          49,
          50,
          51,
          52,
          53,
          54,
          55,
          56,
          57,
          58,
          59,
          60,
          61,
          62,
          63,
          64,
          65,
          66,
          67,
          68,
          69,
          70,
          71,
          72,
          73,
          74,
          75,
          76,
          77,
          78,
          79,
          80,
          81,
          82,
          83,
          84,
          85,
          86,
          87,
          88,
          89,
          90,
          91,
          92,
          93,
          94,
          95,
          96,
          97,
          98,
          99
         ],
         "xaxis": "x2",
         "y": [
          "",
          "",
          -1.5698482858376346,
          "",
          "",
          "",
          "",
          -1.3077472760982325,
          "",
          "",
          "",
          "",
          -0.4133166848958009,
          -0.34001909516487805,
          -3.6696382251559188,
          -1.0583562271444296,
          -2.5978387393651907,
          -0.13483712521631386,
          -1.438401029681095,
          "",
          "",
          "",
          -1.5294523593853278,
          "",
          -1.7125125477725456,
          "",
          -1.7588783974659064,
          "",
          "",
          -1.7753569350076543,
          -1.001070040928162,
          "",
          "",
          -1.5872419054263394,
          -0.6272648978153847,
          -1.0854460469896403,
          "",
          "",
          "",
          "",
          "",
          -0.5064120848291155,
          -0.43134320003695276,
          "",
          "",
          -2.8761332060896,
          -1.9464872844574255,
          "",
          "",
          -1.0130085498879284,
          -1.7956940408300037,
          "",
          -0.12536301465358757,
          -1.924618585680674,
          -0.9430472481240971,
          -1.1833827692900611,
          -0.953113520757638,
          -0.626906112245285,
          -0.0008775933484123088,
          "",
          -2.0797402324817087,
          -1.788605233406808,
          "",
          -2.002138620219475,
          "",
          "",
          "",
          -0.674957257915228,
          -0.044588896742551176,
          "",
          "",
          -0.6237589076479869,
          -3.0118128566617584,
          -1.7750110193900475,
          "",
          -0.8006180969454166,
          -0.4798635073558616,
          "",
          "",
          -1.1153467034262847,
          "",
          "",
          -2.720873576452435,
          "",
          "",
          "",
          "",
          "",
          "",
          "",
          "",
          -0.653922012017336,
          "",
          "",
          -0.9773081698883632,
          "",
          "",
          -0.4397717290277689,
          -1.1171905207602597,
          ""
         ],
         "yaxis": "y2"
        }
       ],
       "layout": {
        "hovermode": "x",
        "legend": {
         "bgcolor": "#F5F6F9",
         "font": {
          "color": "#4D5663"
         }
        },
        "paper_bgcolor": "#F5F6F9",
        "plot_bgcolor": "#F5F6F9",
        "template": {
         "data": {
          "bar": [
           {
            "error_x": {
             "color": "#2a3f5f"
            },
            "error_y": {
             "color": "#2a3f5f"
            },
            "marker": {
             "line": {
              "color": "#E5ECF6",
              "width": 0.5
             }
            },
            "type": "bar"
           }
          ],
          "barpolar": [
           {
            "marker": {
             "line": {
              "color": "#E5ECF6",
              "width": 0.5
             }
            },
            "type": "barpolar"
           }
          ],
          "carpet": [
           {
            "aaxis": {
             "endlinecolor": "#2a3f5f",
             "gridcolor": "white",
             "linecolor": "white",
             "minorgridcolor": "white",
             "startlinecolor": "#2a3f5f"
            },
            "baxis": {
             "endlinecolor": "#2a3f5f",
             "gridcolor": "white",
             "linecolor": "white",
             "minorgridcolor": "white",
             "startlinecolor": "#2a3f5f"
            },
            "type": "carpet"
           }
          ],
          "choropleth": [
           {
            "colorbar": {
             "outlinewidth": 0,
             "ticks": ""
            },
            "type": "choropleth"
           }
          ],
          "contour": [
           {
            "colorbar": {
             "outlinewidth": 0,
             "ticks": ""
            },
            "colorscale": [
             [
              0,
              "#0d0887"
             ],
             [
              0.1111111111111111,
              "#46039f"
             ],
             [
              0.2222222222222222,
              "#7201a8"
             ],
             [
              0.3333333333333333,
              "#9c179e"
             ],
             [
              0.4444444444444444,
              "#bd3786"
             ],
             [
              0.5555555555555556,
              "#d8576b"
             ],
             [
              0.6666666666666666,
              "#ed7953"
             ],
             [
              0.7777777777777778,
              "#fb9f3a"
             ],
             [
              0.8888888888888888,
              "#fdca26"
             ],
             [
              1,
              "#f0f921"
             ]
            ],
            "type": "contour"
           }
          ],
          "contourcarpet": [
           {
            "colorbar": {
             "outlinewidth": 0,
             "ticks": ""
            },
            "type": "contourcarpet"
           }
          ],
          "heatmap": [
           {
            "colorbar": {
             "outlinewidth": 0,
             "ticks": ""
            },
            "colorscale": [
             [
              0,
              "#0d0887"
             ],
             [
              0.1111111111111111,
              "#46039f"
             ],
             [
              0.2222222222222222,
              "#7201a8"
             ],
             [
              0.3333333333333333,
              "#9c179e"
             ],
             [
              0.4444444444444444,
              "#bd3786"
             ],
             [
              0.5555555555555556,
              "#d8576b"
             ],
             [
              0.6666666666666666,
              "#ed7953"
             ],
             [
              0.7777777777777778,
              "#fb9f3a"
             ],
             [
              0.8888888888888888,
              "#fdca26"
             ],
             [
              1,
              "#f0f921"
             ]
            ],
            "type": "heatmap"
           }
          ],
          "heatmapgl": [
           {
            "colorbar": {
             "outlinewidth": 0,
             "ticks": ""
            },
            "colorscale": [
             [
              0,
              "#0d0887"
             ],
             [
              0.1111111111111111,
              "#46039f"
             ],
             [
              0.2222222222222222,
              "#7201a8"
             ],
             [
              0.3333333333333333,
              "#9c179e"
             ],
             [
              0.4444444444444444,
              "#bd3786"
             ],
             [
              0.5555555555555556,
              "#d8576b"
             ],
             [
              0.6666666666666666,
              "#ed7953"
             ],
             [
              0.7777777777777778,
              "#fb9f3a"
             ],
             [
              0.8888888888888888,
              "#fdca26"
             ],
             [
              1,
              "#f0f921"
             ]
            ],
            "type": "heatmapgl"
           }
          ],
          "histogram": [
           {
            "marker": {
             "colorbar": {
              "outlinewidth": 0,
              "ticks": ""
             }
            },
            "type": "histogram"
           }
          ],
          "histogram2d": [
           {
            "colorbar": {
             "outlinewidth": 0,
             "ticks": ""
            },
            "colorscale": [
             [
              0,
              "#0d0887"
             ],
             [
              0.1111111111111111,
              "#46039f"
             ],
             [
              0.2222222222222222,
              "#7201a8"
             ],
             [
              0.3333333333333333,
              "#9c179e"
             ],
             [
              0.4444444444444444,
              "#bd3786"
             ],
             [
              0.5555555555555556,
              "#d8576b"
             ],
             [
              0.6666666666666666,
              "#ed7953"
             ],
             [
              0.7777777777777778,
              "#fb9f3a"
             ],
             [
              0.8888888888888888,
              "#fdca26"
             ],
             [
              1,
              "#f0f921"
             ]
            ],
            "type": "histogram2d"
           }
          ],
          "histogram2dcontour": [
           {
            "colorbar": {
             "outlinewidth": 0,
             "ticks": ""
            },
            "colorscale": [
             [
              0,
              "#0d0887"
             ],
             [
              0.1111111111111111,
              "#46039f"
             ],
             [
              0.2222222222222222,
              "#7201a8"
             ],
             [
              0.3333333333333333,
              "#9c179e"
             ],
             [
              0.4444444444444444,
              "#bd3786"
             ],
             [
              0.5555555555555556,
              "#d8576b"
             ],
             [
              0.6666666666666666,
              "#ed7953"
             ],
             [
              0.7777777777777778,
              "#fb9f3a"
             ],
             [
              0.8888888888888888,
              "#fdca26"
             ],
             [
              1,
              "#f0f921"
             ]
            ],
            "type": "histogram2dcontour"
           }
          ],
          "mesh3d": [
           {
            "colorbar": {
             "outlinewidth": 0,
             "ticks": ""
            },
            "type": "mesh3d"
           }
          ],
          "parcoords": [
           {
            "line": {
             "colorbar": {
              "outlinewidth": 0,
              "ticks": ""
             }
            },
            "type": "parcoords"
           }
          ],
          "pie": [
           {
            "automargin": true,
            "type": "pie"
           }
          ],
          "scatter": [
           {
            "marker": {
             "colorbar": {
              "outlinewidth": 0,
              "ticks": ""
             }
            },
            "type": "scatter"
           }
          ],
          "scatter3d": [
           {
            "line": {
             "colorbar": {
              "outlinewidth": 0,
              "ticks": ""
             }
            },
            "marker": {
             "colorbar": {
              "outlinewidth": 0,
              "ticks": ""
             }
            },
            "type": "scatter3d"
           }
          ],
          "scattercarpet": [
           {
            "marker": {
             "colorbar": {
              "outlinewidth": 0,
              "ticks": ""
             }
            },
            "type": "scattercarpet"
           }
          ],
          "scattergeo": [
           {
            "marker": {
             "colorbar": {
              "outlinewidth": 0,
              "ticks": ""
             }
            },
            "type": "scattergeo"
           }
          ],
          "scattergl": [
           {
            "marker": {
             "colorbar": {
              "outlinewidth": 0,
              "ticks": ""
             }
            },
            "type": "scattergl"
           }
          ],
          "scattermapbox": [
           {
            "marker": {
             "colorbar": {
              "outlinewidth": 0,
              "ticks": ""
             }
            },
            "type": "scattermapbox"
           }
          ],
          "scatterpolar": [
           {
            "marker": {
             "colorbar": {
              "outlinewidth": 0,
              "ticks": ""
             }
            },
            "type": "scatterpolar"
           }
          ],
          "scatterpolargl": [
           {
            "marker": {
             "colorbar": {
              "outlinewidth": 0,
              "ticks": ""
             }
            },
            "type": "scatterpolargl"
           }
          ],
          "scatterternary": [
           {
            "marker": {
             "colorbar": {
              "outlinewidth": 0,
              "ticks": ""
             }
            },
            "type": "scatterternary"
           }
          ],
          "surface": [
           {
            "colorbar": {
             "outlinewidth": 0,
             "ticks": ""
            },
            "colorscale": [
             [
              0,
              "#0d0887"
             ],
             [
              0.1111111111111111,
              "#46039f"
             ],
             [
              0.2222222222222222,
              "#7201a8"
             ],
             [
              0.3333333333333333,
              "#9c179e"
             ],
             [
              0.4444444444444444,
              "#bd3786"
             ],
             [
              0.5555555555555556,
              "#d8576b"
             ],
             [
              0.6666666666666666,
              "#ed7953"
             ],
             [
              0.7777777777777778,
              "#fb9f3a"
             ],
             [
              0.8888888888888888,
              "#fdca26"
             ],
             [
              1,
              "#f0f921"
             ]
            ],
            "type": "surface"
           }
          ],
          "table": [
           {
            "cells": {
             "fill": {
              "color": "#EBF0F8"
             },
             "line": {
              "color": "white"
             }
            },
            "header": {
             "fill": {
              "color": "#C8D4E3"
             },
             "line": {
              "color": "white"
             }
            },
            "type": "table"
           }
          ]
         },
         "layout": {
          "annotationdefaults": {
           "arrowcolor": "#2a3f5f",
           "arrowhead": 0,
           "arrowwidth": 1
          },
          "autotypenumbers": "strict",
          "coloraxis": {
           "colorbar": {
            "outlinewidth": 0,
            "ticks": ""
           }
          },
          "colorscale": {
           "diverging": [
            [
             0,
             "#8e0152"
            ],
            [
             0.1,
             "#c51b7d"
            ],
            [
             0.2,
             "#de77ae"
            ],
            [
             0.3,
             "#f1b6da"
            ],
            [
             0.4,
             "#fde0ef"
            ],
            [
             0.5,
             "#f7f7f7"
            ],
            [
             0.6,
             "#e6f5d0"
            ],
            [
             0.7,
             "#b8e186"
            ],
            [
             0.8,
             "#7fbc41"
            ],
            [
             0.9,
             "#4d9221"
            ],
            [
             1,
             "#276419"
            ]
           ],
           "sequential": [
            [
             0,
             "#0d0887"
            ],
            [
             0.1111111111111111,
             "#46039f"
            ],
            [
             0.2222222222222222,
             "#7201a8"
            ],
            [
             0.3333333333333333,
             "#9c179e"
            ],
            [
             0.4444444444444444,
             "#bd3786"
            ],
            [
             0.5555555555555556,
             "#d8576b"
            ],
            [
             0.6666666666666666,
             "#ed7953"
            ],
            [
             0.7777777777777778,
             "#fb9f3a"
            ],
            [
             0.8888888888888888,
             "#fdca26"
            ],
            [
             1,
             "#f0f921"
            ]
           ],
           "sequentialminus": [
            [
             0,
             "#0d0887"
            ],
            [
             0.1111111111111111,
             "#46039f"
            ],
            [
             0.2222222222222222,
             "#7201a8"
            ],
            [
             0.3333333333333333,
             "#9c179e"
            ],
            [
             0.4444444444444444,
             "#bd3786"
            ],
            [
             0.5555555555555556,
             "#d8576b"
            ],
            [
             0.6666666666666666,
             "#ed7953"
            ],
            [
             0.7777777777777778,
             "#fb9f3a"
            ],
            [
             0.8888888888888888,
             "#fdca26"
            ],
            [
             1,
             "#f0f921"
            ]
           ]
          },
          "colorway": [
           "#636efa",
           "#EF553B",
           "#00cc96",
           "#ab63fa",
           "#FFA15A",
           "#19d3f3",
           "#FF6692",
           "#B6E880",
           "#FF97FF",
           "#FECB52"
          ],
          "font": {
           "color": "#2a3f5f"
          },
          "geo": {
           "bgcolor": "white",
           "lakecolor": "white",
           "landcolor": "#E5ECF6",
           "showlakes": true,
           "showland": true,
           "subunitcolor": "white"
          },
          "hoverlabel": {
           "align": "left"
          },
          "hovermode": "closest",
          "mapbox": {
           "style": "light"
          },
          "paper_bgcolor": "white",
          "plot_bgcolor": "#E5ECF6",
          "polar": {
           "angularaxis": {
            "gridcolor": "white",
            "linecolor": "white",
            "ticks": ""
           },
           "bgcolor": "#E5ECF6",
           "radialaxis": {
            "gridcolor": "white",
            "linecolor": "white",
            "ticks": ""
           }
          },
          "scene": {
           "xaxis": {
            "backgroundcolor": "#E5ECF6",
            "gridcolor": "white",
            "gridwidth": 2,
            "linecolor": "white",
            "showbackground": true,
            "ticks": "",
            "zerolinecolor": "white"
           },
           "yaxis": {
            "backgroundcolor": "#E5ECF6",
            "gridcolor": "white",
            "gridwidth": 2,
            "linecolor": "white",
            "showbackground": true,
            "ticks": "",
            "zerolinecolor": "white"
           },
           "zaxis": {
            "backgroundcolor": "#E5ECF6",
            "gridcolor": "white",
            "gridwidth": 2,
            "linecolor": "white",
            "showbackground": true,
            "ticks": "",
            "zerolinecolor": "white"
           }
          },
          "shapedefaults": {
           "line": {
            "color": "#2a3f5f"
           }
          },
          "ternary": {
           "aaxis": {
            "gridcolor": "white",
            "linecolor": "white",
            "ticks": ""
           },
           "baxis": {
            "gridcolor": "white",
            "linecolor": "white",
            "ticks": ""
           },
           "bgcolor": "#E5ECF6",
           "caxis": {
            "gridcolor": "white",
            "linecolor": "white",
            "ticks": ""
           }
          },
          "title": {
           "x": 0.05
          },
          "xaxis": {
           "automargin": true,
           "gridcolor": "white",
           "linecolor": "white",
           "ticks": "",
           "title": {
            "standoff": 15
           },
           "zerolinecolor": "white",
           "zerolinewidth": 2
          },
          "yaxis": {
           "automargin": true,
           "gridcolor": "white",
           "linecolor": "white",
           "ticks": "",
           "title": {
            "standoff": 15
           },
           "zerolinecolor": "white",
           "zerolinewidth": 2
          }
         }
        },
        "title": {
         "font": {
          "color": "#4D5663"
         }
        },
        "xaxis": {
         "gridcolor": "#E1E5ED",
         "showgrid": true,
         "tickfont": {
          "color": "#4D5663"
         },
         "title": {
          "font": {
           "color": "#4D5663"
          },
          "text": ""
         },
         "zerolinecolor": "#E1E5ED"
        },
        "xaxis2": {
         "anchor": "y2",
         "gridcolor": "#E1E5ED",
         "showgrid": true,
         "showticklabels": false,
         "tickfont": {
          "color": "#4D5663"
         },
         "title": {
          "font": {
           "color": "#4D5663"
          },
          "text": ""
         },
         "zerolinecolor": "#E1E5ED"
        },
        "yaxis": {
         "domain": [
          0.3,
          1
         ],
         "gridcolor": "#E1E5ED",
         "showgrid": true,
         "tickfont": {
          "color": "#4D5663"
         },
         "title": {
          "font": {
           "color": "#4D5663"
          },
          "text": ""
         },
         "zerolinecolor": "#E1E5ED"
        },
        "yaxis2": {
         "domain": [
          0,
          0.25
         ],
         "gridcolor": "#E1E5ED",
         "showgrid": true,
         "tickfont": {
          "color": "#4D5663"
         },
         "title": {
          "font": {
           "color": "#4D5663"
          },
          "text": "Spread"
         },
         "zerolinecolor": "#E1E5ED"
        }
       }
      },
      "text/html": [
       "<div>                            <div id=\"623d2bb1-d53e-4da6-857a-b3dcaffe13d7\" class=\"plotly-graph-div\" style=\"height:525px; width:100%;\"></div>            <script type=\"text/javascript\">                require([\"plotly\"], function(Plotly) {                    window.PLOTLYENV=window.PLOTLYENV || {};\n",
       "                    window.PLOTLYENV.BASE_URL='https://plot.ly';                                    if (document.getElementById(\"623d2bb1-d53e-4da6-857a-b3dcaffe13d7\")) {                    Plotly.newPlot(                        \"623d2bb1-d53e-4da6-857a-b3dcaffe13d7\",                        [{\"line\": {\"color\": \"rgba(255, 153, 51, 1.0)\", \"dash\": \"solid\", \"shape\": \"linear\", \"width\": 1.3}, \"mode\": \"lines\", \"name\": \"A\", \"text\": \"\", \"type\": \"scatter\", \"x\": [0, 1, 2, 3, 4, 5, 6, 7, 8, 9, 10, 11, 12, 13, 14, 15, 16, 17, 18, 19, 20, 21, 22, 23, 24, 25, 26, 27, 28, 29, 30, 31, 32, 33, 34, 35, 36, 37, 38, 39, 40, 41, 42, 43, 44, 45, 46, 47, 48, 49, 50, 51, 52, 53, 54, 55, 56, 57, 58, 59, 60, 61, 62, 63, 64, 65, 66, 67, 68, 69, 70, 71, 72, 73, 74, 75, 76, 77, 78, 79, 80, 81, 82, 83, 84, 85, 86, 87, 88, 89, 90, 91, 92, 93, 94, 95, 96, 97, 98, 99], \"y\": [1.2743291159598842, 0.012603295984593112, 0.026124428121605058, 0.05740195638716594, 0.7211797728758698, -1.2272404700848971, -0.0602220042618601, -1.2251272187523363, 0.7285313635047205, 0.3696043043956092, -0.005031906455792278, -0.217988503656931, -0.2958721265356392, -0.7119151897145148, -1.560092182531834, -0.97948301063551, -1.4295960531654444, -1.1734281071025316, -0.14794118852659902, 0.22858356596300675, -0.4106705073939129, 0.9201695687694685, -0.5243273775682088, 1.26090079768481, -0.17793819394265636, 1.1901683935840963, -1.3231680679116269, 0.625060436042206, 0.7057352901420538, -0.9000976494452639, 0.5977224299581562, 1.291099983403894, -0.15140884822287337, -0.07567580316289536, -1.2274736019729966, -1.1605033095785415, -0.003460674940168402, -1.0229364542489692, 0.7205474038629697, 0.49495986005977277, 0.41076790058176404, 0.1844472021660236, 0.1167576805269786, 1.112034995203464, 1.0859515215555395, -1.695322974218527, 0.7842598671527137, 0.758377284213845, -1.091849542132929, -1.3153986457811035, -0.6243415523889722, 1.1646852896543975, -0.7988149852707761, -0.7507366086782864, -0.9180420106279558, -0.2729434694854129, -1.2811526328740261, -0.9755996574451098, -0.4688125940352931, -0.26391419787528425, -2.4167264147169534, -1.066100926271971, 0.17041655454385568, -2.078311632109863, 0.560552210773985, 0.706882083984312, 0.7723109540792544, -1.4249266221939358, 1.4039689127307864, 1.778762557715026, 0.27437173358694167, 0.11733848968444871, -2.6150010633949354, -0.8592599110213128, 1.8093740945878218, -0.1292779500768447, -1.0439103137271737, 1.2829276692789005, 1.013159098488871, 0.20803697944170838, -0.6138663700796907, 0.1652084642695246, -1.8548152158867799, 1.8437969796864635, 0.5030983867380925, 0.07190031940443338, 2.1088970284366866, -1.0445203253805864, 1.0811956010542667, 1.4799493546243363, 2.050370676589714, -0.09903881715990685, 2.070541603456114, 0.7662237165749922, -0.3576102464551363, 0.49517071473458907, 1.6194456007075326, 0.18249899731952396, -0.5386291904369472, -1.4350220617716536]}, {\"line\": {\"color\": \"rgba(55, 128, 191, 1.0)\", \"dash\": \"solid\", \"shape\": \"linear\", \"width\": 1.3}, \"mode\": \"lines\", \"name\": \"B\", \"text\": \"\", \"type\": \"scatter\", \"x\": [0, 1, 2, 3, 4, 5, 6, 7, 8, 9, 10, 11, 12, 13, 14, 15, 16, 17, 18, 19, 20, 21, 22, 23, 24, 25, 26, 27, 28, 29, 30, 31, 32, 33, 34, 35, 36, 37, 38, 39, 40, 41, 42, 43, 44, 45, 46, 47, 48, 49, 50, 51, 52, 53, 54, 55, 56, 57, 58, 59, 60, 61, 62, 63, 64, 65, 66, 67, 68, 69, 70, 71, 72, 73, 74, 75, 76, 77, 78, 79, 80, 81, 82, 83, 84, 85, 86, 87, 88, 89, 90, 91, 92, 93, 94, 95, 96, 97, 98, 99], \"y\": [-0.39531474003646183, -0.8867252341912623, 1.5959727139592397, -0.8915771314389602, 0.052385164048535215, -2.15514457439745, -1.8144544174035113, 0.08262005734589607, -0.36215198720850966, -1.228011983928278, -1.1410569805616517, -1.8002508826157904, 0.11744455836016172, -0.3718960945496368, 2.1095460426240846, 0.07887321650891946, 1.1682426861997464, -1.0385909818862178, 1.2904598411544959, -0.22589344504336356, -1.4165857426047672, -0.5845932169728495, 1.005124981817119, 0.8647853134104359, 1.5345743538298893, -0.6197658515889924, 0.4357103295542794, -0.643051371066005, -1.3096943661431093, 0.8752592855623904, 1.5987924708863182, -1.851139766837587, -1.4938816462310027, 1.511566102263444, -0.6002087041576118, -0.0750572625889012, -0.17628415605563305, -2.1805287231472037, -0.030848334334775927, -0.3304526075523714, 0.0178820557060164, 0.6908592869951391, 0.5481008805639314, 0.832811189808415, 0.019159938639792595, 1.180810231871073, 2.730747151610139, 0.47962211842500235, -1.115686833838263, -0.30239009589317517, 1.1713524884410316, -0.764656756383517, -0.6734519706171885, 1.1738819770023874, 0.025005237496141357, 0.9104392998046482, -0.3280391121163882, -0.3486935451998248, -0.46793500068688076, -0.3757619711666674, -0.3369861822352449, 0.722504307134837, -0.9929175231489182, -0.07617301189038786, 0.23089195302073037, -0.680100584163858, -0.8527155998532249, -0.7499693642787079, 1.4485578094733376, -1.1288994330475783, -0.7837078716233372, 0.7410973973324356, 0.3968117932668227, 0.9157511083687346, 0.3097620256451611, 0.6713401468685719, -0.5640468063713121, -0.43173512125063357, -1.0714794639032783, 1.323383682867993, -0.9351732722358566, -0.37504844765015305, 0.8660583605656553, 1.2887658734490224, 0.41503915951653897, -0.08132023809148904, -0.0011254533419979285, -1.8579339281616882, 0.9527033182663938, -0.28974539692538254, 1.5966620018083522, 0.5548831948574292, 0.2937735161744529, 0.21423897173344594, 0.6196979234332269, -0.8881001296958283, 0.030131395706024945, 0.6222707263472929, 0.5785613303233125, -1.6404562494386814]}, {\"connectgaps\": false, \"fill\": \"tozeroy\", \"line\": {\"color\": \"green\", \"dash\": \"solid\", \"shape\": \"linear\", \"width\": 0.5}, \"mode\": \"lines\", \"name\": \"Spread\", \"showlegend\": false, \"type\": \"scatter\", \"x\": [0, 1, 2, 3, 4, 5, 6, 7, 8, 9, 10, 11, 12, 13, 14, 15, 16, 17, 18, 19, 20, 21, 22, 23, 24, 25, 26, 27, 28, 29, 30, 31, 32, 33, 34, 35, 36, 37, 38, 39, 40, 41, 42, 43, 44, 45, 46, 47, 48, 49, 50, 51, 52, 53, 54, 55, 56, 57, 58, 59, 60, 61, 62, 63, 64, 65, 66, 67, 68, 69, 70, 71, 72, 73, 74, 75, 76, 77, 78, 79, 80, 81, 82, 83, 84, 85, 86, 87, 88, 89, 90, 91, 92, 93, 94, 95, 96, 97, 98, 99], \"xaxis\": \"x2\", \"y\": [1.669643855996346, 0.8993285301758553, \"\", 0.9489790878261262, 0.6687946088273345, 0.9279041043125529, 1.7542324131416511, \"\", 1.09068335071323, 1.5976162883238871, 1.1360250741058595, 1.5822623789588595, \"\", \"\", \"\", \"\", \"\", \"\", \"\", 0.4544770110063703, 1.0059152352108542, 1.504762785742318, \"\", 0.39611548427437404, \"\", 1.8099342451730887, \"\", 1.268111807108211, 2.0154296562851632, \"\", \"\", 3.1422397502414814, 1.3424727980081292, \"\", \"\", \"\", 0.17282348111546464, 1.1575922688982345, 0.7513957381977456, 0.8254124676121442, 0.3928858448757476, \"\", \"\", 0.2792238053950491, 1.066791582915747, \"\", \"\", 0.27875516578884263, 0.023837291705333996, \"\", \"\", 1.9293420460379145, \"\", \"\", \"\", \"\", \"\", \"\", \"\", 0.11184777329138312, \"\", \"\", 1.1633340776927739, \"\", 0.3296602577532546, 1.3869826681481698, 1.6250265539324793, \"\", \"\", 2.9076619907626045, 1.058079605210279, \"\", \"\", \"\", 1.4996120689426609, \"\", \"\", 1.714662790529534, 2.0846385623921493, \"\", 0.32130690215616586, 0.5402569119196776, \"\", 0.5550311062374411, 0.08805922722155352, 0.15322055749592242, 2.1100224817786843, 0.8134136027811019, 0.12849228278787295, 1.7696947515497188, 0.4537086747813619, \"\", 1.7767680872816611, 0.5519847448415462, \"\", 1.3832708444304174, 1.5893142050015077, \"\", \"\", 0.2054341876670278], \"yaxis\": \"y2\"}, {\"connectgaps\": false, \"fill\": \"tozeroy\", \"line\": {\"color\": \"red\", \"dash\": \"solid\", \"shape\": \"linear\", \"width\": 0.5}, \"mode\": \"lines\", \"name\": \"Spread\", \"showlegend\": false, \"type\": \"scatter\", \"x\": [0, 1, 2, 3, 4, 5, 6, 7, 8, 9, 10, 11, 12, 13, 14, 15, 16, 17, 18, 19, 20, 21, 22, 23, 24, 25, 26, 27, 28, 29, 30, 31, 32, 33, 34, 35, 36, 37, 38, 39, 40, 41, 42, 43, 44, 45, 46, 47, 48, 49, 50, 51, 52, 53, 54, 55, 56, 57, 58, 59, 60, 61, 62, 63, 64, 65, 66, 67, 68, 69, 70, 71, 72, 73, 74, 75, 76, 77, 78, 79, 80, 81, 82, 83, 84, 85, 86, 87, 88, 89, 90, 91, 92, 93, 94, 95, 96, 97, 98, 99], \"xaxis\": \"x2\", \"y\": [\"\", \"\", -1.5698482858376346, \"\", \"\", \"\", \"\", -1.3077472760982325, \"\", \"\", \"\", \"\", -0.4133166848958009, -0.34001909516487805, -3.6696382251559188, -1.0583562271444296, -2.5978387393651907, -0.13483712521631386, -1.438401029681095, \"\", \"\", \"\", -1.5294523593853278, \"\", -1.7125125477725456, \"\", -1.7588783974659064, \"\", \"\", -1.7753569350076543, -1.001070040928162, \"\", \"\", -1.5872419054263394, -0.6272648978153847, -1.0854460469896403, \"\", \"\", \"\", \"\", \"\", -0.5064120848291155, -0.43134320003695276, \"\", \"\", -2.8761332060896, -1.9464872844574255, \"\", \"\", -1.0130085498879284, -1.7956940408300037, \"\", -0.12536301465358757, -1.924618585680674, -0.9430472481240971, -1.1833827692900611, -0.953113520757638, -0.626906112245285, -0.0008775933484123088, \"\", -2.0797402324817087, -1.788605233406808, \"\", -2.002138620219475, \"\", \"\", \"\", -0.674957257915228, -0.044588896742551176, \"\", \"\", -0.6237589076479869, -3.0118128566617584, -1.7750110193900475, \"\", -0.8006180969454166, -0.4798635073558616, \"\", \"\", -1.1153467034262847, \"\", \"\", -2.720873576452435, \"\", \"\", \"\", \"\", \"\", \"\", \"\", \"\", -0.653922012017336, \"\", \"\", -0.9773081698883632, \"\", \"\", -0.4397717290277689, -1.1171905207602597, \"\"], \"yaxis\": \"y2\"}],                        {\"hovermode\": \"x\", \"legend\": {\"bgcolor\": \"#F5F6F9\", \"font\": {\"color\": \"#4D5663\"}}, \"paper_bgcolor\": \"#F5F6F9\", \"plot_bgcolor\": \"#F5F6F9\", \"template\": {\"data\": {\"bar\": [{\"error_x\": {\"color\": \"#2a3f5f\"}, \"error_y\": {\"color\": \"#2a3f5f\"}, \"marker\": {\"line\": {\"color\": \"#E5ECF6\", \"width\": 0.5}}, \"type\": \"bar\"}], \"barpolar\": [{\"marker\": {\"line\": {\"color\": \"#E5ECF6\", \"width\": 0.5}}, \"type\": \"barpolar\"}], \"carpet\": [{\"aaxis\": {\"endlinecolor\": \"#2a3f5f\", \"gridcolor\": \"white\", \"linecolor\": \"white\", \"minorgridcolor\": \"white\", \"startlinecolor\": \"#2a3f5f\"}, \"baxis\": {\"endlinecolor\": \"#2a3f5f\", \"gridcolor\": \"white\", \"linecolor\": \"white\", \"minorgridcolor\": \"white\", \"startlinecolor\": \"#2a3f5f\"}, \"type\": \"carpet\"}], \"choropleth\": [{\"colorbar\": {\"outlinewidth\": 0, \"ticks\": \"\"}, \"type\": \"choropleth\"}], \"contour\": [{\"colorbar\": {\"outlinewidth\": 0, \"ticks\": \"\"}, \"colorscale\": [[0.0, \"#0d0887\"], [0.1111111111111111, \"#46039f\"], [0.2222222222222222, \"#7201a8\"], [0.3333333333333333, \"#9c179e\"], [0.4444444444444444, \"#bd3786\"], [0.5555555555555556, \"#d8576b\"], [0.6666666666666666, \"#ed7953\"], [0.7777777777777778, \"#fb9f3a\"], [0.8888888888888888, \"#fdca26\"], [1.0, \"#f0f921\"]], \"type\": \"contour\"}], \"contourcarpet\": [{\"colorbar\": {\"outlinewidth\": 0, \"ticks\": \"\"}, \"type\": \"contourcarpet\"}], \"heatmap\": [{\"colorbar\": {\"outlinewidth\": 0, \"ticks\": \"\"}, \"colorscale\": [[0.0, \"#0d0887\"], [0.1111111111111111, \"#46039f\"], [0.2222222222222222, \"#7201a8\"], [0.3333333333333333, \"#9c179e\"], [0.4444444444444444, \"#bd3786\"], [0.5555555555555556, \"#d8576b\"], [0.6666666666666666, \"#ed7953\"], [0.7777777777777778, \"#fb9f3a\"], [0.8888888888888888, \"#fdca26\"], [1.0, \"#f0f921\"]], \"type\": \"heatmap\"}], \"heatmapgl\": [{\"colorbar\": {\"outlinewidth\": 0, \"ticks\": \"\"}, \"colorscale\": [[0.0, \"#0d0887\"], [0.1111111111111111, \"#46039f\"], [0.2222222222222222, \"#7201a8\"], [0.3333333333333333, \"#9c179e\"], [0.4444444444444444, \"#bd3786\"], [0.5555555555555556, \"#d8576b\"], [0.6666666666666666, \"#ed7953\"], [0.7777777777777778, \"#fb9f3a\"], [0.8888888888888888, \"#fdca26\"], [1.0, \"#f0f921\"]], \"type\": \"heatmapgl\"}], \"histogram\": [{\"marker\": {\"colorbar\": {\"outlinewidth\": 0, \"ticks\": \"\"}}, \"type\": \"histogram\"}], \"histogram2d\": [{\"colorbar\": {\"outlinewidth\": 0, \"ticks\": \"\"}, \"colorscale\": [[0.0, \"#0d0887\"], [0.1111111111111111, \"#46039f\"], [0.2222222222222222, \"#7201a8\"], [0.3333333333333333, \"#9c179e\"], [0.4444444444444444, \"#bd3786\"], [0.5555555555555556, \"#d8576b\"], [0.6666666666666666, \"#ed7953\"], [0.7777777777777778, \"#fb9f3a\"], [0.8888888888888888, \"#fdca26\"], [1.0, \"#f0f921\"]], \"type\": \"histogram2d\"}], \"histogram2dcontour\": [{\"colorbar\": {\"outlinewidth\": 0, \"ticks\": \"\"}, \"colorscale\": [[0.0, \"#0d0887\"], [0.1111111111111111, \"#46039f\"], [0.2222222222222222, \"#7201a8\"], [0.3333333333333333, \"#9c179e\"], [0.4444444444444444, \"#bd3786\"], [0.5555555555555556, \"#d8576b\"], [0.6666666666666666, \"#ed7953\"], [0.7777777777777778, \"#fb9f3a\"], [0.8888888888888888, \"#fdca26\"], [1.0, \"#f0f921\"]], \"type\": \"histogram2dcontour\"}], \"mesh3d\": [{\"colorbar\": {\"outlinewidth\": 0, \"ticks\": \"\"}, \"type\": \"mesh3d\"}], \"parcoords\": [{\"line\": {\"colorbar\": {\"outlinewidth\": 0, \"ticks\": \"\"}}, \"type\": \"parcoords\"}], \"pie\": [{\"automargin\": true, \"type\": \"pie\"}], \"scatter\": [{\"marker\": {\"colorbar\": {\"outlinewidth\": 0, \"ticks\": \"\"}}, \"type\": \"scatter\"}], \"scatter3d\": [{\"line\": {\"colorbar\": {\"outlinewidth\": 0, \"ticks\": \"\"}}, \"marker\": {\"colorbar\": {\"outlinewidth\": 0, \"ticks\": \"\"}}, \"type\": \"scatter3d\"}], \"scattercarpet\": [{\"marker\": {\"colorbar\": {\"outlinewidth\": 0, \"ticks\": \"\"}}, \"type\": \"scattercarpet\"}], \"scattergeo\": [{\"marker\": {\"colorbar\": {\"outlinewidth\": 0, \"ticks\": \"\"}}, \"type\": \"scattergeo\"}], \"scattergl\": [{\"marker\": {\"colorbar\": {\"outlinewidth\": 0, \"ticks\": \"\"}}, \"type\": \"scattergl\"}], \"scattermapbox\": [{\"marker\": {\"colorbar\": {\"outlinewidth\": 0, \"ticks\": \"\"}}, \"type\": \"scattermapbox\"}], \"scatterpolar\": [{\"marker\": {\"colorbar\": {\"outlinewidth\": 0, \"ticks\": \"\"}}, \"type\": \"scatterpolar\"}], \"scatterpolargl\": [{\"marker\": {\"colorbar\": {\"outlinewidth\": 0, \"ticks\": \"\"}}, \"type\": \"scatterpolargl\"}], \"scatterternary\": [{\"marker\": {\"colorbar\": {\"outlinewidth\": 0, \"ticks\": \"\"}}, \"type\": \"scatterternary\"}], \"surface\": [{\"colorbar\": {\"outlinewidth\": 0, \"ticks\": \"\"}, \"colorscale\": [[0.0, \"#0d0887\"], [0.1111111111111111, \"#46039f\"], [0.2222222222222222, \"#7201a8\"], [0.3333333333333333, \"#9c179e\"], [0.4444444444444444, \"#bd3786\"], [0.5555555555555556, \"#d8576b\"], [0.6666666666666666, \"#ed7953\"], [0.7777777777777778, \"#fb9f3a\"], [0.8888888888888888, \"#fdca26\"], [1.0, \"#f0f921\"]], \"type\": \"surface\"}], \"table\": [{\"cells\": {\"fill\": {\"color\": \"#EBF0F8\"}, \"line\": {\"color\": \"white\"}}, \"header\": {\"fill\": {\"color\": \"#C8D4E3\"}, \"line\": {\"color\": \"white\"}}, \"type\": \"table\"}]}, \"layout\": {\"annotationdefaults\": {\"arrowcolor\": \"#2a3f5f\", \"arrowhead\": 0, \"arrowwidth\": 1}, \"autotypenumbers\": \"strict\", \"coloraxis\": {\"colorbar\": {\"outlinewidth\": 0, \"ticks\": \"\"}}, \"colorscale\": {\"diverging\": [[0, \"#8e0152\"], [0.1, \"#c51b7d\"], [0.2, \"#de77ae\"], [0.3, \"#f1b6da\"], [0.4, \"#fde0ef\"], [0.5, \"#f7f7f7\"], [0.6, \"#e6f5d0\"], [0.7, \"#b8e186\"], [0.8, \"#7fbc41\"], [0.9, \"#4d9221\"], [1, \"#276419\"]], \"sequential\": [[0.0, \"#0d0887\"], [0.1111111111111111, \"#46039f\"], [0.2222222222222222, \"#7201a8\"], [0.3333333333333333, \"#9c179e\"], [0.4444444444444444, \"#bd3786\"], [0.5555555555555556, \"#d8576b\"], [0.6666666666666666, \"#ed7953\"], [0.7777777777777778, \"#fb9f3a\"], [0.8888888888888888, \"#fdca26\"], [1.0, \"#f0f921\"]], \"sequentialminus\": [[0.0, \"#0d0887\"], [0.1111111111111111, \"#46039f\"], [0.2222222222222222, \"#7201a8\"], [0.3333333333333333, \"#9c179e\"], [0.4444444444444444, \"#bd3786\"], [0.5555555555555556, \"#d8576b\"], [0.6666666666666666, \"#ed7953\"], [0.7777777777777778, \"#fb9f3a\"], [0.8888888888888888, \"#fdca26\"], [1.0, \"#f0f921\"]]}, \"colorway\": [\"#636efa\", \"#EF553B\", \"#00cc96\", \"#ab63fa\", \"#FFA15A\", \"#19d3f3\", \"#FF6692\", \"#B6E880\", \"#FF97FF\", \"#FECB52\"], \"font\": {\"color\": \"#2a3f5f\"}, \"geo\": {\"bgcolor\": \"white\", \"lakecolor\": \"white\", \"landcolor\": \"#E5ECF6\", \"showlakes\": true, \"showland\": true, \"subunitcolor\": \"white\"}, \"hoverlabel\": {\"align\": \"left\"}, \"hovermode\": \"closest\", \"mapbox\": {\"style\": \"light\"}, \"paper_bgcolor\": \"white\", \"plot_bgcolor\": \"#E5ECF6\", \"polar\": {\"angularaxis\": {\"gridcolor\": \"white\", \"linecolor\": \"white\", \"ticks\": \"\"}, \"bgcolor\": \"#E5ECF6\", \"radialaxis\": {\"gridcolor\": \"white\", \"linecolor\": \"white\", \"ticks\": \"\"}}, \"scene\": {\"xaxis\": {\"backgroundcolor\": \"#E5ECF6\", \"gridcolor\": \"white\", \"gridwidth\": 2, \"linecolor\": \"white\", \"showbackground\": true, \"ticks\": \"\", \"zerolinecolor\": \"white\"}, \"yaxis\": {\"backgroundcolor\": \"#E5ECF6\", \"gridcolor\": \"white\", \"gridwidth\": 2, \"linecolor\": \"white\", \"showbackground\": true, \"ticks\": \"\", \"zerolinecolor\": \"white\"}, \"zaxis\": {\"backgroundcolor\": \"#E5ECF6\", \"gridcolor\": \"white\", \"gridwidth\": 2, \"linecolor\": \"white\", \"showbackground\": true, \"ticks\": \"\", \"zerolinecolor\": \"white\"}}, \"shapedefaults\": {\"line\": {\"color\": \"#2a3f5f\"}}, \"ternary\": {\"aaxis\": {\"gridcolor\": \"white\", \"linecolor\": \"white\", \"ticks\": \"\"}, \"baxis\": {\"gridcolor\": \"white\", \"linecolor\": \"white\", \"ticks\": \"\"}, \"bgcolor\": \"#E5ECF6\", \"caxis\": {\"gridcolor\": \"white\", \"linecolor\": \"white\", \"ticks\": \"\"}}, \"title\": {\"x\": 0.05}, \"xaxis\": {\"automargin\": true, \"gridcolor\": \"white\", \"linecolor\": \"white\", \"ticks\": \"\", \"title\": {\"standoff\": 15}, \"zerolinecolor\": \"white\", \"zerolinewidth\": 2}, \"yaxis\": {\"automargin\": true, \"gridcolor\": \"white\", \"linecolor\": \"white\", \"ticks\": \"\", \"title\": {\"standoff\": 15}, \"zerolinecolor\": \"white\", \"zerolinewidth\": 2}}}, \"title\": {\"font\": {\"color\": \"#4D5663\"}}, \"xaxis\": {\"gridcolor\": \"#E1E5ED\", \"showgrid\": true, \"tickfont\": {\"color\": \"#4D5663\"}, \"title\": {\"font\": {\"color\": \"#4D5663\"}, \"text\": \"\"}, \"zerolinecolor\": \"#E1E5ED\"}, \"xaxis2\": {\"anchor\": \"y2\", \"gridcolor\": \"#E1E5ED\", \"showgrid\": true, \"showticklabels\": false, \"tickfont\": {\"color\": \"#4D5663\"}, \"title\": {\"font\": {\"color\": \"#4D5663\"}, \"text\": \"\"}, \"zerolinecolor\": \"#E1E5ED\"}, \"yaxis\": {\"domain\": [0.3, 1], \"gridcolor\": \"#E1E5ED\", \"showgrid\": true, \"tickfont\": {\"color\": \"#4D5663\"}, \"title\": {\"font\": {\"color\": \"#4D5663\"}, \"text\": \"\"}, \"zerolinecolor\": \"#E1E5ED\"}, \"yaxis2\": {\"domain\": [0, 0.25], \"gridcolor\": \"#E1E5ED\", \"showgrid\": true, \"tickfont\": {\"color\": \"#4D5663\"}, \"title\": {\"font\": {\"color\": \"#4D5663\"}, \"text\": \"Spread\"}, \"zerolinecolor\": \"#E1E5ED\"}},                        {\"showLink\": true, \"linkText\": \"Export to plot.ly\", \"plotlyServerURL\": \"https://plot.ly\", \"responsive\": true}                    ).then(function(){\n",
       "                            \n",
       "var gd = document.getElementById('623d2bb1-d53e-4da6-857a-b3dcaffe13d7');\n",
       "var x = new MutationObserver(function (mutations, observer) {{\n",
       "        var display = window.getComputedStyle(gd).display;\n",
       "        if (!display || display === 'none') {{\n",
       "            console.log([gd, 'removed!']);\n",
       "            Plotly.purge(gd);\n",
       "            observer.disconnect();\n",
       "        }}\n",
       "}});\n",
       "\n",
       "// Listen for the removal of the full notebook cells\n",
       "var notebookContainer = gd.closest('#notebook-container');\n",
       "if (notebookContainer) {{\n",
       "    x.observe(notebookContainer, {childList: true});\n",
       "}}\n",
       "\n",
       "// Listen for the clearing of the current output cell\n",
       "var outputEl = gd.closest('.output');\n",
       "if (outputEl) {{\n",
       "    x.observe(outputEl, {childList: true});\n",
       "}}\n",
       "\n",
       "                        })                };                });            </script>        </div>"
      ]
     },
     "metadata": {},
     "output_type": "display_data"
    }
   ],
   "source": [
    "df[['A','B']].iplot(kind='spread')"
   ]
  },
  {
   "cell_type": "code",
   "execution_count": 26,
   "metadata": {},
   "outputs": [
    {
     "data": {
      "application/vnd.plotly.v1+json": {
       "config": {
        "linkText": "Export to plot.ly",
        "plotlyServerURL": "https://plot.ly",
        "showLink": true
       },
       "data": [
        {
         "marker": {
          "color": [
           "red",
           "red",
           "red",
           "red",
           "red",
           "red",
           "red",
           "red",
           "red",
           "red",
           "red",
           "red",
           "red",
           "red",
           "red",
           "red",
           "red",
           "red",
           "red",
           "red",
           "red",
           "red",
           "red",
           "red",
           "red",
           "red",
           "red",
           "red",
           "red",
           "red",
           "red",
           "red",
           "red",
           "red",
           "red",
           "red",
           "red",
           "red",
           "red",
           "red",
           "red",
           "red",
           "red",
           "red",
           "red",
           "red",
           "red",
           "red",
           "red",
           "red",
           "red",
           "red",
           "red",
           "red",
           "red",
           "red",
           "red",
           "red",
           "red",
           "red",
           "red",
           "red",
           "red",
           "red",
           "red",
           "red",
           "red",
           "red",
           "red",
           "red",
           "red",
           "red",
           "red",
           "red",
           "red",
           "red",
           "red",
           "red",
           "red",
           "red",
           "red",
           "red",
           "red",
           "red",
           "red",
           "red",
           "red",
           "red",
           "red",
           "red",
           "red",
           "red",
           "red",
           "red",
           "red",
           "red",
           "red",
           "red",
           "red",
           "red"
          ],
          "line": {
           "width": 1.3
          },
          "size": [
           58,
           36,
           46,
           56,
           67,
           79,
           67,
           55,
           60,
           30,
           55,
           21,
           104,
           51,
           92,
           79,
           52,
           87,
           55,
           51,
           100,
           23,
           35,
           34,
           37,
           74,
           37,
           65,
           71,
           22,
           32,
           72,
           57,
           39,
           39,
           77,
           70,
           25,
           55,
           80,
           51,
           79,
           100,
           92,
           36,
           66,
           63,
           47,
           69,
           49,
           75,
           29,
           72,
           68,
           87,
           79,
           43,
           93,
           109,
           100,
           27,
           36,
           71,
           61,
           88,
           101,
           71,
           67,
           72,
           49,
           68,
           23,
           78,
           63,
           71,
           67,
           12,
           93,
           38,
           101,
           52,
           82,
           18,
           80,
           89,
           91,
           54,
           51,
           42,
           77,
           53,
           70,
           82,
           46,
           71,
           93,
           67,
           45,
           48,
           112
          ],
          "symbol": "circle"
         },
         "mode": "markers",
         "text": "",
         "type": "scatter",
         "x": [
          1.2743291159598842,
          0.012603295984593112,
          0.026124428121605058,
          0.05740195638716594,
          0.7211797728758698,
          -1.2272404700848971,
          -0.0602220042618601,
          -1.2251272187523363,
          0.7285313635047205,
          0.3696043043956092,
          -0.005031906455792278,
          -0.217988503656931,
          -0.2958721265356392,
          -0.7119151897145148,
          -1.560092182531834,
          -0.97948301063551,
          -1.4295960531654444,
          -1.1734281071025316,
          -0.14794118852659902,
          0.22858356596300675,
          -0.4106705073939129,
          0.9201695687694685,
          -0.5243273775682088,
          1.26090079768481,
          -0.17793819394265636,
          1.1901683935840963,
          -1.3231680679116269,
          0.625060436042206,
          0.7057352901420538,
          -0.9000976494452639,
          0.5977224299581562,
          1.291099983403894,
          -0.15140884822287337,
          -0.07567580316289536,
          -1.2274736019729966,
          -1.1605033095785415,
          -0.003460674940168402,
          -1.0229364542489692,
          0.7205474038629697,
          0.49495986005977277,
          0.41076790058176404,
          0.1844472021660236,
          0.1167576805269786,
          1.112034995203464,
          1.0859515215555395,
          -1.695322974218527,
          0.7842598671527137,
          0.758377284213845,
          -1.091849542132929,
          -1.3153986457811035,
          -0.6243415523889722,
          1.1646852896543975,
          -0.7988149852707761,
          -0.7507366086782864,
          -0.9180420106279558,
          -0.2729434694854129,
          -1.2811526328740261,
          -0.9755996574451098,
          -0.4688125940352931,
          -0.26391419787528425,
          -2.4167264147169534,
          -1.066100926271971,
          0.17041655454385568,
          -2.078311632109863,
          0.560552210773985,
          0.706882083984312,
          0.7723109540792544,
          -1.4249266221939358,
          1.4039689127307864,
          1.778762557715026,
          0.27437173358694167,
          0.11733848968444871,
          -2.6150010633949354,
          -0.8592599110213128,
          1.8093740945878218,
          -0.1292779500768447,
          -1.0439103137271737,
          1.2829276692789005,
          1.013159098488871,
          0.20803697944170838,
          -0.6138663700796907,
          0.1652084642695246,
          -1.8548152158867799,
          1.8437969796864635,
          0.5030983867380925,
          0.07190031940443338,
          2.1088970284366866,
          -1.0445203253805864,
          1.0811956010542667,
          1.4799493546243363,
          2.050370676589714,
          -0.09903881715990685,
          2.070541603456114,
          0.7662237165749922,
          -0.3576102464551363,
          0.49517071473458907,
          1.6194456007075326,
          0.18249899731952396,
          -0.5386291904369472,
          -1.4350220617716536
         ],
         "y": [
          -0.39531474003646183,
          -0.8867252341912623,
          1.5959727139592397,
          -0.8915771314389602,
          0.052385164048535215,
          -2.15514457439745,
          -1.8144544174035113,
          0.08262005734589607,
          -0.36215198720850966,
          -1.228011983928278,
          -1.1410569805616517,
          -1.8002508826157904,
          0.11744455836016172,
          -0.3718960945496368,
          2.1095460426240846,
          0.07887321650891946,
          1.1682426861997464,
          -1.0385909818862178,
          1.2904598411544959,
          -0.22589344504336356,
          -1.4165857426047672,
          -0.5845932169728495,
          1.005124981817119,
          0.8647853134104359,
          1.5345743538298893,
          -0.6197658515889924,
          0.4357103295542794,
          -0.643051371066005,
          -1.3096943661431093,
          0.8752592855623904,
          1.5987924708863182,
          -1.851139766837587,
          -1.4938816462310027,
          1.511566102263444,
          -0.6002087041576118,
          -0.0750572625889012,
          -0.17628415605563305,
          -2.1805287231472037,
          -0.030848334334775927,
          -0.3304526075523714,
          0.0178820557060164,
          0.6908592869951391,
          0.5481008805639314,
          0.832811189808415,
          0.019159938639792595,
          1.180810231871073,
          2.730747151610139,
          0.47962211842500235,
          -1.115686833838263,
          -0.30239009589317517,
          1.1713524884410316,
          -0.764656756383517,
          -0.6734519706171885,
          1.1738819770023874,
          0.025005237496141357,
          0.9104392998046482,
          -0.3280391121163882,
          -0.3486935451998248,
          -0.46793500068688076,
          -0.3757619711666674,
          -0.3369861822352449,
          0.722504307134837,
          -0.9929175231489182,
          -0.07617301189038786,
          0.23089195302073037,
          -0.680100584163858,
          -0.8527155998532249,
          -0.7499693642787079,
          1.4485578094733376,
          -1.1288994330475783,
          -0.7837078716233372,
          0.7410973973324356,
          0.3968117932668227,
          0.9157511083687346,
          0.3097620256451611,
          0.6713401468685719,
          -0.5640468063713121,
          -0.43173512125063357,
          -1.0714794639032783,
          1.323383682867993,
          -0.9351732722358566,
          -0.37504844765015305,
          0.8660583605656553,
          1.2887658734490224,
          0.41503915951653897,
          -0.08132023809148904,
          -0.0011254533419979285,
          -1.8579339281616882,
          0.9527033182663938,
          -0.28974539692538254,
          1.5966620018083522,
          0.5548831948574292,
          0.2937735161744529,
          0.21423897173344594,
          0.6196979234332269,
          -0.8881001296958283,
          0.030131395706024945,
          0.6222707263472929,
          0.5785613303233125,
          -1.6404562494386814
         ]
        }
       ],
       "layout": {
        "legend": {
         "bgcolor": "#F5F6F9",
         "font": {
          "color": "#4D5663"
         }
        },
        "paper_bgcolor": "#F5F6F9",
        "plot_bgcolor": "#F5F6F9",
        "template": {
         "data": {
          "bar": [
           {
            "error_x": {
             "color": "#2a3f5f"
            },
            "error_y": {
             "color": "#2a3f5f"
            },
            "marker": {
             "line": {
              "color": "#E5ECF6",
              "width": 0.5
             }
            },
            "type": "bar"
           }
          ],
          "barpolar": [
           {
            "marker": {
             "line": {
              "color": "#E5ECF6",
              "width": 0.5
             }
            },
            "type": "barpolar"
           }
          ],
          "carpet": [
           {
            "aaxis": {
             "endlinecolor": "#2a3f5f",
             "gridcolor": "white",
             "linecolor": "white",
             "minorgridcolor": "white",
             "startlinecolor": "#2a3f5f"
            },
            "baxis": {
             "endlinecolor": "#2a3f5f",
             "gridcolor": "white",
             "linecolor": "white",
             "minorgridcolor": "white",
             "startlinecolor": "#2a3f5f"
            },
            "type": "carpet"
           }
          ],
          "choropleth": [
           {
            "colorbar": {
             "outlinewidth": 0,
             "ticks": ""
            },
            "type": "choropleth"
           }
          ],
          "contour": [
           {
            "colorbar": {
             "outlinewidth": 0,
             "ticks": ""
            },
            "colorscale": [
             [
              0,
              "#0d0887"
             ],
             [
              0.1111111111111111,
              "#46039f"
             ],
             [
              0.2222222222222222,
              "#7201a8"
             ],
             [
              0.3333333333333333,
              "#9c179e"
             ],
             [
              0.4444444444444444,
              "#bd3786"
             ],
             [
              0.5555555555555556,
              "#d8576b"
             ],
             [
              0.6666666666666666,
              "#ed7953"
             ],
             [
              0.7777777777777778,
              "#fb9f3a"
             ],
             [
              0.8888888888888888,
              "#fdca26"
             ],
             [
              1,
              "#f0f921"
             ]
            ],
            "type": "contour"
           }
          ],
          "contourcarpet": [
           {
            "colorbar": {
             "outlinewidth": 0,
             "ticks": ""
            },
            "type": "contourcarpet"
           }
          ],
          "heatmap": [
           {
            "colorbar": {
             "outlinewidth": 0,
             "ticks": ""
            },
            "colorscale": [
             [
              0,
              "#0d0887"
             ],
             [
              0.1111111111111111,
              "#46039f"
             ],
             [
              0.2222222222222222,
              "#7201a8"
             ],
             [
              0.3333333333333333,
              "#9c179e"
             ],
             [
              0.4444444444444444,
              "#bd3786"
             ],
             [
              0.5555555555555556,
              "#d8576b"
             ],
             [
              0.6666666666666666,
              "#ed7953"
             ],
             [
              0.7777777777777778,
              "#fb9f3a"
             ],
             [
              0.8888888888888888,
              "#fdca26"
             ],
             [
              1,
              "#f0f921"
             ]
            ],
            "type": "heatmap"
           }
          ],
          "heatmapgl": [
           {
            "colorbar": {
             "outlinewidth": 0,
             "ticks": ""
            },
            "colorscale": [
             [
              0,
              "#0d0887"
             ],
             [
              0.1111111111111111,
              "#46039f"
             ],
             [
              0.2222222222222222,
              "#7201a8"
             ],
             [
              0.3333333333333333,
              "#9c179e"
             ],
             [
              0.4444444444444444,
              "#bd3786"
             ],
             [
              0.5555555555555556,
              "#d8576b"
             ],
             [
              0.6666666666666666,
              "#ed7953"
             ],
             [
              0.7777777777777778,
              "#fb9f3a"
             ],
             [
              0.8888888888888888,
              "#fdca26"
             ],
             [
              1,
              "#f0f921"
             ]
            ],
            "type": "heatmapgl"
           }
          ],
          "histogram": [
           {
            "marker": {
             "colorbar": {
              "outlinewidth": 0,
              "ticks": ""
             }
            },
            "type": "histogram"
           }
          ],
          "histogram2d": [
           {
            "colorbar": {
             "outlinewidth": 0,
             "ticks": ""
            },
            "colorscale": [
             [
              0,
              "#0d0887"
             ],
             [
              0.1111111111111111,
              "#46039f"
             ],
             [
              0.2222222222222222,
              "#7201a8"
             ],
             [
              0.3333333333333333,
              "#9c179e"
             ],
             [
              0.4444444444444444,
              "#bd3786"
             ],
             [
              0.5555555555555556,
              "#d8576b"
             ],
             [
              0.6666666666666666,
              "#ed7953"
             ],
             [
              0.7777777777777778,
              "#fb9f3a"
             ],
             [
              0.8888888888888888,
              "#fdca26"
             ],
             [
              1,
              "#f0f921"
             ]
            ],
            "type": "histogram2d"
           }
          ],
          "histogram2dcontour": [
           {
            "colorbar": {
             "outlinewidth": 0,
             "ticks": ""
            },
            "colorscale": [
             [
              0,
              "#0d0887"
             ],
             [
              0.1111111111111111,
              "#46039f"
             ],
             [
              0.2222222222222222,
              "#7201a8"
             ],
             [
              0.3333333333333333,
              "#9c179e"
             ],
             [
              0.4444444444444444,
              "#bd3786"
             ],
             [
              0.5555555555555556,
              "#d8576b"
             ],
             [
              0.6666666666666666,
              "#ed7953"
             ],
             [
              0.7777777777777778,
              "#fb9f3a"
             ],
             [
              0.8888888888888888,
              "#fdca26"
             ],
             [
              1,
              "#f0f921"
             ]
            ],
            "type": "histogram2dcontour"
           }
          ],
          "mesh3d": [
           {
            "colorbar": {
             "outlinewidth": 0,
             "ticks": ""
            },
            "type": "mesh3d"
           }
          ],
          "parcoords": [
           {
            "line": {
             "colorbar": {
              "outlinewidth": 0,
              "ticks": ""
             }
            },
            "type": "parcoords"
           }
          ],
          "pie": [
           {
            "automargin": true,
            "type": "pie"
           }
          ],
          "scatter": [
           {
            "marker": {
             "colorbar": {
              "outlinewidth": 0,
              "ticks": ""
             }
            },
            "type": "scatter"
           }
          ],
          "scatter3d": [
           {
            "line": {
             "colorbar": {
              "outlinewidth": 0,
              "ticks": ""
             }
            },
            "marker": {
             "colorbar": {
              "outlinewidth": 0,
              "ticks": ""
             }
            },
            "type": "scatter3d"
           }
          ],
          "scattercarpet": [
           {
            "marker": {
             "colorbar": {
              "outlinewidth": 0,
              "ticks": ""
             }
            },
            "type": "scattercarpet"
           }
          ],
          "scattergeo": [
           {
            "marker": {
             "colorbar": {
              "outlinewidth": 0,
              "ticks": ""
             }
            },
            "type": "scattergeo"
           }
          ],
          "scattergl": [
           {
            "marker": {
             "colorbar": {
              "outlinewidth": 0,
              "ticks": ""
             }
            },
            "type": "scattergl"
           }
          ],
          "scattermapbox": [
           {
            "marker": {
             "colorbar": {
              "outlinewidth": 0,
              "ticks": ""
             }
            },
            "type": "scattermapbox"
           }
          ],
          "scatterpolar": [
           {
            "marker": {
             "colorbar": {
              "outlinewidth": 0,
              "ticks": ""
             }
            },
            "type": "scatterpolar"
           }
          ],
          "scatterpolargl": [
           {
            "marker": {
             "colorbar": {
              "outlinewidth": 0,
              "ticks": ""
             }
            },
            "type": "scatterpolargl"
           }
          ],
          "scatterternary": [
           {
            "marker": {
             "colorbar": {
              "outlinewidth": 0,
              "ticks": ""
             }
            },
            "type": "scatterternary"
           }
          ],
          "surface": [
           {
            "colorbar": {
             "outlinewidth": 0,
             "ticks": ""
            },
            "colorscale": [
             [
              0,
              "#0d0887"
             ],
             [
              0.1111111111111111,
              "#46039f"
             ],
             [
              0.2222222222222222,
              "#7201a8"
             ],
             [
              0.3333333333333333,
              "#9c179e"
             ],
             [
              0.4444444444444444,
              "#bd3786"
             ],
             [
              0.5555555555555556,
              "#d8576b"
             ],
             [
              0.6666666666666666,
              "#ed7953"
             ],
             [
              0.7777777777777778,
              "#fb9f3a"
             ],
             [
              0.8888888888888888,
              "#fdca26"
             ],
             [
              1,
              "#f0f921"
             ]
            ],
            "type": "surface"
           }
          ],
          "table": [
           {
            "cells": {
             "fill": {
              "color": "#EBF0F8"
             },
             "line": {
              "color": "white"
             }
            },
            "header": {
             "fill": {
              "color": "#C8D4E3"
             },
             "line": {
              "color": "white"
             }
            },
            "type": "table"
           }
          ]
         },
         "layout": {
          "annotationdefaults": {
           "arrowcolor": "#2a3f5f",
           "arrowhead": 0,
           "arrowwidth": 1
          },
          "autotypenumbers": "strict",
          "coloraxis": {
           "colorbar": {
            "outlinewidth": 0,
            "ticks": ""
           }
          },
          "colorscale": {
           "diverging": [
            [
             0,
             "#8e0152"
            ],
            [
             0.1,
             "#c51b7d"
            ],
            [
             0.2,
             "#de77ae"
            ],
            [
             0.3,
             "#f1b6da"
            ],
            [
             0.4,
             "#fde0ef"
            ],
            [
             0.5,
             "#f7f7f7"
            ],
            [
             0.6,
             "#e6f5d0"
            ],
            [
             0.7,
             "#b8e186"
            ],
            [
             0.8,
             "#7fbc41"
            ],
            [
             0.9,
             "#4d9221"
            ],
            [
             1,
             "#276419"
            ]
           ],
           "sequential": [
            [
             0,
             "#0d0887"
            ],
            [
             0.1111111111111111,
             "#46039f"
            ],
            [
             0.2222222222222222,
             "#7201a8"
            ],
            [
             0.3333333333333333,
             "#9c179e"
            ],
            [
             0.4444444444444444,
             "#bd3786"
            ],
            [
             0.5555555555555556,
             "#d8576b"
            ],
            [
             0.6666666666666666,
             "#ed7953"
            ],
            [
             0.7777777777777778,
             "#fb9f3a"
            ],
            [
             0.8888888888888888,
             "#fdca26"
            ],
            [
             1,
             "#f0f921"
            ]
           ],
           "sequentialminus": [
            [
             0,
             "#0d0887"
            ],
            [
             0.1111111111111111,
             "#46039f"
            ],
            [
             0.2222222222222222,
             "#7201a8"
            ],
            [
             0.3333333333333333,
             "#9c179e"
            ],
            [
             0.4444444444444444,
             "#bd3786"
            ],
            [
             0.5555555555555556,
             "#d8576b"
            ],
            [
             0.6666666666666666,
             "#ed7953"
            ],
            [
             0.7777777777777778,
             "#fb9f3a"
            ],
            [
             0.8888888888888888,
             "#fdca26"
            ],
            [
             1,
             "#f0f921"
            ]
           ]
          },
          "colorway": [
           "#636efa",
           "#EF553B",
           "#00cc96",
           "#ab63fa",
           "#FFA15A",
           "#19d3f3",
           "#FF6692",
           "#B6E880",
           "#FF97FF",
           "#FECB52"
          ],
          "font": {
           "color": "#2a3f5f"
          },
          "geo": {
           "bgcolor": "white",
           "lakecolor": "white",
           "landcolor": "#E5ECF6",
           "showlakes": true,
           "showland": true,
           "subunitcolor": "white"
          },
          "hoverlabel": {
           "align": "left"
          },
          "hovermode": "closest",
          "mapbox": {
           "style": "light"
          },
          "paper_bgcolor": "white",
          "plot_bgcolor": "#E5ECF6",
          "polar": {
           "angularaxis": {
            "gridcolor": "white",
            "linecolor": "white",
            "ticks": ""
           },
           "bgcolor": "#E5ECF6",
           "radialaxis": {
            "gridcolor": "white",
            "linecolor": "white",
            "ticks": ""
           }
          },
          "scene": {
           "xaxis": {
            "backgroundcolor": "#E5ECF6",
            "gridcolor": "white",
            "gridwidth": 2,
            "linecolor": "white",
            "showbackground": true,
            "ticks": "",
            "zerolinecolor": "white"
           },
           "yaxis": {
            "backgroundcolor": "#E5ECF6",
            "gridcolor": "white",
            "gridwidth": 2,
            "linecolor": "white",
            "showbackground": true,
            "ticks": "",
            "zerolinecolor": "white"
           },
           "zaxis": {
            "backgroundcolor": "#E5ECF6",
            "gridcolor": "white",
            "gridwidth": 2,
            "linecolor": "white",
            "showbackground": true,
            "ticks": "",
            "zerolinecolor": "white"
           }
          },
          "shapedefaults": {
           "line": {
            "color": "#2a3f5f"
           }
          },
          "ternary": {
           "aaxis": {
            "gridcolor": "white",
            "linecolor": "white",
            "ticks": ""
           },
           "baxis": {
            "gridcolor": "white",
            "linecolor": "white",
            "ticks": ""
           },
           "bgcolor": "#E5ECF6",
           "caxis": {
            "gridcolor": "white",
            "linecolor": "white",
            "ticks": ""
           }
          },
          "title": {
           "x": 0.05
          },
          "xaxis": {
           "automargin": true,
           "gridcolor": "white",
           "linecolor": "white",
           "ticks": "",
           "title": {
            "standoff": 15
           },
           "zerolinecolor": "white",
           "zerolinewidth": 2
          },
          "yaxis": {
           "automargin": true,
           "gridcolor": "white",
           "linecolor": "white",
           "ticks": "",
           "title": {
            "standoff": 15
           },
           "zerolinecolor": "white",
           "zerolinewidth": 2
          }
         }
        },
        "title": {
         "font": {
          "color": "#4D5663"
         }
        },
        "xaxis": {
         "gridcolor": "#E1E5ED",
         "showgrid": true,
         "tickfont": {
          "color": "#4D5663"
         },
         "title": {
          "font": {
           "color": "#4D5663"
          },
          "text": ""
         },
         "zerolinecolor": "#E1E5ED"
        },
        "yaxis": {
         "gridcolor": "#E1E5ED",
         "showgrid": true,
         "tickfont": {
          "color": "#4D5663"
         },
         "title": {
          "font": {
           "color": "#4D5663"
          },
          "text": ""
         },
         "zerolinecolor": "#E1E5ED"
        }
       }
      },
      "text/html": [
       "<div>                            <div id=\"887f4cca-94ca-4b39-b902-8b7cf0c830bf\" class=\"plotly-graph-div\" style=\"height:525px; width:100%;\"></div>            <script type=\"text/javascript\">                require([\"plotly\"], function(Plotly) {                    window.PLOTLYENV=window.PLOTLYENV || {};\n",
       "                    window.PLOTLYENV.BASE_URL='https://plot.ly';                                    if (document.getElementById(\"887f4cca-94ca-4b39-b902-8b7cf0c830bf\")) {                    Plotly.newPlot(                        \"887f4cca-94ca-4b39-b902-8b7cf0c830bf\",                        [{\"marker\": {\"color\": [\"red\", \"red\", \"red\", \"red\", \"red\", \"red\", \"red\", \"red\", \"red\", \"red\", \"red\", \"red\", \"red\", \"red\", \"red\", \"red\", \"red\", \"red\", \"red\", \"red\", \"red\", \"red\", \"red\", \"red\", \"red\", \"red\", \"red\", \"red\", \"red\", \"red\", \"red\", \"red\", \"red\", \"red\", \"red\", \"red\", \"red\", \"red\", \"red\", \"red\", \"red\", \"red\", \"red\", \"red\", \"red\", \"red\", \"red\", \"red\", \"red\", \"red\", \"red\", \"red\", \"red\", \"red\", \"red\", \"red\", \"red\", \"red\", \"red\", \"red\", \"red\", \"red\", \"red\", \"red\", \"red\", \"red\", \"red\", \"red\", \"red\", \"red\", \"red\", \"red\", \"red\", \"red\", \"red\", \"red\", \"red\", \"red\", \"red\", \"red\", \"red\", \"red\", \"red\", \"red\", \"red\", \"red\", \"red\", \"red\", \"red\", \"red\", \"red\", \"red\", \"red\", \"red\", \"red\", \"red\", \"red\", \"red\", \"red\", \"red\"], \"line\": {\"width\": 1.3}, \"size\": [58, 36, 46, 56, 67, 79, 67, 55, 60, 30, 55, 21, 104, 51, 92, 79, 52, 87, 55, 51, 100, 23, 35, 34, 37, 74, 37, 65, 71, 22, 32, 72, 57, 39, 39, 77, 70, 25, 55, 80, 51, 79, 100, 92, 36, 66, 63, 47, 69, 49, 75, 29, 72, 68, 87, 79, 43, 93, 109, 100, 27, 36, 71, 61, 88, 101, 71, 67, 72, 49, 68, 23, 78, 63, 71, 67, 12, 93, 38, 101, 52, 82, 18, 80, 89, 91, 54, 51, 42, 77, 53, 70, 82, 46, 71, 93, 67, 45, 48, 112], \"symbol\": \"circle\"}, \"mode\": \"markers\", \"text\": \"\", \"type\": \"scatter\", \"x\": [1.2743291159598842, 0.012603295984593112, 0.026124428121605058, 0.05740195638716594, 0.7211797728758698, -1.2272404700848971, -0.0602220042618601, -1.2251272187523363, 0.7285313635047205, 0.3696043043956092, -0.005031906455792278, -0.217988503656931, -0.2958721265356392, -0.7119151897145148, -1.560092182531834, -0.97948301063551, -1.4295960531654444, -1.1734281071025316, -0.14794118852659902, 0.22858356596300675, -0.4106705073939129, 0.9201695687694685, -0.5243273775682088, 1.26090079768481, -0.17793819394265636, 1.1901683935840963, -1.3231680679116269, 0.625060436042206, 0.7057352901420538, -0.9000976494452639, 0.5977224299581562, 1.291099983403894, -0.15140884822287337, -0.07567580316289536, -1.2274736019729966, -1.1605033095785415, -0.003460674940168402, -1.0229364542489692, 0.7205474038629697, 0.49495986005977277, 0.41076790058176404, 0.1844472021660236, 0.1167576805269786, 1.112034995203464, 1.0859515215555395, -1.695322974218527, 0.7842598671527137, 0.758377284213845, -1.091849542132929, -1.3153986457811035, -0.6243415523889722, 1.1646852896543975, -0.7988149852707761, -0.7507366086782864, -0.9180420106279558, -0.2729434694854129, -1.2811526328740261, -0.9755996574451098, -0.4688125940352931, -0.26391419787528425, -2.4167264147169534, -1.066100926271971, 0.17041655454385568, -2.078311632109863, 0.560552210773985, 0.706882083984312, 0.7723109540792544, -1.4249266221939358, 1.4039689127307864, 1.778762557715026, 0.27437173358694167, 0.11733848968444871, -2.6150010633949354, -0.8592599110213128, 1.8093740945878218, -0.1292779500768447, -1.0439103137271737, 1.2829276692789005, 1.013159098488871, 0.20803697944170838, -0.6138663700796907, 0.1652084642695246, -1.8548152158867799, 1.8437969796864635, 0.5030983867380925, 0.07190031940443338, 2.1088970284366866, -1.0445203253805864, 1.0811956010542667, 1.4799493546243363, 2.050370676589714, -0.09903881715990685, 2.070541603456114, 0.7662237165749922, -0.3576102464551363, 0.49517071473458907, 1.6194456007075326, 0.18249899731952396, -0.5386291904369472, -1.4350220617716536], \"y\": [-0.39531474003646183, -0.8867252341912623, 1.5959727139592397, -0.8915771314389602, 0.052385164048535215, -2.15514457439745, -1.8144544174035113, 0.08262005734589607, -0.36215198720850966, -1.228011983928278, -1.1410569805616517, -1.8002508826157904, 0.11744455836016172, -0.3718960945496368, 2.1095460426240846, 0.07887321650891946, 1.1682426861997464, -1.0385909818862178, 1.2904598411544959, -0.22589344504336356, -1.4165857426047672, -0.5845932169728495, 1.005124981817119, 0.8647853134104359, 1.5345743538298893, -0.6197658515889924, 0.4357103295542794, -0.643051371066005, -1.3096943661431093, 0.8752592855623904, 1.5987924708863182, -1.851139766837587, -1.4938816462310027, 1.511566102263444, -0.6002087041576118, -0.0750572625889012, -0.17628415605563305, -2.1805287231472037, -0.030848334334775927, -0.3304526075523714, 0.0178820557060164, 0.6908592869951391, 0.5481008805639314, 0.832811189808415, 0.019159938639792595, 1.180810231871073, 2.730747151610139, 0.47962211842500235, -1.115686833838263, -0.30239009589317517, 1.1713524884410316, -0.764656756383517, -0.6734519706171885, 1.1738819770023874, 0.025005237496141357, 0.9104392998046482, -0.3280391121163882, -0.3486935451998248, -0.46793500068688076, -0.3757619711666674, -0.3369861822352449, 0.722504307134837, -0.9929175231489182, -0.07617301189038786, 0.23089195302073037, -0.680100584163858, -0.8527155998532249, -0.7499693642787079, 1.4485578094733376, -1.1288994330475783, -0.7837078716233372, 0.7410973973324356, 0.3968117932668227, 0.9157511083687346, 0.3097620256451611, 0.6713401468685719, -0.5640468063713121, -0.43173512125063357, -1.0714794639032783, 1.323383682867993, -0.9351732722358566, -0.37504844765015305, 0.8660583605656553, 1.2887658734490224, 0.41503915951653897, -0.08132023809148904, -0.0011254533419979285, -1.8579339281616882, 0.9527033182663938, -0.28974539692538254, 1.5966620018083522, 0.5548831948574292, 0.2937735161744529, 0.21423897173344594, 0.6196979234332269, -0.8881001296958283, 0.030131395706024945, 0.6222707263472929, 0.5785613303233125, -1.6404562494386814]}],                        {\"legend\": {\"bgcolor\": \"#F5F6F9\", \"font\": {\"color\": \"#4D5663\"}}, \"paper_bgcolor\": \"#F5F6F9\", \"plot_bgcolor\": \"#F5F6F9\", \"template\": {\"data\": {\"bar\": [{\"error_x\": {\"color\": \"#2a3f5f\"}, \"error_y\": {\"color\": \"#2a3f5f\"}, \"marker\": {\"line\": {\"color\": \"#E5ECF6\", \"width\": 0.5}}, \"type\": \"bar\"}], \"barpolar\": [{\"marker\": {\"line\": {\"color\": \"#E5ECF6\", \"width\": 0.5}}, \"type\": \"barpolar\"}], \"carpet\": [{\"aaxis\": {\"endlinecolor\": \"#2a3f5f\", \"gridcolor\": \"white\", \"linecolor\": \"white\", \"minorgridcolor\": \"white\", \"startlinecolor\": \"#2a3f5f\"}, \"baxis\": {\"endlinecolor\": \"#2a3f5f\", \"gridcolor\": \"white\", \"linecolor\": \"white\", \"minorgridcolor\": \"white\", \"startlinecolor\": \"#2a3f5f\"}, \"type\": \"carpet\"}], \"choropleth\": [{\"colorbar\": {\"outlinewidth\": 0, \"ticks\": \"\"}, \"type\": \"choropleth\"}], \"contour\": [{\"colorbar\": {\"outlinewidth\": 0, \"ticks\": \"\"}, \"colorscale\": [[0.0, \"#0d0887\"], [0.1111111111111111, \"#46039f\"], [0.2222222222222222, \"#7201a8\"], [0.3333333333333333, \"#9c179e\"], [0.4444444444444444, \"#bd3786\"], [0.5555555555555556, \"#d8576b\"], [0.6666666666666666, \"#ed7953\"], [0.7777777777777778, \"#fb9f3a\"], [0.8888888888888888, \"#fdca26\"], [1.0, \"#f0f921\"]], \"type\": \"contour\"}], \"contourcarpet\": [{\"colorbar\": {\"outlinewidth\": 0, \"ticks\": \"\"}, \"type\": \"contourcarpet\"}], \"heatmap\": [{\"colorbar\": {\"outlinewidth\": 0, \"ticks\": \"\"}, \"colorscale\": [[0.0, \"#0d0887\"], [0.1111111111111111, \"#46039f\"], [0.2222222222222222, \"#7201a8\"], [0.3333333333333333, \"#9c179e\"], [0.4444444444444444, \"#bd3786\"], [0.5555555555555556, \"#d8576b\"], [0.6666666666666666, \"#ed7953\"], [0.7777777777777778, \"#fb9f3a\"], [0.8888888888888888, \"#fdca26\"], [1.0, \"#f0f921\"]], \"type\": \"heatmap\"}], \"heatmapgl\": [{\"colorbar\": {\"outlinewidth\": 0, \"ticks\": \"\"}, \"colorscale\": [[0.0, \"#0d0887\"], [0.1111111111111111, \"#46039f\"], [0.2222222222222222, \"#7201a8\"], [0.3333333333333333, \"#9c179e\"], [0.4444444444444444, \"#bd3786\"], [0.5555555555555556, \"#d8576b\"], [0.6666666666666666, \"#ed7953\"], [0.7777777777777778, \"#fb9f3a\"], [0.8888888888888888, \"#fdca26\"], [1.0, \"#f0f921\"]], \"type\": \"heatmapgl\"}], \"histogram\": [{\"marker\": {\"colorbar\": {\"outlinewidth\": 0, \"ticks\": \"\"}}, \"type\": \"histogram\"}], \"histogram2d\": [{\"colorbar\": {\"outlinewidth\": 0, \"ticks\": \"\"}, \"colorscale\": [[0.0, \"#0d0887\"], [0.1111111111111111, \"#46039f\"], [0.2222222222222222, \"#7201a8\"], [0.3333333333333333, \"#9c179e\"], [0.4444444444444444, \"#bd3786\"], [0.5555555555555556, \"#d8576b\"], [0.6666666666666666, \"#ed7953\"], [0.7777777777777778, \"#fb9f3a\"], [0.8888888888888888, \"#fdca26\"], [1.0, \"#f0f921\"]], \"type\": \"histogram2d\"}], \"histogram2dcontour\": [{\"colorbar\": {\"outlinewidth\": 0, \"ticks\": \"\"}, \"colorscale\": [[0.0, \"#0d0887\"], [0.1111111111111111, \"#46039f\"], [0.2222222222222222, \"#7201a8\"], [0.3333333333333333, \"#9c179e\"], [0.4444444444444444, \"#bd3786\"], [0.5555555555555556, \"#d8576b\"], [0.6666666666666666, \"#ed7953\"], [0.7777777777777778, \"#fb9f3a\"], [0.8888888888888888, \"#fdca26\"], [1.0, \"#f0f921\"]], \"type\": \"histogram2dcontour\"}], \"mesh3d\": [{\"colorbar\": {\"outlinewidth\": 0, \"ticks\": \"\"}, \"type\": \"mesh3d\"}], \"parcoords\": [{\"line\": {\"colorbar\": {\"outlinewidth\": 0, \"ticks\": \"\"}}, \"type\": \"parcoords\"}], \"pie\": [{\"automargin\": true, \"type\": \"pie\"}], \"scatter\": [{\"marker\": {\"colorbar\": {\"outlinewidth\": 0, \"ticks\": \"\"}}, \"type\": \"scatter\"}], \"scatter3d\": [{\"line\": {\"colorbar\": {\"outlinewidth\": 0, \"ticks\": \"\"}}, \"marker\": {\"colorbar\": {\"outlinewidth\": 0, \"ticks\": \"\"}}, \"type\": \"scatter3d\"}], \"scattercarpet\": [{\"marker\": {\"colorbar\": {\"outlinewidth\": 0, \"ticks\": \"\"}}, \"type\": \"scattercarpet\"}], \"scattergeo\": [{\"marker\": {\"colorbar\": {\"outlinewidth\": 0, \"ticks\": \"\"}}, \"type\": \"scattergeo\"}], \"scattergl\": [{\"marker\": {\"colorbar\": {\"outlinewidth\": 0, \"ticks\": \"\"}}, \"type\": \"scattergl\"}], \"scattermapbox\": [{\"marker\": {\"colorbar\": {\"outlinewidth\": 0, \"ticks\": \"\"}}, \"type\": \"scattermapbox\"}], \"scatterpolar\": [{\"marker\": {\"colorbar\": {\"outlinewidth\": 0, \"ticks\": \"\"}}, \"type\": \"scatterpolar\"}], \"scatterpolargl\": [{\"marker\": {\"colorbar\": {\"outlinewidth\": 0, \"ticks\": \"\"}}, \"type\": \"scatterpolargl\"}], \"scatterternary\": [{\"marker\": {\"colorbar\": {\"outlinewidth\": 0, \"ticks\": \"\"}}, \"type\": \"scatterternary\"}], \"surface\": [{\"colorbar\": {\"outlinewidth\": 0, \"ticks\": \"\"}, \"colorscale\": [[0.0, \"#0d0887\"], [0.1111111111111111, \"#46039f\"], [0.2222222222222222, \"#7201a8\"], [0.3333333333333333, \"#9c179e\"], [0.4444444444444444, \"#bd3786\"], [0.5555555555555556, \"#d8576b\"], [0.6666666666666666, \"#ed7953\"], [0.7777777777777778, \"#fb9f3a\"], [0.8888888888888888, \"#fdca26\"], [1.0, \"#f0f921\"]], \"type\": \"surface\"}], \"table\": [{\"cells\": {\"fill\": {\"color\": \"#EBF0F8\"}, \"line\": {\"color\": \"white\"}}, \"header\": {\"fill\": {\"color\": \"#C8D4E3\"}, \"line\": {\"color\": \"white\"}}, \"type\": \"table\"}]}, \"layout\": {\"annotationdefaults\": {\"arrowcolor\": \"#2a3f5f\", \"arrowhead\": 0, \"arrowwidth\": 1}, \"autotypenumbers\": \"strict\", \"coloraxis\": {\"colorbar\": {\"outlinewidth\": 0, \"ticks\": \"\"}}, \"colorscale\": {\"diverging\": [[0, \"#8e0152\"], [0.1, \"#c51b7d\"], [0.2, \"#de77ae\"], [0.3, \"#f1b6da\"], [0.4, \"#fde0ef\"], [0.5, \"#f7f7f7\"], [0.6, \"#e6f5d0\"], [0.7, \"#b8e186\"], [0.8, \"#7fbc41\"], [0.9, \"#4d9221\"], [1, \"#276419\"]], \"sequential\": [[0.0, \"#0d0887\"], [0.1111111111111111, \"#46039f\"], [0.2222222222222222, \"#7201a8\"], [0.3333333333333333, \"#9c179e\"], [0.4444444444444444, \"#bd3786\"], [0.5555555555555556, \"#d8576b\"], [0.6666666666666666, \"#ed7953\"], [0.7777777777777778, \"#fb9f3a\"], [0.8888888888888888, \"#fdca26\"], [1.0, \"#f0f921\"]], \"sequentialminus\": [[0.0, \"#0d0887\"], [0.1111111111111111, \"#46039f\"], [0.2222222222222222, \"#7201a8\"], [0.3333333333333333, \"#9c179e\"], [0.4444444444444444, \"#bd3786\"], [0.5555555555555556, \"#d8576b\"], [0.6666666666666666, \"#ed7953\"], [0.7777777777777778, \"#fb9f3a\"], [0.8888888888888888, \"#fdca26\"], [1.0, \"#f0f921\"]]}, \"colorway\": [\"#636efa\", \"#EF553B\", \"#00cc96\", \"#ab63fa\", \"#FFA15A\", \"#19d3f3\", \"#FF6692\", \"#B6E880\", \"#FF97FF\", \"#FECB52\"], \"font\": {\"color\": \"#2a3f5f\"}, \"geo\": {\"bgcolor\": \"white\", \"lakecolor\": \"white\", \"landcolor\": \"#E5ECF6\", \"showlakes\": true, \"showland\": true, \"subunitcolor\": \"white\"}, \"hoverlabel\": {\"align\": \"left\"}, \"hovermode\": \"closest\", \"mapbox\": {\"style\": \"light\"}, \"paper_bgcolor\": \"white\", \"plot_bgcolor\": \"#E5ECF6\", \"polar\": {\"angularaxis\": {\"gridcolor\": \"white\", \"linecolor\": \"white\", \"ticks\": \"\"}, \"bgcolor\": \"#E5ECF6\", \"radialaxis\": {\"gridcolor\": \"white\", \"linecolor\": \"white\", \"ticks\": \"\"}}, \"scene\": {\"xaxis\": {\"backgroundcolor\": \"#E5ECF6\", \"gridcolor\": \"white\", \"gridwidth\": 2, \"linecolor\": \"white\", \"showbackground\": true, \"ticks\": \"\", \"zerolinecolor\": \"white\"}, \"yaxis\": {\"backgroundcolor\": \"#E5ECF6\", \"gridcolor\": \"white\", \"gridwidth\": 2, \"linecolor\": \"white\", \"showbackground\": true, \"ticks\": \"\", \"zerolinecolor\": \"white\"}, \"zaxis\": {\"backgroundcolor\": \"#E5ECF6\", \"gridcolor\": \"white\", \"gridwidth\": 2, \"linecolor\": \"white\", \"showbackground\": true, \"ticks\": \"\", \"zerolinecolor\": \"white\"}}, \"shapedefaults\": {\"line\": {\"color\": \"#2a3f5f\"}}, \"ternary\": {\"aaxis\": {\"gridcolor\": \"white\", \"linecolor\": \"white\", \"ticks\": \"\"}, \"baxis\": {\"gridcolor\": \"white\", \"linecolor\": \"white\", \"ticks\": \"\"}, \"bgcolor\": \"#E5ECF6\", \"caxis\": {\"gridcolor\": \"white\", \"linecolor\": \"white\", \"ticks\": \"\"}}, \"title\": {\"x\": 0.05}, \"xaxis\": {\"automargin\": true, \"gridcolor\": \"white\", \"linecolor\": \"white\", \"ticks\": \"\", \"title\": {\"standoff\": 15}, \"zerolinecolor\": \"white\", \"zerolinewidth\": 2}, \"yaxis\": {\"automargin\": true, \"gridcolor\": \"white\", \"linecolor\": \"white\", \"ticks\": \"\", \"title\": {\"standoff\": 15}, \"zerolinecolor\": \"white\", \"zerolinewidth\": 2}}}, \"title\": {\"font\": {\"color\": \"#4D5663\"}}, \"xaxis\": {\"gridcolor\": \"#E1E5ED\", \"showgrid\": true, \"tickfont\": {\"color\": \"#4D5663\"}, \"title\": {\"font\": {\"color\": \"#4D5663\"}, \"text\": \"\"}, \"zerolinecolor\": \"#E1E5ED\"}, \"yaxis\": {\"gridcolor\": \"#E1E5ED\", \"showgrid\": true, \"tickfont\": {\"color\": \"#4D5663\"}, \"title\": {\"font\": {\"color\": \"#4D5663\"}, \"text\": \"\"}, \"zerolinecolor\": \"#E1E5ED\"}},                        {\"showLink\": true, \"linkText\": \"Export to plot.ly\", \"plotlyServerURL\": \"https://plot.ly\", \"responsive\": true}                    ).then(function(){\n",
       "                            \n",
       "var gd = document.getElementById('887f4cca-94ca-4b39-b902-8b7cf0c830bf');\n",
       "var x = new MutationObserver(function (mutations, observer) {{\n",
       "        var display = window.getComputedStyle(gd).display;\n",
       "        if (!display || display === 'none') {{\n",
       "            console.log([gd, 'removed!']);\n",
       "            Plotly.purge(gd);\n",
       "            observer.disconnect();\n",
       "        }}\n",
       "}});\n",
       "\n",
       "// Listen for the removal of the full notebook cells\n",
       "var notebookContainer = gd.closest('#notebook-container');\n",
       "if (notebookContainer) {{\n",
       "    x.observe(notebookContainer, {childList: true});\n",
       "}}\n",
       "\n",
       "// Listen for the clearing of the current output cell\n",
       "var outputEl = gd.closest('.output');\n",
       "if (outputEl) {{\n",
       "    x.observe(outputEl, {childList: true});\n",
       "}}\n",
       "\n",
       "                        })                };                });            </script>        </div>"
      ]
     },
     "metadata": {},
     "output_type": "display_data"
    }
   ],
   "source": [
    "df.iplot(kind='bubble',x='A',y='B',size='C',color='red')"
   ]
  },
  {
   "cell_type": "code",
   "execution_count": 27,
   "metadata": {},
   "outputs": [
    {
     "data": {
      "application/vnd.plotly.v1+json": {
       "config": {
        "linkText": "Export to plot.ly",
        "plotlyServerURL": "https://plot.ly",
        "showLink": true
       },
       "data": [
        {
         "histfunc": "count",
         "histnorm": "",
         "marker": {
          "color": "rgba(255, 153, 51, 1.0)",
          "line": {
           "color": "#4D5663",
           "width": 1.3
          }
         },
         "name": "A",
         "nbinsx": 10,
         "opacity": 0.8,
         "orientation": "v",
         "type": "histogram",
         "x": [
          1.2743291159598842,
          0.012603295984593112,
          0.026124428121605058,
          0.05740195638716594,
          0.7211797728758698,
          -1.2272404700848971,
          -0.0602220042618601,
          -1.2251272187523363,
          0.7285313635047205,
          0.3696043043956092,
          -0.005031906455792278,
          -0.217988503656931,
          -0.2958721265356392,
          -0.7119151897145148,
          -1.560092182531834,
          -0.97948301063551,
          -1.4295960531654444,
          -1.1734281071025316,
          -0.14794118852659902,
          0.22858356596300675,
          -0.4106705073939129,
          0.9201695687694685,
          -0.5243273775682088,
          1.26090079768481,
          -0.17793819394265636,
          1.1901683935840963,
          -1.3231680679116269,
          0.625060436042206,
          0.7057352901420538,
          -0.9000976494452639,
          0.5977224299581562,
          1.291099983403894,
          -0.15140884822287337,
          -0.07567580316289536,
          -1.2274736019729966,
          -1.1605033095785415,
          -0.003460674940168402,
          -1.0229364542489692,
          0.7205474038629697,
          0.49495986005977277,
          0.41076790058176404,
          0.1844472021660236,
          0.1167576805269786,
          1.112034995203464,
          1.0859515215555395,
          -1.695322974218527,
          0.7842598671527137,
          0.758377284213845,
          -1.091849542132929,
          -1.3153986457811035,
          -0.6243415523889722,
          1.1646852896543975,
          -0.7988149852707761,
          -0.7507366086782864,
          -0.9180420106279558,
          -0.2729434694854129,
          -1.2811526328740261,
          -0.9755996574451098,
          -0.4688125940352931,
          -0.26391419787528425,
          -2.4167264147169534,
          -1.066100926271971,
          0.17041655454385568,
          -2.078311632109863,
          0.560552210773985,
          0.706882083984312,
          0.7723109540792544,
          -1.4249266221939358,
          1.4039689127307864,
          1.778762557715026,
          0.27437173358694167,
          0.11733848968444871,
          -2.6150010633949354,
          -0.8592599110213128,
          1.8093740945878218,
          -0.1292779500768447,
          -1.0439103137271737,
          1.2829276692789005,
          1.013159098488871,
          0.20803697944170838,
          -0.6138663700796907,
          0.1652084642695246,
          -1.8548152158867799,
          1.8437969796864635,
          0.5030983867380925,
          0.07190031940443338,
          2.1088970284366866,
          -1.0445203253805864,
          1.0811956010542667,
          1.4799493546243363,
          2.050370676589714,
          -0.09903881715990685,
          2.070541603456114,
          0.7662237165749922,
          -0.3576102464551363,
          0.49517071473458907,
          1.6194456007075326,
          0.18249899731952396,
          -0.5386291904369472,
          -1.4350220617716536
         ],
         "xaxis": "x",
         "yaxis": "y"
        },
        {
         "line": {
          "color": "rgba(128, 128, 128, 1.0)",
          "dash": "solid",
          "shape": "linear",
          "width": 1.3
         },
         "marker": {
          "size": 2,
          "symbol": "circle"
         },
         "mode": "markers",
         "name": "A",
         "text": "",
         "type": "scatter",
         "x": [
          -0.39531474003646183,
          -0.8867252341912623,
          1.5959727139592397,
          -0.8915771314389602,
          0.052385164048535215,
          -2.15514457439745,
          -1.8144544174035113,
          0.08262005734589607,
          -0.36215198720850966,
          -1.228011983928278,
          -1.1410569805616517,
          -1.8002508826157904,
          0.11744455836016172,
          -0.3718960945496368,
          2.1095460426240846,
          0.07887321650891946,
          1.1682426861997464,
          -1.0385909818862178,
          1.2904598411544959,
          -0.22589344504336356,
          -1.4165857426047672,
          -0.5845932169728495,
          1.005124981817119,
          0.8647853134104359,
          1.5345743538298893,
          -0.6197658515889924,
          0.4357103295542794,
          -0.643051371066005,
          -1.3096943661431093,
          0.8752592855623904,
          1.5987924708863182,
          -1.851139766837587,
          -1.4938816462310027,
          1.511566102263444,
          -0.6002087041576118,
          -0.0750572625889012,
          -0.17628415605563305,
          -2.1805287231472037,
          -0.030848334334775927,
          -0.3304526075523714,
          0.0178820557060164,
          0.6908592869951391,
          0.5481008805639314,
          0.832811189808415,
          0.019159938639792595,
          1.180810231871073,
          2.730747151610139,
          0.47962211842500235,
          -1.115686833838263,
          -0.30239009589317517,
          1.1713524884410316,
          -0.764656756383517,
          -0.6734519706171885,
          1.1738819770023874,
          0.025005237496141357,
          0.9104392998046482,
          -0.3280391121163882,
          -0.3486935451998248,
          -0.46793500068688076,
          -0.3757619711666674,
          -0.3369861822352449,
          0.722504307134837,
          -0.9929175231489182,
          -0.07617301189038786,
          0.23089195302073037,
          -0.680100584163858,
          -0.8527155998532249,
          -0.7499693642787079,
          1.4485578094733376,
          -1.1288994330475783,
          -0.7837078716233372,
          0.7410973973324356,
          0.3968117932668227,
          0.9157511083687346,
          0.3097620256451611,
          0.6713401468685719,
          -0.5640468063713121,
          -0.43173512125063357,
          -1.0714794639032783,
          1.323383682867993,
          -0.9351732722358566,
          -0.37504844765015305,
          0.8660583605656553,
          1.2887658734490224,
          0.41503915951653897,
          -0.08132023809148904,
          -0.0011254533419979285,
          -1.8579339281616882,
          0.9527033182663938,
          -0.28974539692538254,
          1.5966620018083522,
          0.5548831948574292,
          0.2937735161744529,
          0.21423897173344594,
          0.6196979234332269,
          -0.8881001296958283,
          0.030131395706024945,
          0.6222707263472929,
          0.5785613303233125,
          -1.6404562494386814
         ],
         "xaxis": "x2",
         "y": [
          1.2743291159598842,
          0.012603295984593112,
          0.026124428121605058,
          0.05740195638716594,
          0.7211797728758698,
          -1.2272404700848971,
          -0.0602220042618601,
          -1.2251272187523363,
          0.7285313635047205,
          0.3696043043956092,
          -0.005031906455792278,
          -0.217988503656931,
          -0.2958721265356392,
          -0.7119151897145148,
          -1.560092182531834,
          -0.97948301063551,
          -1.4295960531654444,
          -1.1734281071025316,
          -0.14794118852659902,
          0.22858356596300675,
          -0.4106705073939129,
          0.9201695687694685,
          -0.5243273775682088,
          1.26090079768481,
          -0.17793819394265636,
          1.1901683935840963,
          -1.3231680679116269,
          0.625060436042206,
          0.7057352901420538,
          -0.9000976494452639,
          0.5977224299581562,
          1.291099983403894,
          -0.15140884822287337,
          -0.07567580316289536,
          -1.2274736019729966,
          -1.1605033095785415,
          -0.003460674940168402,
          -1.0229364542489692,
          0.7205474038629697,
          0.49495986005977277,
          0.41076790058176404,
          0.1844472021660236,
          0.1167576805269786,
          1.112034995203464,
          1.0859515215555395,
          -1.695322974218527,
          0.7842598671527137,
          0.758377284213845,
          -1.091849542132929,
          -1.3153986457811035,
          -0.6243415523889722,
          1.1646852896543975,
          -0.7988149852707761,
          -0.7507366086782864,
          -0.9180420106279558,
          -0.2729434694854129,
          -1.2811526328740261,
          -0.9755996574451098,
          -0.4688125940352931,
          -0.26391419787528425,
          -2.4167264147169534,
          -1.066100926271971,
          0.17041655454385568,
          -2.078311632109863,
          0.560552210773985,
          0.706882083984312,
          0.7723109540792544,
          -1.4249266221939358,
          1.4039689127307864,
          1.778762557715026,
          0.27437173358694167,
          0.11733848968444871,
          -2.6150010633949354,
          -0.8592599110213128,
          1.8093740945878218,
          -0.1292779500768447,
          -1.0439103137271737,
          1.2829276692789005,
          1.013159098488871,
          0.20803697944170838,
          -0.6138663700796907,
          0.1652084642695246,
          -1.8548152158867799,
          1.8437969796864635,
          0.5030983867380925,
          0.07190031940443338,
          2.1088970284366866,
          -1.0445203253805864,
          1.0811956010542667,
          1.4799493546243363,
          2.050370676589714,
          -0.09903881715990685,
          2.070541603456114,
          0.7662237165749922,
          -0.3576102464551363,
          0.49517071473458907,
          1.6194456007075326,
          0.18249899731952396,
          -0.5386291904369472,
          -1.4350220617716536
         ],
         "yaxis": "y2"
        },
        {
         "line": {
          "color": "rgba(128, 128, 128, 1.0)",
          "dash": "solid",
          "shape": "linear",
          "width": 1.3
         },
         "marker": {
          "size": 2,
          "symbol": "circle"
         },
         "mode": "markers",
         "name": "A",
         "text": "",
         "type": "scatter",
         "x": [
          -0.36044540409848363,
          -1.3682369672062968,
          -0.9282922263722264,
          -0.45848038763538146,
          0.0715824631021516,
          0.5900264561161117,
          0.07497764580659219,
          -0.5104856754102799,
          -0.27605300650321773,
          -1.6248357381844074,
          -0.4816519562328335,
          -2.0506962498414247,
          1.7773616210375107,
          -0.6754462688728486,
          1.2262109264869192,
          0.6139539660003608,
          -0.6297992478728509,
          1.0006258792077805,
          -0.4762091942722724,
          -0.6632822162736236,
          1.576702485326573,
          -1.9549915684839305,
          -1.4251516158139754,
          -1.4500577195588817,
          -1.3366967700302275,
          0.3672192065324242,
          -1.3121692836149137,
          -0.031829016292886314,
          0.2533927221775022,
          -2.0182118834208556,
          -1.5750663801727445,
          0.29926418838762575,
          -0.4136173969379489,
          -1.2479526328438808,
          -1.2418866384269047,
          0.509094507374238,
          0.2002732933288788,
          -1.8580735849645333,
          -0.49768800132795543,
          0.637430016285652,
          -0.6780429278430543,
          0.6264243310761589,
          1.570872229475947,
          1.2087947749533279,
          -1.3681598699656303,
          -0.0017205720417560822,
          -0.1460318659234728,
          -0.871420273233697,
          0.1590697243425055,
          -0.7660352974730662,
          0.4303054256541309,
          -1.668213270695618,
          0.2780540161991583,
          0.087592359979765,
          0.9900116230613754,
          0.5900147241402782,
          -1.063717264197242,
          1.24257322092785,
          1.9907270812536322,
          1.5719147972788592,
          -1.7760798072451935,
          -1.34650757489623,
          0.23136066036130282,
          -0.1969755900432889,
          1.0042123847203066,
          1.6185298642020232,
          0.2398560243673993,
          0.06268088811831533,
          0.3114545888544146,
          -0.783836905301807,
          0.10098810777923627,
          -1.9899063256836396,
          0.5840657452315934,
          -0.10374052032512127,
          0.22629753494658214,
          0.06497485687391426,
          -2.4964257370098544,
          1.2537849394323473,
          -1.257805445847786,
          1.6159113795403206,
          -0.6274468686664045,
          0.7340668053520483,
          -2.2003426173120344,
          0.6428051084627697,
          1.0607436340152985,
          1.163904700448005,
          -0.5303144488710698,
          -0.6714829399675204,
          -1.0819877865976362,
          0.5127818276572855,
          -0.568724685074043,
          0.18151018833865676,
          0.7554640306951577,
          -0.8876737604103103,
          0.24004109451488095,
          1.2740091462548346,
          0.0388471201407009,
          -0.9479408989968882,
          -0.8295146712779031,
          2.1082464489943575
         ],
         "xaxis": "x3",
         "y": [
          1.2743291159598842,
          0.012603295984593112,
          0.026124428121605058,
          0.05740195638716594,
          0.7211797728758698,
          -1.2272404700848971,
          -0.0602220042618601,
          -1.2251272187523363,
          0.7285313635047205,
          0.3696043043956092,
          -0.005031906455792278,
          -0.217988503656931,
          -0.2958721265356392,
          -0.7119151897145148,
          -1.560092182531834,
          -0.97948301063551,
          -1.4295960531654444,
          -1.1734281071025316,
          -0.14794118852659902,
          0.22858356596300675,
          -0.4106705073939129,
          0.9201695687694685,
          -0.5243273775682088,
          1.26090079768481,
          -0.17793819394265636,
          1.1901683935840963,
          -1.3231680679116269,
          0.625060436042206,
          0.7057352901420538,
          -0.9000976494452639,
          0.5977224299581562,
          1.291099983403894,
          -0.15140884822287337,
          -0.07567580316289536,
          -1.2274736019729966,
          -1.1605033095785415,
          -0.003460674940168402,
          -1.0229364542489692,
          0.7205474038629697,
          0.49495986005977277,
          0.41076790058176404,
          0.1844472021660236,
          0.1167576805269786,
          1.112034995203464,
          1.0859515215555395,
          -1.695322974218527,
          0.7842598671527137,
          0.758377284213845,
          -1.091849542132929,
          -1.3153986457811035,
          -0.6243415523889722,
          1.1646852896543975,
          -0.7988149852707761,
          -0.7507366086782864,
          -0.9180420106279558,
          -0.2729434694854129,
          -1.2811526328740261,
          -0.9755996574451098,
          -0.4688125940352931,
          -0.26391419787528425,
          -2.4167264147169534,
          -1.066100926271971,
          0.17041655454385568,
          -2.078311632109863,
          0.560552210773985,
          0.706882083984312,
          0.7723109540792544,
          -1.4249266221939358,
          1.4039689127307864,
          1.778762557715026,
          0.27437173358694167,
          0.11733848968444871,
          -2.6150010633949354,
          -0.8592599110213128,
          1.8093740945878218,
          -0.1292779500768447,
          -1.0439103137271737,
          1.2829276692789005,
          1.013159098488871,
          0.20803697944170838,
          -0.6138663700796907,
          0.1652084642695246,
          -1.8548152158867799,
          1.8437969796864635,
          0.5030983867380925,
          0.07190031940443338,
          2.1088970284366866,
          -1.0445203253805864,
          1.0811956010542667,
          1.4799493546243363,
          2.050370676589714,
          -0.09903881715990685,
          2.070541603456114,
          0.7662237165749922,
          -0.3576102464551363,
          0.49517071473458907,
          1.6194456007075326,
          0.18249899731952396,
          -0.5386291904369472,
          -1.4350220617716536
         ],
         "yaxis": "y3"
        },
        {
         "line": {
          "color": "rgba(128, 128, 128, 1.0)",
          "dash": "solid",
          "shape": "linear",
          "width": 1.3
         },
         "marker": {
          "size": 2,
          "symbol": "circle"
         },
         "mode": "markers",
         "name": "A",
         "text": "",
         "type": "scatter",
         "x": [
          0.9479557561629391,
          2.298572982397254,
          1.8985066080729003,
          -0.21935281592776976,
          -0.8271492658805314,
          0.19851325528747873,
          -0.23951629522638052,
          -0.16735546918674754,
          0.4494119281442416,
          0.567578487854076,
          1.2556079947823373,
          -0.14718548227741263,
          -0.5541744883947628,
          -0.8855564195134483,
          -0.9478886620028885,
          0.9403100154204105,
          -1.893947196276431,
          -0.19080510215504717,
          1.6011193911570996,
          0.01936732726143374,
          0.3103484586399088,
          -2.3059930411011034,
          -1.3571828627998581,
          -0.30940976185537206,
          0.22329871865112277,
          0.6402957481944804,
          0.5046736773612417,
          -0.5370501114861642,
          -1.5125077613563083,
          -0.5791691884242758,
          -0.583961455113161,
          -0.7188188557167092,
          0.9341868949384947,
          -0.9184195378879708,
          2.247344161021866,
          0.8304305784192072,
          -1.639352353330321,
          -2.6730603733681924,
          0.5200616162134988,
          -0.891207675494616,
          0.31946716517453333,
          0.8431580555357344,
          0.4140046681848647,
          0.7713341679931037,
          -0.4590174931962297,
          0.9946614452762788,
          0.13788238743987755,
          1.7026523220319518,
          0.6961905827135803,
          0.898633656869011,
          -0.6509593709786435,
          -1.0615504833800744,
          0.9476633532200767,
          -2.1266285060064916,
          0.519888566389938,
          -0.08807757407231966,
          -0.049720326940622825,
          0.3175910673950524,
          0.4202130273427286,
          -1.1060867504540906,
          -0.7404627136340549,
          0.5866812954376825,
          2.0208400359871757,
          -0.6830267886972587,
          0.7178423825856399,
          -0.000485937457921648,
          0.8632415719288269,
          2.3886129328619505,
          -1.3761040089721146,
          -0.5165545161329226,
          0.6051372890502771,
          -0.6169190139559843,
          0.6098492513385899,
          -1.5250632348744793,
          0.2662552967850766,
          0.9145194146445753,
          -1.2853118992581378,
          -0.20683864531351895,
          -1.1395881758021906,
          -1.2500643703450267,
          -0.7933646373792077,
          0.045862860855696276,
          0.18458495717507492,
          1.0506587701281214,
          -0.30899375225282716,
          0.18208784675591044,
          0.8283796364370927,
          -0.4096637543022577,
          0.7506527560390127,
          -1.6054311962160694,
          0.2122586436250985,
          -0.6859217969969345,
          0.3731980438617282,
          -0.3916034394544518,
          0.7677063716061,
          -0.550762943480122,
          0.15397408945106517,
          0.8466623131049918,
          -1.174723705302563,
          0.26016534979009037
         ],
         "xaxis": "x4",
         "y": [
          1.2743291159598842,
          0.012603295984593112,
          0.026124428121605058,
          0.05740195638716594,
          0.7211797728758698,
          -1.2272404700848971,
          -0.0602220042618601,
          -1.2251272187523363,
          0.7285313635047205,
          0.3696043043956092,
          -0.005031906455792278,
          -0.217988503656931,
          -0.2958721265356392,
          -0.7119151897145148,
          -1.560092182531834,
          -0.97948301063551,
          -1.4295960531654444,
          -1.1734281071025316,
          -0.14794118852659902,
          0.22858356596300675,
          -0.4106705073939129,
          0.9201695687694685,
          -0.5243273775682088,
          1.26090079768481,
          -0.17793819394265636,
          1.1901683935840963,
          -1.3231680679116269,
          0.625060436042206,
          0.7057352901420538,
          -0.9000976494452639,
          0.5977224299581562,
          1.291099983403894,
          -0.15140884822287337,
          -0.07567580316289536,
          -1.2274736019729966,
          -1.1605033095785415,
          -0.003460674940168402,
          -1.0229364542489692,
          0.7205474038629697,
          0.49495986005977277,
          0.41076790058176404,
          0.1844472021660236,
          0.1167576805269786,
          1.112034995203464,
          1.0859515215555395,
          -1.695322974218527,
          0.7842598671527137,
          0.758377284213845,
          -1.091849542132929,
          -1.3153986457811035,
          -0.6243415523889722,
          1.1646852896543975,
          -0.7988149852707761,
          -0.7507366086782864,
          -0.9180420106279558,
          -0.2729434694854129,
          -1.2811526328740261,
          -0.9755996574451098,
          -0.4688125940352931,
          -0.26391419787528425,
          -2.4167264147169534,
          -1.066100926271971,
          0.17041655454385568,
          -2.078311632109863,
          0.560552210773985,
          0.706882083984312,
          0.7723109540792544,
          -1.4249266221939358,
          1.4039689127307864,
          1.778762557715026,
          0.27437173358694167,
          0.11733848968444871,
          -2.6150010633949354,
          -0.8592599110213128,
          1.8093740945878218,
          -0.1292779500768447,
          -1.0439103137271737,
          1.2829276692789005,
          1.013159098488871,
          0.20803697944170838,
          -0.6138663700796907,
          0.1652084642695246,
          -1.8548152158867799,
          1.8437969796864635,
          0.5030983867380925,
          0.07190031940443338,
          2.1088970284366866,
          -1.0445203253805864,
          1.0811956010542667,
          1.4799493546243363,
          2.050370676589714,
          -0.09903881715990685,
          2.070541603456114,
          0.7662237165749922,
          -0.3576102464551363,
          0.49517071473458907,
          1.6194456007075326,
          0.18249899731952396,
          -0.5386291904369472,
          -1.4350220617716536
         ],
         "yaxis": "y4"
        },
        {
         "line": {
          "color": "rgba(128, 128, 128, 1.0)",
          "dash": "solid",
          "shape": "linear",
          "width": 1.3
         },
         "marker": {
          "size": 2,
          "symbol": "circle"
         },
         "mode": "markers",
         "name": "B",
         "text": "",
         "type": "scatter",
         "x": [
          1.2743291159598842,
          0.012603295984593112,
          0.026124428121605058,
          0.05740195638716594,
          0.7211797728758698,
          -1.2272404700848971,
          -0.0602220042618601,
          -1.2251272187523363,
          0.7285313635047205,
          0.3696043043956092,
          -0.005031906455792278,
          -0.217988503656931,
          -0.2958721265356392,
          -0.7119151897145148,
          -1.560092182531834,
          -0.97948301063551,
          -1.4295960531654444,
          -1.1734281071025316,
          -0.14794118852659902,
          0.22858356596300675,
          -0.4106705073939129,
          0.9201695687694685,
          -0.5243273775682088,
          1.26090079768481,
          -0.17793819394265636,
          1.1901683935840963,
          -1.3231680679116269,
          0.625060436042206,
          0.7057352901420538,
          -0.9000976494452639,
          0.5977224299581562,
          1.291099983403894,
          -0.15140884822287337,
          -0.07567580316289536,
          -1.2274736019729966,
          -1.1605033095785415,
          -0.003460674940168402,
          -1.0229364542489692,
          0.7205474038629697,
          0.49495986005977277,
          0.41076790058176404,
          0.1844472021660236,
          0.1167576805269786,
          1.112034995203464,
          1.0859515215555395,
          -1.695322974218527,
          0.7842598671527137,
          0.758377284213845,
          -1.091849542132929,
          -1.3153986457811035,
          -0.6243415523889722,
          1.1646852896543975,
          -0.7988149852707761,
          -0.7507366086782864,
          -0.9180420106279558,
          -0.2729434694854129,
          -1.2811526328740261,
          -0.9755996574451098,
          -0.4688125940352931,
          -0.26391419787528425,
          -2.4167264147169534,
          -1.066100926271971,
          0.17041655454385568,
          -2.078311632109863,
          0.560552210773985,
          0.706882083984312,
          0.7723109540792544,
          -1.4249266221939358,
          1.4039689127307864,
          1.778762557715026,
          0.27437173358694167,
          0.11733848968444871,
          -2.6150010633949354,
          -0.8592599110213128,
          1.8093740945878218,
          -0.1292779500768447,
          -1.0439103137271737,
          1.2829276692789005,
          1.013159098488871,
          0.20803697944170838,
          -0.6138663700796907,
          0.1652084642695246,
          -1.8548152158867799,
          1.8437969796864635,
          0.5030983867380925,
          0.07190031940443338,
          2.1088970284366866,
          -1.0445203253805864,
          1.0811956010542667,
          1.4799493546243363,
          2.050370676589714,
          -0.09903881715990685,
          2.070541603456114,
          0.7662237165749922,
          -0.3576102464551363,
          0.49517071473458907,
          1.6194456007075326,
          0.18249899731952396,
          -0.5386291904369472,
          -1.4350220617716536
         ],
         "xaxis": "x5",
         "y": [
          -0.39531474003646183,
          -0.8867252341912623,
          1.5959727139592397,
          -0.8915771314389602,
          0.052385164048535215,
          -2.15514457439745,
          -1.8144544174035113,
          0.08262005734589607,
          -0.36215198720850966,
          -1.228011983928278,
          -1.1410569805616517,
          -1.8002508826157904,
          0.11744455836016172,
          -0.3718960945496368,
          2.1095460426240846,
          0.07887321650891946,
          1.1682426861997464,
          -1.0385909818862178,
          1.2904598411544959,
          -0.22589344504336356,
          -1.4165857426047672,
          -0.5845932169728495,
          1.005124981817119,
          0.8647853134104359,
          1.5345743538298893,
          -0.6197658515889924,
          0.4357103295542794,
          -0.643051371066005,
          -1.3096943661431093,
          0.8752592855623904,
          1.5987924708863182,
          -1.851139766837587,
          -1.4938816462310027,
          1.511566102263444,
          -0.6002087041576118,
          -0.0750572625889012,
          -0.17628415605563305,
          -2.1805287231472037,
          -0.030848334334775927,
          -0.3304526075523714,
          0.0178820557060164,
          0.6908592869951391,
          0.5481008805639314,
          0.832811189808415,
          0.019159938639792595,
          1.180810231871073,
          2.730747151610139,
          0.47962211842500235,
          -1.115686833838263,
          -0.30239009589317517,
          1.1713524884410316,
          -0.764656756383517,
          -0.6734519706171885,
          1.1738819770023874,
          0.025005237496141357,
          0.9104392998046482,
          -0.3280391121163882,
          -0.3486935451998248,
          -0.46793500068688076,
          -0.3757619711666674,
          -0.3369861822352449,
          0.722504307134837,
          -0.9929175231489182,
          -0.07617301189038786,
          0.23089195302073037,
          -0.680100584163858,
          -0.8527155998532249,
          -0.7499693642787079,
          1.4485578094733376,
          -1.1288994330475783,
          -0.7837078716233372,
          0.7410973973324356,
          0.3968117932668227,
          0.9157511083687346,
          0.3097620256451611,
          0.6713401468685719,
          -0.5640468063713121,
          -0.43173512125063357,
          -1.0714794639032783,
          1.323383682867993,
          -0.9351732722358566,
          -0.37504844765015305,
          0.8660583605656553,
          1.2887658734490224,
          0.41503915951653897,
          -0.08132023809148904,
          -0.0011254533419979285,
          -1.8579339281616882,
          0.9527033182663938,
          -0.28974539692538254,
          1.5966620018083522,
          0.5548831948574292,
          0.2937735161744529,
          0.21423897173344594,
          0.6196979234332269,
          -0.8881001296958283,
          0.030131395706024945,
          0.6222707263472929,
          0.5785613303233125,
          -1.6404562494386814
         ],
         "yaxis": "y5"
        },
        {
         "histfunc": "count",
         "histnorm": "",
         "marker": {
          "color": "rgba(55, 128, 191, 1.0)",
          "line": {
           "color": "#4D5663",
           "width": 1.3
          }
         },
         "name": "B",
         "nbinsx": 10,
         "opacity": 0.8,
         "orientation": "v",
         "type": "histogram",
         "x": [
          -0.39531474003646183,
          -0.8867252341912623,
          1.5959727139592397,
          -0.8915771314389602,
          0.052385164048535215,
          -2.15514457439745,
          -1.8144544174035113,
          0.08262005734589607,
          -0.36215198720850966,
          -1.228011983928278,
          -1.1410569805616517,
          -1.8002508826157904,
          0.11744455836016172,
          -0.3718960945496368,
          2.1095460426240846,
          0.07887321650891946,
          1.1682426861997464,
          -1.0385909818862178,
          1.2904598411544959,
          -0.22589344504336356,
          -1.4165857426047672,
          -0.5845932169728495,
          1.005124981817119,
          0.8647853134104359,
          1.5345743538298893,
          -0.6197658515889924,
          0.4357103295542794,
          -0.643051371066005,
          -1.3096943661431093,
          0.8752592855623904,
          1.5987924708863182,
          -1.851139766837587,
          -1.4938816462310027,
          1.511566102263444,
          -0.6002087041576118,
          -0.0750572625889012,
          -0.17628415605563305,
          -2.1805287231472037,
          -0.030848334334775927,
          -0.3304526075523714,
          0.0178820557060164,
          0.6908592869951391,
          0.5481008805639314,
          0.832811189808415,
          0.019159938639792595,
          1.180810231871073,
          2.730747151610139,
          0.47962211842500235,
          -1.115686833838263,
          -0.30239009589317517,
          1.1713524884410316,
          -0.764656756383517,
          -0.6734519706171885,
          1.1738819770023874,
          0.025005237496141357,
          0.9104392998046482,
          -0.3280391121163882,
          -0.3486935451998248,
          -0.46793500068688076,
          -0.3757619711666674,
          -0.3369861822352449,
          0.722504307134837,
          -0.9929175231489182,
          -0.07617301189038786,
          0.23089195302073037,
          -0.680100584163858,
          -0.8527155998532249,
          -0.7499693642787079,
          1.4485578094733376,
          -1.1288994330475783,
          -0.7837078716233372,
          0.7410973973324356,
          0.3968117932668227,
          0.9157511083687346,
          0.3097620256451611,
          0.6713401468685719,
          -0.5640468063713121,
          -0.43173512125063357,
          -1.0714794639032783,
          1.323383682867993,
          -0.9351732722358566,
          -0.37504844765015305,
          0.8660583605656553,
          1.2887658734490224,
          0.41503915951653897,
          -0.08132023809148904,
          -0.0011254533419979285,
          -1.8579339281616882,
          0.9527033182663938,
          -0.28974539692538254,
          1.5966620018083522,
          0.5548831948574292,
          0.2937735161744529,
          0.21423897173344594,
          0.6196979234332269,
          -0.8881001296958283,
          0.030131395706024945,
          0.6222707263472929,
          0.5785613303233125,
          -1.6404562494386814
         ],
         "xaxis": "x6",
         "yaxis": "y6"
        },
        {
         "line": {
          "color": "rgba(128, 128, 128, 1.0)",
          "dash": "solid",
          "shape": "linear",
          "width": 1.3
         },
         "marker": {
          "size": 2,
          "symbol": "circle"
         },
         "mode": "markers",
         "name": "B",
         "text": "",
         "type": "scatter",
         "x": [
          -0.36044540409848363,
          -1.3682369672062968,
          -0.9282922263722264,
          -0.45848038763538146,
          0.0715824631021516,
          0.5900264561161117,
          0.07497764580659219,
          -0.5104856754102799,
          -0.27605300650321773,
          -1.6248357381844074,
          -0.4816519562328335,
          -2.0506962498414247,
          1.7773616210375107,
          -0.6754462688728486,
          1.2262109264869192,
          0.6139539660003608,
          -0.6297992478728509,
          1.0006258792077805,
          -0.4762091942722724,
          -0.6632822162736236,
          1.576702485326573,
          -1.9549915684839305,
          -1.4251516158139754,
          -1.4500577195588817,
          -1.3366967700302275,
          0.3672192065324242,
          -1.3121692836149137,
          -0.031829016292886314,
          0.2533927221775022,
          -2.0182118834208556,
          -1.5750663801727445,
          0.29926418838762575,
          -0.4136173969379489,
          -1.2479526328438808,
          -1.2418866384269047,
          0.509094507374238,
          0.2002732933288788,
          -1.8580735849645333,
          -0.49768800132795543,
          0.637430016285652,
          -0.6780429278430543,
          0.6264243310761589,
          1.570872229475947,
          1.2087947749533279,
          -1.3681598699656303,
          -0.0017205720417560822,
          -0.1460318659234728,
          -0.871420273233697,
          0.1590697243425055,
          -0.7660352974730662,
          0.4303054256541309,
          -1.668213270695618,
          0.2780540161991583,
          0.087592359979765,
          0.9900116230613754,
          0.5900147241402782,
          -1.063717264197242,
          1.24257322092785,
          1.9907270812536322,
          1.5719147972788592,
          -1.7760798072451935,
          -1.34650757489623,
          0.23136066036130282,
          -0.1969755900432889,
          1.0042123847203066,
          1.6185298642020232,
          0.2398560243673993,
          0.06268088811831533,
          0.3114545888544146,
          -0.783836905301807,
          0.10098810777923627,
          -1.9899063256836396,
          0.5840657452315934,
          -0.10374052032512127,
          0.22629753494658214,
          0.06497485687391426,
          -2.4964257370098544,
          1.2537849394323473,
          -1.257805445847786,
          1.6159113795403206,
          -0.6274468686664045,
          0.7340668053520483,
          -2.2003426173120344,
          0.6428051084627697,
          1.0607436340152985,
          1.163904700448005,
          -0.5303144488710698,
          -0.6714829399675204,
          -1.0819877865976362,
          0.5127818276572855,
          -0.568724685074043,
          0.18151018833865676,
          0.7554640306951577,
          -0.8876737604103103,
          0.24004109451488095,
          1.2740091462548346,
          0.0388471201407009,
          -0.9479408989968882,
          -0.8295146712779031,
          2.1082464489943575
         ],
         "xaxis": "x7",
         "y": [
          -0.39531474003646183,
          -0.8867252341912623,
          1.5959727139592397,
          -0.8915771314389602,
          0.052385164048535215,
          -2.15514457439745,
          -1.8144544174035113,
          0.08262005734589607,
          -0.36215198720850966,
          -1.228011983928278,
          -1.1410569805616517,
          -1.8002508826157904,
          0.11744455836016172,
          -0.3718960945496368,
          2.1095460426240846,
          0.07887321650891946,
          1.1682426861997464,
          -1.0385909818862178,
          1.2904598411544959,
          -0.22589344504336356,
          -1.4165857426047672,
          -0.5845932169728495,
          1.005124981817119,
          0.8647853134104359,
          1.5345743538298893,
          -0.6197658515889924,
          0.4357103295542794,
          -0.643051371066005,
          -1.3096943661431093,
          0.8752592855623904,
          1.5987924708863182,
          -1.851139766837587,
          -1.4938816462310027,
          1.511566102263444,
          -0.6002087041576118,
          -0.0750572625889012,
          -0.17628415605563305,
          -2.1805287231472037,
          -0.030848334334775927,
          -0.3304526075523714,
          0.0178820557060164,
          0.6908592869951391,
          0.5481008805639314,
          0.832811189808415,
          0.019159938639792595,
          1.180810231871073,
          2.730747151610139,
          0.47962211842500235,
          -1.115686833838263,
          -0.30239009589317517,
          1.1713524884410316,
          -0.764656756383517,
          -0.6734519706171885,
          1.1738819770023874,
          0.025005237496141357,
          0.9104392998046482,
          -0.3280391121163882,
          -0.3486935451998248,
          -0.46793500068688076,
          -0.3757619711666674,
          -0.3369861822352449,
          0.722504307134837,
          -0.9929175231489182,
          -0.07617301189038786,
          0.23089195302073037,
          -0.680100584163858,
          -0.8527155998532249,
          -0.7499693642787079,
          1.4485578094733376,
          -1.1288994330475783,
          -0.7837078716233372,
          0.7410973973324356,
          0.3968117932668227,
          0.9157511083687346,
          0.3097620256451611,
          0.6713401468685719,
          -0.5640468063713121,
          -0.43173512125063357,
          -1.0714794639032783,
          1.323383682867993,
          -0.9351732722358566,
          -0.37504844765015305,
          0.8660583605656553,
          1.2887658734490224,
          0.41503915951653897,
          -0.08132023809148904,
          -0.0011254533419979285,
          -1.8579339281616882,
          0.9527033182663938,
          -0.28974539692538254,
          1.5966620018083522,
          0.5548831948574292,
          0.2937735161744529,
          0.21423897173344594,
          0.6196979234332269,
          -0.8881001296958283,
          0.030131395706024945,
          0.6222707263472929,
          0.5785613303233125,
          -1.6404562494386814
         ],
         "yaxis": "y7"
        },
        {
         "line": {
          "color": "rgba(128, 128, 128, 1.0)",
          "dash": "solid",
          "shape": "linear",
          "width": 1.3
         },
         "marker": {
          "size": 2,
          "symbol": "circle"
         },
         "mode": "markers",
         "name": "B",
         "text": "",
         "type": "scatter",
         "x": [
          0.9479557561629391,
          2.298572982397254,
          1.8985066080729003,
          -0.21935281592776976,
          -0.8271492658805314,
          0.19851325528747873,
          -0.23951629522638052,
          -0.16735546918674754,
          0.4494119281442416,
          0.567578487854076,
          1.2556079947823373,
          -0.14718548227741263,
          -0.5541744883947628,
          -0.8855564195134483,
          -0.9478886620028885,
          0.9403100154204105,
          -1.893947196276431,
          -0.19080510215504717,
          1.6011193911570996,
          0.01936732726143374,
          0.3103484586399088,
          -2.3059930411011034,
          -1.3571828627998581,
          -0.30940976185537206,
          0.22329871865112277,
          0.6402957481944804,
          0.5046736773612417,
          -0.5370501114861642,
          -1.5125077613563083,
          -0.5791691884242758,
          -0.583961455113161,
          -0.7188188557167092,
          0.9341868949384947,
          -0.9184195378879708,
          2.247344161021866,
          0.8304305784192072,
          -1.639352353330321,
          -2.6730603733681924,
          0.5200616162134988,
          -0.891207675494616,
          0.31946716517453333,
          0.8431580555357344,
          0.4140046681848647,
          0.7713341679931037,
          -0.4590174931962297,
          0.9946614452762788,
          0.13788238743987755,
          1.7026523220319518,
          0.6961905827135803,
          0.898633656869011,
          -0.6509593709786435,
          -1.0615504833800744,
          0.9476633532200767,
          -2.1266285060064916,
          0.519888566389938,
          -0.08807757407231966,
          -0.049720326940622825,
          0.3175910673950524,
          0.4202130273427286,
          -1.1060867504540906,
          -0.7404627136340549,
          0.5866812954376825,
          2.0208400359871757,
          -0.6830267886972587,
          0.7178423825856399,
          -0.000485937457921648,
          0.8632415719288269,
          2.3886129328619505,
          -1.3761040089721146,
          -0.5165545161329226,
          0.6051372890502771,
          -0.6169190139559843,
          0.6098492513385899,
          -1.5250632348744793,
          0.2662552967850766,
          0.9145194146445753,
          -1.2853118992581378,
          -0.20683864531351895,
          -1.1395881758021906,
          -1.2500643703450267,
          -0.7933646373792077,
          0.045862860855696276,
          0.18458495717507492,
          1.0506587701281214,
          -0.30899375225282716,
          0.18208784675591044,
          0.8283796364370927,
          -0.4096637543022577,
          0.7506527560390127,
          -1.6054311962160694,
          0.2122586436250985,
          -0.6859217969969345,
          0.3731980438617282,
          -0.3916034394544518,
          0.7677063716061,
          -0.550762943480122,
          0.15397408945106517,
          0.8466623131049918,
          -1.174723705302563,
          0.26016534979009037
         ],
         "xaxis": "x8",
         "y": [
          -0.39531474003646183,
          -0.8867252341912623,
          1.5959727139592397,
          -0.8915771314389602,
          0.052385164048535215,
          -2.15514457439745,
          -1.8144544174035113,
          0.08262005734589607,
          -0.36215198720850966,
          -1.228011983928278,
          -1.1410569805616517,
          -1.8002508826157904,
          0.11744455836016172,
          -0.3718960945496368,
          2.1095460426240846,
          0.07887321650891946,
          1.1682426861997464,
          -1.0385909818862178,
          1.2904598411544959,
          -0.22589344504336356,
          -1.4165857426047672,
          -0.5845932169728495,
          1.005124981817119,
          0.8647853134104359,
          1.5345743538298893,
          -0.6197658515889924,
          0.4357103295542794,
          -0.643051371066005,
          -1.3096943661431093,
          0.8752592855623904,
          1.5987924708863182,
          -1.851139766837587,
          -1.4938816462310027,
          1.511566102263444,
          -0.6002087041576118,
          -0.0750572625889012,
          -0.17628415605563305,
          -2.1805287231472037,
          -0.030848334334775927,
          -0.3304526075523714,
          0.0178820557060164,
          0.6908592869951391,
          0.5481008805639314,
          0.832811189808415,
          0.019159938639792595,
          1.180810231871073,
          2.730747151610139,
          0.47962211842500235,
          -1.115686833838263,
          -0.30239009589317517,
          1.1713524884410316,
          -0.764656756383517,
          -0.6734519706171885,
          1.1738819770023874,
          0.025005237496141357,
          0.9104392998046482,
          -0.3280391121163882,
          -0.3486935451998248,
          -0.46793500068688076,
          -0.3757619711666674,
          -0.3369861822352449,
          0.722504307134837,
          -0.9929175231489182,
          -0.07617301189038786,
          0.23089195302073037,
          -0.680100584163858,
          -0.8527155998532249,
          -0.7499693642787079,
          1.4485578094733376,
          -1.1288994330475783,
          -0.7837078716233372,
          0.7410973973324356,
          0.3968117932668227,
          0.9157511083687346,
          0.3097620256451611,
          0.6713401468685719,
          -0.5640468063713121,
          -0.43173512125063357,
          -1.0714794639032783,
          1.323383682867993,
          -0.9351732722358566,
          -0.37504844765015305,
          0.8660583605656553,
          1.2887658734490224,
          0.41503915951653897,
          -0.08132023809148904,
          -0.0011254533419979285,
          -1.8579339281616882,
          0.9527033182663938,
          -0.28974539692538254,
          1.5966620018083522,
          0.5548831948574292,
          0.2937735161744529,
          0.21423897173344594,
          0.6196979234332269,
          -0.8881001296958283,
          0.030131395706024945,
          0.6222707263472929,
          0.5785613303233125,
          -1.6404562494386814
         ],
         "yaxis": "y8"
        },
        {
         "line": {
          "color": "rgba(128, 128, 128, 1.0)",
          "dash": "solid",
          "shape": "linear",
          "width": 1.3
         },
         "marker": {
          "size": 2,
          "symbol": "circle"
         },
         "mode": "markers",
         "name": "C",
         "text": "",
         "type": "scatter",
         "x": [
          1.2743291159598842,
          0.012603295984593112,
          0.026124428121605058,
          0.05740195638716594,
          0.7211797728758698,
          -1.2272404700848971,
          -0.0602220042618601,
          -1.2251272187523363,
          0.7285313635047205,
          0.3696043043956092,
          -0.005031906455792278,
          -0.217988503656931,
          -0.2958721265356392,
          -0.7119151897145148,
          -1.560092182531834,
          -0.97948301063551,
          -1.4295960531654444,
          -1.1734281071025316,
          -0.14794118852659902,
          0.22858356596300675,
          -0.4106705073939129,
          0.9201695687694685,
          -0.5243273775682088,
          1.26090079768481,
          -0.17793819394265636,
          1.1901683935840963,
          -1.3231680679116269,
          0.625060436042206,
          0.7057352901420538,
          -0.9000976494452639,
          0.5977224299581562,
          1.291099983403894,
          -0.15140884822287337,
          -0.07567580316289536,
          -1.2274736019729966,
          -1.1605033095785415,
          -0.003460674940168402,
          -1.0229364542489692,
          0.7205474038629697,
          0.49495986005977277,
          0.41076790058176404,
          0.1844472021660236,
          0.1167576805269786,
          1.112034995203464,
          1.0859515215555395,
          -1.695322974218527,
          0.7842598671527137,
          0.758377284213845,
          -1.091849542132929,
          -1.3153986457811035,
          -0.6243415523889722,
          1.1646852896543975,
          -0.7988149852707761,
          -0.7507366086782864,
          -0.9180420106279558,
          -0.2729434694854129,
          -1.2811526328740261,
          -0.9755996574451098,
          -0.4688125940352931,
          -0.26391419787528425,
          -2.4167264147169534,
          -1.066100926271971,
          0.17041655454385568,
          -2.078311632109863,
          0.560552210773985,
          0.706882083984312,
          0.7723109540792544,
          -1.4249266221939358,
          1.4039689127307864,
          1.778762557715026,
          0.27437173358694167,
          0.11733848968444871,
          -2.6150010633949354,
          -0.8592599110213128,
          1.8093740945878218,
          -0.1292779500768447,
          -1.0439103137271737,
          1.2829276692789005,
          1.013159098488871,
          0.20803697944170838,
          -0.6138663700796907,
          0.1652084642695246,
          -1.8548152158867799,
          1.8437969796864635,
          0.5030983867380925,
          0.07190031940443338,
          2.1088970284366866,
          -1.0445203253805864,
          1.0811956010542667,
          1.4799493546243363,
          2.050370676589714,
          -0.09903881715990685,
          2.070541603456114,
          0.7662237165749922,
          -0.3576102464551363,
          0.49517071473458907,
          1.6194456007075326,
          0.18249899731952396,
          -0.5386291904369472,
          -1.4350220617716536
         ],
         "xaxis": "x9",
         "y": [
          -0.36044540409848363,
          -1.3682369672062968,
          -0.9282922263722264,
          -0.45848038763538146,
          0.0715824631021516,
          0.5900264561161117,
          0.07497764580659219,
          -0.5104856754102799,
          -0.27605300650321773,
          -1.6248357381844074,
          -0.4816519562328335,
          -2.0506962498414247,
          1.7773616210375107,
          -0.6754462688728486,
          1.2262109264869192,
          0.6139539660003608,
          -0.6297992478728509,
          1.0006258792077805,
          -0.4762091942722724,
          -0.6632822162736236,
          1.576702485326573,
          -1.9549915684839305,
          -1.4251516158139754,
          -1.4500577195588817,
          -1.3366967700302275,
          0.3672192065324242,
          -1.3121692836149137,
          -0.031829016292886314,
          0.2533927221775022,
          -2.0182118834208556,
          -1.5750663801727445,
          0.29926418838762575,
          -0.4136173969379489,
          -1.2479526328438808,
          -1.2418866384269047,
          0.509094507374238,
          0.2002732933288788,
          -1.8580735849645333,
          -0.49768800132795543,
          0.637430016285652,
          -0.6780429278430543,
          0.6264243310761589,
          1.570872229475947,
          1.2087947749533279,
          -1.3681598699656303,
          -0.0017205720417560822,
          -0.1460318659234728,
          -0.871420273233697,
          0.1590697243425055,
          -0.7660352974730662,
          0.4303054256541309,
          -1.668213270695618,
          0.2780540161991583,
          0.087592359979765,
          0.9900116230613754,
          0.5900147241402782,
          -1.063717264197242,
          1.24257322092785,
          1.9907270812536322,
          1.5719147972788592,
          -1.7760798072451935,
          -1.34650757489623,
          0.23136066036130282,
          -0.1969755900432889,
          1.0042123847203066,
          1.6185298642020232,
          0.2398560243673993,
          0.06268088811831533,
          0.3114545888544146,
          -0.783836905301807,
          0.10098810777923627,
          -1.9899063256836396,
          0.5840657452315934,
          -0.10374052032512127,
          0.22629753494658214,
          0.06497485687391426,
          -2.4964257370098544,
          1.2537849394323473,
          -1.257805445847786,
          1.6159113795403206,
          -0.6274468686664045,
          0.7340668053520483,
          -2.2003426173120344,
          0.6428051084627697,
          1.0607436340152985,
          1.163904700448005,
          -0.5303144488710698,
          -0.6714829399675204,
          -1.0819877865976362,
          0.5127818276572855,
          -0.568724685074043,
          0.18151018833865676,
          0.7554640306951577,
          -0.8876737604103103,
          0.24004109451488095,
          1.2740091462548346,
          0.0388471201407009,
          -0.9479408989968882,
          -0.8295146712779031,
          2.1082464489943575
         ],
         "yaxis": "y9"
        },
        {
         "line": {
          "color": "rgba(128, 128, 128, 1.0)",
          "dash": "solid",
          "shape": "linear",
          "width": 1.3
         },
         "marker": {
          "size": 2,
          "symbol": "circle"
         },
         "mode": "markers",
         "name": "C",
         "text": "",
         "type": "scatter",
         "x": [
          -0.39531474003646183,
          -0.8867252341912623,
          1.5959727139592397,
          -0.8915771314389602,
          0.052385164048535215,
          -2.15514457439745,
          -1.8144544174035113,
          0.08262005734589607,
          -0.36215198720850966,
          -1.228011983928278,
          -1.1410569805616517,
          -1.8002508826157904,
          0.11744455836016172,
          -0.3718960945496368,
          2.1095460426240846,
          0.07887321650891946,
          1.1682426861997464,
          -1.0385909818862178,
          1.2904598411544959,
          -0.22589344504336356,
          -1.4165857426047672,
          -0.5845932169728495,
          1.005124981817119,
          0.8647853134104359,
          1.5345743538298893,
          -0.6197658515889924,
          0.4357103295542794,
          -0.643051371066005,
          -1.3096943661431093,
          0.8752592855623904,
          1.5987924708863182,
          -1.851139766837587,
          -1.4938816462310027,
          1.511566102263444,
          -0.6002087041576118,
          -0.0750572625889012,
          -0.17628415605563305,
          -2.1805287231472037,
          -0.030848334334775927,
          -0.3304526075523714,
          0.0178820557060164,
          0.6908592869951391,
          0.5481008805639314,
          0.832811189808415,
          0.019159938639792595,
          1.180810231871073,
          2.730747151610139,
          0.47962211842500235,
          -1.115686833838263,
          -0.30239009589317517,
          1.1713524884410316,
          -0.764656756383517,
          -0.6734519706171885,
          1.1738819770023874,
          0.025005237496141357,
          0.9104392998046482,
          -0.3280391121163882,
          -0.3486935451998248,
          -0.46793500068688076,
          -0.3757619711666674,
          -0.3369861822352449,
          0.722504307134837,
          -0.9929175231489182,
          -0.07617301189038786,
          0.23089195302073037,
          -0.680100584163858,
          -0.8527155998532249,
          -0.7499693642787079,
          1.4485578094733376,
          -1.1288994330475783,
          -0.7837078716233372,
          0.7410973973324356,
          0.3968117932668227,
          0.9157511083687346,
          0.3097620256451611,
          0.6713401468685719,
          -0.5640468063713121,
          -0.43173512125063357,
          -1.0714794639032783,
          1.323383682867993,
          -0.9351732722358566,
          -0.37504844765015305,
          0.8660583605656553,
          1.2887658734490224,
          0.41503915951653897,
          -0.08132023809148904,
          -0.0011254533419979285,
          -1.8579339281616882,
          0.9527033182663938,
          -0.28974539692538254,
          1.5966620018083522,
          0.5548831948574292,
          0.2937735161744529,
          0.21423897173344594,
          0.6196979234332269,
          -0.8881001296958283,
          0.030131395706024945,
          0.6222707263472929,
          0.5785613303233125,
          -1.6404562494386814
         ],
         "xaxis": "x10",
         "y": [
          -0.36044540409848363,
          -1.3682369672062968,
          -0.9282922263722264,
          -0.45848038763538146,
          0.0715824631021516,
          0.5900264561161117,
          0.07497764580659219,
          -0.5104856754102799,
          -0.27605300650321773,
          -1.6248357381844074,
          -0.4816519562328335,
          -2.0506962498414247,
          1.7773616210375107,
          -0.6754462688728486,
          1.2262109264869192,
          0.6139539660003608,
          -0.6297992478728509,
          1.0006258792077805,
          -0.4762091942722724,
          -0.6632822162736236,
          1.576702485326573,
          -1.9549915684839305,
          -1.4251516158139754,
          -1.4500577195588817,
          -1.3366967700302275,
          0.3672192065324242,
          -1.3121692836149137,
          -0.031829016292886314,
          0.2533927221775022,
          -2.0182118834208556,
          -1.5750663801727445,
          0.29926418838762575,
          -0.4136173969379489,
          -1.2479526328438808,
          -1.2418866384269047,
          0.509094507374238,
          0.2002732933288788,
          -1.8580735849645333,
          -0.49768800132795543,
          0.637430016285652,
          -0.6780429278430543,
          0.6264243310761589,
          1.570872229475947,
          1.2087947749533279,
          -1.3681598699656303,
          -0.0017205720417560822,
          -0.1460318659234728,
          -0.871420273233697,
          0.1590697243425055,
          -0.7660352974730662,
          0.4303054256541309,
          -1.668213270695618,
          0.2780540161991583,
          0.087592359979765,
          0.9900116230613754,
          0.5900147241402782,
          -1.063717264197242,
          1.24257322092785,
          1.9907270812536322,
          1.5719147972788592,
          -1.7760798072451935,
          -1.34650757489623,
          0.23136066036130282,
          -0.1969755900432889,
          1.0042123847203066,
          1.6185298642020232,
          0.2398560243673993,
          0.06268088811831533,
          0.3114545888544146,
          -0.783836905301807,
          0.10098810777923627,
          -1.9899063256836396,
          0.5840657452315934,
          -0.10374052032512127,
          0.22629753494658214,
          0.06497485687391426,
          -2.4964257370098544,
          1.2537849394323473,
          -1.257805445847786,
          1.6159113795403206,
          -0.6274468686664045,
          0.7340668053520483,
          -2.2003426173120344,
          0.6428051084627697,
          1.0607436340152985,
          1.163904700448005,
          -0.5303144488710698,
          -0.6714829399675204,
          -1.0819877865976362,
          0.5127818276572855,
          -0.568724685074043,
          0.18151018833865676,
          0.7554640306951577,
          -0.8876737604103103,
          0.24004109451488095,
          1.2740091462548346,
          0.0388471201407009,
          -0.9479408989968882,
          -0.8295146712779031,
          2.1082464489943575
         ],
         "yaxis": "y10"
        },
        {
         "histfunc": "count",
         "histnorm": "",
         "marker": {
          "color": "rgba(50, 171, 96, 1.0)",
          "line": {
           "color": "#4D5663",
           "width": 1.3
          }
         },
         "name": "C",
         "nbinsx": 10,
         "opacity": 0.8,
         "orientation": "v",
         "type": "histogram",
         "x": [
          -0.36044540409848363,
          -1.3682369672062968,
          -0.9282922263722264,
          -0.45848038763538146,
          0.0715824631021516,
          0.5900264561161117,
          0.07497764580659219,
          -0.5104856754102799,
          -0.27605300650321773,
          -1.6248357381844074,
          -0.4816519562328335,
          -2.0506962498414247,
          1.7773616210375107,
          -0.6754462688728486,
          1.2262109264869192,
          0.6139539660003608,
          -0.6297992478728509,
          1.0006258792077805,
          -0.4762091942722724,
          -0.6632822162736236,
          1.576702485326573,
          -1.9549915684839305,
          -1.4251516158139754,
          -1.4500577195588817,
          -1.3366967700302275,
          0.3672192065324242,
          -1.3121692836149137,
          -0.031829016292886314,
          0.2533927221775022,
          -2.0182118834208556,
          -1.5750663801727445,
          0.29926418838762575,
          -0.4136173969379489,
          -1.2479526328438808,
          -1.2418866384269047,
          0.509094507374238,
          0.2002732933288788,
          -1.8580735849645333,
          -0.49768800132795543,
          0.637430016285652,
          -0.6780429278430543,
          0.6264243310761589,
          1.570872229475947,
          1.2087947749533279,
          -1.3681598699656303,
          -0.0017205720417560822,
          -0.1460318659234728,
          -0.871420273233697,
          0.1590697243425055,
          -0.7660352974730662,
          0.4303054256541309,
          -1.668213270695618,
          0.2780540161991583,
          0.087592359979765,
          0.9900116230613754,
          0.5900147241402782,
          -1.063717264197242,
          1.24257322092785,
          1.9907270812536322,
          1.5719147972788592,
          -1.7760798072451935,
          -1.34650757489623,
          0.23136066036130282,
          -0.1969755900432889,
          1.0042123847203066,
          1.6185298642020232,
          0.2398560243673993,
          0.06268088811831533,
          0.3114545888544146,
          -0.783836905301807,
          0.10098810777923627,
          -1.9899063256836396,
          0.5840657452315934,
          -0.10374052032512127,
          0.22629753494658214,
          0.06497485687391426,
          -2.4964257370098544,
          1.2537849394323473,
          -1.257805445847786,
          1.6159113795403206,
          -0.6274468686664045,
          0.7340668053520483,
          -2.2003426173120344,
          0.6428051084627697,
          1.0607436340152985,
          1.163904700448005,
          -0.5303144488710698,
          -0.6714829399675204,
          -1.0819877865976362,
          0.5127818276572855,
          -0.568724685074043,
          0.18151018833865676,
          0.7554640306951577,
          -0.8876737604103103,
          0.24004109451488095,
          1.2740091462548346,
          0.0388471201407009,
          -0.9479408989968882,
          -0.8295146712779031,
          2.1082464489943575
         ],
         "xaxis": "x11",
         "yaxis": "y11"
        },
        {
         "line": {
          "color": "rgba(128, 128, 128, 1.0)",
          "dash": "solid",
          "shape": "linear",
          "width": 1.3
         },
         "marker": {
          "size": 2,
          "symbol": "circle"
         },
         "mode": "markers",
         "name": "C",
         "text": "",
         "type": "scatter",
         "x": [
          0.9479557561629391,
          2.298572982397254,
          1.8985066080729003,
          -0.21935281592776976,
          -0.8271492658805314,
          0.19851325528747873,
          -0.23951629522638052,
          -0.16735546918674754,
          0.4494119281442416,
          0.567578487854076,
          1.2556079947823373,
          -0.14718548227741263,
          -0.5541744883947628,
          -0.8855564195134483,
          -0.9478886620028885,
          0.9403100154204105,
          -1.893947196276431,
          -0.19080510215504717,
          1.6011193911570996,
          0.01936732726143374,
          0.3103484586399088,
          -2.3059930411011034,
          -1.3571828627998581,
          -0.30940976185537206,
          0.22329871865112277,
          0.6402957481944804,
          0.5046736773612417,
          -0.5370501114861642,
          -1.5125077613563083,
          -0.5791691884242758,
          -0.583961455113161,
          -0.7188188557167092,
          0.9341868949384947,
          -0.9184195378879708,
          2.247344161021866,
          0.8304305784192072,
          -1.639352353330321,
          -2.6730603733681924,
          0.5200616162134988,
          -0.891207675494616,
          0.31946716517453333,
          0.8431580555357344,
          0.4140046681848647,
          0.7713341679931037,
          -0.4590174931962297,
          0.9946614452762788,
          0.13788238743987755,
          1.7026523220319518,
          0.6961905827135803,
          0.898633656869011,
          -0.6509593709786435,
          -1.0615504833800744,
          0.9476633532200767,
          -2.1266285060064916,
          0.519888566389938,
          -0.08807757407231966,
          -0.049720326940622825,
          0.3175910673950524,
          0.4202130273427286,
          -1.1060867504540906,
          -0.7404627136340549,
          0.5866812954376825,
          2.0208400359871757,
          -0.6830267886972587,
          0.7178423825856399,
          -0.000485937457921648,
          0.8632415719288269,
          2.3886129328619505,
          -1.3761040089721146,
          -0.5165545161329226,
          0.6051372890502771,
          -0.6169190139559843,
          0.6098492513385899,
          -1.5250632348744793,
          0.2662552967850766,
          0.9145194146445753,
          -1.2853118992581378,
          -0.20683864531351895,
          -1.1395881758021906,
          -1.2500643703450267,
          -0.7933646373792077,
          0.045862860855696276,
          0.18458495717507492,
          1.0506587701281214,
          -0.30899375225282716,
          0.18208784675591044,
          0.8283796364370927,
          -0.4096637543022577,
          0.7506527560390127,
          -1.6054311962160694,
          0.2122586436250985,
          -0.6859217969969345,
          0.3731980438617282,
          -0.3916034394544518,
          0.7677063716061,
          -0.550762943480122,
          0.15397408945106517,
          0.8466623131049918,
          -1.174723705302563,
          0.26016534979009037
         ],
         "xaxis": "x12",
         "y": [
          -0.36044540409848363,
          -1.3682369672062968,
          -0.9282922263722264,
          -0.45848038763538146,
          0.0715824631021516,
          0.5900264561161117,
          0.07497764580659219,
          -0.5104856754102799,
          -0.27605300650321773,
          -1.6248357381844074,
          -0.4816519562328335,
          -2.0506962498414247,
          1.7773616210375107,
          -0.6754462688728486,
          1.2262109264869192,
          0.6139539660003608,
          -0.6297992478728509,
          1.0006258792077805,
          -0.4762091942722724,
          -0.6632822162736236,
          1.576702485326573,
          -1.9549915684839305,
          -1.4251516158139754,
          -1.4500577195588817,
          -1.3366967700302275,
          0.3672192065324242,
          -1.3121692836149137,
          -0.031829016292886314,
          0.2533927221775022,
          -2.0182118834208556,
          -1.5750663801727445,
          0.29926418838762575,
          -0.4136173969379489,
          -1.2479526328438808,
          -1.2418866384269047,
          0.509094507374238,
          0.2002732933288788,
          -1.8580735849645333,
          -0.49768800132795543,
          0.637430016285652,
          -0.6780429278430543,
          0.6264243310761589,
          1.570872229475947,
          1.2087947749533279,
          -1.3681598699656303,
          -0.0017205720417560822,
          -0.1460318659234728,
          -0.871420273233697,
          0.1590697243425055,
          -0.7660352974730662,
          0.4303054256541309,
          -1.668213270695618,
          0.2780540161991583,
          0.087592359979765,
          0.9900116230613754,
          0.5900147241402782,
          -1.063717264197242,
          1.24257322092785,
          1.9907270812536322,
          1.5719147972788592,
          -1.7760798072451935,
          -1.34650757489623,
          0.23136066036130282,
          -0.1969755900432889,
          1.0042123847203066,
          1.6185298642020232,
          0.2398560243673993,
          0.06268088811831533,
          0.3114545888544146,
          -0.783836905301807,
          0.10098810777923627,
          -1.9899063256836396,
          0.5840657452315934,
          -0.10374052032512127,
          0.22629753494658214,
          0.06497485687391426,
          -2.4964257370098544,
          1.2537849394323473,
          -1.257805445847786,
          1.6159113795403206,
          -0.6274468686664045,
          0.7340668053520483,
          -2.2003426173120344,
          0.6428051084627697,
          1.0607436340152985,
          1.163904700448005,
          -0.5303144488710698,
          -0.6714829399675204,
          -1.0819877865976362,
          0.5127818276572855,
          -0.568724685074043,
          0.18151018833865676,
          0.7554640306951577,
          -0.8876737604103103,
          0.24004109451488095,
          1.2740091462548346,
          0.0388471201407009,
          -0.9479408989968882,
          -0.8295146712779031,
          2.1082464489943575
         ],
         "yaxis": "y12"
        },
        {
         "line": {
          "color": "rgba(128, 128, 128, 1.0)",
          "dash": "solid",
          "shape": "linear",
          "width": 1.3
         },
         "marker": {
          "size": 2,
          "symbol": "circle"
         },
         "mode": "markers",
         "name": "D",
         "text": "",
         "type": "scatter",
         "x": [
          1.2743291159598842,
          0.012603295984593112,
          0.026124428121605058,
          0.05740195638716594,
          0.7211797728758698,
          -1.2272404700848971,
          -0.0602220042618601,
          -1.2251272187523363,
          0.7285313635047205,
          0.3696043043956092,
          -0.005031906455792278,
          -0.217988503656931,
          -0.2958721265356392,
          -0.7119151897145148,
          -1.560092182531834,
          -0.97948301063551,
          -1.4295960531654444,
          -1.1734281071025316,
          -0.14794118852659902,
          0.22858356596300675,
          -0.4106705073939129,
          0.9201695687694685,
          -0.5243273775682088,
          1.26090079768481,
          -0.17793819394265636,
          1.1901683935840963,
          -1.3231680679116269,
          0.625060436042206,
          0.7057352901420538,
          -0.9000976494452639,
          0.5977224299581562,
          1.291099983403894,
          -0.15140884822287337,
          -0.07567580316289536,
          -1.2274736019729966,
          -1.1605033095785415,
          -0.003460674940168402,
          -1.0229364542489692,
          0.7205474038629697,
          0.49495986005977277,
          0.41076790058176404,
          0.1844472021660236,
          0.1167576805269786,
          1.112034995203464,
          1.0859515215555395,
          -1.695322974218527,
          0.7842598671527137,
          0.758377284213845,
          -1.091849542132929,
          -1.3153986457811035,
          -0.6243415523889722,
          1.1646852896543975,
          -0.7988149852707761,
          -0.7507366086782864,
          -0.9180420106279558,
          -0.2729434694854129,
          -1.2811526328740261,
          -0.9755996574451098,
          -0.4688125940352931,
          -0.26391419787528425,
          -2.4167264147169534,
          -1.066100926271971,
          0.17041655454385568,
          -2.078311632109863,
          0.560552210773985,
          0.706882083984312,
          0.7723109540792544,
          -1.4249266221939358,
          1.4039689127307864,
          1.778762557715026,
          0.27437173358694167,
          0.11733848968444871,
          -2.6150010633949354,
          -0.8592599110213128,
          1.8093740945878218,
          -0.1292779500768447,
          -1.0439103137271737,
          1.2829276692789005,
          1.013159098488871,
          0.20803697944170838,
          -0.6138663700796907,
          0.1652084642695246,
          -1.8548152158867799,
          1.8437969796864635,
          0.5030983867380925,
          0.07190031940443338,
          2.1088970284366866,
          -1.0445203253805864,
          1.0811956010542667,
          1.4799493546243363,
          2.050370676589714,
          -0.09903881715990685,
          2.070541603456114,
          0.7662237165749922,
          -0.3576102464551363,
          0.49517071473458907,
          1.6194456007075326,
          0.18249899731952396,
          -0.5386291904369472,
          -1.4350220617716536
         ],
         "xaxis": "x13",
         "y": [
          0.9479557561629391,
          2.298572982397254,
          1.8985066080729003,
          -0.21935281592776976,
          -0.8271492658805314,
          0.19851325528747873,
          -0.23951629522638052,
          -0.16735546918674754,
          0.4494119281442416,
          0.567578487854076,
          1.2556079947823373,
          -0.14718548227741263,
          -0.5541744883947628,
          -0.8855564195134483,
          -0.9478886620028885,
          0.9403100154204105,
          -1.893947196276431,
          -0.19080510215504717,
          1.6011193911570996,
          0.01936732726143374,
          0.3103484586399088,
          -2.3059930411011034,
          -1.3571828627998581,
          -0.30940976185537206,
          0.22329871865112277,
          0.6402957481944804,
          0.5046736773612417,
          -0.5370501114861642,
          -1.5125077613563083,
          -0.5791691884242758,
          -0.583961455113161,
          -0.7188188557167092,
          0.9341868949384947,
          -0.9184195378879708,
          2.247344161021866,
          0.8304305784192072,
          -1.639352353330321,
          -2.6730603733681924,
          0.5200616162134988,
          -0.891207675494616,
          0.31946716517453333,
          0.8431580555357344,
          0.4140046681848647,
          0.7713341679931037,
          -0.4590174931962297,
          0.9946614452762788,
          0.13788238743987755,
          1.7026523220319518,
          0.6961905827135803,
          0.898633656869011,
          -0.6509593709786435,
          -1.0615504833800744,
          0.9476633532200767,
          -2.1266285060064916,
          0.519888566389938,
          -0.08807757407231966,
          -0.049720326940622825,
          0.3175910673950524,
          0.4202130273427286,
          -1.1060867504540906,
          -0.7404627136340549,
          0.5866812954376825,
          2.0208400359871757,
          -0.6830267886972587,
          0.7178423825856399,
          -0.000485937457921648,
          0.8632415719288269,
          2.3886129328619505,
          -1.3761040089721146,
          -0.5165545161329226,
          0.6051372890502771,
          -0.6169190139559843,
          0.6098492513385899,
          -1.5250632348744793,
          0.2662552967850766,
          0.9145194146445753,
          -1.2853118992581378,
          -0.20683864531351895,
          -1.1395881758021906,
          -1.2500643703450267,
          -0.7933646373792077,
          0.045862860855696276,
          0.18458495717507492,
          1.0506587701281214,
          -0.30899375225282716,
          0.18208784675591044,
          0.8283796364370927,
          -0.4096637543022577,
          0.7506527560390127,
          -1.6054311962160694,
          0.2122586436250985,
          -0.6859217969969345,
          0.3731980438617282,
          -0.3916034394544518,
          0.7677063716061,
          -0.550762943480122,
          0.15397408945106517,
          0.8466623131049918,
          -1.174723705302563,
          0.26016534979009037
         ],
         "yaxis": "y13"
        },
        {
         "line": {
          "color": "rgba(128, 128, 128, 1.0)",
          "dash": "solid",
          "shape": "linear",
          "width": 1.3
         },
         "marker": {
          "size": 2,
          "symbol": "circle"
         },
         "mode": "markers",
         "name": "D",
         "text": "",
         "type": "scatter",
         "x": [
          -0.39531474003646183,
          -0.8867252341912623,
          1.5959727139592397,
          -0.8915771314389602,
          0.052385164048535215,
          -2.15514457439745,
          -1.8144544174035113,
          0.08262005734589607,
          -0.36215198720850966,
          -1.228011983928278,
          -1.1410569805616517,
          -1.8002508826157904,
          0.11744455836016172,
          -0.3718960945496368,
          2.1095460426240846,
          0.07887321650891946,
          1.1682426861997464,
          -1.0385909818862178,
          1.2904598411544959,
          -0.22589344504336356,
          -1.4165857426047672,
          -0.5845932169728495,
          1.005124981817119,
          0.8647853134104359,
          1.5345743538298893,
          -0.6197658515889924,
          0.4357103295542794,
          -0.643051371066005,
          -1.3096943661431093,
          0.8752592855623904,
          1.5987924708863182,
          -1.851139766837587,
          -1.4938816462310027,
          1.511566102263444,
          -0.6002087041576118,
          -0.0750572625889012,
          -0.17628415605563305,
          -2.1805287231472037,
          -0.030848334334775927,
          -0.3304526075523714,
          0.0178820557060164,
          0.6908592869951391,
          0.5481008805639314,
          0.832811189808415,
          0.019159938639792595,
          1.180810231871073,
          2.730747151610139,
          0.47962211842500235,
          -1.115686833838263,
          -0.30239009589317517,
          1.1713524884410316,
          -0.764656756383517,
          -0.6734519706171885,
          1.1738819770023874,
          0.025005237496141357,
          0.9104392998046482,
          -0.3280391121163882,
          -0.3486935451998248,
          -0.46793500068688076,
          -0.3757619711666674,
          -0.3369861822352449,
          0.722504307134837,
          -0.9929175231489182,
          -0.07617301189038786,
          0.23089195302073037,
          -0.680100584163858,
          -0.8527155998532249,
          -0.7499693642787079,
          1.4485578094733376,
          -1.1288994330475783,
          -0.7837078716233372,
          0.7410973973324356,
          0.3968117932668227,
          0.9157511083687346,
          0.3097620256451611,
          0.6713401468685719,
          -0.5640468063713121,
          -0.43173512125063357,
          -1.0714794639032783,
          1.323383682867993,
          -0.9351732722358566,
          -0.37504844765015305,
          0.8660583605656553,
          1.2887658734490224,
          0.41503915951653897,
          -0.08132023809148904,
          -0.0011254533419979285,
          -1.8579339281616882,
          0.9527033182663938,
          -0.28974539692538254,
          1.5966620018083522,
          0.5548831948574292,
          0.2937735161744529,
          0.21423897173344594,
          0.6196979234332269,
          -0.8881001296958283,
          0.030131395706024945,
          0.6222707263472929,
          0.5785613303233125,
          -1.6404562494386814
         ],
         "xaxis": "x14",
         "y": [
          0.9479557561629391,
          2.298572982397254,
          1.8985066080729003,
          -0.21935281592776976,
          -0.8271492658805314,
          0.19851325528747873,
          -0.23951629522638052,
          -0.16735546918674754,
          0.4494119281442416,
          0.567578487854076,
          1.2556079947823373,
          -0.14718548227741263,
          -0.5541744883947628,
          -0.8855564195134483,
          -0.9478886620028885,
          0.9403100154204105,
          -1.893947196276431,
          -0.19080510215504717,
          1.6011193911570996,
          0.01936732726143374,
          0.3103484586399088,
          -2.3059930411011034,
          -1.3571828627998581,
          -0.30940976185537206,
          0.22329871865112277,
          0.6402957481944804,
          0.5046736773612417,
          -0.5370501114861642,
          -1.5125077613563083,
          -0.5791691884242758,
          -0.583961455113161,
          -0.7188188557167092,
          0.9341868949384947,
          -0.9184195378879708,
          2.247344161021866,
          0.8304305784192072,
          -1.639352353330321,
          -2.6730603733681924,
          0.5200616162134988,
          -0.891207675494616,
          0.31946716517453333,
          0.8431580555357344,
          0.4140046681848647,
          0.7713341679931037,
          -0.4590174931962297,
          0.9946614452762788,
          0.13788238743987755,
          1.7026523220319518,
          0.6961905827135803,
          0.898633656869011,
          -0.6509593709786435,
          -1.0615504833800744,
          0.9476633532200767,
          -2.1266285060064916,
          0.519888566389938,
          -0.08807757407231966,
          -0.049720326940622825,
          0.3175910673950524,
          0.4202130273427286,
          -1.1060867504540906,
          -0.7404627136340549,
          0.5866812954376825,
          2.0208400359871757,
          -0.6830267886972587,
          0.7178423825856399,
          -0.000485937457921648,
          0.8632415719288269,
          2.3886129328619505,
          -1.3761040089721146,
          -0.5165545161329226,
          0.6051372890502771,
          -0.6169190139559843,
          0.6098492513385899,
          -1.5250632348744793,
          0.2662552967850766,
          0.9145194146445753,
          -1.2853118992581378,
          -0.20683864531351895,
          -1.1395881758021906,
          -1.2500643703450267,
          -0.7933646373792077,
          0.045862860855696276,
          0.18458495717507492,
          1.0506587701281214,
          -0.30899375225282716,
          0.18208784675591044,
          0.8283796364370927,
          -0.4096637543022577,
          0.7506527560390127,
          -1.6054311962160694,
          0.2122586436250985,
          -0.6859217969969345,
          0.3731980438617282,
          -0.3916034394544518,
          0.7677063716061,
          -0.550762943480122,
          0.15397408945106517,
          0.8466623131049918,
          -1.174723705302563,
          0.26016534979009037
         ],
         "yaxis": "y14"
        },
        {
         "line": {
          "color": "rgba(128, 128, 128, 1.0)",
          "dash": "solid",
          "shape": "linear",
          "width": 1.3
         },
         "marker": {
          "size": 2,
          "symbol": "circle"
         },
         "mode": "markers",
         "name": "D",
         "text": "",
         "type": "scatter",
         "x": [
          -0.36044540409848363,
          -1.3682369672062968,
          -0.9282922263722264,
          -0.45848038763538146,
          0.0715824631021516,
          0.5900264561161117,
          0.07497764580659219,
          -0.5104856754102799,
          -0.27605300650321773,
          -1.6248357381844074,
          -0.4816519562328335,
          -2.0506962498414247,
          1.7773616210375107,
          -0.6754462688728486,
          1.2262109264869192,
          0.6139539660003608,
          -0.6297992478728509,
          1.0006258792077805,
          -0.4762091942722724,
          -0.6632822162736236,
          1.576702485326573,
          -1.9549915684839305,
          -1.4251516158139754,
          -1.4500577195588817,
          -1.3366967700302275,
          0.3672192065324242,
          -1.3121692836149137,
          -0.031829016292886314,
          0.2533927221775022,
          -2.0182118834208556,
          -1.5750663801727445,
          0.29926418838762575,
          -0.4136173969379489,
          -1.2479526328438808,
          -1.2418866384269047,
          0.509094507374238,
          0.2002732933288788,
          -1.8580735849645333,
          -0.49768800132795543,
          0.637430016285652,
          -0.6780429278430543,
          0.6264243310761589,
          1.570872229475947,
          1.2087947749533279,
          -1.3681598699656303,
          -0.0017205720417560822,
          -0.1460318659234728,
          -0.871420273233697,
          0.1590697243425055,
          -0.7660352974730662,
          0.4303054256541309,
          -1.668213270695618,
          0.2780540161991583,
          0.087592359979765,
          0.9900116230613754,
          0.5900147241402782,
          -1.063717264197242,
          1.24257322092785,
          1.9907270812536322,
          1.5719147972788592,
          -1.7760798072451935,
          -1.34650757489623,
          0.23136066036130282,
          -0.1969755900432889,
          1.0042123847203066,
          1.6185298642020232,
          0.2398560243673993,
          0.06268088811831533,
          0.3114545888544146,
          -0.783836905301807,
          0.10098810777923627,
          -1.9899063256836396,
          0.5840657452315934,
          -0.10374052032512127,
          0.22629753494658214,
          0.06497485687391426,
          -2.4964257370098544,
          1.2537849394323473,
          -1.257805445847786,
          1.6159113795403206,
          -0.6274468686664045,
          0.7340668053520483,
          -2.2003426173120344,
          0.6428051084627697,
          1.0607436340152985,
          1.163904700448005,
          -0.5303144488710698,
          -0.6714829399675204,
          -1.0819877865976362,
          0.5127818276572855,
          -0.568724685074043,
          0.18151018833865676,
          0.7554640306951577,
          -0.8876737604103103,
          0.24004109451488095,
          1.2740091462548346,
          0.0388471201407009,
          -0.9479408989968882,
          -0.8295146712779031,
          2.1082464489943575
         ],
         "xaxis": "x15",
         "y": [
          0.9479557561629391,
          2.298572982397254,
          1.8985066080729003,
          -0.21935281592776976,
          -0.8271492658805314,
          0.19851325528747873,
          -0.23951629522638052,
          -0.16735546918674754,
          0.4494119281442416,
          0.567578487854076,
          1.2556079947823373,
          -0.14718548227741263,
          -0.5541744883947628,
          -0.8855564195134483,
          -0.9478886620028885,
          0.9403100154204105,
          -1.893947196276431,
          -0.19080510215504717,
          1.6011193911570996,
          0.01936732726143374,
          0.3103484586399088,
          -2.3059930411011034,
          -1.3571828627998581,
          -0.30940976185537206,
          0.22329871865112277,
          0.6402957481944804,
          0.5046736773612417,
          -0.5370501114861642,
          -1.5125077613563083,
          -0.5791691884242758,
          -0.583961455113161,
          -0.7188188557167092,
          0.9341868949384947,
          -0.9184195378879708,
          2.247344161021866,
          0.8304305784192072,
          -1.639352353330321,
          -2.6730603733681924,
          0.5200616162134988,
          -0.891207675494616,
          0.31946716517453333,
          0.8431580555357344,
          0.4140046681848647,
          0.7713341679931037,
          -0.4590174931962297,
          0.9946614452762788,
          0.13788238743987755,
          1.7026523220319518,
          0.6961905827135803,
          0.898633656869011,
          -0.6509593709786435,
          -1.0615504833800744,
          0.9476633532200767,
          -2.1266285060064916,
          0.519888566389938,
          -0.08807757407231966,
          -0.049720326940622825,
          0.3175910673950524,
          0.4202130273427286,
          -1.1060867504540906,
          -0.7404627136340549,
          0.5866812954376825,
          2.0208400359871757,
          -0.6830267886972587,
          0.7178423825856399,
          -0.000485937457921648,
          0.8632415719288269,
          2.3886129328619505,
          -1.3761040089721146,
          -0.5165545161329226,
          0.6051372890502771,
          -0.6169190139559843,
          0.6098492513385899,
          -1.5250632348744793,
          0.2662552967850766,
          0.9145194146445753,
          -1.2853118992581378,
          -0.20683864531351895,
          -1.1395881758021906,
          -1.2500643703450267,
          -0.7933646373792077,
          0.045862860855696276,
          0.18458495717507492,
          1.0506587701281214,
          -0.30899375225282716,
          0.18208784675591044,
          0.8283796364370927,
          -0.4096637543022577,
          0.7506527560390127,
          -1.6054311962160694,
          0.2122586436250985,
          -0.6859217969969345,
          0.3731980438617282,
          -0.3916034394544518,
          0.7677063716061,
          -0.550762943480122,
          0.15397408945106517,
          0.8466623131049918,
          -1.174723705302563,
          0.26016534979009037
         ],
         "yaxis": "y15"
        },
        {
         "histfunc": "count",
         "histnorm": "",
         "marker": {
          "color": "rgba(128, 0, 128, 1.0)",
          "line": {
           "color": "#4D5663",
           "width": 1.3
          }
         },
         "name": "D",
         "nbinsx": 10,
         "opacity": 0.8,
         "orientation": "v",
         "type": "histogram",
         "x": [
          0.9479557561629391,
          2.298572982397254,
          1.8985066080729003,
          -0.21935281592776976,
          -0.8271492658805314,
          0.19851325528747873,
          -0.23951629522638052,
          -0.16735546918674754,
          0.4494119281442416,
          0.567578487854076,
          1.2556079947823373,
          -0.14718548227741263,
          -0.5541744883947628,
          -0.8855564195134483,
          -0.9478886620028885,
          0.9403100154204105,
          -1.893947196276431,
          -0.19080510215504717,
          1.6011193911570996,
          0.01936732726143374,
          0.3103484586399088,
          -2.3059930411011034,
          -1.3571828627998581,
          -0.30940976185537206,
          0.22329871865112277,
          0.6402957481944804,
          0.5046736773612417,
          -0.5370501114861642,
          -1.5125077613563083,
          -0.5791691884242758,
          -0.583961455113161,
          -0.7188188557167092,
          0.9341868949384947,
          -0.9184195378879708,
          2.247344161021866,
          0.8304305784192072,
          -1.639352353330321,
          -2.6730603733681924,
          0.5200616162134988,
          -0.891207675494616,
          0.31946716517453333,
          0.8431580555357344,
          0.4140046681848647,
          0.7713341679931037,
          -0.4590174931962297,
          0.9946614452762788,
          0.13788238743987755,
          1.7026523220319518,
          0.6961905827135803,
          0.898633656869011,
          -0.6509593709786435,
          -1.0615504833800744,
          0.9476633532200767,
          -2.1266285060064916,
          0.519888566389938,
          -0.08807757407231966,
          -0.049720326940622825,
          0.3175910673950524,
          0.4202130273427286,
          -1.1060867504540906,
          -0.7404627136340549,
          0.5866812954376825,
          2.0208400359871757,
          -0.6830267886972587,
          0.7178423825856399,
          -0.000485937457921648,
          0.8632415719288269,
          2.3886129328619505,
          -1.3761040089721146,
          -0.5165545161329226,
          0.6051372890502771,
          -0.6169190139559843,
          0.6098492513385899,
          -1.5250632348744793,
          0.2662552967850766,
          0.9145194146445753,
          -1.2853118992581378,
          -0.20683864531351895,
          -1.1395881758021906,
          -1.2500643703450267,
          -0.7933646373792077,
          0.045862860855696276,
          0.18458495717507492,
          1.0506587701281214,
          -0.30899375225282716,
          0.18208784675591044,
          0.8283796364370927,
          -0.4096637543022577,
          0.7506527560390127,
          -1.6054311962160694,
          0.2122586436250985,
          -0.6859217969969345,
          0.3731980438617282,
          -0.3916034394544518,
          0.7677063716061,
          -0.550762943480122,
          0.15397408945106517,
          0.8466623131049918,
          -1.174723705302563,
          0.26016534979009037
         ],
         "xaxis": "x16",
         "yaxis": "y16"
        }
       ],
       "layout": {
        "bargap": 0.02,
        "legend": {
         "bgcolor": "#F5F6F9",
         "font": {
          "color": "#4D5663"
         }
        },
        "paper_bgcolor": "#F5F6F9",
        "plot_bgcolor": "#F5F6F9",
        "showlegend": false,
        "template": {
         "data": {
          "bar": [
           {
            "error_x": {
             "color": "#2a3f5f"
            },
            "error_y": {
             "color": "#2a3f5f"
            },
            "marker": {
             "line": {
              "color": "#E5ECF6",
              "width": 0.5
             }
            },
            "type": "bar"
           }
          ],
          "barpolar": [
           {
            "marker": {
             "line": {
              "color": "#E5ECF6",
              "width": 0.5
             }
            },
            "type": "barpolar"
           }
          ],
          "carpet": [
           {
            "aaxis": {
             "endlinecolor": "#2a3f5f",
             "gridcolor": "white",
             "linecolor": "white",
             "minorgridcolor": "white",
             "startlinecolor": "#2a3f5f"
            },
            "baxis": {
             "endlinecolor": "#2a3f5f",
             "gridcolor": "white",
             "linecolor": "white",
             "minorgridcolor": "white",
             "startlinecolor": "#2a3f5f"
            },
            "type": "carpet"
           }
          ],
          "choropleth": [
           {
            "colorbar": {
             "outlinewidth": 0,
             "ticks": ""
            },
            "type": "choropleth"
           }
          ],
          "contour": [
           {
            "colorbar": {
             "outlinewidth": 0,
             "ticks": ""
            },
            "colorscale": [
             [
              0,
              "#0d0887"
             ],
             [
              0.1111111111111111,
              "#46039f"
             ],
             [
              0.2222222222222222,
              "#7201a8"
             ],
             [
              0.3333333333333333,
              "#9c179e"
             ],
             [
              0.4444444444444444,
              "#bd3786"
             ],
             [
              0.5555555555555556,
              "#d8576b"
             ],
             [
              0.6666666666666666,
              "#ed7953"
             ],
             [
              0.7777777777777778,
              "#fb9f3a"
             ],
             [
              0.8888888888888888,
              "#fdca26"
             ],
             [
              1,
              "#f0f921"
             ]
            ],
            "type": "contour"
           }
          ],
          "contourcarpet": [
           {
            "colorbar": {
             "outlinewidth": 0,
             "ticks": ""
            },
            "type": "contourcarpet"
           }
          ],
          "heatmap": [
           {
            "colorbar": {
             "outlinewidth": 0,
             "ticks": ""
            },
            "colorscale": [
             [
              0,
              "#0d0887"
             ],
             [
              0.1111111111111111,
              "#46039f"
             ],
             [
              0.2222222222222222,
              "#7201a8"
             ],
             [
              0.3333333333333333,
              "#9c179e"
             ],
             [
              0.4444444444444444,
              "#bd3786"
             ],
             [
              0.5555555555555556,
              "#d8576b"
             ],
             [
              0.6666666666666666,
              "#ed7953"
             ],
             [
              0.7777777777777778,
              "#fb9f3a"
             ],
             [
              0.8888888888888888,
              "#fdca26"
             ],
             [
              1,
              "#f0f921"
             ]
            ],
            "type": "heatmap"
           }
          ],
          "heatmapgl": [
           {
            "colorbar": {
             "outlinewidth": 0,
             "ticks": ""
            },
            "colorscale": [
             [
              0,
              "#0d0887"
             ],
             [
              0.1111111111111111,
              "#46039f"
             ],
             [
              0.2222222222222222,
              "#7201a8"
             ],
             [
              0.3333333333333333,
              "#9c179e"
             ],
             [
              0.4444444444444444,
              "#bd3786"
             ],
             [
              0.5555555555555556,
              "#d8576b"
             ],
             [
              0.6666666666666666,
              "#ed7953"
             ],
             [
              0.7777777777777778,
              "#fb9f3a"
             ],
             [
              0.8888888888888888,
              "#fdca26"
             ],
             [
              1,
              "#f0f921"
             ]
            ],
            "type": "heatmapgl"
           }
          ],
          "histogram": [
           {
            "marker": {
             "colorbar": {
              "outlinewidth": 0,
              "ticks": ""
             }
            },
            "type": "histogram"
           }
          ],
          "histogram2d": [
           {
            "colorbar": {
             "outlinewidth": 0,
             "ticks": ""
            },
            "colorscale": [
             [
              0,
              "#0d0887"
             ],
             [
              0.1111111111111111,
              "#46039f"
             ],
             [
              0.2222222222222222,
              "#7201a8"
             ],
             [
              0.3333333333333333,
              "#9c179e"
             ],
             [
              0.4444444444444444,
              "#bd3786"
             ],
             [
              0.5555555555555556,
              "#d8576b"
             ],
             [
              0.6666666666666666,
              "#ed7953"
             ],
             [
              0.7777777777777778,
              "#fb9f3a"
             ],
             [
              0.8888888888888888,
              "#fdca26"
             ],
             [
              1,
              "#f0f921"
             ]
            ],
            "type": "histogram2d"
           }
          ],
          "histogram2dcontour": [
           {
            "colorbar": {
             "outlinewidth": 0,
             "ticks": ""
            },
            "colorscale": [
             [
              0,
              "#0d0887"
             ],
             [
              0.1111111111111111,
              "#46039f"
             ],
             [
              0.2222222222222222,
              "#7201a8"
             ],
             [
              0.3333333333333333,
              "#9c179e"
             ],
             [
              0.4444444444444444,
              "#bd3786"
             ],
             [
              0.5555555555555556,
              "#d8576b"
             ],
             [
              0.6666666666666666,
              "#ed7953"
             ],
             [
              0.7777777777777778,
              "#fb9f3a"
             ],
             [
              0.8888888888888888,
              "#fdca26"
             ],
             [
              1,
              "#f0f921"
             ]
            ],
            "type": "histogram2dcontour"
           }
          ],
          "mesh3d": [
           {
            "colorbar": {
             "outlinewidth": 0,
             "ticks": ""
            },
            "type": "mesh3d"
           }
          ],
          "parcoords": [
           {
            "line": {
             "colorbar": {
              "outlinewidth": 0,
              "ticks": ""
             }
            },
            "type": "parcoords"
           }
          ],
          "pie": [
           {
            "automargin": true,
            "type": "pie"
           }
          ],
          "scatter": [
           {
            "marker": {
             "colorbar": {
              "outlinewidth": 0,
              "ticks": ""
             }
            },
            "type": "scatter"
           }
          ],
          "scatter3d": [
           {
            "line": {
             "colorbar": {
              "outlinewidth": 0,
              "ticks": ""
             }
            },
            "marker": {
             "colorbar": {
              "outlinewidth": 0,
              "ticks": ""
             }
            },
            "type": "scatter3d"
           }
          ],
          "scattercarpet": [
           {
            "marker": {
             "colorbar": {
              "outlinewidth": 0,
              "ticks": ""
             }
            },
            "type": "scattercarpet"
           }
          ],
          "scattergeo": [
           {
            "marker": {
             "colorbar": {
              "outlinewidth": 0,
              "ticks": ""
             }
            },
            "type": "scattergeo"
           }
          ],
          "scattergl": [
           {
            "marker": {
             "colorbar": {
              "outlinewidth": 0,
              "ticks": ""
             }
            },
            "type": "scattergl"
           }
          ],
          "scattermapbox": [
           {
            "marker": {
             "colorbar": {
              "outlinewidth": 0,
              "ticks": ""
             }
            },
            "type": "scattermapbox"
           }
          ],
          "scatterpolar": [
           {
            "marker": {
             "colorbar": {
              "outlinewidth": 0,
              "ticks": ""
             }
            },
            "type": "scatterpolar"
           }
          ],
          "scatterpolargl": [
           {
            "marker": {
             "colorbar": {
              "outlinewidth": 0,
              "ticks": ""
             }
            },
            "type": "scatterpolargl"
           }
          ],
          "scatterternary": [
           {
            "marker": {
             "colorbar": {
              "outlinewidth": 0,
              "ticks": ""
             }
            },
            "type": "scatterternary"
           }
          ],
          "surface": [
           {
            "colorbar": {
             "outlinewidth": 0,
             "ticks": ""
            },
            "colorscale": [
             [
              0,
              "#0d0887"
             ],
             [
              0.1111111111111111,
              "#46039f"
             ],
             [
              0.2222222222222222,
              "#7201a8"
             ],
             [
              0.3333333333333333,
              "#9c179e"
             ],
             [
              0.4444444444444444,
              "#bd3786"
             ],
             [
              0.5555555555555556,
              "#d8576b"
             ],
             [
              0.6666666666666666,
              "#ed7953"
             ],
             [
              0.7777777777777778,
              "#fb9f3a"
             ],
             [
              0.8888888888888888,
              "#fdca26"
             ],
             [
              1,
              "#f0f921"
             ]
            ],
            "type": "surface"
           }
          ],
          "table": [
           {
            "cells": {
             "fill": {
              "color": "#EBF0F8"
             },
             "line": {
              "color": "white"
             }
            },
            "header": {
             "fill": {
              "color": "#C8D4E3"
             },
             "line": {
              "color": "white"
             }
            },
            "type": "table"
           }
          ]
         },
         "layout": {
          "annotationdefaults": {
           "arrowcolor": "#2a3f5f",
           "arrowhead": 0,
           "arrowwidth": 1
          },
          "autotypenumbers": "strict",
          "coloraxis": {
           "colorbar": {
            "outlinewidth": 0,
            "ticks": ""
           }
          },
          "colorscale": {
           "diverging": [
            [
             0,
             "#8e0152"
            ],
            [
             0.1,
             "#c51b7d"
            ],
            [
             0.2,
             "#de77ae"
            ],
            [
             0.3,
             "#f1b6da"
            ],
            [
             0.4,
             "#fde0ef"
            ],
            [
             0.5,
             "#f7f7f7"
            ],
            [
             0.6,
             "#e6f5d0"
            ],
            [
             0.7,
             "#b8e186"
            ],
            [
             0.8,
             "#7fbc41"
            ],
            [
             0.9,
             "#4d9221"
            ],
            [
             1,
             "#276419"
            ]
           ],
           "sequential": [
            [
             0,
             "#0d0887"
            ],
            [
             0.1111111111111111,
             "#46039f"
            ],
            [
             0.2222222222222222,
             "#7201a8"
            ],
            [
             0.3333333333333333,
             "#9c179e"
            ],
            [
             0.4444444444444444,
             "#bd3786"
            ],
            [
             0.5555555555555556,
             "#d8576b"
            ],
            [
             0.6666666666666666,
             "#ed7953"
            ],
            [
             0.7777777777777778,
             "#fb9f3a"
            ],
            [
             0.8888888888888888,
             "#fdca26"
            ],
            [
             1,
             "#f0f921"
            ]
           ],
           "sequentialminus": [
            [
             0,
             "#0d0887"
            ],
            [
             0.1111111111111111,
             "#46039f"
            ],
            [
             0.2222222222222222,
             "#7201a8"
            ],
            [
             0.3333333333333333,
             "#9c179e"
            ],
            [
             0.4444444444444444,
             "#bd3786"
            ],
            [
             0.5555555555555556,
             "#d8576b"
            ],
            [
             0.6666666666666666,
             "#ed7953"
            ],
            [
             0.7777777777777778,
             "#fb9f3a"
            ],
            [
             0.8888888888888888,
             "#fdca26"
            ],
            [
             1,
             "#f0f921"
            ]
           ]
          },
          "colorway": [
           "#636efa",
           "#EF553B",
           "#00cc96",
           "#ab63fa",
           "#FFA15A",
           "#19d3f3",
           "#FF6692",
           "#B6E880",
           "#FF97FF",
           "#FECB52"
          ],
          "font": {
           "color": "#2a3f5f"
          },
          "geo": {
           "bgcolor": "white",
           "lakecolor": "white",
           "landcolor": "#E5ECF6",
           "showlakes": true,
           "showland": true,
           "subunitcolor": "white"
          },
          "hoverlabel": {
           "align": "left"
          },
          "hovermode": "closest",
          "mapbox": {
           "style": "light"
          },
          "paper_bgcolor": "white",
          "plot_bgcolor": "#E5ECF6",
          "polar": {
           "angularaxis": {
            "gridcolor": "white",
            "linecolor": "white",
            "ticks": ""
           },
           "bgcolor": "#E5ECF6",
           "radialaxis": {
            "gridcolor": "white",
            "linecolor": "white",
            "ticks": ""
           }
          },
          "scene": {
           "xaxis": {
            "backgroundcolor": "#E5ECF6",
            "gridcolor": "white",
            "gridwidth": 2,
            "linecolor": "white",
            "showbackground": true,
            "ticks": "",
            "zerolinecolor": "white"
           },
           "yaxis": {
            "backgroundcolor": "#E5ECF6",
            "gridcolor": "white",
            "gridwidth": 2,
            "linecolor": "white",
            "showbackground": true,
            "ticks": "",
            "zerolinecolor": "white"
           },
           "zaxis": {
            "backgroundcolor": "#E5ECF6",
            "gridcolor": "white",
            "gridwidth": 2,
            "linecolor": "white",
            "showbackground": true,
            "ticks": "",
            "zerolinecolor": "white"
           }
          },
          "shapedefaults": {
           "line": {
            "color": "#2a3f5f"
           }
          },
          "ternary": {
           "aaxis": {
            "gridcolor": "white",
            "linecolor": "white",
            "ticks": ""
           },
           "baxis": {
            "gridcolor": "white",
            "linecolor": "white",
            "ticks": ""
           },
           "bgcolor": "#E5ECF6",
           "caxis": {
            "gridcolor": "white",
            "linecolor": "white",
            "ticks": ""
           }
          },
          "title": {
           "x": 0.05
          },
          "xaxis": {
           "automargin": true,
           "gridcolor": "white",
           "linecolor": "white",
           "ticks": "",
           "title": {
            "standoff": 15
           },
           "zerolinecolor": "white",
           "zerolinewidth": 2
          },
          "yaxis": {
           "automargin": true,
           "gridcolor": "white",
           "linecolor": "white",
           "ticks": "",
           "title": {
            "standoff": 15
           },
           "zerolinecolor": "white",
           "zerolinewidth": 2
          }
         }
        },
        "title": {
         "font": {
          "color": "#4D5663"
         }
        },
        "xaxis": {
         "anchor": "y",
         "domain": [
          0,
          0.2125
         ],
         "gridcolor": "#E1E5ED",
         "showgrid": false,
         "tickfont": {
          "color": "#4D5663"
         },
         "title": {
          "font": {
           "color": "#4D5663"
          },
          "text": ""
         },
         "zerolinecolor": "#E1E5ED"
        },
        "xaxis10": {
         "anchor": "y10",
         "domain": [
          0.2625,
          0.475
         ],
         "gridcolor": "#E1E5ED",
         "showgrid": false,
         "tickfont": {
          "color": "#4D5663"
         },
         "title": {
          "font": {
           "color": "#4D5663"
          },
          "text": ""
         },
         "zerolinecolor": "#E1E5ED"
        },
        "xaxis11": {
         "anchor": "y11",
         "domain": [
          0.525,
          0.7375
         ],
         "gridcolor": "#E1E5ED",
         "showgrid": false,
         "tickfont": {
          "color": "#4D5663"
         },
         "title": {
          "font": {
           "color": "#4D5663"
          },
          "text": ""
         },
         "zerolinecolor": "#E1E5ED"
        },
        "xaxis12": {
         "anchor": "y12",
         "domain": [
          0.7875,
          1
         ],
         "gridcolor": "#E1E5ED",
         "showgrid": false,
         "tickfont": {
          "color": "#4D5663"
         },
         "title": {
          "font": {
           "color": "#4D5663"
          },
          "text": ""
         },
         "zerolinecolor": "#E1E5ED"
        },
        "xaxis13": {
         "anchor": "y13",
         "domain": [
          0,
          0.2125
         ],
         "gridcolor": "#E1E5ED",
         "showgrid": false,
         "tickfont": {
          "color": "#4D5663"
         },
         "title": {
          "font": {
           "color": "#4D5663"
          },
          "text": ""
         },
         "zerolinecolor": "#E1E5ED"
        },
        "xaxis14": {
         "anchor": "y14",
         "domain": [
          0.2625,
          0.475
         ],
         "gridcolor": "#E1E5ED",
         "showgrid": false,
         "tickfont": {
          "color": "#4D5663"
         },
         "title": {
          "font": {
           "color": "#4D5663"
          },
          "text": ""
         },
         "zerolinecolor": "#E1E5ED"
        },
        "xaxis15": {
         "anchor": "y15",
         "domain": [
          0.525,
          0.7375
         ],
         "gridcolor": "#E1E5ED",
         "showgrid": false,
         "tickfont": {
          "color": "#4D5663"
         },
         "title": {
          "font": {
           "color": "#4D5663"
          },
          "text": ""
         },
         "zerolinecolor": "#E1E5ED"
        },
        "xaxis16": {
         "anchor": "y16",
         "domain": [
          0.7875,
          1
         ],
         "gridcolor": "#E1E5ED",
         "showgrid": false,
         "tickfont": {
          "color": "#4D5663"
         },
         "title": {
          "font": {
           "color": "#4D5663"
          },
          "text": ""
         },
         "zerolinecolor": "#E1E5ED"
        },
        "xaxis2": {
         "anchor": "y2",
         "domain": [
          0.2625,
          0.475
         ],
         "gridcolor": "#E1E5ED",
         "showgrid": false,
         "tickfont": {
          "color": "#4D5663"
         },
         "title": {
          "font": {
           "color": "#4D5663"
          },
          "text": ""
         },
         "zerolinecolor": "#E1E5ED"
        },
        "xaxis3": {
         "anchor": "y3",
         "domain": [
          0.525,
          0.7375
         ],
         "gridcolor": "#E1E5ED",
         "showgrid": false,
         "tickfont": {
          "color": "#4D5663"
         },
         "title": {
          "font": {
           "color": "#4D5663"
          },
          "text": ""
         },
         "zerolinecolor": "#E1E5ED"
        },
        "xaxis4": {
         "anchor": "y4",
         "domain": [
          0.7875,
          1
         ],
         "gridcolor": "#E1E5ED",
         "showgrid": false,
         "tickfont": {
          "color": "#4D5663"
         },
         "title": {
          "font": {
           "color": "#4D5663"
          },
          "text": ""
         },
         "zerolinecolor": "#E1E5ED"
        },
        "xaxis5": {
         "anchor": "y5",
         "domain": [
          0,
          0.2125
         ],
         "gridcolor": "#E1E5ED",
         "showgrid": false,
         "tickfont": {
          "color": "#4D5663"
         },
         "title": {
          "font": {
           "color": "#4D5663"
          },
          "text": ""
         },
         "zerolinecolor": "#E1E5ED"
        },
        "xaxis6": {
         "anchor": "y6",
         "domain": [
          0.2625,
          0.475
         ],
         "gridcolor": "#E1E5ED",
         "showgrid": false,
         "tickfont": {
          "color": "#4D5663"
         },
         "title": {
          "font": {
           "color": "#4D5663"
          },
          "text": ""
         },
         "zerolinecolor": "#E1E5ED"
        },
        "xaxis7": {
         "anchor": "y7",
         "domain": [
          0.525,
          0.7375
         ],
         "gridcolor": "#E1E5ED",
         "showgrid": false,
         "tickfont": {
          "color": "#4D5663"
         },
         "title": {
          "font": {
           "color": "#4D5663"
          },
          "text": ""
         },
         "zerolinecolor": "#E1E5ED"
        },
        "xaxis8": {
         "anchor": "y8",
         "domain": [
          0.7875,
          1
         ],
         "gridcolor": "#E1E5ED",
         "showgrid": false,
         "tickfont": {
          "color": "#4D5663"
         },
         "title": {
          "font": {
           "color": "#4D5663"
          },
          "text": ""
         },
         "zerolinecolor": "#E1E5ED"
        },
        "xaxis9": {
         "anchor": "y9",
         "domain": [
          0,
          0.2125
         ],
         "gridcolor": "#E1E5ED",
         "showgrid": false,
         "tickfont": {
          "color": "#4D5663"
         },
         "title": {
          "font": {
           "color": "#4D5663"
          },
          "text": ""
         },
         "zerolinecolor": "#E1E5ED"
        },
        "yaxis": {
         "anchor": "x",
         "domain": [
          0.8025,
          1
         ],
         "gridcolor": "#E1E5ED",
         "showgrid": false,
         "tickfont": {
          "color": "#4D5663"
         },
         "title": {
          "font": {
           "color": "#4D5663"
          },
          "text": ""
         },
         "zerolinecolor": "#E1E5ED"
        },
        "yaxis10": {
         "anchor": "x10",
         "domain": [
          0.2675,
          0.465
         ],
         "gridcolor": "#E1E5ED",
         "showgrid": false,
         "tickfont": {
          "color": "#4D5663"
         },
         "title": {
          "font": {
           "color": "#4D5663"
          },
          "text": ""
         },
         "zerolinecolor": "#E1E5ED"
        },
        "yaxis11": {
         "anchor": "x11",
         "domain": [
          0.2675,
          0.465
         ],
         "gridcolor": "#E1E5ED",
         "showgrid": false,
         "tickfont": {
          "color": "#4D5663"
         },
         "title": {
          "font": {
           "color": "#4D5663"
          },
          "text": ""
         },
         "zerolinecolor": "#E1E5ED"
        },
        "yaxis12": {
         "anchor": "x12",
         "domain": [
          0.2675,
          0.465
         ],
         "gridcolor": "#E1E5ED",
         "showgrid": false,
         "tickfont": {
          "color": "#4D5663"
         },
         "title": {
          "font": {
           "color": "#4D5663"
          },
          "text": ""
         },
         "zerolinecolor": "#E1E5ED"
        },
        "yaxis13": {
         "anchor": "x13",
         "domain": [
          0,
          0.1975
         ],
         "gridcolor": "#E1E5ED",
         "showgrid": false,
         "tickfont": {
          "color": "#4D5663"
         },
         "title": {
          "font": {
           "color": "#4D5663"
          },
          "text": ""
         },
         "zerolinecolor": "#E1E5ED"
        },
        "yaxis14": {
         "anchor": "x14",
         "domain": [
          0,
          0.1975
         ],
         "gridcolor": "#E1E5ED",
         "showgrid": false,
         "tickfont": {
          "color": "#4D5663"
         },
         "title": {
          "font": {
           "color": "#4D5663"
          },
          "text": ""
         },
         "zerolinecolor": "#E1E5ED"
        },
        "yaxis15": {
         "anchor": "x15",
         "domain": [
          0,
          0.1975
         ],
         "gridcolor": "#E1E5ED",
         "showgrid": false,
         "tickfont": {
          "color": "#4D5663"
         },
         "title": {
          "font": {
           "color": "#4D5663"
          },
          "text": ""
         },
         "zerolinecolor": "#E1E5ED"
        },
        "yaxis16": {
         "anchor": "x16",
         "domain": [
          0,
          0.1975
         ],
         "gridcolor": "#E1E5ED",
         "showgrid": false,
         "tickfont": {
          "color": "#4D5663"
         },
         "title": {
          "font": {
           "color": "#4D5663"
          },
          "text": ""
         },
         "zerolinecolor": "#E1E5ED"
        },
        "yaxis2": {
         "anchor": "x2",
         "domain": [
          0.8025,
          1
         ],
         "gridcolor": "#E1E5ED",
         "showgrid": false,
         "tickfont": {
          "color": "#4D5663"
         },
         "title": {
          "font": {
           "color": "#4D5663"
          },
          "text": ""
         },
         "zerolinecolor": "#E1E5ED"
        },
        "yaxis3": {
         "anchor": "x3",
         "domain": [
          0.8025,
          1
         ],
         "gridcolor": "#E1E5ED",
         "showgrid": false,
         "tickfont": {
          "color": "#4D5663"
         },
         "title": {
          "font": {
           "color": "#4D5663"
          },
          "text": ""
         },
         "zerolinecolor": "#E1E5ED"
        },
        "yaxis4": {
         "anchor": "x4",
         "domain": [
          0.8025,
          1
         ],
         "gridcolor": "#E1E5ED",
         "showgrid": false,
         "tickfont": {
          "color": "#4D5663"
         },
         "title": {
          "font": {
           "color": "#4D5663"
          },
          "text": ""
         },
         "zerolinecolor": "#E1E5ED"
        },
        "yaxis5": {
         "anchor": "x5",
         "domain": [
          0.535,
          0.7325
         ],
         "gridcolor": "#E1E5ED",
         "showgrid": false,
         "tickfont": {
          "color": "#4D5663"
         },
         "title": {
          "font": {
           "color": "#4D5663"
          },
          "text": ""
         },
         "zerolinecolor": "#E1E5ED"
        },
        "yaxis6": {
         "anchor": "x6",
         "domain": [
          0.535,
          0.7325
         ],
         "gridcolor": "#E1E5ED",
         "showgrid": false,
         "tickfont": {
          "color": "#4D5663"
         },
         "title": {
          "font": {
           "color": "#4D5663"
          },
          "text": ""
         },
         "zerolinecolor": "#E1E5ED"
        },
        "yaxis7": {
         "anchor": "x7",
         "domain": [
          0.535,
          0.7325
         ],
         "gridcolor": "#E1E5ED",
         "showgrid": false,
         "tickfont": {
          "color": "#4D5663"
         },
         "title": {
          "font": {
           "color": "#4D5663"
          },
          "text": ""
         },
         "zerolinecolor": "#E1E5ED"
        },
        "yaxis8": {
         "anchor": "x8",
         "domain": [
          0.535,
          0.7325
         ],
         "gridcolor": "#E1E5ED",
         "showgrid": false,
         "tickfont": {
          "color": "#4D5663"
         },
         "title": {
          "font": {
           "color": "#4D5663"
          },
          "text": ""
         },
         "zerolinecolor": "#E1E5ED"
        },
        "yaxis9": {
         "anchor": "x9",
         "domain": [
          0.2675,
          0.465
         ],
         "gridcolor": "#E1E5ED",
         "showgrid": false,
         "tickfont": {
          "color": "#4D5663"
         },
         "title": {
          "font": {
           "color": "#4D5663"
          },
          "text": ""
         },
         "zerolinecolor": "#E1E5ED"
        }
       }
      },
      "text/html": [
       "<div>                            <div id=\"f031012c-303b-4eb0-9a16-67ce7668e3c7\" class=\"plotly-graph-div\" style=\"height:525px; width:100%;\"></div>            <script type=\"text/javascript\">                require([\"plotly\"], function(Plotly) {                    window.PLOTLYENV=window.PLOTLYENV || {};\n",
       "                    window.PLOTLYENV.BASE_URL='https://plot.ly';                                    if (document.getElementById(\"f031012c-303b-4eb0-9a16-67ce7668e3c7\")) {                    Plotly.newPlot(                        \"f031012c-303b-4eb0-9a16-67ce7668e3c7\",                        [{\"histfunc\": \"count\", \"histnorm\": \"\", \"marker\": {\"color\": \"rgba(255, 153, 51, 1.0)\", \"line\": {\"color\": \"#4D5663\", \"width\": 1.3}}, \"name\": \"A\", \"nbinsx\": 10, \"opacity\": 0.8, \"orientation\": \"v\", \"type\": \"histogram\", \"x\": [1.2743291159598842, 0.012603295984593112, 0.026124428121605058, 0.05740195638716594, 0.7211797728758698, -1.2272404700848971, -0.0602220042618601, -1.2251272187523363, 0.7285313635047205, 0.3696043043956092, -0.005031906455792278, -0.217988503656931, -0.2958721265356392, -0.7119151897145148, -1.560092182531834, -0.97948301063551, -1.4295960531654444, -1.1734281071025316, -0.14794118852659902, 0.22858356596300675, -0.4106705073939129, 0.9201695687694685, -0.5243273775682088, 1.26090079768481, -0.17793819394265636, 1.1901683935840963, -1.3231680679116269, 0.625060436042206, 0.7057352901420538, -0.9000976494452639, 0.5977224299581562, 1.291099983403894, -0.15140884822287337, -0.07567580316289536, -1.2274736019729966, -1.1605033095785415, -0.003460674940168402, -1.0229364542489692, 0.7205474038629697, 0.49495986005977277, 0.41076790058176404, 0.1844472021660236, 0.1167576805269786, 1.112034995203464, 1.0859515215555395, -1.695322974218527, 0.7842598671527137, 0.758377284213845, -1.091849542132929, -1.3153986457811035, -0.6243415523889722, 1.1646852896543975, -0.7988149852707761, -0.7507366086782864, -0.9180420106279558, -0.2729434694854129, -1.2811526328740261, -0.9755996574451098, -0.4688125940352931, -0.26391419787528425, -2.4167264147169534, -1.066100926271971, 0.17041655454385568, -2.078311632109863, 0.560552210773985, 0.706882083984312, 0.7723109540792544, -1.4249266221939358, 1.4039689127307864, 1.778762557715026, 0.27437173358694167, 0.11733848968444871, -2.6150010633949354, -0.8592599110213128, 1.8093740945878218, -0.1292779500768447, -1.0439103137271737, 1.2829276692789005, 1.013159098488871, 0.20803697944170838, -0.6138663700796907, 0.1652084642695246, -1.8548152158867799, 1.8437969796864635, 0.5030983867380925, 0.07190031940443338, 2.1088970284366866, -1.0445203253805864, 1.0811956010542667, 1.4799493546243363, 2.050370676589714, -0.09903881715990685, 2.070541603456114, 0.7662237165749922, -0.3576102464551363, 0.49517071473458907, 1.6194456007075326, 0.18249899731952396, -0.5386291904369472, -1.4350220617716536], \"xaxis\": \"x\", \"yaxis\": \"y\"}, {\"line\": {\"color\": \"rgba(128, 128, 128, 1.0)\", \"dash\": \"solid\", \"shape\": \"linear\", \"width\": 1.3}, \"marker\": {\"size\": 2, \"symbol\": \"circle\"}, \"mode\": \"markers\", \"name\": \"A\", \"text\": \"\", \"type\": \"scatter\", \"x\": [-0.39531474003646183, -0.8867252341912623, 1.5959727139592397, -0.8915771314389602, 0.052385164048535215, -2.15514457439745, -1.8144544174035113, 0.08262005734589607, -0.36215198720850966, -1.228011983928278, -1.1410569805616517, -1.8002508826157904, 0.11744455836016172, -0.3718960945496368, 2.1095460426240846, 0.07887321650891946, 1.1682426861997464, -1.0385909818862178, 1.2904598411544959, -0.22589344504336356, -1.4165857426047672, -0.5845932169728495, 1.005124981817119, 0.8647853134104359, 1.5345743538298893, -0.6197658515889924, 0.4357103295542794, -0.643051371066005, -1.3096943661431093, 0.8752592855623904, 1.5987924708863182, -1.851139766837587, -1.4938816462310027, 1.511566102263444, -0.6002087041576118, -0.0750572625889012, -0.17628415605563305, -2.1805287231472037, -0.030848334334775927, -0.3304526075523714, 0.0178820557060164, 0.6908592869951391, 0.5481008805639314, 0.832811189808415, 0.019159938639792595, 1.180810231871073, 2.730747151610139, 0.47962211842500235, -1.115686833838263, -0.30239009589317517, 1.1713524884410316, -0.764656756383517, -0.6734519706171885, 1.1738819770023874, 0.025005237496141357, 0.9104392998046482, -0.3280391121163882, -0.3486935451998248, -0.46793500068688076, -0.3757619711666674, -0.3369861822352449, 0.722504307134837, -0.9929175231489182, -0.07617301189038786, 0.23089195302073037, -0.680100584163858, -0.8527155998532249, -0.7499693642787079, 1.4485578094733376, -1.1288994330475783, -0.7837078716233372, 0.7410973973324356, 0.3968117932668227, 0.9157511083687346, 0.3097620256451611, 0.6713401468685719, -0.5640468063713121, -0.43173512125063357, -1.0714794639032783, 1.323383682867993, -0.9351732722358566, -0.37504844765015305, 0.8660583605656553, 1.2887658734490224, 0.41503915951653897, -0.08132023809148904, -0.0011254533419979285, -1.8579339281616882, 0.9527033182663938, -0.28974539692538254, 1.5966620018083522, 0.5548831948574292, 0.2937735161744529, 0.21423897173344594, 0.6196979234332269, -0.8881001296958283, 0.030131395706024945, 0.6222707263472929, 0.5785613303233125, -1.6404562494386814], \"xaxis\": \"x2\", \"y\": [1.2743291159598842, 0.012603295984593112, 0.026124428121605058, 0.05740195638716594, 0.7211797728758698, -1.2272404700848971, -0.0602220042618601, -1.2251272187523363, 0.7285313635047205, 0.3696043043956092, -0.005031906455792278, -0.217988503656931, -0.2958721265356392, -0.7119151897145148, -1.560092182531834, -0.97948301063551, -1.4295960531654444, -1.1734281071025316, -0.14794118852659902, 0.22858356596300675, -0.4106705073939129, 0.9201695687694685, -0.5243273775682088, 1.26090079768481, -0.17793819394265636, 1.1901683935840963, -1.3231680679116269, 0.625060436042206, 0.7057352901420538, -0.9000976494452639, 0.5977224299581562, 1.291099983403894, -0.15140884822287337, -0.07567580316289536, -1.2274736019729966, -1.1605033095785415, -0.003460674940168402, -1.0229364542489692, 0.7205474038629697, 0.49495986005977277, 0.41076790058176404, 0.1844472021660236, 0.1167576805269786, 1.112034995203464, 1.0859515215555395, -1.695322974218527, 0.7842598671527137, 0.758377284213845, -1.091849542132929, -1.3153986457811035, -0.6243415523889722, 1.1646852896543975, -0.7988149852707761, -0.7507366086782864, -0.9180420106279558, -0.2729434694854129, -1.2811526328740261, -0.9755996574451098, -0.4688125940352931, -0.26391419787528425, -2.4167264147169534, -1.066100926271971, 0.17041655454385568, -2.078311632109863, 0.560552210773985, 0.706882083984312, 0.7723109540792544, -1.4249266221939358, 1.4039689127307864, 1.778762557715026, 0.27437173358694167, 0.11733848968444871, -2.6150010633949354, -0.8592599110213128, 1.8093740945878218, -0.1292779500768447, -1.0439103137271737, 1.2829276692789005, 1.013159098488871, 0.20803697944170838, -0.6138663700796907, 0.1652084642695246, -1.8548152158867799, 1.8437969796864635, 0.5030983867380925, 0.07190031940443338, 2.1088970284366866, -1.0445203253805864, 1.0811956010542667, 1.4799493546243363, 2.050370676589714, -0.09903881715990685, 2.070541603456114, 0.7662237165749922, -0.3576102464551363, 0.49517071473458907, 1.6194456007075326, 0.18249899731952396, -0.5386291904369472, -1.4350220617716536], \"yaxis\": \"y2\"}, {\"line\": {\"color\": \"rgba(128, 128, 128, 1.0)\", \"dash\": \"solid\", \"shape\": \"linear\", \"width\": 1.3}, \"marker\": {\"size\": 2, \"symbol\": \"circle\"}, \"mode\": \"markers\", \"name\": \"A\", \"text\": \"\", \"type\": \"scatter\", \"x\": [-0.36044540409848363, -1.3682369672062968, -0.9282922263722264, -0.45848038763538146, 0.0715824631021516, 0.5900264561161117, 0.07497764580659219, -0.5104856754102799, -0.27605300650321773, -1.6248357381844074, -0.4816519562328335, -2.0506962498414247, 1.7773616210375107, -0.6754462688728486, 1.2262109264869192, 0.6139539660003608, -0.6297992478728509, 1.0006258792077805, -0.4762091942722724, -0.6632822162736236, 1.576702485326573, -1.9549915684839305, -1.4251516158139754, -1.4500577195588817, -1.3366967700302275, 0.3672192065324242, -1.3121692836149137, -0.031829016292886314, 0.2533927221775022, -2.0182118834208556, -1.5750663801727445, 0.29926418838762575, -0.4136173969379489, -1.2479526328438808, -1.2418866384269047, 0.509094507374238, 0.2002732933288788, -1.8580735849645333, -0.49768800132795543, 0.637430016285652, -0.6780429278430543, 0.6264243310761589, 1.570872229475947, 1.2087947749533279, -1.3681598699656303, -0.0017205720417560822, -0.1460318659234728, -0.871420273233697, 0.1590697243425055, -0.7660352974730662, 0.4303054256541309, -1.668213270695618, 0.2780540161991583, 0.087592359979765, 0.9900116230613754, 0.5900147241402782, -1.063717264197242, 1.24257322092785, 1.9907270812536322, 1.5719147972788592, -1.7760798072451935, -1.34650757489623, 0.23136066036130282, -0.1969755900432889, 1.0042123847203066, 1.6185298642020232, 0.2398560243673993, 0.06268088811831533, 0.3114545888544146, -0.783836905301807, 0.10098810777923627, -1.9899063256836396, 0.5840657452315934, -0.10374052032512127, 0.22629753494658214, 0.06497485687391426, -2.4964257370098544, 1.2537849394323473, -1.257805445847786, 1.6159113795403206, -0.6274468686664045, 0.7340668053520483, -2.2003426173120344, 0.6428051084627697, 1.0607436340152985, 1.163904700448005, -0.5303144488710698, -0.6714829399675204, -1.0819877865976362, 0.5127818276572855, -0.568724685074043, 0.18151018833865676, 0.7554640306951577, -0.8876737604103103, 0.24004109451488095, 1.2740091462548346, 0.0388471201407009, -0.9479408989968882, -0.8295146712779031, 2.1082464489943575], \"xaxis\": \"x3\", \"y\": [1.2743291159598842, 0.012603295984593112, 0.026124428121605058, 0.05740195638716594, 0.7211797728758698, -1.2272404700848971, -0.0602220042618601, -1.2251272187523363, 0.7285313635047205, 0.3696043043956092, -0.005031906455792278, -0.217988503656931, -0.2958721265356392, -0.7119151897145148, -1.560092182531834, -0.97948301063551, -1.4295960531654444, -1.1734281071025316, -0.14794118852659902, 0.22858356596300675, -0.4106705073939129, 0.9201695687694685, -0.5243273775682088, 1.26090079768481, -0.17793819394265636, 1.1901683935840963, -1.3231680679116269, 0.625060436042206, 0.7057352901420538, -0.9000976494452639, 0.5977224299581562, 1.291099983403894, -0.15140884822287337, -0.07567580316289536, -1.2274736019729966, -1.1605033095785415, -0.003460674940168402, -1.0229364542489692, 0.7205474038629697, 0.49495986005977277, 0.41076790058176404, 0.1844472021660236, 0.1167576805269786, 1.112034995203464, 1.0859515215555395, -1.695322974218527, 0.7842598671527137, 0.758377284213845, -1.091849542132929, -1.3153986457811035, -0.6243415523889722, 1.1646852896543975, -0.7988149852707761, -0.7507366086782864, -0.9180420106279558, -0.2729434694854129, -1.2811526328740261, -0.9755996574451098, -0.4688125940352931, -0.26391419787528425, -2.4167264147169534, -1.066100926271971, 0.17041655454385568, -2.078311632109863, 0.560552210773985, 0.706882083984312, 0.7723109540792544, -1.4249266221939358, 1.4039689127307864, 1.778762557715026, 0.27437173358694167, 0.11733848968444871, -2.6150010633949354, -0.8592599110213128, 1.8093740945878218, -0.1292779500768447, -1.0439103137271737, 1.2829276692789005, 1.013159098488871, 0.20803697944170838, -0.6138663700796907, 0.1652084642695246, -1.8548152158867799, 1.8437969796864635, 0.5030983867380925, 0.07190031940443338, 2.1088970284366866, -1.0445203253805864, 1.0811956010542667, 1.4799493546243363, 2.050370676589714, -0.09903881715990685, 2.070541603456114, 0.7662237165749922, -0.3576102464551363, 0.49517071473458907, 1.6194456007075326, 0.18249899731952396, -0.5386291904369472, -1.4350220617716536], \"yaxis\": \"y3\"}, {\"line\": {\"color\": \"rgba(128, 128, 128, 1.0)\", \"dash\": \"solid\", \"shape\": \"linear\", \"width\": 1.3}, \"marker\": {\"size\": 2, \"symbol\": \"circle\"}, \"mode\": \"markers\", \"name\": \"A\", \"text\": \"\", \"type\": \"scatter\", \"x\": [0.9479557561629391, 2.298572982397254, 1.8985066080729003, -0.21935281592776976, -0.8271492658805314, 0.19851325528747873, -0.23951629522638052, -0.16735546918674754, 0.4494119281442416, 0.567578487854076, 1.2556079947823373, -0.14718548227741263, -0.5541744883947628, -0.8855564195134483, -0.9478886620028885, 0.9403100154204105, -1.893947196276431, -0.19080510215504717, 1.6011193911570996, 0.01936732726143374, 0.3103484586399088, -2.3059930411011034, -1.3571828627998581, -0.30940976185537206, 0.22329871865112277, 0.6402957481944804, 0.5046736773612417, -0.5370501114861642, -1.5125077613563083, -0.5791691884242758, -0.583961455113161, -0.7188188557167092, 0.9341868949384947, -0.9184195378879708, 2.247344161021866, 0.8304305784192072, -1.639352353330321, -2.6730603733681924, 0.5200616162134988, -0.891207675494616, 0.31946716517453333, 0.8431580555357344, 0.4140046681848647, 0.7713341679931037, -0.4590174931962297, 0.9946614452762788, 0.13788238743987755, 1.7026523220319518, 0.6961905827135803, 0.898633656869011, -0.6509593709786435, -1.0615504833800744, 0.9476633532200767, -2.1266285060064916, 0.519888566389938, -0.08807757407231966, -0.049720326940622825, 0.3175910673950524, 0.4202130273427286, -1.1060867504540906, -0.7404627136340549, 0.5866812954376825, 2.0208400359871757, -0.6830267886972587, 0.7178423825856399, -0.000485937457921648, 0.8632415719288269, 2.3886129328619505, -1.3761040089721146, -0.5165545161329226, 0.6051372890502771, -0.6169190139559843, 0.6098492513385899, -1.5250632348744793, 0.2662552967850766, 0.9145194146445753, -1.2853118992581378, -0.20683864531351895, -1.1395881758021906, -1.2500643703450267, -0.7933646373792077, 0.045862860855696276, 0.18458495717507492, 1.0506587701281214, -0.30899375225282716, 0.18208784675591044, 0.8283796364370927, -0.4096637543022577, 0.7506527560390127, -1.6054311962160694, 0.2122586436250985, -0.6859217969969345, 0.3731980438617282, -0.3916034394544518, 0.7677063716061, -0.550762943480122, 0.15397408945106517, 0.8466623131049918, -1.174723705302563, 0.26016534979009037], \"xaxis\": \"x4\", \"y\": [1.2743291159598842, 0.012603295984593112, 0.026124428121605058, 0.05740195638716594, 0.7211797728758698, -1.2272404700848971, -0.0602220042618601, -1.2251272187523363, 0.7285313635047205, 0.3696043043956092, -0.005031906455792278, -0.217988503656931, -0.2958721265356392, -0.7119151897145148, -1.560092182531834, -0.97948301063551, -1.4295960531654444, -1.1734281071025316, -0.14794118852659902, 0.22858356596300675, -0.4106705073939129, 0.9201695687694685, -0.5243273775682088, 1.26090079768481, -0.17793819394265636, 1.1901683935840963, -1.3231680679116269, 0.625060436042206, 0.7057352901420538, -0.9000976494452639, 0.5977224299581562, 1.291099983403894, -0.15140884822287337, -0.07567580316289536, -1.2274736019729966, -1.1605033095785415, -0.003460674940168402, -1.0229364542489692, 0.7205474038629697, 0.49495986005977277, 0.41076790058176404, 0.1844472021660236, 0.1167576805269786, 1.112034995203464, 1.0859515215555395, -1.695322974218527, 0.7842598671527137, 0.758377284213845, -1.091849542132929, -1.3153986457811035, -0.6243415523889722, 1.1646852896543975, -0.7988149852707761, -0.7507366086782864, -0.9180420106279558, -0.2729434694854129, -1.2811526328740261, -0.9755996574451098, -0.4688125940352931, -0.26391419787528425, -2.4167264147169534, -1.066100926271971, 0.17041655454385568, -2.078311632109863, 0.560552210773985, 0.706882083984312, 0.7723109540792544, -1.4249266221939358, 1.4039689127307864, 1.778762557715026, 0.27437173358694167, 0.11733848968444871, -2.6150010633949354, -0.8592599110213128, 1.8093740945878218, -0.1292779500768447, -1.0439103137271737, 1.2829276692789005, 1.013159098488871, 0.20803697944170838, -0.6138663700796907, 0.1652084642695246, -1.8548152158867799, 1.8437969796864635, 0.5030983867380925, 0.07190031940443338, 2.1088970284366866, -1.0445203253805864, 1.0811956010542667, 1.4799493546243363, 2.050370676589714, -0.09903881715990685, 2.070541603456114, 0.7662237165749922, -0.3576102464551363, 0.49517071473458907, 1.6194456007075326, 0.18249899731952396, -0.5386291904369472, -1.4350220617716536], \"yaxis\": \"y4\"}, {\"line\": {\"color\": \"rgba(128, 128, 128, 1.0)\", \"dash\": \"solid\", \"shape\": \"linear\", \"width\": 1.3}, \"marker\": {\"size\": 2, \"symbol\": \"circle\"}, \"mode\": \"markers\", \"name\": \"B\", \"text\": \"\", \"type\": \"scatter\", \"x\": [1.2743291159598842, 0.012603295984593112, 0.026124428121605058, 0.05740195638716594, 0.7211797728758698, -1.2272404700848971, -0.0602220042618601, -1.2251272187523363, 0.7285313635047205, 0.3696043043956092, -0.005031906455792278, -0.217988503656931, -0.2958721265356392, -0.7119151897145148, -1.560092182531834, -0.97948301063551, -1.4295960531654444, -1.1734281071025316, -0.14794118852659902, 0.22858356596300675, -0.4106705073939129, 0.9201695687694685, -0.5243273775682088, 1.26090079768481, -0.17793819394265636, 1.1901683935840963, -1.3231680679116269, 0.625060436042206, 0.7057352901420538, -0.9000976494452639, 0.5977224299581562, 1.291099983403894, -0.15140884822287337, -0.07567580316289536, -1.2274736019729966, -1.1605033095785415, -0.003460674940168402, -1.0229364542489692, 0.7205474038629697, 0.49495986005977277, 0.41076790058176404, 0.1844472021660236, 0.1167576805269786, 1.112034995203464, 1.0859515215555395, -1.695322974218527, 0.7842598671527137, 0.758377284213845, -1.091849542132929, -1.3153986457811035, -0.6243415523889722, 1.1646852896543975, -0.7988149852707761, -0.7507366086782864, -0.9180420106279558, -0.2729434694854129, -1.2811526328740261, -0.9755996574451098, -0.4688125940352931, -0.26391419787528425, -2.4167264147169534, -1.066100926271971, 0.17041655454385568, -2.078311632109863, 0.560552210773985, 0.706882083984312, 0.7723109540792544, -1.4249266221939358, 1.4039689127307864, 1.778762557715026, 0.27437173358694167, 0.11733848968444871, -2.6150010633949354, -0.8592599110213128, 1.8093740945878218, -0.1292779500768447, -1.0439103137271737, 1.2829276692789005, 1.013159098488871, 0.20803697944170838, -0.6138663700796907, 0.1652084642695246, -1.8548152158867799, 1.8437969796864635, 0.5030983867380925, 0.07190031940443338, 2.1088970284366866, -1.0445203253805864, 1.0811956010542667, 1.4799493546243363, 2.050370676589714, -0.09903881715990685, 2.070541603456114, 0.7662237165749922, -0.3576102464551363, 0.49517071473458907, 1.6194456007075326, 0.18249899731952396, -0.5386291904369472, -1.4350220617716536], \"xaxis\": \"x5\", \"y\": [-0.39531474003646183, -0.8867252341912623, 1.5959727139592397, -0.8915771314389602, 0.052385164048535215, -2.15514457439745, -1.8144544174035113, 0.08262005734589607, -0.36215198720850966, -1.228011983928278, -1.1410569805616517, -1.8002508826157904, 0.11744455836016172, -0.3718960945496368, 2.1095460426240846, 0.07887321650891946, 1.1682426861997464, -1.0385909818862178, 1.2904598411544959, -0.22589344504336356, -1.4165857426047672, -0.5845932169728495, 1.005124981817119, 0.8647853134104359, 1.5345743538298893, -0.6197658515889924, 0.4357103295542794, -0.643051371066005, -1.3096943661431093, 0.8752592855623904, 1.5987924708863182, -1.851139766837587, -1.4938816462310027, 1.511566102263444, -0.6002087041576118, -0.0750572625889012, -0.17628415605563305, -2.1805287231472037, -0.030848334334775927, -0.3304526075523714, 0.0178820557060164, 0.6908592869951391, 0.5481008805639314, 0.832811189808415, 0.019159938639792595, 1.180810231871073, 2.730747151610139, 0.47962211842500235, -1.115686833838263, -0.30239009589317517, 1.1713524884410316, -0.764656756383517, -0.6734519706171885, 1.1738819770023874, 0.025005237496141357, 0.9104392998046482, -0.3280391121163882, -0.3486935451998248, -0.46793500068688076, -0.3757619711666674, -0.3369861822352449, 0.722504307134837, -0.9929175231489182, -0.07617301189038786, 0.23089195302073037, -0.680100584163858, -0.8527155998532249, -0.7499693642787079, 1.4485578094733376, -1.1288994330475783, -0.7837078716233372, 0.7410973973324356, 0.3968117932668227, 0.9157511083687346, 0.3097620256451611, 0.6713401468685719, -0.5640468063713121, -0.43173512125063357, -1.0714794639032783, 1.323383682867993, -0.9351732722358566, -0.37504844765015305, 0.8660583605656553, 1.2887658734490224, 0.41503915951653897, -0.08132023809148904, -0.0011254533419979285, -1.8579339281616882, 0.9527033182663938, -0.28974539692538254, 1.5966620018083522, 0.5548831948574292, 0.2937735161744529, 0.21423897173344594, 0.6196979234332269, -0.8881001296958283, 0.030131395706024945, 0.6222707263472929, 0.5785613303233125, -1.6404562494386814], \"yaxis\": \"y5\"}, {\"histfunc\": \"count\", \"histnorm\": \"\", \"marker\": {\"color\": \"rgba(55, 128, 191, 1.0)\", \"line\": {\"color\": \"#4D5663\", \"width\": 1.3}}, \"name\": \"B\", \"nbinsx\": 10, \"opacity\": 0.8, \"orientation\": \"v\", \"type\": \"histogram\", \"x\": [-0.39531474003646183, -0.8867252341912623, 1.5959727139592397, -0.8915771314389602, 0.052385164048535215, -2.15514457439745, -1.8144544174035113, 0.08262005734589607, -0.36215198720850966, -1.228011983928278, -1.1410569805616517, -1.8002508826157904, 0.11744455836016172, -0.3718960945496368, 2.1095460426240846, 0.07887321650891946, 1.1682426861997464, -1.0385909818862178, 1.2904598411544959, -0.22589344504336356, -1.4165857426047672, -0.5845932169728495, 1.005124981817119, 0.8647853134104359, 1.5345743538298893, -0.6197658515889924, 0.4357103295542794, -0.643051371066005, -1.3096943661431093, 0.8752592855623904, 1.5987924708863182, -1.851139766837587, -1.4938816462310027, 1.511566102263444, -0.6002087041576118, -0.0750572625889012, -0.17628415605563305, -2.1805287231472037, -0.030848334334775927, -0.3304526075523714, 0.0178820557060164, 0.6908592869951391, 0.5481008805639314, 0.832811189808415, 0.019159938639792595, 1.180810231871073, 2.730747151610139, 0.47962211842500235, -1.115686833838263, -0.30239009589317517, 1.1713524884410316, -0.764656756383517, -0.6734519706171885, 1.1738819770023874, 0.025005237496141357, 0.9104392998046482, -0.3280391121163882, -0.3486935451998248, -0.46793500068688076, -0.3757619711666674, -0.3369861822352449, 0.722504307134837, -0.9929175231489182, -0.07617301189038786, 0.23089195302073037, -0.680100584163858, -0.8527155998532249, -0.7499693642787079, 1.4485578094733376, -1.1288994330475783, -0.7837078716233372, 0.7410973973324356, 0.3968117932668227, 0.9157511083687346, 0.3097620256451611, 0.6713401468685719, -0.5640468063713121, -0.43173512125063357, -1.0714794639032783, 1.323383682867993, -0.9351732722358566, -0.37504844765015305, 0.8660583605656553, 1.2887658734490224, 0.41503915951653897, -0.08132023809148904, -0.0011254533419979285, -1.8579339281616882, 0.9527033182663938, -0.28974539692538254, 1.5966620018083522, 0.5548831948574292, 0.2937735161744529, 0.21423897173344594, 0.6196979234332269, -0.8881001296958283, 0.030131395706024945, 0.6222707263472929, 0.5785613303233125, -1.6404562494386814], \"xaxis\": \"x6\", \"yaxis\": \"y6\"}, {\"line\": {\"color\": \"rgba(128, 128, 128, 1.0)\", \"dash\": \"solid\", \"shape\": \"linear\", \"width\": 1.3}, \"marker\": {\"size\": 2, \"symbol\": \"circle\"}, \"mode\": \"markers\", \"name\": \"B\", \"text\": \"\", \"type\": \"scatter\", \"x\": [-0.36044540409848363, -1.3682369672062968, -0.9282922263722264, -0.45848038763538146, 0.0715824631021516, 0.5900264561161117, 0.07497764580659219, -0.5104856754102799, -0.27605300650321773, -1.6248357381844074, -0.4816519562328335, -2.0506962498414247, 1.7773616210375107, -0.6754462688728486, 1.2262109264869192, 0.6139539660003608, -0.6297992478728509, 1.0006258792077805, -0.4762091942722724, -0.6632822162736236, 1.576702485326573, -1.9549915684839305, -1.4251516158139754, -1.4500577195588817, -1.3366967700302275, 0.3672192065324242, -1.3121692836149137, -0.031829016292886314, 0.2533927221775022, -2.0182118834208556, -1.5750663801727445, 0.29926418838762575, -0.4136173969379489, -1.2479526328438808, -1.2418866384269047, 0.509094507374238, 0.2002732933288788, -1.8580735849645333, -0.49768800132795543, 0.637430016285652, -0.6780429278430543, 0.6264243310761589, 1.570872229475947, 1.2087947749533279, -1.3681598699656303, -0.0017205720417560822, -0.1460318659234728, -0.871420273233697, 0.1590697243425055, -0.7660352974730662, 0.4303054256541309, -1.668213270695618, 0.2780540161991583, 0.087592359979765, 0.9900116230613754, 0.5900147241402782, -1.063717264197242, 1.24257322092785, 1.9907270812536322, 1.5719147972788592, -1.7760798072451935, -1.34650757489623, 0.23136066036130282, -0.1969755900432889, 1.0042123847203066, 1.6185298642020232, 0.2398560243673993, 0.06268088811831533, 0.3114545888544146, -0.783836905301807, 0.10098810777923627, -1.9899063256836396, 0.5840657452315934, -0.10374052032512127, 0.22629753494658214, 0.06497485687391426, -2.4964257370098544, 1.2537849394323473, -1.257805445847786, 1.6159113795403206, -0.6274468686664045, 0.7340668053520483, -2.2003426173120344, 0.6428051084627697, 1.0607436340152985, 1.163904700448005, -0.5303144488710698, -0.6714829399675204, -1.0819877865976362, 0.5127818276572855, -0.568724685074043, 0.18151018833865676, 0.7554640306951577, -0.8876737604103103, 0.24004109451488095, 1.2740091462548346, 0.0388471201407009, -0.9479408989968882, -0.8295146712779031, 2.1082464489943575], \"xaxis\": \"x7\", \"y\": [-0.39531474003646183, -0.8867252341912623, 1.5959727139592397, -0.8915771314389602, 0.052385164048535215, -2.15514457439745, -1.8144544174035113, 0.08262005734589607, -0.36215198720850966, -1.228011983928278, -1.1410569805616517, -1.8002508826157904, 0.11744455836016172, -0.3718960945496368, 2.1095460426240846, 0.07887321650891946, 1.1682426861997464, -1.0385909818862178, 1.2904598411544959, -0.22589344504336356, -1.4165857426047672, -0.5845932169728495, 1.005124981817119, 0.8647853134104359, 1.5345743538298893, -0.6197658515889924, 0.4357103295542794, -0.643051371066005, -1.3096943661431093, 0.8752592855623904, 1.5987924708863182, -1.851139766837587, -1.4938816462310027, 1.511566102263444, -0.6002087041576118, -0.0750572625889012, -0.17628415605563305, -2.1805287231472037, -0.030848334334775927, -0.3304526075523714, 0.0178820557060164, 0.6908592869951391, 0.5481008805639314, 0.832811189808415, 0.019159938639792595, 1.180810231871073, 2.730747151610139, 0.47962211842500235, -1.115686833838263, -0.30239009589317517, 1.1713524884410316, -0.764656756383517, -0.6734519706171885, 1.1738819770023874, 0.025005237496141357, 0.9104392998046482, -0.3280391121163882, -0.3486935451998248, -0.46793500068688076, -0.3757619711666674, -0.3369861822352449, 0.722504307134837, -0.9929175231489182, -0.07617301189038786, 0.23089195302073037, -0.680100584163858, -0.8527155998532249, -0.7499693642787079, 1.4485578094733376, -1.1288994330475783, -0.7837078716233372, 0.7410973973324356, 0.3968117932668227, 0.9157511083687346, 0.3097620256451611, 0.6713401468685719, -0.5640468063713121, -0.43173512125063357, -1.0714794639032783, 1.323383682867993, -0.9351732722358566, -0.37504844765015305, 0.8660583605656553, 1.2887658734490224, 0.41503915951653897, -0.08132023809148904, -0.0011254533419979285, -1.8579339281616882, 0.9527033182663938, -0.28974539692538254, 1.5966620018083522, 0.5548831948574292, 0.2937735161744529, 0.21423897173344594, 0.6196979234332269, -0.8881001296958283, 0.030131395706024945, 0.6222707263472929, 0.5785613303233125, -1.6404562494386814], \"yaxis\": \"y7\"}, {\"line\": {\"color\": \"rgba(128, 128, 128, 1.0)\", \"dash\": \"solid\", \"shape\": \"linear\", \"width\": 1.3}, \"marker\": {\"size\": 2, \"symbol\": \"circle\"}, \"mode\": \"markers\", \"name\": \"B\", \"text\": \"\", \"type\": \"scatter\", \"x\": [0.9479557561629391, 2.298572982397254, 1.8985066080729003, -0.21935281592776976, -0.8271492658805314, 0.19851325528747873, -0.23951629522638052, -0.16735546918674754, 0.4494119281442416, 0.567578487854076, 1.2556079947823373, -0.14718548227741263, -0.5541744883947628, -0.8855564195134483, -0.9478886620028885, 0.9403100154204105, -1.893947196276431, -0.19080510215504717, 1.6011193911570996, 0.01936732726143374, 0.3103484586399088, -2.3059930411011034, -1.3571828627998581, -0.30940976185537206, 0.22329871865112277, 0.6402957481944804, 0.5046736773612417, -0.5370501114861642, -1.5125077613563083, -0.5791691884242758, -0.583961455113161, -0.7188188557167092, 0.9341868949384947, -0.9184195378879708, 2.247344161021866, 0.8304305784192072, -1.639352353330321, -2.6730603733681924, 0.5200616162134988, -0.891207675494616, 0.31946716517453333, 0.8431580555357344, 0.4140046681848647, 0.7713341679931037, -0.4590174931962297, 0.9946614452762788, 0.13788238743987755, 1.7026523220319518, 0.6961905827135803, 0.898633656869011, -0.6509593709786435, -1.0615504833800744, 0.9476633532200767, -2.1266285060064916, 0.519888566389938, -0.08807757407231966, -0.049720326940622825, 0.3175910673950524, 0.4202130273427286, -1.1060867504540906, -0.7404627136340549, 0.5866812954376825, 2.0208400359871757, -0.6830267886972587, 0.7178423825856399, -0.000485937457921648, 0.8632415719288269, 2.3886129328619505, -1.3761040089721146, -0.5165545161329226, 0.6051372890502771, -0.6169190139559843, 0.6098492513385899, -1.5250632348744793, 0.2662552967850766, 0.9145194146445753, -1.2853118992581378, -0.20683864531351895, -1.1395881758021906, -1.2500643703450267, -0.7933646373792077, 0.045862860855696276, 0.18458495717507492, 1.0506587701281214, -0.30899375225282716, 0.18208784675591044, 0.8283796364370927, -0.4096637543022577, 0.7506527560390127, -1.6054311962160694, 0.2122586436250985, -0.6859217969969345, 0.3731980438617282, -0.3916034394544518, 0.7677063716061, -0.550762943480122, 0.15397408945106517, 0.8466623131049918, -1.174723705302563, 0.26016534979009037], \"xaxis\": \"x8\", \"y\": [-0.39531474003646183, -0.8867252341912623, 1.5959727139592397, -0.8915771314389602, 0.052385164048535215, -2.15514457439745, -1.8144544174035113, 0.08262005734589607, -0.36215198720850966, -1.228011983928278, -1.1410569805616517, -1.8002508826157904, 0.11744455836016172, -0.3718960945496368, 2.1095460426240846, 0.07887321650891946, 1.1682426861997464, -1.0385909818862178, 1.2904598411544959, -0.22589344504336356, -1.4165857426047672, -0.5845932169728495, 1.005124981817119, 0.8647853134104359, 1.5345743538298893, -0.6197658515889924, 0.4357103295542794, -0.643051371066005, -1.3096943661431093, 0.8752592855623904, 1.5987924708863182, -1.851139766837587, -1.4938816462310027, 1.511566102263444, -0.6002087041576118, -0.0750572625889012, -0.17628415605563305, -2.1805287231472037, -0.030848334334775927, -0.3304526075523714, 0.0178820557060164, 0.6908592869951391, 0.5481008805639314, 0.832811189808415, 0.019159938639792595, 1.180810231871073, 2.730747151610139, 0.47962211842500235, -1.115686833838263, -0.30239009589317517, 1.1713524884410316, -0.764656756383517, -0.6734519706171885, 1.1738819770023874, 0.025005237496141357, 0.9104392998046482, -0.3280391121163882, -0.3486935451998248, -0.46793500068688076, -0.3757619711666674, -0.3369861822352449, 0.722504307134837, -0.9929175231489182, -0.07617301189038786, 0.23089195302073037, -0.680100584163858, -0.8527155998532249, -0.7499693642787079, 1.4485578094733376, -1.1288994330475783, -0.7837078716233372, 0.7410973973324356, 0.3968117932668227, 0.9157511083687346, 0.3097620256451611, 0.6713401468685719, -0.5640468063713121, -0.43173512125063357, -1.0714794639032783, 1.323383682867993, -0.9351732722358566, -0.37504844765015305, 0.8660583605656553, 1.2887658734490224, 0.41503915951653897, -0.08132023809148904, -0.0011254533419979285, -1.8579339281616882, 0.9527033182663938, -0.28974539692538254, 1.5966620018083522, 0.5548831948574292, 0.2937735161744529, 0.21423897173344594, 0.6196979234332269, -0.8881001296958283, 0.030131395706024945, 0.6222707263472929, 0.5785613303233125, -1.6404562494386814], \"yaxis\": \"y8\"}, {\"line\": {\"color\": \"rgba(128, 128, 128, 1.0)\", \"dash\": \"solid\", \"shape\": \"linear\", \"width\": 1.3}, \"marker\": {\"size\": 2, \"symbol\": \"circle\"}, \"mode\": \"markers\", \"name\": \"C\", \"text\": \"\", \"type\": \"scatter\", \"x\": [1.2743291159598842, 0.012603295984593112, 0.026124428121605058, 0.05740195638716594, 0.7211797728758698, -1.2272404700848971, -0.0602220042618601, -1.2251272187523363, 0.7285313635047205, 0.3696043043956092, -0.005031906455792278, -0.217988503656931, -0.2958721265356392, -0.7119151897145148, -1.560092182531834, -0.97948301063551, -1.4295960531654444, -1.1734281071025316, -0.14794118852659902, 0.22858356596300675, -0.4106705073939129, 0.9201695687694685, -0.5243273775682088, 1.26090079768481, -0.17793819394265636, 1.1901683935840963, -1.3231680679116269, 0.625060436042206, 0.7057352901420538, -0.9000976494452639, 0.5977224299581562, 1.291099983403894, -0.15140884822287337, -0.07567580316289536, -1.2274736019729966, -1.1605033095785415, -0.003460674940168402, -1.0229364542489692, 0.7205474038629697, 0.49495986005977277, 0.41076790058176404, 0.1844472021660236, 0.1167576805269786, 1.112034995203464, 1.0859515215555395, -1.695322974218527, 0.7842598671527137, 0.758377284213845, -1.091849542132929, -1.3153986457811035, -0.6243415523889722, 1.1646852896543975, -0.7988149852707761, -0.7507366086782864, -0.9180420106279558, -0.2729434694854129, -1.2811526328740261, -0.9755996574451098, -0.4688125940352931, -0.26391419787528425, -2.4167264147169534, -1.066100926271971, 0.17041655454385568, -2.078311632109863, 0.560552210773985, 0.706882083984312, 0.7723109540792544, -1.4249266221939358, 1.4039689127307864, 1.778762557715026, 0.27437173358694167, 0.11733848968444871, -2.6150010633949354, -0.8592599110213128, 1.8093740945878218, -0.1292779500768447, -1.0439103137271737, 1.2829276692789005, 1.013159098488871, 0.20803697944170838, -0.6138663700796907, 0.1652084642695246, -1.8548152158867799, 1.8437969796864635, 0.5030983867380925, 0.07190031940443338, 2.1088970284366866, -1.0445203253805864, 1.0811956010542667, 1.4799493546243363, 2.050370676589714, -0.09903881715990685, 2.070541603456114, 0.7662237165749922, -0.3576102464551363, 0.49517071473458907, 1.6194456007075326, 0.18249899731952396, -0.5386291904369472, -1.4350220617716536], \"xaxis\": \"x9\", \"y\": [-0.36044540409848363, -1.3682369672062968, -0.9282922263722264, -0.45848038763538146, 0.0715824631021516, 0.5900264561161117, 0.07497764580659219, -0.5104856754102799, -0.27605300650321773, -1.6248357381844074, -0.4816519562328335, -2.0506962498414247, 1.7773616210375107, -0.6754462688728486, 1.2262109264869192, 0.6139539660003608, -0.6297992478728509, 1.0006258792077805, -0.4762091942722724, -0.6632822162736236, 1.576702485326573, -1.9549915684839305, -1.4251516158139754, -1.4500577195588817, -1.3366967700302275, 0.3672192065324242, -1.3121692836149137, -0.031829016292886314, 0.2533927221775022, -2.0182118834208556, -1.5750663801727445, 0.29926418838762575, -0.4136173969379489, -1.2479526328438808, -1.2418866384269047, 0.509094507374238, 0.2002732933288788, -1.8580735849645333, -0.49768800132795543, 0.637430016285652, -0.6780429278430543, 0.6264243310761589, 1.570872229475947, 1.2087947749533279, -1.3681598699656303, -0.0017205720417560822, -0.1460318659234728, -0.871420273233697, 0.1590697243425055, -0.7660352974730662, 0.4303054256541309, -1.668213270695618, 0.2780540161991583, 0.087592359979765, 0.9900116230613754, 0.5900147241402782, -1.063717264197242, 1.24257322092785, 1.9907270812536322, 1.5719147972788592, -1.7760798072451935, -1.34650757489623, 0.23136066036130282, -0.1969755900432889, 1.0042123847203066, 1.6185298642020232, 0.2398560243673993, 0.06268088811831533, 0.3114545888544146, -0.783836905301807, 0.10098810777923627, -1.9899063256836396, 0.5840657452315934, -0.10374052032512127, 0.22629753494658214, 0.06497485687391426, -2.4964257370098544, 1.2537849394323473, -1.257805445847786, 1.6159113795403206, -0.6274468686664045, 0.7340668053520483, -2.2003426173120344, 0.6428051084627697, 1.0607436340152985, 1.163904700448005, -0.5303144488710698, -0.6714829399675204, -1.0819877865976362, 0.5127818276572855, -0.568724685074043, 0.18151018833865676, 0.7554640306951577, -0.8876737604103103, 0.24004109451488095, 1.2740091462548346, 0.0388471201407009, -0.9479408989968882, -0.8295146712779031, 2.1082464489943575], \"yaxis\": \"y9\"}, {\"line\": {\"color\": \"rgba(128, 128, 128, 1.0)\", \"dash\": \"solid\", \"shape\": \"linear\", \"width\": 1.3}, \"marker\": {\"size\": 2, \"symbol\": \"circle\"}, \"mode\": \"markers\", \"name\": \"C\", \"text\": \"\", \"type\": \"scatter\", \"x\": [-0.39531474003646183, -0.8867252341912623, 1.5959727139592397, -0.8915771314389602, 0.052385164048535215, -2.15514457439745, -1.8144544174035113, 0.08262005734589607, -0.36215198720850966, -1.228011983928278, -1.1410569805616517, -1.8002508826157904, 0.11744455836016172, -0.3718960945496368, 2.1095460426240846, 0.07887321650891946, 1.1682426861997464, -1.0385909818862178, 1.2904598411544959, -0.22589344504336356, -1.4165857426047672, -0.5845932169728495, 1.005124981817119, 0.8647853134104359, 1.5345743538298893, -0.6197658515889924, 0.4357103295542794, -0.643051371066005, -1.3096943661431093, 0.8752592855623904, 1.5987924708863182, -1.851139766837587, -1.4938816462310027, 1.511566102263444, -0.6002087041576118, -0.0750572625889012, -0.17628415605563305, -2.1805287231472037, -0.030848334334775927, -0.3304526075523714, 0.0178820557060164, 0.6908592869951391, 0.5481008805639314, 0.832811189808415, 0.019159938639792595, 1.180810231871073, 2.730747151610139, 0.47962211842500235, -1.115686833838263, -0.30239009589317517, 1.1713524884410316, -0.764656756383517, -0.6734519706171885, 1.1738819770023874, 0.025005237496141357, 0.9104392998046482, -0.3280391121163882, -0.3486935451998248, -0.46793500068688076, -0.3757619711666674, -0.3369861822352449, 0.722504307134837, -0.9929175231489182, -0.07617301189038786, 0.23089195302073037, -0.680100584163858, -0.8527155998532249, -0.7499693642787079, 1.4485578094733376, -1.1288994330475783, -0.7837078716233372, 0.7410973973324356, 0.3968117932668227, 0.9157511083687346, 0.3097620256451611, 0.6713401468685719, -0.5640468063713121, -0.43173512125063357, -1.0714794639032783, 1.323383682867993, -0.9351732722358566, -0.37504844765015305, 0.8660583605656553, 1.2887658734490224, 0.41503915951653897, -0.08132023809148904, -0.0011254533419979285, -1.8579339281616882, 0.9527033182663938, -0.28974539692538254, 1.5966620018083522, 0.5548831948574292, 0.2937735161744529, 0.21423897173344594, 0.6196979234332269, -0.8881001296958283, 0.030131395706024945, 0.6222707263472929, 0.5785613303233125, -1.6404562494386814], \"xaxis\": \"x10\", \"y\": [-0.36044540409848363, -1.3682369672062968, -0.9282922263722264, -0.45848038763538146, 0.0715824631021516, 0.5900264561161117, 0.07497764580659219, -0.5104856754102799, -0.27605300650321773, -1.6248357381844074, -0.4816519562328335, -2.0506962498414247, 1.7773616210375107, -0.6754462688728486, 1.2262109264869192, 0.6139539660003608, -0.6297992478728509, 1.0006258792077805, -0.4762091942722724, -0.6632822162736236, 1.576702485326573, -1.9549915684839305, -1.4251516158139754, -1.4500577195588817, -1.3366967700302275, 0.3672192065324242, -1.3121692836149137, -0.031829016292886314, 0.2533927221775022, -2.0182118834208556, -1.5750663801727445, 0.29926418838762575, -0.4136173969379489, -1.2479526328438808, -1.2418866384269047, 0.509094507374238, 0.2002732933288788, -1.8580735849645333, -0.49768800132795543, 0.637430016285652, -0.6780429278430543, 0.6264243310761589, 1.570872229475947, 1.2087947749533279, -1.3681598699656303, -0.0017205720417560822, -0.1460318659234728, -0.871420273233697, 0.1590697243425055, -0.7660352974730662, 0.4303054256541309, -1.668213270695618, 0.2780540161991583, 0.087592359979765, 0.9900116230613754, 0.5900147241402782, -1.063717264197242, 1.24257322092785, 1.9907270812536322, 1.5719147972788592, -1.7760798072451935, -1.34650757489623, 0.23136066036130282, -0.1969755900432889, 1.0042123847203066, 1.6185298642020232, 0.2398560243673993, 0.06268088811831533, 0.3114545888544146, -0.783836905301807, 0.10098810777923627, -1.9899063256836396, 0.5840657452315934, -0.10374052032512127, 0.22629753494658214, 0.06497485687391426, -2.4964257370098544, 1.2537849394323473, -1.257805445847786, 1.6159113795403206, -0.6274468686664045, 0.7340668053520483, -2.2003426173120344, 0.6428051084627697, 1.0607436340152985, 1.163904700448005, -0.5303144488710698, -0.6714829399675204, -1.0819877865976362, 0.5127818276572855, -0.568724685074043, 0.18151018833865676, 0.7554640306951577, -0.8876737604103103, 0.24004109451488095, 1.2740091462548346, 0.0388471201407009, -0.9479408989968882, -0.8295146712779031, 2.1082464489943575], \"yaxis\": \"y10\"}, {\"histfunc\": \"count\", \"histnorm\": \"\", \"marker\": {\"color\": \"rgba(50, 171, 96, 1.0)\", \"line\": {\"color\": \"#4D5663\", \"width\": 1.3}}, \"name\": \"C\", \"nbinsx\": 10, \"opacity\": 0.8, \"orientation\": \"v\", \"type\": \"histogram\", \"x\": [-0.36044540409848363, -1.3682369672062968, -0.9282922263722264, -0.45848038763538146, 0.0715824631021516, 0.5900264561161117, 0.07497764580659219, -0.5104856754102799, -0.27605300650321773, -1.6248357381844074, -0.4816519562328335, -2.0506962498414247, 1.7773616210375107, -0.6754462688728486, 1.2262109264869192, 0.6139539660003608, -0.6297992478728509, 1.0006258792077805, -0.4762091942722724, -0.6632822162736236, 1.576702485326573, -1.9549915684839305, -1.4251516158139754, -1.4500577195588817, -1.3366967700302275, 0.3672192065324242, -1.3121692836149137, -0.031829016292886314, 0.2533927221775022, -2.0182118834208556, -1.5750663801727445, 0.29926418838762575, -0.4136173969379489, -1.2479526328438808, -1.2418866384269047, 0.509094507374238, 0.2002732933288788, -1.8580735849645333, -0.49768800132795543, 0.637430016285652, -0.6780429278430543, 0.6264243310761589, 1.570872229475947, 1.2087947749533279, -1.3681598699656303, -0.0017205720417560822, -0.1460318659234728, -0.871420273233697, 0.1590697243425055, -0.7660352974730662, 0.4303054256541309, -1.668213270695618, 0.2780540161991583, 0.087592359979765, 0.9900116230613754, 0.5900147241402782, -1.063717264197242, 1.24257322092785, 1.9907270812536322, 1.5719147972788592, -1.7760798072451935, -1.34650757489623, 0.23136066036130282, -0.1969755900432889, 1.0042123847203066, 1.6185298642020232, 0.2398560243673993, 0.06268088811831533, 0.3114545888544146, -0.783836905301807, 0.10098810777923627, -1.9899063256836396, 0.5840657452315934, -0.10374052032512127, 0.22629753494658214, 0.06497485687391426, -2.4964257370098544, 1.2537849394323473, -1.257805445847786, 1.6159113795403206, -0.6274468686664045, 0.7340668053520483, -2.2003426173120344, 0.6428051084627697, 1.0607436340152985, 1.163904700448005, -0.5303144488710698, -0.6714829399675204, -1.0819877865976362, 0.5127818276572855, -0.568724685074043, 0.18151018833865676, 0.7554640306951577, -0.8876737604103103, 0.24004109451488095, 1.2740091462548346, 0.0388471201407009, -0.9479408989968882, -0.8295146712779031, 2.1082464489943575], \"xaxis\": \"x11\", \"yaxis\": \"y11\"}, {\"line\": {\"color\": \"rgba(128, 128, 128, 1.0)\", \"dash\": \"solid\", \"shape\": \"linear\", \"width\": 1.3}, \"marker\": {\"size\": 2, \"symbol\": \"circle\"}, \"mode\": \"markers\", \"name\": \"C\", \"text\": \"\", \"type\": \"scatter\", \"x\": [0.9479557561629391, 2.298572982397254, 1.8985066080729003, -0.21935281592776976, -0.8271492658805314, 0.19851325528747873, -0.23951629522638052, -0.16735546918674754, 0.4494119281442416, 0.567578487854076, 1.2556079947823373, -0.14718548227741263, -0.5541744883947628, -0.8855564195134483, -0.9478886620028885, 0.9403100154204105, -1.893947196276431, -0.19080510215504717, 1.6011193911570996, 0.01936732726143374, 0.3103484586399088, -2.3059930411011034, -1.3571828627998581, -0.30940976185537206, 0.22329871865112277, 0.6402957481944804, 0.5046736773612417, -0.5370501114861642, -1.5125077613563083, -0.5791691884242758, -0.583961455113161, -0.7188188557167092, 0.9341868949384947, -0.9184195378879708, 2.247344161021866, 0.8304305784192072, -1.639352353330321, -2.6730603733681924, 0.5200616162134988, -0.891207675494616, 0.31946716517453333, 0.8431580555357344, 0.4140046681848647, 0.7713341679931037, -0.4590174931962297, 0.9946614452762788, 0.13788238743987755, 1.7026523220319518, 0.6961905827135803, 0.898633656869011, -0.6509593709786435, -1.0615504833800744, 0.9476633532200767, -2.1266285060064916, 0.519888566389938, -0.08807757407231966, -0.049720326940622825, 0.3175910673950524, 0.4202130273427286, -1.1060867504540906, -0.7404627136340549, 0.5866812954376825, 2.0208400359871757, -0.6830267886972587, 0.7178423825856399, -0.000485937457921648, 0.8632415719288269, 2.3886129328619505, -1.3761040089721146, -0.5165545161329226, 0.6051372890502771, -0.6169190139559843, 0.6098492513385899, -1.5250632348744793, 0.2662552967850766, 0.9145194146445753, -1.2853118992581378, -0.20683864531351895, -1.1395881758021906, -1.2500643703450267, -0.7933646373792077, 0.045862860855696276, 0.18458495717507492, 1.0506587701281214, -0.30899375225282716, 0.18208784675591044, 0.8283796364370927, -0.4096637543022577, 0.7506527560390127, -1.6054311962160694, 0.2122586436250985, -0.6859217969969345, 0.3731980438617282, -0.3916034394544518, 0.7677063716061, -0.550762943480122, 0.15397408945106517, 0.8466623131049918, -1.174723705302563, 0.26016534979009037], \"xaxis\": \"x12\", \"y\": [-0.36044540409848363, -1.3682369672062968, -0.9282922263722264, -0.45848038763538146, 0.0715824631021516, 0.5900264561161117, 0.07497764580659219, -0.5104856754102799, -0.27605300650321773, -1.6248357381844074, -0.4816519562328335, -2.0506962498414247, 1.7773616210375107, -0.6754462688728486, 1.2262109264869192, 0.6139539660003608, -0.6297992478728509, 1.0006258792077805, -0.4762091942722724, -0.6632822162736236, 1.576702485326573, -1.9549915684839305, -1.4251516158139754, -1.4500577195588817, -1.3366967700302275, 0.3672192065324242, -1.3121692836149137, -0.031829016292886314, 0.2533927221775022, -2.0182118834208556, -1.5750663801727445, 0.29926418838762575, -0.4136173969379489, -1.2479526328438808, -1.2418866384269047, 0.509094507374238, 0.2002732933288788, -1.8580735849645333, -0.49768800132795543, 0.637430016285652, -0.6780429278430543, 0.6264243310761589, 1.570872229475947, 1.2087947749533279, -1.3681598699656303, -0.0017205720417560822, -0.1460318659234728, -0.871420273233697, 0.1590697243425055, -0.7660352974730662, 0.4303054256541309, -1.668213270695618, 0.2780540161991583, 0.087592359979765, 0.9900116230613754, 0.5900147241402782, -1.063717264197242, 1.24257322092785, 1.9907270812536322, 1.5719147972788592, -1.7760798072451935, -1.34650757489623, 0.23136066036130282, -0.1969755900432889, 1.0042123847203066, 1.6185298642020232, 0.2398560243673993, 0.06268088811831533, 0.3114545888544146, -0.783836905301807, 0.10098810777923627, -1.9899063256836396, 0.5840657452315934, -0.10374052032512127, 0.22629753494658214, 0.06497485687391426, -2.4964257370098544, 1.2537849394323473, -1.257805445847786, 1.6159113795403206, -0.6274468686664045, 0.7340668053520483, -2.2003426173120344, 0.6428051084627697, 1.0607436340152985, 1.163904700448005, -0.5303144488710698, -0.6714829399675204, -1.0819877865976362, 0.5127818276572855, -0.568724685074043, 0.18151018833865676, 0.7554640306951577, -0.8876737604103103, 0.24004109451488095, 1.2740091462548346, 0.0388471201407009, -0.9479408989968882, -0.8295146712779031, 2.1082464489943575], \"yaxis\": \"y12\"}, {\"line\": {\"color\": \"rgba(128, 128, 128, 1.0)\", \"dash\": \"solid\", \"shape\": \"linear\", \"width\": 1.3}, \"marker\": {\"size\": 2, \"symbol\": \"circle\"}, \"mode\": \"markers\", \"name\": \"D\", \"text\": \"\", \"type\": \"scatter\", \"x\": [1.2743291159598842, 0.012603295984593112, 0.026124428121605058, 0.05740195638716594, 0.7211797728758698, -1.2272404700848971, -0.0602220042618601, -1.2251272187523363, 0.7285313635047205, 0.3696043043956092, -0.005031906455792278, -0.217988503656931, -0.2958721265356392, -0.7119151897145148, -1.560092182531834, -0.97948301063551, -1.4295960531654444, -1.1734281071025316, -0.14794118852659902, 0.22858356596300675, -0.4106705073939129, 0.9201695687694685, -0.5243273775682088, 1.26090079768481, -0.17793819394265636, 1.1901683935840963, -1.3231680679116269, 0.625060436042206, 0.7057352901420538, -0.9000976494452639, 0.5977224299581562, 1.291099983403894, -0.15140884822287337, -0.07567580316289536, -1.2274736019729966, -1.1605033095785415, -0.003460674940168402, -1.0229364542489692, 0.7205474038629697, 0.49495986005977277, 0.41076790058176404, 0.1844472021660236, 0.1167576805269786, 1.112034995203464, 1.0859515215555395, -1.695322974218527, 0.7842598671527137, 0.758377284213845, -1.091849542132929, -1.3153986457811035, -0.6243415523889722, 1.1646852896543975, -0.7988149852707761, -0.7507366086782864, -0.9180420106279558, -0.2729434694854129, -1.2811526328740261, -0.9755996574451098, -0.4688125940352931, -0.26391419787528425, -2.4167264147169534, -1.066100926271971, 0.17041655454385568, -2.078311632109863, 0.560552210773985, 0.706882083984312, 0.7723109540792544, -1.4249266221939358, 1.4039689127307864, 1.778762557715026, 0.27437173358694167, 0.11733848968444871, -2.6150010633949354, -0.8592599110213128, 1.8093740945878218, -0.1292779500768447, -1.0439103137271737, 1.2829276692789005, 1.013159098488871, 0.20803697944170838, -0.6138663700796907, 0.1652084642695246, -1.8548152158867799, 1.8437969796864635, 0.5030983867380925, 0.07190031940443338, 2.1088970284366866, -1.0445203253805864, 1.0811956010542667, 1.4799493546243363, 2.050370676589714, -0.09903881715990685, 2.070541603456114, 0.7662237165749922, -0.3576102464551363, 0.49517071473458907, 1.6194456007075326, 0.18249899731952396, -0.5386291904369472, -1.4350220617716536], \"xaxis\": \"x13\", \"y\": [0.9479557561629391, 2.298572982397254, 1.8985066080729003, -0.21935281592776976, -0.8271492658805314, 0.19851325528747873, -0.23951629522638052, -0.16735546918674754, 0.4494119281442416, 0.567578487854076, 1.2556079947823373, -0.14718548227741263, -0.5541744883947628, -0.8855564195134483, -0.9478886620028885, 0.9403100154204105, -1.893947196276431, -0.19080510215504717, 1.6011193911570996, 0.01936732726143374, 0.3103484586399088, -2.3059930411011034, -1.3571828627998581, -0.30940976185537206, 0.22329871865112277, 0.6402957481944804, 0.5046736773612417, -0.5370501114861642, -1.5125077613563083, -0.5791691884242758, -0.583961455113161, -0.7188188557167092, 0.9341868949384947, -0.9184195378879708, 2.247344161021866, 0.8304305784192072, -1.639352353330321, -2.6730603733681924, 0.5200616162134988, -0.891207675494616, 0.31946716517453333, 0.8431580555357344, 0.4140046681848647, 0.7713341679931037, -0.4590174931962297, 0.9946614452762788, 0.13788238743987755, 1.7026523220319518, 0.6961905827135803, 0.898633656869011, -0.6509593709786435, -1.0615504833800744, 0.9476633532200767, -2.1266285060064916, 0.519888566389938, -0.08807757407231966, -0.049720326940622825, 0.3175910673950524, 0.4202130273427286, -1.1060867504540906, -0.7404627136340549, 0.5866812954376825, 2.0208400359871757, -0.6830267886972587, 0.7178423825856399, -0.000485937457921648, 0.8632415719288269, 2.3886129328619505, -1.3761040089721146, -0.5165545161329226, 0.6051372890502771, -0.6169190139559843, 0.6098492513385899, -1.5250632348744793, 0.2662552967850766, 0.9145194146445753, -1.2853118992581378, -0.20683864531351895, -1.1395881758021906, -1.2500643703450267, -0.7933646373792077, 0.045862860855696276, 0.18458495717507492, 1.0506587701281214, -0.30899375225282716, 0.18208784675591044, 0.8283796364370927, -0.4096637543022577, 0.7506527560390127, -1.6054311962160694, 0.2122586436250985, -0.6859217969969345, 0.3731980438617282, -0.3916034394544518, 0.7677063716061, -0.550762943480122, 0.15397408945106517, 0.8466623131049918, -1.174723705302563, 0.26016534979009037], \"yaxis\": \"y13\"}, {\"line\": {\"color\": \"rgba(128, 128, 128, 1.0)\", \"dash\": \"solid\", \"shape\": \"linear\", \"width\": 1.3}, \"marker\": {\"size\": 2, \"symbol\": \"circle\"}, \"mode\": \"markers\", \"name\": \"D\", \"text\": \"\", \"type\": \"scatter\", \"x\": [-0.39531474003646183, -0.8867252341912623, 1.5959727139592397, -0.8915771314389602, 0.052385164048535215, -2.15514457439745, -1.8144544174035113, 0.08262005734589607, -0.36215198720850966, -1.228011983928278, -1.1410569805616517, -1.8002508826157904, 0.11744455836016172, -0.3718960945496368, 2.1095460426240846, 0.07887321650891946, 1.1682426861997464, -1.0385909818862178, 1.2904598411544959, -0.22589344504336356, -1.4165857426047672, -0.5845932169728495, 1.005124981817119, 0.8647853134104359, 1.5345743538298893, -0.6197658515889924, 0.4357103295542794, -0.643051371066005, -1.3096943661431093, 0.8752592855623904, 1.5987924708863182, -1.851139766837587, -1.4938816462310027, 1.511566102263444, -0.6002087041576118, -0.0750572625889012, -0.17628415605563305, -2.1805287231472037, -0.030848334334775927, -0.3304526075523714, 0.0178820557060164, 0.6908592869951391, 0.5481008805639314, 0.832811189808415, 0.019159938639792595, 1.180810231871073, 2.730747151610139, 0.47962211842500235, -1.115686833838263, -0.30239009589317517, 1.1713524884410316, -0.764656756383517, -0.6734519706171885, 1.1738819770023874, 0.025005237496141357, 0.9104392998046482, -0.3280391121163882, -0.3486935451998248, -0.46793500068688076, -0.3757619711666674, -0.3369861822352449, 0.722504307134837, -0.9929175231489182, -0.07617301189038786, 0.23089195302073037, -0.680100584163858, -0.8527155998532249, -0.7499693642787079, 1.4485578094733376, -1.1288994330475783, -0.7837078716233372, 0.7410973973324356, 0.3968117932668227, 0.9157511083687346, 0.3097620256451611, 0.6713401468685719, -0.5640468063713121, -0.43173512125063357, -1.0714794639032783, 1.323383682867993, -0.9351732722358566, -0.37504844765015305, 0.8660583605656553, 1.2887658734490224, 0.41503915951653897, -0.08132023809148904, -0.0011254533419979285, -1.8579339281616882, 0.9527033182663938, -0.28974539692538254, 1.5966620018083522, 0.5548831948574292, 0.2937735161744529, 0.21423897173344594, 0.6196979234332269, -0.8881001296958283, 0.030131395706024945, 0.6222707263472929, 0.5785613303233125, -1.6404562494386814], \"xaxis\": \"x14\", \"y\": [0.9479557561629391, 2.298572982397254, 1.8985066080729003, -0.21935281592776976, -0.8271492658805314, 0.19851325528747873, -0.23951629522638052, -0.16735546918674754, 0.4494119281442416, 0.567578487854076, 1.2556079947823373, -0.14718548227741263, -0.5541744883947628, -0.8855564195134483, -0.9478886620028885, 0.9403100154204105, -1.893947196276431, -0.19080510215504717, 1.6011193911570996, 0.01936732726143374, 0.3103484586399088, -2.3059930411011034, -1.3571828627998581, -0.30940976185537206, 0.22329871865112277, 0.6402957481944804, 0.5046736773612417, -0.5370501114861642, -1.5125077613563083, -0.5791691884242758, -0.583961455113161, -0.7188188557167092, 0.9341868949384947, -0.9184195378879708, 2.247344161021866, 0.8304305784192072, -1.639352353330321, -2.6730603733681924, 0.5200616162134988, -0.891207675494616, 0.31946716517453333, 0.8431580555357344, 0.4140046681848647, 0.7713341679931037, -0.4590174931962297, 0.9946614452762788, 0.13788238743987755, 1.7026523220319518, 0.6961905827135803, 0.898633656869011, -0.6509593709786435, -1.0615504833800744, 0.9476633532200767, -2.1266285060064916, 0.519888566389938, -0.08807757407231966, -0.049720326940622825, 0.3175910673950524, 0.4202130273427286, -1.1060867504540906, -0.7404627136340549, 0.5866812954376825, 2.0208400359871757, -0.6830267886972587, 0.7178423825856399, -0.000485937457921648, 0.8632415719288269, 2.3886129328619505, -1.3761040089721146, -0.5165545161329226, 0.6051372890502771, -0.6169190139559843, 0.6098492513385899, -1.5250632348744793, 0.2662552967850766, 0.9145194146445753, -1.2853118992581378, -0.20683864531351895, -1.1395881758021906, -1.2500643703450267, -0.7933646373792077, 0.045862860855696276, 0.18458495717507492, 1.0506587701281214, -0.30899375225282716, 0.18208784675591044, 0.8283796364370927, -0.4096637543022577, 0.7506527560390127, -1.6054311962160694, 0.2122586436250985, -0.6859217969969345, 0.3731980438617282, -0.3916034394544518, 0.7677063716061, -0.550762943480122, 0.15397408945106517, 0.8466623131049918, -1.174723705302563, 0.26016534979009037], \"yaxis\": \"y14\"}, {\"line\": {\"color\": \"rgba(128, 128, 128, 1.0)\", \"dash\": \"solid\", \"shape\": \"linear\", \"width\": 1.3}, \"marker\": {\"size\": 2, \"symbol\": \"circle\"}, \"mode\": \"markers\", \"name\": \"D\", \"text\": \"\", \"type\": \"scatter\", \"x\": [-0.36044540409848363, -1.3682369672062968, -0.9282922263722264, -0.45848038763538146, 0.0715824631021516, 0.5900264561161117, 0.07497764580659219, -0.5104856754102799, -0.27605300650321773, -1.6248357381844074, -0.4816519562328335, -2.0506962498414247, 1.7773616210375107, -0.6754462688728486, 1.2262109264869192, 0.6139539660003608, -0.6297992478728509, 1.0006258792077805, -0.4762091942722724, -0.6632822162736236, 1.576702485326573, -1.9549915684839305, -1.4251516158139754, -1.4500577195588817, -1.3366967700302275, 0.3672192065324242, -1.3121692836149137, -0.031829016292886314, 0.2533927221775022, -2.0182118834208556, -1.5750663801727445, 0.29926418838762575, -0.4136173969379489, -1.2479526328438808, -1.2418866384269047, 0.509094507374238, 0.2002732933288788, -1.8580735849645333, -0.49768800132795543, 0.637430016285652, -0.6780429278430543, 0.6264243310761589, 1.570872229475947, 1.2087947749533279, -1.3681598699656303, -0.0017205720417560822, -0.1460318659234728, -0.871420273233697, 0.1590697243425055, -0.7660352974730662, 0.4303054256541309, -1.668213270695618, 0.2780540161991583, 0.087592359979765, 0.9900116230613754, 0.5900147241402782, -1.063717264197242, 1.24257322092785, 1.9907270812536322, 1.5719147972788592, -1.7760798072451935, -1.34650757489623, 0.23136066036130282, -0.1969755900432889, 1.0042123847203066, 1.6185298642020232, 0.2398560243673993, 0.06268088811831533, 0.3114545888544146, -0.783836905301807, 0.10098810777923627, -1.9899063256836396, 0.5840657452315934, -0.10374052032512127, 0.22629753494658214, 0.06497485687391426, -2.4964257370098544, 1.2537849394323473, -1.257805445847786, 1.6159113795403206, -0.6274468686664045, 0.7340668053520483, -2.2003426173120344, 0.6428051084627697, 1.0607436340152985, 1.163904700448005, -0.5303144488710698, -0.6714829399675204, -1.0819877865976362, 0.5127818276572855, -0.568724685074043, 0.18151018833865676, 0.7554640306951577, -0.8876737604103103, 0.24004109451488095, 1.2740091462548346, 0.0388471201407009, -0.9479408989968882, -0.8295146712779031, 2.1082464489943575], \"xaxis\": \"x15\", \"y\": [0.9479557561629391, 2.298572982397254, 1.8985066080729003, -0.21935281592776976, -0.8271492658805314, 0.19851325528747873, -0.23951629522638052, -0.16735546918674754, 0.4494119281442416, 0.567578487854076, 1.2556079947823373, -0.14718548227741263, -0.5541744883947628, -0.8855564195134483, -0.9478886620028885, 0.9403100154204105, -1.893947196276431, -0.19080510215504717, 1.6011193911570996, 0.01936732726143374, 0.3103484586399088, -2.3059930411011034, -1.3571828627998581, -0.30940976185537206, 0.22329871865112277, 0.6402957481944804, 0.5046736773612417, -0.5370501114861642, -1.5125077613563083, -0.5791691884242758, -0.583961455113161, -0.7188188557167092, 0.9341868949384947, -0.9184195378879708, 2.247344161021866, 0.8304305784192072, -1.639352353330321, -2.6730603733681924, 0.5200616162134988, -0.891207675494616, 0.31946716517453333, 0.8431580555357344, 0.4140046681848647, 0.7713341679931037, -0.4590174931962297, 0.9946614452762788, 0.13788238743987755, 1.7026523220319518, 0.6961905827135803, 0.898633656869011, -0.6509593709786435, -1.0615504833800744, 0.9476633532200767, -2.1266285060064916, 0.519888566389938, -0.08807757407231966, -0.049720326940622825, 0.3175910673950524, 0.4202130273427286, -1.1060867504540906, -0.7404627136340549, 0.5866812954376825, 2.0208400359871757, -0.6830267886972587, 0.7178423825856399, -0.000485937457921648, 0.8632415719288269, 2.3886129328619505, -1.3761040089721146, -0.5165545161329226, 0.6051372890502771, -0.6169190139559843, 0.6098492513385899, -1.5250632348744793, 0.2662552967850766, 0.9145194146445753, -1.2853118992581378, -0.20683864531351895, -1.1395881758021906, -1.2500643703450267, -0.7933646373792077, 0.045862860855696276, 0.18458495717507492, 1.0506587701281214, -0.30899375225282716, 0.18208784675591044, 0.8283796364370927, -0.4096637543022577, 0.7506527560390127, -1.6054311962160694, 0.2122586436250985, -0.6859217969969345, 0.3731980438617282, -0.3916034394544518, 0.7677063716061, -0.550762943480122, 0.15397408945106517, 0.8466623131049918, -1.174723705302563, 0.26016534979009037], \"yaxis\": \"y15\"}, {\"histfunc\": \"count\", \"histnorm\": \"\", \"marker\": {\"color\": \"rgba(128, 0, 128, 1.0)\", \"line\": {\"color\": \"#4D5663\", \"width\": 1.3}}, \"name\": \"D\", \"nbinsx\": 10, \"opacity\": 0.8, \"orientation\": \"v\", \"type\": \"histogram\", \"x\": [0.9479557561629391, 2.298572982397254, 1.8985066080729003, -0.21935281592776976, -0.8271492658805314, 0.19851325528747873, -0.23951629522638052, -0.16735546918674754, 0.4494119281442416, 0.567578487854076, 1.2556079947823373, -0.14718548227741263, -0.5541744883947628, -0.8855564195134483, -0.9478886620028885, 0.9403100154204105, -1.893947196276431, -0.19080510215504717, 1.6011193911570996, 0.01936732726143374, 0.3103484586399088, -2.3059930411011034, -1.3571828627998581, -0.30940976185537206, 0.22329871865112277, 0.6402957481944804, 0.5046736773612417, -0.5370501114861642, -1.5125077613563083, -0.5791691884242758, -0.583961455113161, -0.7188188557167092, 0.9341868949384947, -0.9184195378879708, 2.247344161021866, 0.8304305784192072, -1.639352353330321, -2.6730603733681924, 0.5200616162134988, -0.891207675494616, 0.31946716517453333, 0.8431580555357344, 0.4140046681848647, 0.7713341679931037, -0.4590174931962297, 0.9946614452762788, 0.13788238743987755, 1.7026523220319518, 0.6961905827135803, 0.898633656869011, -0.6509593709786435, -1.0615504833800744, 0.9476633532200767, -2.1266285060064916, 0.519888566389938, -0.08807757407231966, -0.049720326940622825, 0.3175910673950524, 0.4202130273427286, -1.1060867504540906, -0.7404627136340549, 0.5866812954376825, 2.0208400359871757, -0.6830267886972587, 0.7178423825856399, -0.000485937457921648, 0.8632415719288269, 2.3886129328619505, -1.3761040089721146, -0.5165545161329226, 0.6051372890502771, -0.6169190139559843, 0.6098492513385899, -1.5250632348744793, 0.2662552967850766, 0.9145194146445753, -1.2853118992581378, -0.20683864531351895, -1.1395881758021906, -1.2500643703450267, -0.7933646373792077, 0.045862860855696276, 0.18458495717507492, 1.0506587701281214, -0.30899375225282716, 0.18208784675591044, 0.8283796364370927, -0.4096637543022577, 0.7506527560390127, -1.6054311962160694, 0.2122586436250985, -0.6859217969969345, 0.3731980438617282, -0.3916034394544518, 0.7677063716061, -0.550762943480122, 0.15397408945106517, 0.8466623131049918, -1.174723705302563, 0.26016534979009037], \"xaxis\": \"x16\", \"yaxis\": \"y16\"}],                        {\"bargap\": 0.02, \"legend\": {\"bgcolor\": \"#F5F6F9\", \"font\": {\"color\": \"#4D5663\"}}, \"paper_bgcolor\": \"#F5F6F9\", \"plot_bgcolor\": \"#F5F6F9\", \"showlegend\": false, \"template\": {\"data\": {\"bar\": [{\"error_x\": {\"color\": \"#2a3f5f\"}, \"error_y\": {\"color\": \"#2a3f5f\"}, \"marker\": {\"line\": {\"color\": \"#E5ECF6\", \"width\": 0.5}}, \"type\": \"bar\"}], \"barpolar\": [{\"marker\": {\"line\": {\"color\": \"#E5ECF6\", \"width\": 0.5}}, \"type\": \"barpolar\"}], \"carpet\": [{\"aaxis\": {\"endlinecolor\": \"#2a3f5f\", \"gridcolor\": \"white\", \"linecolor\": \"white\", \"minorgridcolor\": \"white\", \"startlinecolor\": \"#2a3f5f\"}, \"baxis\": {\"endlinecolor\": \"#2a3f5f\", \"gridcolor\": \"white\", \"linecolor\": \"white\", \"minorgridcolor\": \"white\", \"startlinecolor\": \"#2a3f5f\"}, \"type\": \"carpet\"}], \"choropleth\": [{\"colorbar\": {\"outlinewidth\": 0, \"ticks\": \"\"}, \"type\": \"choropleth\"}], \"contour\": [{\"colorbar\": {\"outlinewidth\": 0, \"ticks\": \"\"}, \"colorscale\": [[0.0, \"#0d0887\"], [0.1111111111111111, \"#46039f\"], [0.2222222222222222, \"#7201a8\"], [0.3333333333333333, \"#9c179e\"], [0.4444444444444444, \"#bd3786\"], [0.5555555555555556, \"#d8576b\"], [0.6666666666666666, \"#ed7953\"], [0.7777777777777778, \"#fb9f3a\"], [0.8888888888888888, \"#fdca26\"], [1.0, \"#f0f921\"]], \"type\": \"contour\"}], \"contourcarpet\": [{\"colorbar\": {\"outlinewidth\": 0, \"ticks\": \"\"}, \"type\": \"contourcarpet\"}], \"heatmap\": [{\"colorbar\": {\"outlinewidth\": 0, \"ticks\": \"\"}, \"colorscale\": [[0.0, \"#0d0887\"], [0.1111111111111111, \"#46039f\"], [0.2222222222222222, \"#7201a8\"], [0.3333333333333333, \"#9c179e\"], [0.4444444444444444, \"#bd3786\"], [0.5555555555555556, \"#d8576b\"], [0.6666666666666666, \"#ed7953\"], [0.7777777777777778, \"#fb9f3a\"], [0.8888888888888888, \"#fdca26\"], [1.0, \"#f0f921\"]], \"type\": \"heatmap\"}], \"heatmapgl\": [{\"colorbar\": {\"outlinewidth\": 0, \"ticks\": \"\"}, \"colorscale\": [[0.0, \"#0d0887\"], [0.1111111111111111, \"#46039f\"], [0.2222222222222222, \"#7201a8\"], [0.3333333333333333, \"#9c179e\"], [0.4444444444444444, \"#bd3786\"], [0.5555555555555556, \"#d8576b\"], [0.6666666666666666, \"#ed7953\"], [0.7777777777777778, \"#fb9f3a\"], [0.8888888888888888, \"#fdca26\"], [1.0, \"#f0f921\"]], \"type\": \"heatmapgl\"}], \"histogram\": [{\"marker\": {\"colorbar\": {\"outlinewidth\": 0, \"ticks\": \"\"}}, \"type\": \"histogram\"}], \"histogram2d\": [{\"colorbar\": {\"outlinewidth\": 0, \"ticks\": \"\"}, \"colorscale\": [[0.0, \"#0d0887\"], [0.1111111111111111, \"#46039f\"], [0.2222222222222222, \"#7201a8\"], [0.3333333333333333, \"#9c179e\"], [0.4444444444444444, \"#bd3786\"], [0.5555555555555556, \"#d8576b\"], [0.6666666666666666, \"#ed7953\"], [0.7777777777777778, \"#fb9f3a\"], [0.8888888888888888, \"#fdca26\"], [1.0, \"#f0f921\"]], \"type\": \"histogram2d\"}], \"histogram2dcontour\": [{\"colorbar\": {\"outlinewidth\": 0, \"ticks\": \"\"}, \"colorscale\": [[0.0, \"#0d0887\"], [0.1111111111111111, \"#46039f\"], [0.2222222222222222, \"#7201a8\"], [0.3333333333333333, \"#9c179e\"], [0.4444444444444444, \"#bd3786\"], [0.5555555555555556, \"#d8576b\"], [0.6666666666666666, \"#ed7953\"], [0.7777777777777778, \"#fb9f3a\"], [0.8888888888888888, \"#fdca26\"], [1.0, \"#f0f921\"]], \"type\": \"histogram2dcontour\"}], \"mesh3d\": [{\"colorbar\": {\"outlinewidth\": 0, \"ticks\": \"\"}, \"type\": \"mesh3d\"}], \"parcoords\": [{\"line\": {\"colorbar\": {\"outlinewidth\": 0, \"ticks\": \"\"}}, \"type\": \"parcoords\"}], \"pie\": [{\"automargin\": true, \"type\": \"pie\"}], \"scatter\": [{\"marker\": {\"colorbar\": {\"outlinewidth\": 0, \"ticks\": \"\"}}, \"type\": \"scatter\"}], \"scatter3d\": [{\"line\": {\"colorbar\": {\"outlinewidth\": 0, \"ticks\": \"\"}}, \"marker\": {\"colorbar\": {\"outlinewidth\": 0, \"ticks\": \"\"}}, \"type\": \"scatter3d\"}], \"scattercarpet\": [{\"marker\": {\"colorbar\": {\"outlinewidth\": 0, \"ticks\": \"\"}}, \"type\": \"scattercarpet\"}], \"scattergeo\": [{\"marker\": {\"colorbar\": {\"outlinewidth\": 0, \"ticks\": \"\"}}, \"type\": \"scattergeo\"}], \"scattergl\": [{\"marker\": {\"colorbar\": {\"outlinewidth\": 0, \"ticks\": \"\"}}, \"type\": \"scattergl\"}], \"scattermapbox\": [{\"marker\": {\"colorbar\": {\"outlinewidth\": 0, \"ticks\": \"\"}}, \"type\": \"scattermapbox\"}], \"scatterpolar\": [{\"marker\": {\"colorbar\": {\"outlinewidth\": 0, \"ticks\": \"\"}}, \"type\": \"scatterpolar\"}], \"scatterpolargl\": [{\"marker\": {\"colorbar\": {\"outlinewidth\": 0, \"ticks\": \"\"}}, \"type\": \"scatterpolargl\"}], \"scatterternary\": [{\"marker\": {\"colorbar\": {\"outlinewidth\": 0, \"ticks\": \"\"}}, \"type\": \"scatterternary\"}], \"surface\": [{\"colorbar\": {\"outlinewidth\": 0, \"ticks\": \"\"}, \"colorscale\": [[0.0, \"#0d0887\"], [0.1111111111111111, \"#46039f\"], [0.2222222222222222, \"#7201a8\"], [0.3333333333333333, \"#9c179e\"], [0.4444444444444444, \"#bd3786\"], [0.5555555555555556, \"#d8576b\"], [0.6666666666666666, \"#ed7953\"], [0.7777777777777778, \"#fb9f3a\"], [0.8888888888888888, \"#fdca26\"], [1.0, \"#f0f921\"]], \"type\": \"surface\"}], \"table\": [{\"cells\": {\"fill\": {\"color\": \"#EBF0F8\"}, \"line\": {\"color\": \"white\"}}, \"header\": {\"fill\": {\"color\": \"#C8D4E3\"}, \"line\": {\"color\": \"white\"}}, \"type\": \"table\"}]}, \"layout\": {\"annotationdefaults\": {\"arrowcolor\": \"#2a3f5f\", \"arrowhead\": 0, \"arrowwidth\": 1}, \"autotypenumbers\": \"strict\", \"coloraxis\": {\"colorbar\": {\"outlinewidth\": 0, \"ticks\": \"\"}}, \"colorscale\": {\"diverging\": [[0, \"#8e0152\"], [0.1, \"#c51b7d\"], [0.2, \"#de77ae\"], [0.3, \"#f1b6da\"], [0.4, \"#fde0ef\"], [0.5, \"#f7f7f7\"], [0.6, \"#e6f5d0\"], [0.7, \"#b8e186\"], [0.8, \"#7fbc41\"], [0.9, \"#4d9221\"], [1, \"#276419\"]], \"sequential\": [[0.0, \"#0d0887\"], [0.1111111111111111, \"#46039f\"], [0.2222222222222222, \"#7201a8\"], [0.3333333333333333, \"#9c179e\"], [0.4444444444444444, \"#bd3786\"], [0.5555555555555556, \"#d8576b\"], [0.6666666666666666, \"#ed7953\"], [0.7777777777777778, \"#fb9f3a\"], [0.8888888888888888, \"#fdca26\"], [1.0, \"#f0f921\"]], \"sequentialminus\": [[0.0, \"#0d0887\"], [0.1111111111111111, \"#46039f\"], [0.2222222222222222, \"#7201a8\"], [0.3333333333333333, \"#9c179e\"], [0.4444444444444444, \"#bd3786\"], [0.5555555555555556, \"#d8576b\"], [0.6666666666666666, \"#ed7953\"], [0.7777777777777778, \"#fb9f3a\"], [0.8888888888888888, \"#fdca26\"], [1.0, \"#f0f921\"]]}, \"colorway\": [\"#636efa\", \"#EF553B\", \"#00cc96\", \"#ab63fa\", \"#FFA15A\", \"#19d3f3\", \"#FF6692\", \"#B6E880\", \"#FF97FF\", \"#FECB52\"], \"font\": {\"color\": \"#2a3f5f\"}, \"geo\": {\"bgcolor\": \"white\", \"lakecolor\": \"white\", \"landcolor\": \"#E5ECF6\", \"showlakes\": true, \"showland\": true, \"subunitcolor\": \"white\"}, \"hoverlabel\": {\"align\": \"left\"}, \"hovermode\": \"closest\", \"mapbox\": {\"style\": \"light\"}, \"paper_bgcolor\": \"white\", \"plot_bgcolor\": \"#E5ECF6\", \"polar\": {\"angularaxis\": {\"gridcolor\": \"white\", \"linecolor\": \"white\", \"ticks\": \"\"}, \"bgcolor\": \"#E5ECF6\", \"radialaxis\": {\"gridcolor\": \"white\", \"linecolor\": \"white\", \"ticks\": \"\"}}, \"scene\": {\"xaxis\": {\"backgroundcolor\": \"#E5ECF6\", \"gridcolor\": \"white\", \"gridwidth\": 2, \"linecolor\": \"white\", \"showbackground\": true, \"ticks\": \"\", \"zerolinecolor\": \"white\"}, \"yaxis\": {\"backgroundcolor\": \"#E5ECF6\", \"gridcolor\": \"white\", \"gridwidth\": 2, \"linecolor\": \"white\", \"showbackground\": true, \"ticks\": \"\", \"zerolinecolor\": \"white\"}, \"zaxis\": {\"backgroundcolor\": \"#E5ECF6\", \"gridcolor\": \"white\", \"gridwidth\": 2, \"linecolor\": \"white\", \"showbackground\": true, \"ticks\": \"\", \"zerolinecolor\": \"white\"}}, \"shapedefaults\": {\"line\": {\"color\": \"#2a3f5f\"}}, \"ternary\": {\"aaxis\": {\"gridcolor\": \"white\", \"linecolor\": \"white\", \"ticks\": \"\"}, \"baxis\": {\"gridcolor\": \"white\", \"linecolor\": \"white\", \"ticks\": \"\"}, \"bgcolor\": \"#E5ECF6\", \"caxis\": {\"gridcolor\": \"white\", \"linecolor\": \"white\", \"ticks\": \"\"}}, \"title\": {\"x\": 0.05}, \"xaxis\": {\"automargin\": true, \"gridcolor\": \"white\", \"linecolor\": \"white\", \"ticks\": \"\", \"title\": {\"standoff\": 15}, \"zerolinecolor\": \"white\", \"zerolinewidth\": 2}, \"yaxis\": {\"automargin\": true, \"gridcolor\": \"white\", \"linecolor\": \"white\", \"ticks\": \"\", \"title\": {\"standoff\": 15}, \"zerolinecolor\": \"white\", \"zerolinewidth\": 2}}}, \"title\": {\"font\": {\"color\": \"#4D5663\"}}, \"xaxis\": {\"anchor\": \"y\", \"domain\": [0.0, 0.2125], \"gridcolor\": \"#E1E5ED\", \"showgrid\": false, \"tickfont\": {\"color\": \"#4D5663\"}, \"title\": {\"font\": {\"color\": \"#4D5663\"}, \"text\": \"\"}, \"zerolinecolor\": \"#E1E5ED\"}, \"xaxis10\": {\"anchor\": \"y10\", \"domain\": [0.2625, 0.475], \"gridcolor\": \"#E1E5ED\", \"showgrid\": false, \"tickfont\": {\"color\": \"#4D5663\"}, \"title\": {\"font\": {\"color\": \"#4D5663\"}, \"text\": \"\"}, \"zerolinecolor\": \"#E1E5ED\"}, \"xaxis11\": {\"anchor\": \"y11\", \"domain\": [0.525, 0.7375], \"gridcolor\": \"#E1E5ED\", \"showgrid\": false, \"tickfont\": {\"color\": \"#4D5663\"}, \"title\": {\"font\": {\"color\": \"#4D5663\"}, \"text\": \"\"}, \"zerolinecolor\": \"#E1E5ED\"}, \"xaxis12\": {\"anchor\": \"y12\", \"domain\": [0.7875, 1.0], \"gridcolor\": \"#E1E5ED\", \"showgrid\": false, \"tickfont\": {\"color\": \"#4D5663\"}, \"title\": {\"font\": {\"color\": \"#4D5663\"}, \"text\": \"\"}, \"zerolinecolor\": \"#E1E5ED\"}, \"xaxis13\": {\"anchor\": \"y13\", \"domain\": [0.0, 0.2125], \"gridcolor\": \"#E1E5ED\", \"showgrid\": false, \"tickfont\": {\"color\": \"#4D5663\"}, \"title\": {\"font\": {\"color\": \"#4D5663\"}, \"text\": \"\"}, \"zerolinecolor\": \"#E1E5ED\"}, \"xaxis14\": {\"anchor\": \"y14\", \"domain\": [0.2625, 0.475], \"gridcolor\": \"#E1E5ED\", \"showgrid\": false, \"tickfont\": {\"color\": \"#4D5663\"}, \"title\": {\"font\": {\"color\": \"#4D5663\"}, \"text\": \"\"}, \"zerolinecolor\": \"#E1E5ED\"}, \"xaxis15\": {\"anchor\": \"y15\", \"domain\": [0.525, 0.7375], \"gridcolor\": \"#E1E5ED\", \"showgrid\": false, \"tickfont\": {\"color\": \"#4D5663\"}, \"title\": {\"font\": {\"color\": \"#4D5663\"}, \"text\": \"\"}, \"zerolinecolor\": \"#E1E5ED\"}, \"xaxis16\": {\"anchor\": \"y16\", \"domain\": [0.7875, 1.0], \"gridcolor\": \"#E1E5ED\", \"showgrid\": false, \"tickfont\": {\"color\": \"#4D5663\"}, \"title\": {\"font\": {\"color\": \"#4D5663\"}, \"text\": \"\"}, \"zerolinecolor\": \"#E1E5ED\"}, \"xaxis2\": {\"anchor\": \"y2\", \"domain\": [0.2625, 0.475], \"gridcolor\": \"#E1E5ED\", \"showgrid\": false, \"tickfont\": {\"color\": \"#4D5663\"}, \"title\": {\"font\": {\"color\": \"#4D5663\"}, \"text\": \"\"}, \"zerolinecolor\": \"#E1E5ED\"}, \"xaxis3\": {\"anchor\": \"y3\", \"domain\": [0.525, 0.7375], \"gridcolor\": \"#E1E5ED\", \"showgrid\": false, \"tickfont\": {\"color\": \"#4D5663\"}, \"title\": {\"font\": {\"color\": \"#4D5663\"}, \"text\": \"\"}, \"zerolinecolor\": \"#E1E5ED\"}, \"xaxis4\": {\"anchor\": \"y4\", \"domain\": [0.7875, 1.0], \"gridcolor\": \"#E1E5ED\", \"showgrid\": false, \"tickfont\": {\"color\": \"#4D5663\"}, \"title\": {\"font\": {\"color\": \"#4D5663\"}, \"text\": \"\"}, \"zerolinecolor\": \"#E1E5ED\"}, \"xaxis5\": {\"anchor\": \"y5\", \"domain\": [0.0, 0.2125], \"gridcolor\": \"#E1E5ED\", \"showgrid\": false, \"tickfont\": {\"color\": \"#4D5663\"}, \"title\": {\"font\": {\"color\": \"#4D5663\"}, \"text\": \"\"}, \"zerolinecolor\": \"#E1E5ED\"}, \"xaxis6\": {\"anchor\": \"y6\", \"domain\": [0.2625, 0.475], \"gridcolor\": \"#E1E5ED\", \"showgrid\": false, \"tickfont\": {\"color\": \"#4D5663\"}, \"title\": {\"font\": {\"color\": \"#4D5663\"}, \"text\": \"\"}, \"zerolinecolor\": \"#E1E5ED\"}, \"xaxis7\": {\"anchor\": \"y7\", \"domain\": [0.525, 0.7375], \"gridcolor\": \"#E1E5ED\", \"showgrid\": false, \"tickfont\": {\"color\": \"#4D5663\"}, \"title\": {\"font\": {\"color\": \"#4D5663\"}, \"text\": \"\"}, \"zerolinecolor\": \"#E1E5ED\"}, \"xaxis8\": {\"anchor\": \"y8\", \"domain\": [0.7875, 1.0], \"gridcolor\": \"#E1E5ED\", \"showgrid\": false, \"tickfont\": {\"color\": \"#4D5663\"}, \"title\": {\"font\": {\"color\": \"#4D5663\"}, \"text\": \"\"}, \"zerolinecolor\": \"#E1E5ED\"}, \"xaxis9\": {\"anchor\": \"y9\", \"domain\": [0.0, 0.2125], \"gridcolor\": \"#E1E5ED\", \"showgrid\": false, \"tickfont\": {\"color\": \"#4D5663\"}, \"title\": {\"font\": {\"color\": \"#4D5663\"}, \"text\": \"\"}, \"zerolinecolor\": \"#E1E5ED\"}, \"yaxis\": {\"anchor\": \"x\", \"domain\": [0.8025, 1.0], \"gridcolor\": \"#E1E5ED\", \"showgrid\": false, \"tickfont\": {\"color\": \"#4D5663\"}, \"title\": {\"font\": {\"color\": \"#4D5663\"}, \"text\": \"\"}, \"zerolinecolor\": \"#E1E5ED\"}, \"yaxis10\": {\"anchor\": \"x10\", \"domain\": [0.2675, 0.465], \"gridcolor\": \"#E1E5ED\", \"showgrid\": false, \"tickfont\": {\"color\": \"#4D5663\"}, \"title\": {\"font\": {\"color\": \"#4D5663\"}, \"text\": \"\"}, \"zerolinecolor\": \"#E1E5ED\"}, \"yaxis11\": {\"anchor\": \"x11\", \"domain\": [0.2675, 0.465], \"gridcolor\": \"#E1E5ED\", \"showgrid\": false, \"tickfont\": {\"color\": \"#4D5663\"}, \"title\": {\"font\": {\"color\": \"#4D5663\"}, \"text\": \"\"}, \"zerolinecolor\": \"#E1E5ED\"}, \"yaxis12\": {\"anchor\": \"x12\", \"domain\": [0.2675, 0.465], \"gridcolor\": \"#E1E5ED\", \"showgrid\": false, \"tickfont\": {\"color\": \"#4D5663\"}, \"title\": {\"font\": {\"color\": \"#4D5663\"}, \"text\": \"\"}, \"zerolinecolor\": \"#E1E5ED\"}, \"yaxis13\": {\"anchor\": \"x13\", \"domain\": [0.0, 0.1975], \"gridcolor\": \"#E1E5ED\", \"showgrid\": false, \"tickfont\": {\"color\": \"#4D5663\"}, \"title\": {\"font\": {\"color\": \"#4D5663\"}, \"text\": \"\"}, \"zerolinecolor\": \"#E1E5ED\"}, \"yaxis14\": {\"anchor\": \"x14\", \"domain\": [0.0, 0.1975], \"gridcolor\": \"#E1E5ED\", \"showgrid\": false, \"tickfont\": {\"color\": \"#4D5663\"}, \"title\": {\"font\": {\"color\": \"#4D5663\"}, \"text\": \"\"}, \"zerolinecolor\": \"#E1E5ED\"}, \"yaxis15\": {\"anchor\": \"x15\", \"domain\": [0.0, 0.1975], \"gridcolor\": \"#E1E5ED\", \"showgrid\": false, \"tickfont\": {\"color\": \"#4D5663\"}, \"title\": {\"font\": {\"color\": \"#4D5663\"}, \"text\": \"\"}, \"zerolinecolor\": \"#E1E5ED\"}, \"yaxis16\": {\"anchor\": \"x16\", \"domain\": [0.0, 0.1975], \"gridcolor\": \"#E1E5ED\", \"showgrid\": false, \"tickfont\": {\"color\": \"#4D5663\"}, \"title\": {\"font\": {\"color\": \"#4D5663\"}, \"text\": \"\"}, \"zerolinecolor\": \"#E1E5ED\"}, \"yaxis2\": {\"anchor\": \"x2\", \"domain\": [0.8025, 1.0], \"gridcolor\": \"#E1E5ED\", \"showgrid\": false, \"tickfont\": {\"color\": \"#4D5663\"}, \"title\": {\"font\": {\"color\": \"#4D5663\"}, \"text\": \"\"}, \"zerolinecolor\": \"#E1E5ED\"}, \"yaxis3\": {\"anchor\": \"x3\", \"domain\": [0.8025, 1.0], \"gridcolor\": \"#E1E5ED\", \"showgrid\": false, \"tickfont\": {\"color\": \"#4D5663\"}, \"title\": {\"font\": {\"color\": \"#4D5663\"}, \"text\": \"\"}, \"zerolinecolor\": \"#E1E5ED\"}, \"yaxis4\": {\"anchor\": \"x4\", \"domain\": [0.8025, 1.0], \"gridcolor\": \"#E1E5ED\", \"showgrid\": false, \"tickfont\": {\"color\": \"#4D5663\"}, \"title\": {\"font\": {\"color\": \"#4D5663\"}, \"text\": \"\"}, \"zerolinecolor\": \"#E1E5ED\"}, \"yaxis5\": {\"anchor\": \"x5\", \"domain\": [0.535, 0.7325], \"gridcolor\": \"#E1E5ED\", \"showgrid\": false, \"tickfont\": {\"color\": \"#4D5663\"}, \"title\": {\"font\": {\"color\": \"#4D5663\"}, \"text\": \"\"}, \"zerolinecolor\": \"#E1E5ED\"}, \"yaxis6\": {\"anchor\": \"x6\", \"domain\": [0.535, 0.7325], \"gridcolor\": \"#E1E5ED\", \"showgrid\": false, \"tickfont\": {\"color\": \"#4D5663\"}, \"title\": {\"font\": {\"color\": \"#4D5663\"}, \"text\": \"\"}, \"zerolinecolor\": \"#E1E5ED\"}, \"yaxis7\": {\"anchor\": \"x7\", \"domain\": [0.535, 0.7325], \"gridcolor\": \"#E1E5ED\", \"showgrid\": false, \"tickfont\": {\"color\": \"#4D5663\"}, \"title\": {\"font\": {\"color\": \"#4D5663\"}, \"text\": \"\"}, \"zerolinecolor\": \"#E1E5ED\"}, \"yaxis8\": {\"anchor\": \"x8\", \"domain\": [0.535, 0.7325], \"gridcolor\": \"#E1E5ED\", \"showgrid\": false, \"tickfont\": {\"color\": \"#4D5663\"}, \"title\": {\"font\": {\"color\": \"#4D5663\"}, \"text\": \"\"}, \"zerolinecolor\": \"#E1E5ED\"}, \"yaxis9\": {\"anchor\": \"x9\", \"domain\": [0.2675, 0.465], \"gridcolor\": \"#E1E5ED\", \"showgrid\": false, \"tickfont\": {\"color\": \"#4D5663\"}, \"title\": {\"font\": {\"color\": \"#4D5663\"}, \"text\": \"\"}, \"zerolinecolor\": \"#E1E5ED\"}},                        {\"showLink\": true, \"linkText\": \"Export to plot.ly\", \"plotlyServerURL\": \"https://plot.ly\", \"responsive\": true}                    ).then(function(){\n",
       "                            \n",
       "var gd = document.getElementById('f031012c-303b-4eb0-9a16-67ce7668e3c7');\n",
       "var x = new MutationObserver(function (mutations, observer) {{\n",
       "        var display = window.getComputedStyle(gd).display;\n",
       "        if (!display || display === 'none') {{\n",
       "            console.log([gd, 'removed!']);\n",
       "            Plotly.purge(gd);\n",
       "            observer.disconnect();\n",
       "        }}\n",
       "}});\n",
       "\n",
       "// Listen for the removal of the full notebook cells\n",
       "var notebookContainer = gd.closest('#notebook-container');\n",
       "if (notebookContainer) {{\n",
       "    x.observe(notebookContainer, {childList: true});\n",
       "}}\n",
       "\n",
       "// Listen for the clearing of the current output cell\n",
       "var outputEl = gd.closest('.output');\n",
       "if (outputEl) {{\n",
       "    x.observe(outputEl, {childList: true});\n",
       "}}\n",
       "\n",
       "                        })                };                });            </script>        </div>"
      ]
     },
     "metadata": {},
     "output_type": "display_data"
    }
   ],
   "source": [
    "df.scatter_matrix()"
   ]
  },
  {
   "cell_type": "code",
   "execution_count": null,
   "metadata": {},
   "outputs": [],
   "source": []
  }
 ],
 "metadata": {
  "kernelspec": {
   "display_name": "Python 3",
   "language": "python",
   "name": "python3"
  },
  "language_info": {
   "codemirror_mode": {
    "name": "ipython",
    "version": 3
   },
   "file_extension": ".py",
   "mimetype": "text/x-python",
   "name": "python",
   "nbconvert_exporter": "python",
   "pygments_lexer": "ipython3",
   "version": "3.8.5"
  }
 },
 "nbformat": 4,
 "nbformat_minor": 4
}
