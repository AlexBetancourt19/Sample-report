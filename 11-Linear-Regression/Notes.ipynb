{
 "cells": [
  {
   "cell_type": "markdown",
   "metadata": {},
   "source": [
    "# Machine Learning Notes"
   ]
  },
  {
   "cell_type": "markdown",
   "metadata": {},
   "source": [
    "**Supervised:**"
   ]
  },
  {
   "cell_type": "markdown",
   "metadata": {},
   "source": [
    "*Supervised learningn is commonly used in applications where historical data predicts likely future events*"
   ]
  },
  {
   "cell_type": "markdown",
   "metadata": {},
   "source": [
    "***DATA ACQUISITION:*** GET DATA \n",
    "\n",
    "***DATA CLEANING:*** CLEAN AND FORMAT DATA TO PROSSESS IT\n",
    "\n",
    "***TEST DATA*** AND ***TRAINING DATA***\n",
    "\n",
    "***MODEL TESTING***\n",
    "\n",
    "***MODEL DEPLOYMENT***"
   ]
  },
  {
   "cell_type": "markdown",
   "metadata": {},
   "source": [
    " \n",
    " "
   ]
  },
  {
   "cell_type": "markdown",
   "metadata": {},
   "source": [
    "***Model Evaluation***\n",
    "\n",
    "we just learned that after our machine learning process is complete, we will use performance metrics to evaluate how our model did.\n",
    "\n",
    "Let's discuss classification metrics in more detail."
   ]
  },
  {
   "cell_type": "markdown",
   "metadata": {},
   "source": [
    "The key classification metrics we need to understand are:\n",
    "\n",
    "-Accuracy\n",
    "\n",
    "-Recall\n",
    "\n",
    "-Precision\n",
    "\n",
    "-F1-Score"
   ]
  },
  {
   "cell_type": "markdown",
   "metadata": {},
   "source": [
    "***Evaluating Regression***\n",
    "\n",
    "The model evaluations like accuracy or recall aren't usefull for regression problems, we need metrics designed for continuous values\n",
    "\n",
    "Common evaluation metrics for regression:\n",
    "\n",
    "-Mean Absolute Error(MAE)\n",
    "\n",
    "-Mean Square Error(MSE)\n",
    "\n",
    "-Root Mean Square Error (RMSE)\n"
   ]
  },
  {
   "cell_type": "markdown",
   "metadata": {},
   "source": [
    "model.fit(x,y)\n",
    "\n",
    "(model.predict(x_new))\n",
    "\n",
    "model.predict_proba()\n",
    "\n",
    "model.score\n",
    "\n",
    "model.ordict()\n",
    "\n",
    "model.transform()\n",
    "\n",
    "model.fit_transform()"
   ]
  }
 ],
 "metadata": {
  "kernelspec": {
   "display_name": "Python 3",
   "language": "python",
   "name": "python3"
  },
  "language_info": {
   "codemirror_mode": {
    "name": "ipython",
    "version": 3
   },
   "file_extension": ".py",
   "mimetype": "text/x-python",
   "name": "python",
   "nbconvert_exporter": "python",
   "pygments_lexer": "ipython3",
   "version": "3.8.5"
  }
 },
 "nbformat": 4,
 "nbformat_minor": 4
}
